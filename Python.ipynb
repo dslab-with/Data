{
  "nbformat": 4,
  "nbformat_minor": 0,
  "metadata": {
    "anaconda-cloud": {},
    "kernelspec": {
      "display_name": "Python 3",
      "language": "python",
      "name": "python3"
    },
    "language_info": {
      "codemirror_mode": {
        "name": "ipython",
        "version": 3
      },
      "file_extension": ".py",
      "mimetype": "text/x-python",
      "name": "python",
      "nbconvert_exporter": "python",
      "pygments_lexer": "ipython3",
      "version": "3.8.3"
    },
    "colab": {
      "name": "Python.ipynb",
      "provenance": [],
      "collapsed_sections": [
        "55YC8wZcgoJg",
        "dtIOG8Ak0byk",
        "TJRZJRG70bym",
        "ZY0TD6K65RRF",
        "GsvdTnuN5XsB",
        "sRGOcJhW5d5j",
        "5uSDFPMv4BRP",
        "GCtCgCDR4BRR",
        "6qYZweOa4BRS",
        "cGy--pJU0-Mx",
        "4rkCwufV0-M1"
      ],
      "toc_visible": true,
      "include_colab_link": true
    }
  },
  "cells": [
    {
      "cell_type": "markdown",
      "metadata": {
        "id": "view-in-github",
        "colab_type": "text"
      },
      "source": [
        "<a href=\"https://colab.research.google.com/github/yonsei-datascience/Data/blob/main/Python.ipynb\" target=\"_parent\"><img src=\"https://colab.research.google.com/assets/colab-badge.svg\" alt=\"Open In Colab\"/></a>"
      ]
    },
    {
      "cell_type": "markdown",
      "metadata": {
        "id": "yxCvmFuQ87L3"
      },
      "source": [
        "# **파이썬 프로그래밍과 웹크롤링**\n",
        "\n",
        "#####  박태영 교수\n",
        "##### 연세대학교 응용통계학과\n",
        "\n"
      ]
    },
    {
      "cell_type": "markdown",
      "metadata": {
        "id": "AeceXjCp87L5"
      },
      "source": [
        "### **Outline**\n",
        "\n",
        "##### 1. 파이썬의 자료형 \n",
        "##### 2. 파이썬의 조건문\n",
        "##### 3. 파이썬의 반복문\n",
        "##### 4. 파이썬 함수\n",
        "##### 5. 파이썬 클래스\n",
        "##### 6. 파이썬 모듈\n",
        "##### 7. 웹크롤링 소개\n",
        "##### 8. 정규식\n",
        "##### 9. Get방식을 이용한 웹크롤링\n",
        "\n",
        "\n",
        "\n",
        "\n"
      ]
    },
    {
      "cell_type": "markdown",
      "metadata": {
        "id": "IVkoAAsi31DZ"
      },
      "source": [
        "### **1. 파이썬의 자료형** \n",
        "    1.1 숫자형\n",
        "    1.2 문자열\n",
        "    1.3 리스트\n",
        "    1.4 튜플\n",
        "    1.5 딕셔너리\n",
        "    1.6 집합\n",
        "    1.7 숫자형과 문자열의 출력"
      ]
    },
    {
      "cell_type": "markdown",
      "metadata": {
        "id": "2rMvV4Wk87L6"
      },
      "source": [
        "#### 1.1 숫자형(number)\n",
        "\n",
        "- 숫자형이란 숫자 형태로 이루어진 자료형임.\n",
        "- 정수, 실수, 복소수, 8진수, 16진수 등이 있음.\n",
        "- 정수(integer)와 실수(float)가 주로 사용됨.\n",
        "- #기호는 코드 내에서 주석을 작성할 때 사용"
      ]
    },
    {
      "cell_type": "markdown",
      "metadata": {
        "id": "KpQ9gBnD87L7"
      },
      "source": [
        "- a라는 변수에 값을 저장"
      ]
    },
    {
      "cell_type": "code",
      "metadata": {
        "scrolled": false,
        "id": "sp12oip387L7"
      },
      "source": [
        "a = 123 # 정수(int)\n",
        "a"
      ],
      "execution_count": null,
      "outputs": []
    },
    {
      "cell_type": "code",
      "metadata": {
        "scrolled": false,
        "id": "t9wlT34T87L8"
      },
      "source": [
        "a = 123.0 # 실수(float)\n",
        "a"
      ],
      "execution_count": null,
      "outputs": []
    },
    {
      "cell_type": "markdown",
      "metadata": {
        "id": "zkAY6pLZ87L8"
      },
      "source": [
        "- 변수를 출력하기 위해서는 print를 사용"
      ]
    },
    {
      "cell_type": "code",
      "metadata": {
        "scrolled": false,
        "id": "9QPFH1cW87L8"
      },
      "source": [
        "a = 123 \n",
        "print(a)"
      ],
      "execution_count": null,
      "outputs": []
    },
    {
      "cell_type": "markdown",
      "metadata": {
        "id": "HQsyfOiK87L8"
      },
      "source": [
        "- 변수의 지정을 취소하기 위해서는 del을 사용"
      ]
    },
    {
      "cell_type": "code",
      "metadata": {
        "scrolled": false,
        "id": "a--vL1Ni87L8"
      },
      "source": [
        "del a"
      ],
      "execution_count": null,
      "outputs": []
    },
    {
      "cell_type": "code",
      "metadata": {
        "scrolled": false,
        "id": "rgPFV-9W87L9"
      },
      "source": [
        "a"
      ],
      "execution_count": null,
      "outputs": []
    },
    {
      "cell_type": "markdown",
      "metadata": {
        "id": "sPUGP9_p87L9"
      },
      "source": [
        "- 변수의 자료형을 확인하기 위해서는 type을 사용"
      ]
    },
    {
      "cell_type": "code",
      "metadata": {
        "id": "zoIleUnJ87L9"
      },
      "source": [
        "a = 123\n",
        "type(a)"
      ],
      "execution_count": null,
      "outputs": []
    },
    {
      "cell_type": "code",
      "metadata": {
        "id": "IYWflrgP87L9"
      },
      "source": [
        "b = 123.0\n",
        "type(b)"
      ],
      "execution_count": null,
      "outputs": []
    },
    {
      "cell_type": "markdown",
      "metadata": {
        "id": "7fGEy5bb87L9"
      },
      "source": [
        "- 숫자형을 정수로 강제 변환하려면 int를 사용\n",
        "- 숫자형을 실수로 강제 변환하려면 float를 사용"
      ]
    },
    {
      "cell_type": "code",
      "metadata": {
        "id": "3dajrrb187L9"
      },
      "source": [
        "type(int(b))"
      ],
      "execution_count": null,
      "outputs": []
    },
    {
      "cell_type": "code",
      "metadata": {
        "id": "xbY2w41J87L-"
      },
      "source": [
        "type(float(a))"
      ],
      "execution_count": null,
      "outputs": []
    },
    {
      "cell_type": "markdown",
      "metadata": {
        "id": "kD39aH0587L-"
      },
      "source": [
        "- 숫자형을 활용하기 위한 연산자\n",
        "- 사칙연산 (덧셈, 뺄셈, 곱셈, 나눗셈)"
      ]
    },
    {
      "cell_type": "code",
      "metadata": {
        "scrolled": false,
        "id": "spwboocY87L-"
      },
      "source": [
        "1+1"
      ],
      "execution_count": null,
      "outputs": []
    },
    {
      "cell_type": "code",
      "metadata": {
        "scrolled": false,
        "id": "ZNrUKSfh87L-"
      },
      "source": [
        "2-1"
      ],
      "execution_count": null,
      "outputs": []
    },
    {
      "cell_type": "code",
      "metadata": {
        "scrolled": false,
        "id": "GD8uA_kJ87L-"
      },
      "source": [
        "2*2"
      ],
      "execution_count": null,
      "outputs": []
    },
    {
      "cell_type": "code",
      "metadata": {
        "scrolled": false,
        "id": "Q6MbJP3u87L-"
      },
      "source": [
        "3/2"
      ],
      "execution_count": null,
      "outputs": []
    },
    {
      "cell_type": "markdown",
      "metadata": {
        "id": "gmAN6Kg387L-"
      },
      "source": [
        "- 제곱연산 (x^y, x의 y제곱)\n",
        "- ^ 대신 ** 연산자를 사용"
      ]
    },
    {
      "cell_type": "code",
      "metadata": {
        "scrolled": false,
        "id": "wvXB0jYX87L-",
        "colab": {
          "base_uri": "https://localhost:8080/"
        },
        "outputId": "387f20a6-bd93-4027-fd75-c673692ea693"
      },
      "source": [
        "3^2 # XOR 비트연산"
      ],
      "execution_count": null,
      "outputs": [
        {
          "output_type": "execute_result",
          "data": {
            "text/plain": [
              "1"
            ]
          },
          "metadata": {
            "tags": []
          },
          "execution_count": 3
        }
      ]
    },
    {
      "cell_type": "code",
      "metadata": {
        "scrolled": false,
        "id": "LTTNpVZw87L_"
      },
      "source": [
        "2**2 # 제곱"
      ],
      "execution_count": null,
      "outputs": []
    },
    {
      "cell_type": "code",
      "metadata": {
        "scrolled": false,
        "id": "pHVlA7U187L_"
      },
      "source": [
        "2**0.5 # 제곱근"
      ],
      "execution_count": null,
      "outputs": []
    },
    {
      "cell_type": "markdown",
      "metadata": {
        "id": "BPd9IVQK87L_"
      },
      "source": [
        "- 정수의 나눗셈에서 몫과 나머지를 구하는 연산\n",
        "- 몫은 // 연산자를 사용하고, 나머지는 % 연산자를 사용함."
      ]
    },
    {
      "cell_type": "code",
      "metadata": {
        "scrolled": false,
        "id": "ez-9NL2m87L_"
      },
      "source": [
        "11//4 # 11을 4로 나눈 몫"
      ],
      "execution_count": null,
      "outputs": []
    },
    {
      "cell_type": "code",
      "metadata": {
        "scrolled": false,
        "id": "ek76rBVV87L_"
      },
      "source": [
        "11%4 # 11을 4로 나눈 나머지"
      ],
      "execution_count": null,
      "outputs": []
    },
    {
      "cell_type": "markdown",
      "metadata": {
        "id": "gHMsmiiA87L_"
      },
      "source": [
        "#### 1.2 문자열(string)\n",
        "\n",
        "- 문자열은 문자들이 연속적으로 저장된 형태\n",
        "- 문자열을 정의하기 위해서 큰따옴표(\")나 작은따옴표(')를 사용\n"
      ]
    },
    {
      "cell_type": "code",
      "metadata": {
        "scrolled": false,
        "id": "ZiZuRIlA87L_"
      },
      "source": [
        "\"yonsei\""
      ],
      "execution_count": null,
      "outputs": []
    },
    {
      "cell_type": "code",
      "metadata": {
        "scrolled": false,
        "id": "D74LWbkm87L_"
      },
      "source": [
        "'yonsei'"
      ],
      "execution_count": null,
      "outputs": []
    },
    {
      "cell_type": "markdown",
      "metadata": {
        "id": "S5HBdaJM87MA"
      },
      "source": [
        "- 숫자형을 문자형으로 변환하려면 str을 사용"
      ]
    },
    {
      "cell_type": "code",
      "metadata": {
        "id": "9XWl46WY87MA"
      },
      "source": [
        "str(123)"
      ],
      "execution_count": null,
      "outputs": []
    },
    {
      "cell_type": "code",
      "metadata": {
        "id": "cYJVlkNw87MA"
      },
      "source": [
        "type(str(123))"
      ],
      "execution_count": null,
      "outputs": []
    },
    {
      "cell_type": "markdown",
      "metadata": {
        "id": "UEszIwWA87MA"
      },
      "source": [
        "- 따옴표가 포함된 문장의 경우 \\을 사용\n",
        "- 작은따옴표가 포함된 문자열은 큰따옴표를 사용\n",
        "- 큰따옴표가 포함된 문자열은 작은따옴표를 사용"
      ]
    },
    {
      "cell_type": "code",
      "metadata": {
        "scrolled": false,
        "id": "1LIFJgXB87MA"
      },
      "source": [
        "print('Don\\'t become a statistic. Become a statistician!')"
      ],
      "execution_count": null,
      "outputs": []
    },
    {
      "cell_type": "code",
      "metadata": {
        "scrolled": false,
        "id": "bYp8LiGQ87MA"
      },
      "source": [
        "print(\"Don't become a statistic. Become a statistician!\")"
      ],
      "execution_count": null,
      "outputs": []
    },
    {
      "cell_type": "code",
      "metadata": {
        "scrolled": false,
        "id": "4PbmTwpq87MA"
      },
      "source": [
        "print('Don't become a statistic. Become a statistician!')"
      ],
      "execution_count": null,
      "outputs": []
    },
    {
      "cell_type": "markdown",
      "metadata": {
        "id": "Y560Hm2A87MA"
      },
      "source": [
        "- 문자열의 줄바꿈을 위해 이스케이프 문자인 \\n을 사용\n",
        "- \\n을 사용하지 않고 줄바꿈을 하려면, 연속된 작은따옴표 3개 또는 연속된 큰따옴표 3개를 사용\n",
        "- 참고로 문자열에 탭 간격을 줄 때는 \\t를 사용"
      ]
    },
    {
      "cell_type": "code",
      "metadata": {
        "scrolled": false,
        "id": "Qjk6h6al87MB"
      },
      "source": [
        "print(\"Don't become a statistic.\\nBecome a statistician!\")"
      ],
      "execution_count": null,
      "outputs": []
    },
    {
      "cell_type": "code",
      "metadata": {
        "scrolled": false,
        "id": "67MwhoNl87MB"
      },
      "source": [
        "print(\"\"\"Don't become a statistic.\n",
        "Become a statistician!\"\"\")"
      ],
      "execution_count": null,
      "outputs": []
    },
    {
      "cell_type": "markdown",
      "metadata": {
        "id": "elpMN1PK87MB"
      },
      "source": [
        "- 문자열의 더하기나 곱하기와 같은 연산"
      ]
    },
    {
      "cell_type": "code",
      "metadata": {
        "scrolled": false,
        "id": "NAP1Kh0Q87MB"
      },
      "source": [
        "head = 'Big'\n",
        "tail = 'Data'"
      ],
      "execution_count": null,
      "outputs": []
    },
    {
      "cell_type": "code",
      "metadata": {
        "scrolled": false,
        "id": "z99S0fdY87MB"
      },
      "source": [
        "word = head + tail\n",
        "print(word)"
      ],
      "execution_count": null,
      "outputs": []
    },
    {
      "cell_type": "code",
      "metadata": {
        "scrolled": false,
        "id": "VYAftFPN87MB"
      },
      "source": [
        "word * 2"
      ],
      "execution_count": null,
      "outputs": []
    },
    {
      "cell_type": "code",
      "metadata": {
        "scrolled": false,
        "id": "ROyVvqtC87MB"
      },
      "source": [
        "print('=' * 20)\n",
        "print(' Python Programming')\n",
        "print('=' * 20)"
      ],
      "execution_count": null,
      "outputs": []
    },
    {
      "cell_type": "markdown",
      "metadata": {
        "id": "i4bW7ILm87MB"
      },
      "source": [
        "- 문자열의 인덱싱\n",
        "- 파이썬은 **앞에서는 0부터** 숫자를 세고, **뒤에서는 1부터** 숫자를 셈"
      ]
    },
    {
      "cell_type": "code",
      "metadata": {
        "scrolled": false,
        "id": "ZznCnjvc87MC"
      },
      "source": [
        "'Taeyoung Park'[1]"
      ],
      "execution_count": null,
      "outputs": []
    },
    {
      "cell_type": "code",
      "metadata": {
        "scrolled": false,
        "id": "RFHtUKAX87MC"
      },
      "source": [
        "'Taeyoung Park'[-2]"
      ],
      "execution_count": null,
      "outputs": []
    },
    {
      "cell_type": "markdown",
      "metadata": {
        "id": "HMUdPRPh87MC"
      },
      "source": [
        "- 문자열의 슬라이싱\n",
        "- a:b는 a보다 **크거나 같고** b보다 **작은** 인덱스를 나타냄."
      ]
    },
    {
      "cell_type": "code",
      "metadata": {
        "scrolled": false,
        "colab": {
          "base_uri": "https://localhost:8080/",
          "height": 35
        },
        "id": "bL1jFwBL87MC",
        "outputId": "297b151a-7eab-4a90-febf-ac13ed65336a"
      },
      "source": [
        "'Taeyoung Park'[0:4]"
      ],
      "execution_count": null,
      "outputs": [
        {
          "output_type": "execute_result",
          "data": {
            "application/vnd.google.colaboratory.intrinsic+json": {
              "type": "string"
            },
            "text/plain": [
              "'Taey'"
            ]
          },
          "metadata": {
            "tags": []
          },
          "execution_count": 32
        }
      ]
    },
    {
      "cell_type": "code",
      "metadata": {
        "scrolled": false,
        "colab": {
          "base_uri": "https://localhost:8080/",
          "height": 35
        },
        "id": "TUwDeTpD87MC",
        "outputId": "5f1813d3-eada-4a26-a5cf-00745d2e470c"
      },
      "source": [
        "'Taeyoung Park'[:4]"
      ],
      "execution_count": null,
      "outputs": [
        {
          "output_type": "execute_result",
          "data": {
            "application/vnd.google.colaboratory.intrinsic+json": {
              "type": "string"
            },
            "text/plain": [
              "'Taey'"
            ]
          },
          "metadata": {
            "tags": []
          },
          "execution_count": 33
        }
      ]
    },
    {
      "cell_type": "code",
      "metadata": {
        "scrolled": false,
        "colab": {
          "base_uri": "https://localhost:8080/",
          "height": 35
        },
        "id": "H52ydwae87MC",
        "outputId": "2451b69a-fc98-40c1-b144-ca221fc2c96a"
      },
      "source": [
        "'Taeyoung Park'[-3:]"
      ],
      "execution_count": null,
      "outputs": [
        {
          "output_type": "execute_result",
          "data": {
            "application/vnd.google.colaboratory.intrinsic+json": {
              "type": "string"
            },
            "text/plain": [
              "'ark'"
            ]
          },
          "metadata": {
            "tags": []
          },
          "execution_count": 34
        }
      ]
    },
    {
      "cell_type": "code",
      "metadata": {
        "scrolled": false,
        "colab": {
          "base_uri": "https://localhost:8080/"
        },
        "id": "l4wtzyXP87MC",
        "outputId": "d8c61f1c-a2c7-4841-836d-09945e99cf6b"
      },
      "source": [
        "firstname = 'Taeyoung Park'[:8]\n",
        "lastname = 'Taeyoung Park'[9:]\n",
        "print(firstname)\n",
        "print(lastname)"
      ],
      "execution_count": null,
      "outputs": [
        {
          "output_type": "stream",
          "text": [
            "Taeyoung\n",
            "Park\n"
          ],
          "name": "stdout"
        }
      ]
    },
    {
      "cell_type": "markdown",
      "metadata": {
        "id": "mZPF9YSS87MC"
      },
      "source": [
        "\n",
        "- 문자열의 길이 구하기\n"
      ]
    },
    {
      "cell_type": "code",
      "metadata": {
        "scrolled": false,
        "colab": {
          "base_uri": "https://localhost:8080/"
        },
        "id": "ih2UStu687MD",
        "outputId": "2ef9b5a0-ec97-4910-971f-2e9e4828790d"
      },
      "source": [
        "a = 'statistics'\n",
        "len(a)"
      ],
      "execution_count": null,
      "outputs": [
        {
          "output_type": "execute_result",
          "data": {
            "text/plain": [
              "10"
            ]
          },
          "metadata": {
            "tags": []
          },
          "execution_count": 17
        }
      ]
    },
    {
      "cell_type": "markdown",
      "metadata": {
        "id": "VCstms8z87MD"
      },
      "source": [
        "- 문자열과 관련된 (내장)함수들\n",
        "- 문자의 개수 세기"
      ]
    },
    {
      "cell_type": "code",
      "metadata": {
        "scrolled": false,
        "colab": {
          "base_uri": "https://localhost:8080/"
        },
        "id": "OY6obnMO87MD",
        "outputId": "3fecbfba-73c9-4984-beb2-1b19cf850981"
      },
      "source": [
        "a.count('t')"
      ],
      "execution_count": null,
      "outputs": [
        {
          "output_type": "execute_result",
          "data": {
            "text/plain": [
              "3"
            ]
          },
          "metadata": {
            "tags": []
          },
          "execution_count": 18
        }
      ]
    },
    {
      "cell_type": "markdown",
      "metadata": {
        "id": "VwDo3ZQm87MD"
      },
      "source": [
        "- 문자가 **맨 처음** 나온 위치를 찾기"
      ]
    },
    {
      "cell_type": "code",
      "metadata": {
        "scrolled": false,
        "colab": {
          "base_uri": "https://localhost:8080/"
        },
        "id": "SpaucVhQ87MD",
        "outputId": "fcb9f63f-b71c-4fb8-9c0d-99615e0f2cb3"
      },
      "source": [
        "a.find('t')"
      ],
      "execution_count": null,
      "outputs": [
        {
          "output_type": "execute_result",
          "data": {
            "text/plain": [
              "1"
            ]
          },
          "metadata": {
            "tags": []
          },
          "execution_count": 19
        }
      ]
    },
    {
      "cell_type": "markdown",
      "metadata": {
        "id": "co4803nJ87MD"
      },
      "source": [
        "- 문자열 삽입하기"
      ]
    },
    {
      "cell_type": "code",
      "metadata": {
        "scrolled": false,
        "colab": {
          "base_uri": "https://localhost:8080/",
          "height": 35
        },
        "id": "Xv8iiLMB87MD",
        "outputId": "7822100c-1b6a-471c-9f84-b4e8655573ce"
      },
      "source": [
        "a = ' ' # 공백\n",
        "a.join('abc')"
      ],
      "execution_count": null,
      "outputs": [
        {
          "output_type": "execute_result",
          "data": {
            "application/vnd.google.colaboratory.intrinsic+json": {
              "type": "string"
            },
            "text/plain": [
              "'a b c'"
            ]
          },
          "metadata": {
            "tags": []
          },
          "execution_count": 20
        }
      ]
    },
    {
      "cell_type": "markdown",
      "metadata": {
        "id": "6VYL1yTn87MD"
      },
      "source": [
        "- 소문자를 대문자로, 대문자를 소문자로 바꾸기"
      ]
    },
    {
      "cell_type": "code",
      "metadata": {
        "scrolled": false,
        "id": "N3fsvHg687MD"
      },
      "source": [
        "a = 'statistics'\n",
        "a.upper()"
      ],
      "execution_count": null,
      "outputs": []
    },
    {
      "cell_type": "code",
      "metadata": {
        "scrolled": false,
        "id": "6Xf1l3Hf87ME"
      },
      "source": [
        "a = 'STATISTICS'\n",
        "a.lower()"
      ],
      "execution_count": null,
      "outputs": []
    },
    {
      "cell_type": "markdown",
      "metadata": {
        "id": "MlBAxty587ME"
      },
      "source": [
        "- 왼쪽, 오른쪽, 양쪽 공백 지우기"
      ]
    },
    {
      "cell_type": "code",
      "metadata": {
        "scrolled": false,
        "id": "VEpTzWCL87ME"
      },
      "source": [
        "a = ' statistics '"
      ],
      "execution_count": null,
      "outputs": []
    },
    {
      "cell_type": "code",
      "metadata": {
        "scrolled": false,
        "id": "xkmF8H7J87ME"
      },
      "source": [
        "a.lstrip() # l = left"
      ],
      "execution_count": null,
      "outputs": []
    },
    {
      "cell_type": "code",
      "metadata": {
        "scrolled": false,
        "id": "bS2WUy9187ME"
      },
      "source": [
        "a.rstrip() # r = right"
      ],
      "execution_count": null,
      "outputs": []
    },
    {
      "cell_type": "code",
      "metadata": {
        "scrolled": false,
        "id": "ql5GuK1I87ME"
      },
      "source": [
        "a.strip()"
      ],
      "execution_count": null,
      "outputs": []
    },
    {
      "cell_type": "markdown",
      "metadata": {
        "id": "dCx9AqRB87ME"
      },
      "source": [
        "- 문자열 바꾸기"
      ]
    },
    {
      "cell_type": "code",
      "metadata": {
        "scrolled": false,
        "id": "KBTTiDor87ME"
      },
      "source": [
        "a = 'statistics'\n",
        "a.replace(\"tistics\",\"rbucks\")"
      ],
      "execution_count": null,
      "outputs": []
    },
    {
      "cell_type": "markdown",
      "metadata": {
        "id": "Ps4CqdHv87ME"
      },
      "source": [
        "- 문자열 나누기\n",
        "- 디폴트로 공백으로 나눔"
      ]
    },
    {
      "cell_type": "code",
      "metadata": {
        "scrolled": false,
        "id": "y9Yb79jY87MF"
      },
      "source": [
        "a = 'Taeyoung Park'\n",
        "a.split()"
      ],
      "execution_count": null,
      "outputs": []
    },
    {
      "cell_type": "code",
      "metadata": {
        "id": "FZn5ZSqi87MF"
      },
      "source": [
        "a = \"tpark@yonsei.ac.kr\"\n",
        "a.split('@')"
      ],
      "execution_count": null,
      "outputs": []
    },
    {
      "cell_type": "markdown",
      "metadata": {
        "id": "WJUSOCIy87MF"
      },
      "source": [
        "#### 1.3 리스트(list)\n",
        "\n",
        "- 리스트는 여러 숫자형과 문자열들을 하나로 묶어서 관리할 수 있는 자료형\n",
        "- 리스트 안에 숫자형, 문자열, 또 다른 리스트를 모두 포함 가능\n",
        "- **대괄호**(`[]`)를 이용해서 나타냄\n",
        "\n"
      ]
    },
    {
      "cell_type": "code",
      "metadata": {
        "scrolled": false,
        "id": "wV_VaY2I87MF",
        "colab": {
          "base_uri": "https://localhost:8080/"
        },
        "outputId": "935dec1f-67fb-4404-9c37-703801008dfc"
      },
      "source": [
        "a = []\n",
        "b = [10,20,30]\n",
        "c = ['A','B','C','D','F']\n",
        "d = [a,b,c]\n",
        "d"
      ],
      "execution_count": null,
      "outputs": [
        {
          "output_type": "execute_result",
          "data": {
            "text/plain": [
              "[[], [10, 20, 30], ['A', 'B', 'C', 'D', 'F']]"
            ]
          },
          "metadata": {
            "tags": []
          },
          "execution_count": 4
        }
      ]
    },
    {
      "cell_type": "markdown",
      "metadata": {
        "id": "OR3TMUTs87MF"
      },
      "source": [
        "- 리스트의 덧셈과 비교"
      ]
    },
    {
      "cell_type": "code",
      "metadata": {
        "scrolled": true,
        "id": "1Wk3OgyV87MF",
        "colab": {
          "base_uri": "https://localhost:8080/"
        },
        "outputId": "a32f76a5-e373-4ee0-d59c-b10532dd2187"
      },
      "source": [
        "e = a + b + c\n",
        "e"
      ],
      "execution_count": null,
      "outputs": [
        {
          "output_type": "execute_result",
          "data": {
            "text/plain": [
              "[10, 20, 30, 'A', 'B', 'C', 'D', 'F']"
            ]
          },
          "metadata": {
            "tags": []
          },
          "execution_count": 5
        }
      ]
    },
    {
      "cell_type": "markdown",
      "metadata": {
        "id": "H4Vn8vQl87MF"
      },
      "source": [
        "- 리스트 반복하기"
      ]
    },
    {
      "cell_type": "code",
      "metadata": {
        "id": "JIakTgna87MF",
        "colab": {
          "base_uri": "https://localhost:8080/"
        },
        "outputId": "fe3ebf3b-1899-41aa-990e-3bc6aff8cd2d"
      },
      "source": [
        "b * 2"
      ],
      "execution_count": null,
      "outputs": [
        {
          "output_type": "execute_result",
          "data": {
            "text/plain": [
              "[10, 20, 30, 10, 20, 30]"
            ]
          },
          "metadata": {
            "tags": []
          },
          "execution_count": 6
        }
      ]
    },
    {
      "cell_type": "markdown",
      "metadata": {
        "id": "FnCv18qH87MF"
      },
      "source": [
        "- 리스트의 인덱싱\n",
        "- 문자열의 인덱싱과 사용법은 동일"
      ]
    },
    {
      "cell_type": "code",
      "metadata": {
        "scrolled": false,
        "id": "tS1p0PTY87MG",
        "colab": {
          "base_uri": "https://localhost:8080/"
        },
        "outputId": "c8570a41-ba8b-48a6-eefa-4e8096328d26"
      },
      "source": [
        "d[1]"
      ],
      "execution_count": null,
      "outputs": [
        {
          "output_type": "execute_result",
          "data": {
            "text/plain": [
              "[10, 20, 30]"
            ]
          },
          "metadata": {
            "tags": []
          },
          "execution_count": 7
        }
      ]
    },
    {
      "cell_type": "code",
      "metadata": {
        "scrolled": false,
        "id": "Fm0GkCu887MG",
        "colab": {
          "base_uri": "https://localhost:8080/"
        },
        "outputId": "d65184a8-a712-459e-cc9c-e14c113518b6"
      },
      "source": [
        "d[-1]"
      ],
      "execution_count": null,
      "outputs": [
        {
          "output_type": "execute_result",
          "data": {
            "text/plain": [
              "['A', 'B', 'C', 'D', 'F']"
            ]
          },
          "metadata": {
            "tags": []
          },
          "execution_count": 9
        }
      ]
    },
    {
      "cell_type": "markdown",
      "metadata": {
        "id": "XglCQrV787MG"
      },
      "source": [
        "- 리스트에 포함된 리스트(이중 리스트)에서 특정 값을 인덱싱을 이용해 나타냄. "
      ]
    },
    {
      "cell_type": "code",
      "metadata": {
        "scrolled": false,
        "id": "3CXW12Qm87MG"
      },
      "source": [
        "print(d)\n",
        "d[-1][2]"
      ],
      "execution_count": null,
      "outputs": []
    },
    {
      "cell_type": "markdown",
      "metadata": {
        "id": "8X1gSqqI87MG"
      },
      "source": [
        "- 이중 리스트와 같은 방식으로 삼중 리스트를 인덱싱하기"
      ]
    },
    {
      "cell_type": "code",
      "metadata": {
        "id": "3_aAqn7687MG",
        "colab": {
          "base_uri": "https://localhost:8080/"
        },
        "outputId": "16040912-cf07-400c-cc83-8e11c44a6536"
      },
      "source": [
        "a = [1,2,[3,4,[5,6]]]\n",
        "a"
      ],
      "execution_count": null,
      "outputs": [
        {
          "output_type": "execute_result",
          "data": {
            "text/plain": [
              "[1, 2, [3, 4, [5, 6]]]"
            ]
          },
          "metadata": {
            "tags": []
          },
          "execution_count": 10
        }
      ]
    },
    {
      "cell_type": "code",
      "metadata": {
        "id": "-XpUoWlM87MG",
        "colab": {
          "base_uri": "https://localhost:8080/"
        },
        "outputId": "71797acb-f1a5-410f-88c5-5929f2074e40"
      },
      "source": [
        "a[2][2][0]"
      ],
      "execution_count": null,
      "outputs": [
        {
          "output_type": "execute_result",
          "data": {
            "text/plain": [
              "5"
            ]
          },
          "metadata": {
            "tags": []
          },
          "execution_count": 11
        }
      ]
    },
    {
      "cell_type": "markdown",
      "metadata": {
        "id": "uS9--QUj87MG"
      },
      "source": [
        "- 리스트의 슬라이싱\n",
        "- 문자열의 슬라이싱과 사용법은 동일"
      ]
    },
    {
      "cell_type": "code",
      "metadata": {
        "id": "mzkeIzz_87MH",
        "colab": {
          "base_uri": "https://localhost:8080/"
        },
        "outputId": "500916b6-7bac-4b05-ed18-9d008e2776bb"
      },
      "source": [
        "print(d)\n",
        "d[1][:2]"
      ],
      "execution_count": null,
      "outputs": [
        {
          "output_type": "stream",
          "text": [
            "[[], [10, 20, 30], ['A', 'B', 'C', 'D', 'F']]\n"
          ],
          "name": "stdout"
        },
        {
          "output_type": "execute_result",
          "data": {
            "text/plain": [
              "[10, 20]"
            ]
          },
          "metadata": {
            "tags": []
          },
          "execution_count": 14
        }
      ]
    },
    {
      "cell_type": "markdown",
      "metadata": {
        "id": "suovz5hh87MH"
      },
      "source": [
        "- 리스트의 길이 구하기"
      ]
    },
    {
      "cell_type": "code",
      "metadata": {
        "id": "l1TZ6kVU87MH",
        "colab": {
          "base_uri": "https://localhost:8080/"
        },
        "outputId": "0d42b21a-2df2-4f4b-912d-991436046cea"
      },
      "source": [
        "len(d)"
      ],
      "execution_count": null,
      "outputs": [
        {
          "output_type": "execute_result",
          "data": {
            "text/plain": [
              "3"
            ]
          },
          "metadata": {
            "tags": []
          },
          "execution_count": 15
        }
      ]
    },
    {
      "cell_type": "markdown",
      "metadata": {
        "id": "XBmlg01U87MH"
      },
      "source": [
        "- 리스트의 수정 (변경 및 삭제)\n",
        "- 문자열은 수정이 불가능하나 리스트는 가능함.\n",
        "- 리스트의 요소 변경하기"
      ]
    },
    {
      "cell_type": "code",
      "metadata": {
        "id": "kM8IzZGS87MH"
      },
      "source": [
        "a = ['A','F','C','A','B','D']\n",
        "a[1] = 'D'\n",
        "a"
      ],
      "execution_count": null,
      "outputs": []
    },
    {
      "cell_type": "code",
      "metadata": {
        "id": "kZelKmI_87MH"
      },
      "source": [
        "a[0:3] = ['B','C','B']\n",
        "a"
      ],
      "execution_count": null,
      "outputs": []
    },
    {
      "cell_type": "markdown",
      "metadata": {
        "id": "K2ZUvX9587MH"
      },
      "source": [
        "- 리스트의 요소 제거하기"
      ]
    },
    {
      "cell_type": "code",
      "metadata": {
        "id": "O2BlZuVV87MH"
      },
      "source": [
        "a[2:4] = []\n",
        "a"
      ],
      "execution_count": null,
      "outputs": []
    },
    {
      "cell_type": "code",
      "metadata": {
        "id": "7CSPKHhN87MI"
      },
      "source": [
        "del a[0]\n",
        "a"
      ],
      "execution_count": null,
      "outputs": []
    },
    {
      "cell_type": "markdown",
      "metadata": {
        "id": "qVBkud3687MI"
      },
      "source": [
        "- 리스트와 관련된 (내장)함수들\n",
        "- 리스트에 요소를 추가하기"
      ]
    },
    {
      "cell_type": "code",
      "metadata": {
        "scrolled": false,
        "colab": {
          "base_uri": "https://localhost:8080/"
        },
        "id": "Y694u14r87MI",
        "outputId": "c35252bd-66fe-4ae1-cbbc-0d1e465c3dbe"
      },
      "source": [
        "a = [3,1,5,7,8,9,10,2,6]\n",
        "a.append(4) # 마지막에 4를 추가하기\n",
        "a"
      ],
      "execution_count": null,
      "outputs": [
        {
          "output_type": "execute_result",
          "data": {
            "text/plain": [
              "[3, 1, 5, 7, 8, 9, 10, 2, 6, 4]"
            ]
          },
          "metadata": {
            "tags": []
          },
          "execution_count": 22
        }
      ]
    },
    {
      "cell_type": "markdown",
      "metadata": {
        "id": "pD-hylnp87MI"
      },
      "source": [
        "- 리스트를 순서대로 또는 역순으로 정렬하기"
      ]
    },
    {
      "cell_type": "code",
      "metadata": {
        "scrolled": false,
        "colab": {
          "base_uri": "https://localhost:8080/"
        },
        "id": "8p1Nsu-l87MI",
        "outputId": "a64ac8dc-13a3-42ce-c368-d21212b714b3"
      },
      "source": [
        "a.sort()\n",
        "a"
      ],
      "execution_count": null,
      "outputs": [
        {
          "output_type": "execute_result",
          "data": {
            "text/plain": [
              "[1, 2, 3, 4, 5, 6, 7, 8, 9, 10]"
            ]
          },
          "metadata": {
            "tags": []
          },
          "execution_count": 23
        }
      ]
    },
    {
      "cell_type": "code",
      "metadata": {
        "scrolled": false,
        "colab": {
          "base_uri": "https://localhost:8080/"
        },
        "id": "P71YICK-87MI",
        "outputId": "7e5b4924-b3a0-4286-af14-a91e5edbfb96"
      },
      "source": [
        "a.reverse()\n",
        "a"
      ],
      "execution_count": null,
      "outputs": [
        {
          "output_type": "execute_result",
          "data": {
            "text/plain": [
              "[10, 9, 8, 7, 6, 5, 4, 3, 2, 1]"
            ]
          },
          "metadata": {
            "tags": []
          },
          "execution_count": 24
        }
      ]
    },
    {
      "cell_type": "markdown",
      "metadata": {
        "id": "3ivUm7_f87MI"
      },
      "source": [
        "- 리스트의 요소에 대한 위치값을 반환하기"
      ]
    },
    {
      "cell_type": "code",
      "metadata": {
        "scrolled": false,
        "colab": {
          "base_uri": "https://localhost:8080/"
        },
        "id": "Sn-D6ojb87MJ",
        "outputId": "2ef4e3a8-9105-4fcf-ad75-6fdc673c8bb9"
      },
      "source": [
        "a = [3,1,5,7,8,9,10,2,6,4]\n",
        "a.index(5) # 5라는 요소의 위치값을 반환하기"
      ],
      "execution_count": null,
      "outputs": [
        {
          "output_type": "execute_result",
          "data": {
            "text/plain": [
              "2"
            ]
          },
          "metadata": {
            "tags": []
          },
          "execution_count": 27
        }
      ]
    },
    {
      "cell_type": "code",
      "metadata": {
        "scrolled": false,
        "id": "BcE_rn9e87MJ",
        "colab": {
          "base_uri": "https://localhost:8080/"
        },
        "outputId": "9d900bc1-493d-4f14-bb49-4e3a9abee00a"
      },
      "source": [
        "a = [3,1,5,7,8,9,10,2,6,4,5]\n",
        "a.index(5,3) # a[3]의 위치에서 시작해서 처음으로 5가 나오는 위치값을 반환하기"
      ],
      "execution_count": null,
      "outputs": [
        {
          "output_type": "execute_result",
          "data": {
            "text/plain": [
              "10"
            ]
          },
          "metadata": {
            "tags": []
          },
          "execution_count": 18
        }
      ]
    },
    {
      "cell_type": "markdown",
      "metadata": {
        "id": "Hu4xCq9S87MJ"
      },
      "source": [
        "- 리스트에 요소를 삽입하기"
      ]
    },
    {
      "cell_type": "code",
      "metadata": {
        "scrolled": false,
        "id": "n1H_Xoza87MJ",
        "colab": {
          "base_uri": "https://localhost:8080/"
        },
        "outputId": "11e68949-a8e0-4428-9621-b88969c22d28"
      },
      "source": [
        "a.insert(3,11) # a[3]의 위치에 11을 삽입하기\n",
        "a"
      ],
      "execution_count": null,
      "outputs": [
        {
          "output_type": "execute_result",
          "data": {
            "text/plain": [
              "[3, 1, 5, 11, 7, 8, 9, 10, 2, 6, 4, 5]"
            ]
          },
          "metadata": {
            "tags": []
          },
          "execution_count": 19
        }
      ]
    },
    {
      "cell_type": "markdown",
      "metadata": {
        "id": "J_ox9lor87MJ"
      },
      "source": [
        "- 리스트에서 **첫 번째로** 나오는 요소를 삭제하기"
      ]
    },
    {
      "cell_type": "code",
      "metadata": {
        "scrolled": false,
        "id": "GlSVI2zX87MJ",
        "colab": {
          "base_uri": "https://localhost:8080/"
        },
        "outputId": "da90b54f-03f2-4373-c284-a3e214aced5b"
      },
      "source": [
        "a.remove(11)\n",
        "a"
      ],
      "execution_count": null,
      "outputs": [
        {
          "output_type": "execute_result",
          "data": {
            "text/plain": [
              "[3, 1, 5, 7, 8, 9, 10, 2, 6, 4, 5]"
            ]
          },
          "metadata": {
            "tags": []
          },
          "execution_count": 20
        }
      ]
    },
    {
      "cell_type": "markdown",
      "metadata": {
        "id": "0vWkD4mu87MJ"
      },
      "source": [
        "- 리스트의 요소를 출력하고, 그 요소는 삭제하기"
      ]
    },
    {
      "cell_type": "code",
      "metadata": {
        "id": "4VpGQ_rS87MK",
        "colab": {
          "base_uri": "https://localhost:8080/"
        },
        "outputId": "86c3e319-b4f9-4512-a9f5-69cbcec12414"
      },
      "source": [
        "a.pop() # 디폴트로 마지막 요소를 제거\n",
        "a"
      ],
      "execution_count": null,
      "outputs": [
        {
          "output_type": "execute_result",
          "data": {
            "text/plain": [
              "[3, 1, 5, 7, 8, 9, 10, 2, 6, 4]"
            ]
          },
          "metadata": {
            "tags": []
          },
          "execution_count": 21
        }
      ]
    },
    {
      "cell_type": "code",
      "metadata": {
        "scrolled": false,
        "id": "A_UR-FZi87MK",
        "colab": {
          "base_uri": "https://localhost:8080/"
        },
        "outputId": "5a810e81-9e8c-4fc2-da24-ce7d627bfec4"
      },
      "source": [
        "a.pop(3) # (3+1)=4번째 요소를 제거\n",
        "a"
      ],
      "execution_count": null,
      "outputs": [
        {
          "output_type": "execute_result",
          "data": {
            "text/plain": [
              "[3, 1, 5, 9, 10, 2, 6, 4]"
            ]
          },
          "metadata": {
            "tags": []
          },
          "execution_count": 23
        }
      ]
    },
    {
      "cell_type": "markdown",
      "metadata": {
        "id": "wyq6V6ki87MK"
      },
      "source": [
        "- 리스트에 포함된 요소의 개수 세기"
      ]
    },
    {
      "cell_type": "code",
      "metadata": {
        "id": "iu8gwkBm87MK"
      },
      "source": [
        "a.count(10)"
      ],
      "execution_count": null,
      "outputs": []
    },
    {
      "cell_type": "markdown",
      "metadata": {
        "id": "B5ZC9E4g87ML"
      },
      "source": [
        "#### 1.4 튜플(tuple)\n",
        "\n",
        "- 튜플은 리스트와 유사한 자료형\n",
        "- 하지만, 리스트와 달리 항목값을 변경할 수 없음\n",
        "- **소괄호**(`()`)를 이용해서 나타내거나, 소괄호를 생략하고 콤마(`,`)로만 나타낼 수 있음"
      ]
    },
    {
      "cell_type": "code",
      "metadata": {
        "scrolled": false,
        "id": "gBWz_2y387ML"
      },
      "source": [
        "a = ()\n",
        "b = (1,2,3)\n",
        "c = 'x','y','z'\n",
        "d = b + c\n",
        "d"
      ],
      "execution_count": null,
      "outputs": []
    },
    {
      "cell_type": "code",
      "metadata": {
        "id": "DAqCCmbl87ML"
      },
      "source": [
        "a, b, c = (1,), (2,3), (4,5,6)\n",
        "print(a)\n",
        "print(b)\n",
        "print(c)"
      ],
      "execution_count": null,
      "outputs": []
    },
    {
      "cell_type": "markdown",
      "metadata": {
        "id": "UWipsiq887ML"
      },
      "source": [
        "- 튜플 자료형은 항목값을 변경하는 것이 **불가능**\n",
        "- 프로그램에서 값이 변하지 않기를 바라거나 값이 바뀔까 걱정하는 경우 사용"
      ]
    },
    {
      "cell_type": "code",
      "metadata": {
        "colab": {
          "base_uri": "https://localhost:8080/",
          "height": 181
        },
        "id": "RidNITlz87ML",
        "outputId": "c48d13c6-f346-4784-b615-bdcc47066e25"
      },
      "source": [
        "a = (1,2,3)\n",
        "del (a)[1]"
      ],
      "execution_count": null,
      "outputs": [
        {
          "output_type": "error",
          "ename": "TypeError",
          "evalue": "ignored",
          "traceback": [
            "\u001b[0;31m---------------------------------------------------------------------------\u001b[0m",
            "\u001b[0;31mTypeError\u001b[0m                                 Traceback (most recent call last)",
            "\u001b[0;32m<ipython-input-30-d5cb0ff0ee5f>\u001b[0m in \u001b[0;36m<module>\u001b[0;34m()\u001b[0m\n\u001b[1;32m      1\u001b[0m \u001b[0ma\u001b[0m \u001b[0;34m=\u001b[0m \u001b[0;34m(\u001b[0m\u001b[0;36m1\u001b[0m\u001b[0;34m,\u001b[0m\u001b[0;36m2\u001b[0m\u001b[0;34m,\u001b[0m\u001b[0;36m3\u001b[0m\u001b[0;34m)\u001b[0m\u001b[0;34m\u001b[0m\u001b[0;34m\u001b[0m\u001b[0m\n\u001b[0;32m----> 2\u001b[0;31m \u001b[0;32mdel\u001b[0m \u001b[0;34m(\u001b[0m\u001b[0ma\u001b[0m\u001b[0;34m)\u001b[0m\u001b[0;34m[\u001b[0m\u001b[0;36m1\u001b[0m\u001b[0;34m]\u001b[0m\u001b[0;34m\u001b[0m\u001b[0;34m\u001b[0m\u001b[0m\n\u001b[0m",
            "\u001b[0;31mTypeError\u001b[0m: 'tuple' object doesn't support item deletion"
          ]
        }
      ]
    },
    {
      "cell_type": "code",
      "metadata": {
        "colab": {
          "base_uri": "https://localhost:8080/",
          "height": 164
        },
        "id": "3RMoz4TL87ML",
        "outputId": "8b6171de-03b9-4808-8c4d-896682667670"
      },
      "source": [
        "a[1] = 3"
      ],
      "execution_count": null,
      "outputs": [
        {
          "output_type": "error",
          "ename": "TypeError",
          "evalue": "ignored",
          "traceback": [
            "\u001b[0;31m---------------------------------------------------------------------------\u001b[0m",
            "\u001b[0;31mTypeError\u001b[0m                                 Traceback (most recent call last)",
            "\u001b[0;32m<ipython-input-31-23f2cf2bdf70>\u001b[0m in \u001b[0;36m<module>\u001b[0;34m()\u001b[0m\n\u001b[0;32m----> 1\u001b[0;31m \u001b[0ma\u001b[0m\u001b[0;34m[\u001b[0m\u001b[0;36m1\u001b[0m\u001b[0;34m]\u001b[0m \u001b[0;34m=\u001b[0m \u001b[0;36m3\u001b[0m\u001b[0;34m\u001b[0m\u001b[0;34m\u001b[0m\u001b[0m\n\u001b[0m",
            "\u001b[0;31mTypeError\u001b[0m: 'tuple' object does not support item assignment"
          ]
        }
      ]
    },
    {
      "cell_type": "markdown",
      "metadata": {
        "id": "lZJYRd4y87ML"
      },
      "source": [
        "#### 1.5 딕셔너리(dictionary)\n",
        "\n",
        "- 환율을 나타낼 때, \"통화:기준율\"의 관계로 \"USD:1100\", \"JPY:900\"과 같이 나타낼 수 있음\n",
        "- 이러한 대응 관계를 나타낼 수 있는 자료형을 딕셔너리라고 함\n",
        "- \"통화\"에 해당하는 것을 key, \"기준율\"에 해당하는 것을 value라고 함.\n",
        "- key와 value의 대응을 **중괄호**(`{}`)를 이용해서 나타냄\n",
        "- key와 그 key에 대응하는 value로 이루어져있고, key를 통해 value를 얻음\n",
        "- 순서가 없는 자료형으로 key의 abc순으로 자동 정렬됨\n",
        "- key는 고유한 값으므로 중복되는 key를 사용하면 안됨\n",
        "- key에는 수정이 가능한 리스트는 올 수 없으나, 수정이 불가능한 튜플은 올 수 있음 "
      ]
    },
    {
      "cell_type": "code",
      "metadata": {
        "scrolled": false,
        "colab": {
          "base_uri": "https://localhost:8080/"
        },
        "id": "rinXCyKt87ML",
        "outputId": "8010f8c6-c656-4c4c-de71-38b244824b4e"
      },
      "source": [
        "a = {'USD':1100, 'JPY':900}\n",
        "a['USD'] # key로 value를 가져옴"
      ],
      "execution_count": null,
      "outputs": [
        {
          "output_type": "execute_result",
          "data": {
            "text/plain": [
              "1100"
            ]
          },
          "metadata": {
            "tags": []
          },
          "execution_count": 34
        }
      ]
    },
    {
      "cell_type": "markdown",
      "metadata": {
        "id": "75M_9WrD5U5C"
      },
      "source": [
        "- 존재하지 않는 key로 value를 가져오는 경우 오류가 발생하나, get 내장함수를 이용해 오류를 발생시키지 않을 수도 있음"
      ]
    },
    {
      "cell_type": "code",
      "metadata": {
        "colab": {
          "base_uri": "https://localhost:8080/"
        },
        "id": "rtspC_c04_YR",
        "outputId": "16f401f4-2099-4039-8e57-d4c04d4a734b"
      },
      "source": [
        "a.get('USD')"
      ],
      "execution_count": null,
      "outputs": [
        {
          "output_type": "execute_result",
          "data": {
            "text/plain": [
              "1100"
            ]
          },
          "metadata": {
            "tags": []
          },
          "execution_count": 35
        }
      ]
    },
    {
      "cell_type": "code",
      "metadata": {
        "colab": {
          "base_uri": "https://localhost:8080/"
        },
        "id": "kMygxASp5YBc",
        "outputId": "5e6077b5-9398-41d4-b76f-3f5121699faf"
      },
      "source": [
        "print(a.get('CNY'))"
      ],
      "execution_count": null,
      "outputs": [
        {
          "output_type": "stream",
          "text": [
            "None\n"
          ],
          "name": "stdout"
        }
      ]
    },
    {
      "cell_type": "code",
      "metadata": {
        "colab": {
          "base_uri": "https://localhost:8080/",
          "height": 35
        },
        "id": "5ZzTfhiB5gCi",
        "outputId": "1d5421a9-156c-4ee6-9192-109501df7518"
      },
      "source": [
        "a.get('HKD','No such currency') # 존재하지 않는 key를 호출 시 오류 메세지 출력 가능"
      ],
      "execution_count": null,
      "outputs": [
        {
          "output_type": "execute_result",
          "data": {
            "application/vnd.google.colaboratory.intrinsic+json": {
              "type": "string"
            },
            "text/plain": [
              "'No such currency'"
            ]
          },
          "metadata": {
            "tags": []
          },
          "execution_count": 39
        }
      ]
    },
    {
      "cell_type": "markdown",
      "metadata": {
        "id": "89KX_aQc87MM"
      },
      "source": [
        "- 딕셔너리에 요소 추가하기"
      ]
    },
    {
      "cell_type": "code",
      "metadata": {
        "colab": {
          "base_uri": "https://localhost:8080/"
        },
        "id": "vpnjxcrv87MM",
        "outputId": "64fa3411-cdbf-4140-b447-80c0ef7ee012"
      },
      "source": [
        "a['CNY'] = 150\n",
        "a"
      ],
      "execution_count": null,
      "outputs": [
        {
          "output_type": "execute_result",
          "data": {
            "text/plain": [
              "{'CNY': 150, 'JPY': 900, 'USD': 1100}"
            ]
          },
          "metadata": {
            "tags": []
          },
          "execution_count": 25
        }
      ]
    },
    {
      "cell_type": "markdown",
      "metadata": {
        "id": "ry59xZgT87MM"
      },
      "source": [
        "- 딕셔너리의 요소 삭제하기"
      ]
    },
    {
      "cell_type": "code",
      "metadata": {
        "colab": {
          "base_uri": "https://localhost:8080/"
        },
        "id": "91s7X1en87MM",
        "outputId": "df7609e4-d062-4fd2-e2fb-ad768d0079dd"
      },
      "source": [
        "del a['JPY']\n",
        "a"
      ],
      "execution_count": null,
      "outputs": [
        {
          "output_type": "execute_result",
          "data": {
            "text/plain": [
              "{'CNY': 150, 'USD': 1100}"
            ]
          },
          "metadata": {
            "tags": []
          },
          "execution_count": 26
        }
      ]
    },
    {
      "cell_type": "markdown",
      "metadata": {
        "id": "cxrP1rAw87MM"
      },
      "source": [
        "- 딕셔너리와 관련된 (내장)함수들\n",
        "- 딕셔너리 key의 리스트 만들기"
      ]
    },
    {
      "cell_type": "code",
      "metadata": {
        "scrolled": false,
        "colab": {
          "base_uri": "https://localhost:8080/"
        },
        "id": "LkUAPS6w87MM",
        "outputId": "87e97546-5a65-4143-c84f-139dbca740ab"
      },
      "source": [
        "a = {'USD':1100, 'JPY':900, 'CNY':150, 'EUR':1300}\n",
        "a.keys()"
      ],
      "execution_count": null,
      "outputs": [
        {
          "output_type": "execute_result",
          "data": {
            "text/plain": [
              "dict_keys(['USD', 'JPY', 'CNY', 'EUR'])"
            ]
          },
          "metadata": {
            "tags": []
          },
          "execution_count": 27
        }
      ]
    },
    {
      "cell_type": "markdown",
      "metadata": {
        "collapsed": true,
        "id": "ImwKBBSA87MM"
      },
      "source": [
        "- 딕셔너리 value의 리스트 만들기"
      ]
    },
    {
      "cell_type": "code",
      "metadata": {
        "scrolled": false,
        "colab": {
          "base_uri": "https://localhost:8080/"
        },
        "id": "tBtSyDSm87MN",
        "outputId": "4c008c14-cf2f-4cf3-984e-bcb97afa1104"
      },
      "source": [
        "a.values()"
      ],
      "execution_count": null,
      "outputs": [
        {
          "output_type": "execute_result",
          "data": {
            "text/plain": [
              "dict_values([1100, 900, 150, 1300])"
            ]
          },
          "metadata": {
            "tags": []
          },
          "execution_count": 28
        }
      ]
    },
    {
      "cell_type": "markdown",
      "metadata": {
        "id": "_ddwBa9c87MO"
      },
      "source": [
        "- 딕셔너리 key가 중복되었을 때, 마지막 1개를 제외한 나머지 key:value는 무시되므로 주의"
      ]
    },
    {
      "cell_type": "code",
      "metadata": {
        "id": "z2c3_-ZN87MO",
        "colab": {
          "base_uri": "https://localhost:8080/"
        },
        "outputId": "a6c722ef-c2c0-41b3-ca33-384e749b4876"
      },
      "source": [
        "a = {'USD':1100, 'JPY':900, 'CNY':150, 'EUR':1300, 'USD':1200}\n",
        "a"
      ],
      "execution_count": null,
      "outputs": [
        {
          "output_type": "execute_result",
          "data": {
            "text/plain": [
              "{'CNY': 150, 'EUR': 1300, 'JPY': 900, 'USD': 1200}"
            ]
          },
          "metadata": {
            "tags": []
          },
          "execution_count": 40
        }
      ]
    },
    {
      "cell_type": "markdown",
      "metadata": {
        "id": "etwcwO8w87MO"
      },
      "source": [
        "- 딕셔너리의 value를 바꾸기"
      ]
    },
    {
      "cell_type": "code",
      "metadata": {
        "scrolled": false,
        "id": "zUP-s0hK87MO",
        "colab": {
          "base_uri": "https://localhost:8080/"
        },
        "outputId": "5c3d0b10-ad27-4bcc-f071-9c5d9c734031"
      },
      "source": [
        "a['USD'] = 1050\n",
        "a"
      ],
      "execution_count": null,
      "outputs": [
        {
          "output_type": "execute_result",
          "data": {
            "text/plain": [
              "{'CNY': 150, 'EUR': 1300, 'JPY': 900, 'USD': 1050}"
            ]
          },
          "metadata": {
            "tags": []
          },
          "execution_count": 41
        }
      ]
    },
    {
      "cell_type": "code",
      "metadata": {
        "scrolled": false,
        "id": "P2Rludsj87MO",
        "colab": {
          "base_uri": "https://localhost:8080/"
        },
        "outputId": "f3e679c5-1825-4f52-d66a-e86c03a59c13"
      },
      "source": [
        "a['USD'] += 100 # a['USD'] = a['USD'] + 100\n",
        "a"
      ],
      "execution_count": null,
      "outputs": [
        {
          "output_type": "execute_result",
          "data": {
            "text/plain": [
              "{'CNY': 150, 'EUR': 1300, 'JPY': 900, 'USD': 1150}"
            ]
          },
          "metadata": {
            "tags": []
          },
          "execution_count": 42
        }
      ]
    },
    {
      "cell_type": "markdown",
      "metadata": {
        "id": "5ZnKhpbv87MO"
      },
      "source": [
        "- 딕셔너리의 key를 바꾸는 것은 불가능"
      ]
    },
    {
      "cell_type": "code",
      "metadata": {
        "id": "mDE6aB5g87MO",
        "colab": {
          "base_uri": "https://localhost:8080/",
          "height": 130
        },
        "outputId": "f254f132-0058-4842-ede0-30b318b9c215"
      },
      "source": [
        "a.keys() =   [('USD','HKD',\"KRW\",'EUR')]"
      ],
      "execution_count": null,
      "outputs": [
        {
          "output_type": "error",
          "ename": "SyntaxError",
          "evalue": "ignored",
          "traceback": [
            "\u001b[0;36m  File \u001b[0;32m\"<ipython-input-43-c7d68cb766b0>\"\u001b[0;36m, line \u001b[0;32m1\u001b[0m\n\u001b[0;31m    a.keys() =   [('USD','HKD',\"KRW\",'EUR')]\u001b[0m\n\u001b[0m                                            ^\u001b[0m\n\u001b[0;31mSyntaxError\u001b[0m\u001b[0;31m:\u001b[0m can't assign to function call\n"
          ]
        }
      ]
    },
    {
      "cell_type": "markdown",
      "metadata": {
        "id": "ARox834I87MP"
      },
      "source": [
        "#### 1.6 집합(set)\n",
        "\n",
        "- 집합은 수학의 집합처럼 사용되는 자료형\n",
        "- 딕셔너리 key와 마찬가지로 순서가 없으며, 중복을 허용하지 않음\n",
        "- 순서가 없는 자료형이므로 인덱싱을 위해서는 리스트나 튜플로 변환해야 함"
      ]
    },
    {
      "cell_type": "code",
      "metadata": {
        "id": "VnzMqcge87MP"
      },
      "source": [
        "a = 'statistics'\n",
        "s = set(a)\n",
        "s"
      ],
      "execution_count": null,
      "outputs": []
    },
    {
      "cell_type": "code",
      "metadata": {
        "id": "H0QQj2Cc87MP"
      },
      "source": [
        "a = ['사원', '대리', '과장', '차장', '부장']\n",
        "s = set(a)\n",
        "s"
      ],
      "execution_count": null,
      "outputs": []
    },
    {
      "cell_type": "markdown",
      "metadata": {
        "id": "HRaPPc7z87MP"
      },
      "source": [
        "- 교집합, 합집합, 차집합 구하기"
      ]
    },
    {
      "cell_type": "code",
      "metadata": {
        "id": "wt10fkMi87MQ"
      },
      "source": [
        "set({1,2,3})"
      ],
      "execution_count": null,
      "outputs": []
    },
    {
      "cell_type": "code",
      "metadata": {
        "id": "l3l87Lo987MQ"
      },
      "source": [
        "s1 = set([1,2,3])\n",
        "s2 = set([2,4,6])"
      ],
      "execution_count": null,
      "outputs": []
    },
    {
      "cell_type": "code",
      "metadata": {
        "id": "ZLe_mV3R87MQ"
      },
      "source": [
        "s1 & s2 # 교집합"
      ],
      "execution_count": null,
      "outputs": []
    },
    {
      "cell_type": "code",
      "metadata": {
        "id": "7kr6Z-e987MQ"
      },
      "source": [
        "s1 | s2 # 합집합"
      ],
      "execution_count": null,
      "outputs": []
    },
    {
      "cell_type": "code",
      "metadata": {
        "id": "k2hBBakG87MQ"
      },
      "source": [
        "s1 - s2 # 차집합"
      ],
      "execution_count": null,
      "outputs": []
    },
    {
      "cell_type": "markdown",
      "metadata": {
        "id": "QX49mrog87MQ"
      },
      "source": [
        "- 집합에 원소를 추가하기\n",
        "- 중복된 원소는 허용하지 않음"
      ]
    },
    {
      "cell_type": "code",
      "metadata": {
        "id": "2dvT0T8v87MQ"
      },
      "source": [
        "s = set([1,2,3])\n",
        "s.update([3,4,5])\n",
        "s"
      ],
      "execution_count": null,
      "outputs": []
    },
    {
      "cell_type": "markdown",
      "metadata": {
        "id": "6_AEfmeL87MQ"
      },
      "source": [
        "- 집합의 원소를 제거하기"
      ]
    },
    {
      "cell_type": "code",
      "metadata": {
        "scrolled": true,
        "id": "N35HpcZ287MQ"
      },
      "source": [
        "s = set([1,2,3])\n",
        "s.remove(1)\n",
        "s"
      ],
      "execution_count": null,
      "outputs": []
    },
    {
      "cell_type": "markdown",
      "metadata": {
        "id": "NSdqHAIy87MR"
      },
      "source": [
        "#### 1.7 숫자형과 문자열의 출력\n",
        "\n",
        "- 숫자형과 문자열 출력을 위해서 print 사용하고, 서식문자를 사용해 포맷팅 가능\n",
        "- %d: 정수\n",
        "- %f: 실수\n",
        "- %s: 문자"
      ]
    },
    {
      "cell_type": "code",
      "metadata": {
        "scrolled": false,
        "id": "iP02or7e87MR"
      },
      "source": [
        "a = 100\n",
        "b = 10\n",
        "print('고객님께서 할인받으신 금액은 %d원입니다.' %a) \n",
        "print('고객님께서 할인받으신 금액은 %d원이고, 사용하신 적립금은 %d원입니다.' %(a, b))"
      ],
      "execution_count": null,
      "outputs": []
    },
    {
      "cell_type": "markdown",
      "metadata": {
        "id": "Ciyi64KM87MR"
      },
      "source": [
        "- %f는 default로 소수점 이하 6자리까지 나타냄 "
      ]
    },
    {
      "cell_type": "code",
      "metadata": {
        "id": "KCjOyj9c87MR"
      },
      "source": [
        "a = 12.34\n",
        "print('고객님께서 받으신 할인율은 %f%%입니다.' %a)"
      ],
      "execution_count": null,
      "outputs": []
    },
    {
      "cell_type": "markdown",
      "metadata": {
        "id": "a98YyOmu87MR"
      },
      "source": [
        "- %(총 자릿수).(소수점 이하 자릿수)f"
      ]
    },
    {
      "cell_type": "code",
      "metadata": {
        "id": "xgiRRJeL87MR"
      },
      "source": [
        "print('할인율 = %f' %a)\n",
        "print('할인율 = %.3f' %a)\n",
        "print('할인율 = %10.3f' %a)  # 뒤로 정렬 (default)\n",
        "print('할인율 = %-10.3f' %a) # 앞으로 정렬"
      ],
      "execution_count": null,
      "outputs": []
    },
    {
      "cell_type": "markdown",
      "metadata": {
        "id": "10BD3CL187MS"
      },
      "source": [
        "- %s는 숫자형을 문자로 취급해 그대로 출력\n",
        "- 퍼센트(%) 기호는 서식문자와 구분하기 위해 기호 앞에 %를 한번 더 붙여줌"
      ]
    },
    {
      "cell_type": "code",
      "metadata": {
        "id": "1R_wVWfC87MS"
      },
      "source": [
        "print('할인율 = %s%%' %a)"
      ],
      "execution_count": null,
      "outputs": []
    },
    {
      "cell_type": "code",
      "metadata": {
        "id": "TzU5RuvL87MS"
      },
      "source": [
        "a = \"박태영\"\n",
        "print('%s 고객님, 저희 매장을 방문해주셔서 감사합니다.' %a)"
      ],
      "execution_count": null,
      "outputs": []
    },
    {
      "cell_type": "markdown",
      "metadata": {
        "id": "Ildr4JBtgoJc"
      },
      "source": [
        "### **2. 파이썬의 조건문**\n",
        "    2.1 if문\n",
        "    2.2 try문"
      ]
    },
    {
      "cell_type": "markdown",
      "metadata": {
        "id": "jnlBCPr2goJd"
      },
      "source": [
        "#### 2.1 if문\n",
        "\n",
        "- 비교 연산자 (`<`, `<=`, `>`, `>=`, `==`, `!=`)"
      ]
    },
    {
      "cell_type": "code",
      "metadata": {
        "id": "yHc_cJw2goJd",
        "colab": {
          "base_uri": "https://localhost:8080/"
        },
        "outputId": "2701df2f-fd42-4fb9-f2d9-91e264e3e25e"
      },
      "source": [
        "1 < 2, 1 <= 2, 1 > 2, 1 >= 2, 1 == 2, 1 != 2"
      ],
      "execution_count": null,
      "outputs": [
        {
          "output_type": "execute_result",
          "data": {
            "text/plain": [
              "(True, True, False, False, False, True)"
            ]
          },
          "metadata": {
            "tags": []
          },
          "execution_count": 46
        }
      ]
    },
    {
      "cell_type": "markdown",
      "metadata": {
        "id": "RiihdzFigoJe"
      },
      "source": [
        "- 논리 연산자 (`and`, `or`, `not`)\n",
        "- 참(`True`)은 숫자 1, 거짓(`False`)은 숫자 0에 대응됨\n",
        "- 특별값 `None`은 거짓에 대응됨"
      ]
    },
    {
      "cell_type": "code",
      "metadata": {
        "id": "HZMs4v9ngoJe",
        "colab": {
          "base_uri": "https://localhost:8080/"
        },
        "outputId": "ff6e7455-7b71-4eb0-d951-59529e646ce3"
      },
      "source": [
        "1 and 0, 1 & 0 # 둘 다 참이어야 참임"
      ],
      "execution_count": null,
      "outputs": [
        {
          "output_type": "execute_result",
          "data": {
            "text/plain": [
              "(0, 0)"
            ]
          },
          "metadata": {
            "tags": []
          },
          "execution_count": 57
        }
      ]
    },
    {
      "cell_type": "code",
      "metadata": {
        "id": "fTpyUbyOgoJe",
        "colab": {
          "base_uri": "https://localhost:8080/"
        },
        "outputId": "7ff4e360-910c-4063-fccf-3f519f3c506f"
      },
      "source": [
        "1 or 0, 1 | 0 # 둘 중 하나만 참이면 참임"
      ],
      "execution_count": null,
      "outputs": [
        {
          "output_type": "execute_result",
          "data": {
            "text/plain": [
              "(1, 1)"
            ]
          },
          "metadata": {
            "tags": []
          },
          "execution_count": 59
        }
      ]
    },
    {
      "cell_type": "code",
      "metadata": {
        "id": "3lDAU6OwgoJf",
        "colab": {
          "base_uri": "https://localhost:8080/"
        },
        "outputId": "36e3bad4-2630-4fbc-f568-b78950891e7f"
      },
      "source": [
        "not 1, not 0, not None # 거짓이면 참임"
      ],
      "execution_count": null,
      "outputs": [
        {
          "output_type": "execute_result",
          "data": {
            "text/plain": [
              "(False, True, True)"
            ]
          },
          "metadata": {
            "tags": []
          },
          "execution_count": 47
        }
      ]
    },
    {
      "cell_type": "markdown",
      "metadata": {
        "id": "ib53wjfGgoJf"
      },
      "source": [
        "- 특별한 논리 연산자\n",
        "- a **in** b: b 안에 a가 있으면 참\n",
        "- a **not in** b: b 안에 a가 없으면 참"
      ]
    },
    {
      "cell_type": "code",
      "metadata": {
        "scrolled": true,
        "id": "ZNJzZY0ZgoJf",
        "colab": {
          "base_uri": "https://localhost:8080/"
        },
        "outputId": "373355be-3c05-4e80-b64c-8ea938673c42"
      },
      "source": [
        "'a' in 'ab', 'a' not in 'ab' # 문자열이 올 수 있음"
      ],
      "execution_count": null,
      "outputs": [
        {
          "output_type": "execute_result",
          "data": {
            "text/plain": [
              "(True, False)"
            ]
          },
          "metadata": {
            "tags": []
          },
          "execution_count": 64
        }
      ]
    },
    {
      "cell_type": "code",
      "metadata": {
        "scrolled": true,
        "id": "UJ9GLdLrgoJf",
        "colab": {
          "base_uri": "https://localhost:8080/"
        },
        "outputId": "c581a093-b76e-4697-80d0-bac72ed62f45"
      },
      "source": [
        "1 in [0,1], 'a' in ('a','b'), 1 not in [0,1], 'a' not in ('a','b') # 리스트 또는 튜플이 올 수 있음"
      ],
      "execution_count": null,
      "outputs": [
        {
          "output_type": "execute_result",
          "data": {
            "text/plain": [
              "(True, True, False, False)"
            ]
          },
          "metadata": {
            "tags": []
          },
          "execution_count": 65
        }
      ]
    },
    {
      "cell_type": "markdown",
      "metadata": {
        "id": "E8Lx5qBygoJg"
      },
      "source": [
        "- if, else 조건문\n",
        "- 각 제어문 뒤에는 콜론(`:`)이 들어감\n",
        "- 각 제어문에 속하는 모든 문장에는 들여쓰기(indentation, 공백 4칸)를 해줘야 함"
      ]
    },
    {
      "cell_type": "code",
      "metadata": {
        "scrolled": false,
        "id": "U5AzopQfgoJg",
        "colab": {
          "base_uri": "https://localhost:8080/"
        },
        "outputId": "aab666b6-3434-43f0-fd02-a57a64b310a1"
      },
      "source": [
        "score = 75\n",
        "if score >= 90:\n",
        "    print('A')\n",
        "else:\n",
        "    print('B')"
      ],
      "execution_count": null,
      "outputs": [
        {
          "output_type": "stream",
          "text": [
            "B\n"
          ],
          "name": "stdout"
        }
      ]
    },
    {
      "cell_type": "code",
      "metadata": {
        "id": "4iysVo7MgoJg",
        "colab": {
          "base_uri": "https://localhost:8080/"
        },
        "outputId": "278e9cca-4d47-4f1f-ada5-363cb2cd068a"
      },
      "source": [
        "score = 75\n",
        "if score >= 90:\n",
        "    print('A')      \n",
        "else:\n",
        "    if score >= 80:\n",
        "        print('B')\n",
        "    else:\n",
        "        if score >= 70:\n",
        "            print('C')\n",
        "        else:\n",
        "            print('D')"
      ],
      "execution_count": null,
      "outputs": [
        {
          "output_type": "stream",
          "text": [
            "C\n"
          ],
          "name": "stdout"
        }
      ]
    },
    {
      "cell_type": "markdown",
      "metadata": {
        "id": "h_I6N3p3goJg"
      },
      "source": [
        "- if, elif, else 조건문\n",
        "- 조건식이 여러 개 있을 때, 비효율적인 if 조건문을 elif 조건문으로 단순화  "
      ]
    },
    {
      "cell_type": "code",
      "metadata": {
        "id": "Ufb7MuhjgoJg",
        "colab": {
          "base_uri": "https://localhost:8080/"
        },
        "outputId": "ef644348-eb11-471a-8b99-915bc3a1cc73"
      },
      "source": [
        "score = 75\n",
        "if score >= 90:\n",
        "    print('A')      \n",
        "elif score >= 80:\n",
        "    print('B')\n",
        "elif score >= 70:\n",
        "    print('C')\n",
        "else:\n",
        "    print('D')"
      ],
      "execution_count": null,
      "outputs": [
        {
          "output_type": "stream",
          "text": [
            "C\n"
          ],
          "name": "stdout"
        }
      ]
    },
    {
      "cell_type": "markdown",
      "metadata": {
        "id": "55YC8wZcgoJg"
      },
      "source": [
        "#### 2.2 try문\n",
        "\n",
        "- try, except, else 조건문\n",
        "- try 블록 수행 중 오류가 발생하면 except 블록을 수행\n",
        "- try 블록 수행 중 오류가 발생하지 않으면 else 블록을 수행"
      ]
    },
    {
      "cell_type": "code",
      "metadata": {
        "id": "z1wIdJa9goJh",
        "colab": {
          "base_uri": "https://localhost:8080/",
          "height": 164
        },
        "outputId": "e2713238-d2f9-4aa1-9c68-c172a8728086"
      },
      "source": [
        "1/0 # 오류가 발생"
      ],
      "execution_count": null,
      "outputs": [
        {
          "output_type": "error",
          "ename": "ZeroDivisionError",
          "evalue": "ignored",
          "traceback": [
            "\u001b[0;31m---------------------------------------------------------------------------\u001b[0m",
            "\u001b[0;31mZeroDivisionError\u001b[0m                         Traceback (most recent call last)",
            "\u001b[0;32m<ipython-input-70-73b8097f1183>\u001b[0m in \u001b[0;36m<module>\u001b[0;34m()\u001b[0m\n\u001b[0;32m----> 1\u001b[0;31m \u001b[0;36m1\u001b[0m\u001b[0;34m/\u001b[0m\u001b[0;36m0\u001b[0m \u001b[0;31m# 오류가 발생\u001b[0m\u001b[0;34m\u001b[0m\u001b[0;34m\u001b[0m\u001b[0m\n\u001b[0m",
            "\u001b[0;31mZeroDivisionError\u001b[0m: division by zero"
          ]
        }
      ]
    },
    {
      "cell_type": "code",
      "metadata": {
        "scrolled": false,
        "id": "u6vZvx9FgoJh"
      },
      "source": [
        "try:\n",
        "    1/0\n",
        "except:\n",
        "    print('분모가 0이 나옴')\n",
        "else:\n",
        "    print('이상없음')"
      ],
      "execution_count": null,
      "outputs": []
    },
    {
      "cell_type": "code",
      "metadata": {
        "id": "c2AW4h1PgoJh"
      },
      "source": [
        "try:\n",
        "    0/1\n",
        "except:\n",
        "    print('분모가 0이 나옴')\n",
        "else:\n",
        "    print('이상없음')"
      ],
      "execution_count": null,
      "outputs": []
    },
    {
      "cell_type": "markdown",
      "metadata": {
        "id": "KAKM17n8y_sB"
      },
      "source": [
        "### **3. 파이썬의 반복문**\n",
        "    3.1 while문\n",
        "    3.2 for문\n",
        "    3.3 중간에 멈추기와 건너뛰기"
      ]
    },
    {
      "cell_type": "markdown",
      "metadata": {
        "id": "UusF7qbsy_sB"
      },
      "source": [
        "#### 3.1 while문\n",
        "\n",
        "- 조건문을 만족하는 동안 반복해서 블록을 수행\n",
        "- a += b: a+b를 계산한 뒤, a+b의 값을 a에 할당 \n",
        "- a -= b: a-b를 계산한 뒤, a-b의 값을 a에 할당"
      ]
    },
    {
      "cell_type": "code",
      "metadata": {
        "id": "MvpJbHkny_sC",
        "colab": {
          "base_uri": "https://localhost:8080/"
        },
        "outputId": "ab780077-b717-44f4-c075-ba4dbd1cf442"
      },
      "source": [
        "i = 0\n",
        "while i < 10:\n",
        "    i += 1\n",
        "    print(i)"
      ],
      "execution_count": null,
      "outputs": [
        {
          "output_type": "stream",
          "text": [
            "1\n",
            "2\n",
            "3\n",
            "4\n",
            "5\n",
            "6\n",
            "7\n",
            "8\n",
            "9\n",
            "10\n"
          ],
          "name": "stdout"
        }
      ]
    },
    {
      "cell_type": "markdown",
      "metadata": {
        "id": "01Vj8pFDy_sC"
      },
      "source": [
        "#### 3.2 for문\n",
        "\n",
        "- 리스트 등의 첫 번째 요소부터 마지막 요소까지 차례로 대입하여 반복"
      ]
    },
    {
      "cell_type": "code",
      "metadata": {
        "scrolled": true,
        "id": "dq_uysPay_sC",
        "colab": {
          "base_uri": "https://localhost:8080/"
        },
        "outputId": "1678ccbd-e1fa-422a-a66a-6122a60bbaf1"
      },
      "source": [
        "for i in [1,3,5,7,9]:\n",
        "    print(i)"
      ],
      "execution_count": null,
      "outputs": [
        {
          "output_type": "stream",
          "text": [
            "1\n",
            "3\n",
            "5\n",
            "7\n",
            "9\n"
          ],
          "name": "stdout"
        }
      ]
    },
    {
      "cell_type": "markdown",
      "metadata": {
        "id": "kjWSb3nBy_sD"
      },
      "source": [
        "- `range(n)`: `0`부터 `(n-1)`까지의 정수"
      ]
    },
    {
      "cell_type": "code",
      "metadata": {
        "scrolled": true,
        "id": "0A0NAUpFy_sD",
        "colab": {
          "base_uri": "https://localhost:8080/"
        },
        "outputId": "841589ea-d1f6-49cb-9a0a-4b1bc605792a"
      },
      "source": [
        "for i in range(10):\n",
        "    print(i) "
      ],
      "execution_count": null,
      "outputs": [
        {
          "output_type": "stream",
          "text": [
            "0\n",
            "1\n",
            "2\n",
            "3\n",
            "4\n",
            "5\n",
            "6\n",
            "7\n",
            "8\n",
            "9\n"
          ],
          "name": "stdout"
        }
      ]
    },
    {
      "cell_type": "code",
      "metadata": {
        "scrolled": false,
        "id": "SlabIgC8y_sD",
        "colab": {
          "base_uri": "https://localhost:8080/"
        },
        "outputId": "c7d395fa-b86b-4354-adbc-ce37ea784bbe"
      },
      "source": [
        "j = 0\n",
        "for i in range(10):\n",
        "    j += i\n",
        "print(j)"
      ],
      "execution_count": null,
      "outputs": [
        {
          "output_type": "stream",
          "text": [
            "45\n"
          ],
          "name": "stdout"
        }
      ]
    },
    {
      "cell_type": "markdown",
      "metadata": {
        "id": "4y9dddLay_sE"
      },
      "source": [
        "- `range(a,b)`: `a`부터 `(b-1)`까지의 정수"
      ]
    },
    {
      "cell_type": "code",
      "metadata": {
        "scrolled": false,
        "id": "X7dckk1iy_sE",
        "colab": {
          "base_uri": "https://localhost:8080/"
        },
        "outputId": "94053010-f7c2-4d1a-b9d5-bd05142538cd"
      },
      "source": [
        "for i in range(5,10):\n",
        "    print(i, end=\" \")"
      ],
      "execution_count": null,
      "outputs": [
        {
          "output_type": "stream",
          "text": [
            "5 6 7 8 9 "
          ],
          "name": "stdout"
        }
      ]
    },
    {
      "cell_type": "markdown",
      "metadata": {
        "id": "Z4Sxrv2yy_sE"
      },
      "source": [
        "- `range(a,b,c)`: `a`에서부터 `c`의 간격으로 `b`보다 작은 정수"
      ]
    },
    {
      "cell_type": "code",
      "metadata": {
        "scrolled": false,
        "id": "g9XhfIZhy_sE",
        "colab": {
          "base_uri": "https://localhost:8080/"
        },
        "outputId": "b0e244ee-657e-4cad-b333-6882bd0d4d76"
      },
      "source": [
        "for i in range(5,20,3):\n",
        "    print(i, end=\" \")"
      ],
      "execution_count": null,
      "outputs": [
        {
          "output_type": "stream",
          "text": [
            "5 8 11 14 17 "
          ],
          "name": "stdout"
        }
      ]
    },
    {
      "cell_type": "markdown",
      "metadata": {
        "id": "k2eX9Ghjy_sE"
      },
      "source": [
        "#### 3.3 중간에 멈추기와 건너뛰기"
      ]
    },
    {
      "cell_type": "markdown",
      "metadata": {
        "id": "iA7EQriey_sE"
      },
      "source": [
        "- break문\n",
        "- for문이나 while문에서 반복을 하다가 중간에 반복을 멈추고 빠져나감"
      ]
    },
    {
      "cell_type": "code",
      "metadata": {
        "id": "iTsxLiqDy_sE",
        "colab": {
          "base_uri": "https://localhost:8080/"
        },
        "outputId": "5a1e5f5b-af19-49ac-bba7-ef35180e4d84"
      },
      "source": [
        "for i in range(10):\n",
        "    if i > 5:\n",
        "        break\n",
        "    print(i)"
      ],
      "execution_count": null,
      "outputs": [
        {
          "output_type": "stream",
          "text": [
            "0\n",
            "1\n",
            "2\n",
            "3\n",
            "4\n",
            "5\n"
          ],
          "name": "stdout"
        }
      ]
    },
    {
      "cell_type": "markdown",
      "metadata": {
        "id": "Qod4ImgRy_sF"
      },
      "source": [
        "- continue문\n",
        "- for문이나 while문에서 반복을 하다가 중간에 건너뜀"
      ]
    },
    {
      "cell_type": "code",
      "metadata": {
        "id": "IdkN9MEky_sF",
        "colab": {
          "base_uri": "https://localhost:8080/"
        },
        "outputId": "7e82281d-1cec-4c6a-bf99-598d4c9869f0"
      },
      "source": [
        "for i in range(10):\n",
        "    if (i%2) == 0:\n",
        "        continue\n",
        "    print(i) "
      ],
      "execution_count": null,
      "outputs": [
        {
          "output_type": "stream",
          "text": [
            "1\n",
            "3\n",
            "5\n",
            "7\n",
            "9\n"
          ],
          "name": "stdout"
        }
      ]
    },
    {
      "cell_type": "markdown",
      "metadata": {
        "id": "n93fbNjMzgQy"
      },
      "source": [
        "### **4. 파이썬 함수**\n",
        "    4.1 함수 생성 문법\n",
        "    4.2 입력값이 여러 개인 함수\n",
        "    4.3 출력값이 여러 개인 함수"
      ]
    },
    {
      "cell_type": "markdown",
      "metadata": {
        "id": "XA5UAS5BzgQz"
      },
      "source": [
        "#### 4.1 함수 생성 문법\n",
        "\n",
        "- 함수는 입력값을 받아 작업을 수행한 뒤에 결과값을 반환"
      ]
    },
    {
      "cell_type": "code",
      "metadata": {
        "id": "9gGJjQOhzgQz"
      },
      "source": [
        "def f(a):\n",
        "    out = a%7\n",
        "    return out"
      ],
      "execution_count": null,
      "outputs": []
    },
    {
      "cell_type": "code",
      "metadata": {
        "id": "340pDLOFzgQz"
      },
      "source": [
        "f(123)"
      ],
      "execution_count": null,
      "outputs": []
    },
    {
      "cell_type": "markdown",
      "metadata": {
        "id": "hJzlclTOzgQ0"
      },
      "source": [
        "- 프로그래밍에서 같은 내용이 반복적으로 사용되는 부분을 함수로 만들어 효율적으로 만들 수 있음\n",
        "- 피보나치 수열: 다음 피보나치 수는 바로 앞의 두 피보나치 수의 합이 됨"
      ]
    },
    {
      "cell_type": "code",
      "metadata": {
        "id": "LE-dkcVIzgQ0"
      },
      "source": [
        "# Finobacci sequence\n",
        "seq = [0,1]\n",
        "seq = seq + [seq[-2] + seq[-1]] # 1번째 반복\n",
        "seq = seq + [seq[-2] + seq[-1]] # 2번째 반복\n",
        "seq = seq + [seq[-2] + seq[-1]] # 3번째 반복\n",
        "seq = seq + [seq[-2] + seq[-1]] # 4번째 반복\n",
        "seq = seq + [seq[-2] + seq[-1]] # 5번째 반복\n",
        "seq = seq + [seq[-2] + seq[-1]] # 6번째 반복\n",
        "seq = seq + [seq[-2] + seq[-1]] # 7번째 반복\n",
        "seq = seq + [seq[-2] + seq[-1]] # 8번째 반복\n",
        "seq = seq + [seq[-2] + seq[-1]] # 9번째 반복\n",
        "seq = seq + [seq[-2] + seq[-1]] # 10번째 반복\n",
        "seq "
      ],
      "execution_count": null,
      "outputs": []
    },
    {
      "cell_type": "code",
      "metadata": {
        "scrolled": false,
        "id": "LkEHaFv3zgQ0"
      },
      "source": [
        "def fi(a):\n",
        "    out = a + [a[-2] + a[-1]]\n",
        "    return out"
      ],
      "execution_count": null,
      "outputs": []
    },
    {
      "cell_type": "code",
      "metadata": {
        "id": "sa53b4xPzgQ0"
      },
      "source": [
        "seq = [0,1]\n",
        "for a in range(10):\n",
        "    seq = fi(seq)\n",
        "seq "
      ],
      "execution_count": null,
      "outputs": []
    },
    {
      "cell_type": "markdown",
      "metadata": {
        "id": "DCQTVkc7zgQ1"
      },
      "source": [
        "#### 4.2 입력값이 여러 개인 경우\n",
        "\n",
        "- 일부 입력값의 초깃값을 미리 설정하는 것이 가능"
      ]
    },
    {
      "cell_type": "code",
      "metadata": {
        "scrolled": false,
        "id": "ekazlj33zgQ1"
      },
      "source": [
        "def f(a, b=10): # default 값\n",
        "    out = a + b\n",
        "    return out\n",
        "f(3)"
      ],
      "execution_count": null,
      "outputs": []
    },
    {
      "cell_type": "code",
      "metadata": {
        "id": "qz69DT71zgQ1"
      },
      "source": [
        "f(3,5)"
      ],
      "execution_count": null,
      "outputs": []
    },
    {
      "cell_type": "markdown",
      "metadata": {
        "id": "V2wf7i4hzgQ1"
      },
      "source": [
        "- 입력값의 개수가 정해져 있지 않은 경우\n",
        "- 입력값 앞에 `*`을 붙여주면, 입력값들을 모두 모아서 튜플로 만들어 줌."
      ]
    },
    {
      "cell_type": "code",
      "metadata": {
        "scrolled": false,
        "id": "Tk3GXmJDzgQ1"
      },
      "source": [
        "def f(*inputs):\n",
        "    sum = 0\n",
        "    for i in inputs:\n",
        "        sum += i\n",
        "    return sum"
      ],
      "execution_count": null,
      "outputs": []
    },
    {
      "cell_type": "code",
      "metadata": {
        "id": "dr6TCPeBzgQ1"
      },
      "source": [
        "f(1,2,3)"
      ],
      "execution_count": null,
      "outputs": []
    },
    {
      "cell_type": "code",
      "metadata": {
        "id": "rj2BZxPVzgQ1"
      },
      "source": [
        "f(1,2,3,4,5)"
      ],
      "execution_count": null,
      "outputs": []
    },
    {
      "cell_type": "markdown",
      "metadata": {
        "id": "uhoodYX5zgQ2"
      },
      "source": [
        "#### 4.3 결과값이 여러 개인 경우\n",
        "\n",
        "- 결과값을 튜플로 받기"
      ]
    },
    {
      "cell_type": "code",
      "metadata": {
        "scrolled": false,
        "id": "xOcSs1F1zgQ2"
      },
      "source": [
        "def f(a, b):\n",
        "    out1 = a + b \n",
        "    out2 = a * b\n",
        "    return out1, out2\n",
        "f(3,4)"
      ],
      "execution_count": null,
      "outputs": []
    },
    {
      "cell_type": "markdown",
      "metadata": {
        "id": "xKdCojiVzgQ2"
      },
      "source": [
        "- 결과값이 여러 개인 경우, 각각 따로 받기"
      ]
    },
    {
      "cell_type": "code",
      "metadata": {
        "scrolled": true,
        "id": "SBG7ih8IzgQ2"
      },
      "source": [
        "s, m = f(3,4)\n",
        "print(s)\n",
        "print(m)"
      ],
      "execution_count": null,
      "outputs": []
    },
    {
      "cell_type": "markdown",
      "metadata": {
        "id": "s6v3hFmmz4MM"
      },
      "source": [
        "### **5. 파이썬 클래스**\n",
        "    5.1 클래스의 정의\n",
        "    5.2 클래스의 상속"
      ]
    },
    {
      "cell_type": "markdown",
      "metadata": {
        "id": "NrTPku3mz4MM"
      },
      "source": [
        "#### 5.1 클래스(class)의 정의\n",
        "\n",
        "- 클래스는 함수나 변수의 **생성 틀**을 모아둔 집합\n",
        "- 클래스의 틀을 기반으로 생성된 객체(object)는 인스턴스(instance)라고 함\n",
        "- 클래스 안의 함수는 메서드(method)라고 하고, 첫번째 인수는 `self`로 인스턴스를 가리킴"
      ]
    },
    {
      "cell_type": "code",
      "metadata": {
        "scrolled": true,
        "id": "OA7PvHrqz4MN"
      },
      "source": [
        "class Customer:\n",
        "    def demo(self,name):\n",
        "        print('고객님의 이름은 %s입니다.' %name)\n",
        "    \n",
        "id1 = Customer() # id1 인스턴스 생성\n",
        "id2 = Customer() # id2 인스턴스 생성\n",
        "\n",
        "id1.demo('John') # id1 인스턴스에 dot연산자로 메서드를 적용\n",
        "id2.demo('Jane') # id2 인스턴스에 dot연산자로 메서드를 적용"
      ],
      "execution_count": null,
      "outputs": []
    },
    {
      "cell_type": "markdown",
      "metadata": {
        "id": "xBOOxmw3z4MN"
      },
      "source": [
        "- 위의 예제에서 Customer는 클래스\n",
        "- demo는 메서드 \n",
        "- id1, id2는 인스턴스\n",
        "- dot연산자를 이용해 인스턴스에 메서드를 적용\n",
        "- 하지만, 각 인스턴스에 대응하는 변수를 저장하지 않아 아래의 함수와 다를 바 없음 "
      ]
    },
    {
      "cell_type": "code",
      "metadata": {
        "id": "8CIIiE6Sz4MN",
        "colab": {
          "base_uri": "https://localhost:8080/"
        },
        "outputId": "0e5469ea-749d-462d-eb2b-22be4a1280f8"
      },
      "source": [
        "def demo(name):\n",
        "    print('고객님의 이름은 %s입니다.' %name)\n",
        "    \n",
        "demo('John')\n",
        "demo('Jane')"
      ],
      "execution_count": null,
      "outputs": [
        {
          "output_type": "stream",
          "text": [
            "고객님의 이름은 John입니다.\n",
            "고객님의 이름은 Jane입니다.\n"
          ],
          "name": "stdout"
        }
      ]
    },
    {
      "cell_type": "markdown",
      "metadata": {
        "id": "0NKyEloAz4MN"
      },
      "source": [
        "- 인스턴스를 생성할 때 자동으로 호출되는, 초기화 메서드인 `__init__`을 사용\n",
        "- 따라서 인스턴스 생성시에 name에 해당하는 변수를 넣어줘야 함\n",
        "- 메서드 내, 인스턴스에 대응하는 변수의 정의를 포함"
      ]
    },
    {
      "cell_type": "code",
      "metadata": {
        "id": "tqv27bZaz4MO",
        "colab": {
          "base_uri": "https://localhost:8080/"
        },
        "outputId": "21f03849-d63a-40d0-fa0b-fbf9601d16ea"
      },
      "source": [
        "class Customer:\n",
        "    def __init__(self,name):\n",
        "        self.name = name # name 변수 정의\n",
        "        print('고객님의 이름은 %s입니다.' %name)\n",
        "        \n",
        "id1 = Customer('John')\n",
        "id2 = Customer('Jane') "
      ],
      "execution_count": null,
      "outputs": [
        {
          "output_type": "stream",
          "text": [
            "고객님의 이름은 John입니다.\n",
            "고객님의 이름은 Jane입니다.\n"
          ],
          "name": "stdout"
        }
      ]
    },
    {
      "cell_type": "code",
      "metadata": {
        "scrolled": false,
        "id": "fML3jygnz4MO",
        "colab": {
          "base_uri": "https://localhost:8080/"
        },
        "outputId": "14b58a9a-13a4-4e9d-9b3a-a61ec249a65f"
      },
      "source": [
        "print(id1.name)\n",
        "print(id2.name) "
      ],
      "execution_count": null,
      "outputs": [
        {
          "output_type": "stream",
          "text": [
            "John\n",
            "Jane\n"
          ],
          "name": "stdout"
        }
      ]
    },
    {
      "cell_type": "markdown",
      "metadata": {
        "id": "4BUm9K6uz4MO"
      },
      "source": [
        "#### 5.2 클래스의 상속\n",
        "\n",
        "- 어떤 클래스가 다른 클래스의 변수나 함수의 생성 틀을 상속"
      ]
    },
    {
      "cell_type": "code",
      "metadata": {
        "id": "nyZh7d46z4MO",
        "colab": {
          "base_uri": "https://localhost:8080/"
        },
        "outputId": "e7878463-2a37-4fc5-f2fd-c3eafd7a52cf"
      },
      "source": [
        "# Customer 클래스를 Customer2 클래스가 상속\n",
        "\n",
        "class Customer2(Customer): \n",
        "    def demo(self,gender):\n",
        "        self.gender = gender\n",
        "        print('%s 고객님은 성별이 %s입니다.' %(self.name, gender))\n",
        "        \n",
        "id3 = Customer2('Jayden')\n",
        "id3.demo('남자')"
      ],
      "execution_count": null,
      "outputs": [
        {
          "output_type": "stream",
          "text": [
            "고객님의 이름은 Jayden입니다.\n",
            "Jayden 고객님은 성별이 남자입니다.\n"
          ],
          "name": "stdout"
        }
      ]
    },
    {
      "cell_type": "code",
      "metadata": {
        "id": "oMaVM_iSz4MP",
        "colab": {
          "base_uri": "https://localhost:8080/"
        },
        "outputId": "c9a5b47a-573f-4fe5-a49e-26df2916c474"
      },
      "source": [
        "print(id3.name, id3.gender)"
      ],
      "execution_count": null,
      "outputs": [
        {
          "output_type": "stream",
          "text": [
            "Jayden 남자\n"
          ],
          "name": "stdout"
        }
      ]
    },
    {
      "cell_type": "markdown",
      "metadata": {
        "id": "4E-IBM4a0byk"
      },
      "source": [
        "### **6. 파이썬 모듈을 통한 확장**\n",
        "    6.1 파일의 생성 및 작성\n",
        "    6.2 모듈의 작성 및 설치\n",
        "    6.3 Numpy 모듈\n",
        "    6.4 Pandas 모듈\n",
        "    6.5 Matplotlib 모듈\n"
      ]
    },
    {
      "cell_type": "markdown",
      "metadata": {
        "id": "dtIOG8Ak0byk"
      },
      "source": [
        "#### 6.1 파일의 생성 및 작성\n",
        "\n",
        "- 파일을 생성하고 작성하기\n",
        "- open을 이용하면 파일을 읽고('r') 쓸('w') 수 있음. \n",
        "- f.write(data): data를 파일객체 f에 쓰라는 뜻"
      ]
    },
    {
      "cell_type": "code",
      "metadata": {
        "id": "RJxP15Jm0byl"
      },
      "source": [
        "f = open('test.txt','w')\n",
        "\n",
        "a = [68,41,92,74,81,80,63,99,86,79]\n",
        "f.write('ID\\t Score\\n')\n",
        "for i in range(10):\n",
        "    f.write('%d\\t %d\\n' %(i+1,a[i]))\n",
        "\n",
        "f.close()"
      ],
      "execution_count": null,
      "outputs": []
    },
    {
      "cell_type": "markdown",
      "metadata": {
        "id": "rx1Zk5290byl"
      },
      "source": [
        "- 파일을 읽기\n",
        "- readline을 이용하면 한 줄씩 읽을 수 있음."
      ]
    },
    {
      "cell_type": "code",
      "metadata": {
        "id": "1K_CFD_v0byl"
      },
      "source": [
        "f = open('test.txt','r')\n",
        "\n",
        "line = f.readline() # 첫번째 줄만 읽음\n",
        "print(line)\n",
        "\n",
        "f.close()"
      ],
      "execution_count": null,
      "outputs": []
    },
    {
      "cell_type": "code",
      "metadata": {
        "id": "izBT9PE50byl"
      },
      "source": [
        "f = open('test.txt','r')\n",
        "while True:\n",
        "    line = f.readline()\n",
        "    if not(line):\n",
        "        break\n",
        "    print(line)\n",
        "    \n",
        "f.close()"
      ],
      "execution_count": null,
      "outputs": []
    },
    {
      "cell_type": "markdown",
      "metadata": {
        "id": "0GpbKGLD0bym"
      },
      "source": [
        "- 파일을 열면(open) 항상 닫는(close) 것이 좋음.\n",
        "- with문은 파일을 열고 닫는 것을 자동으로 처리함."
      ]
    },
    {
      "cell_type": "code",
      "metadata": {
        "id": "jmdnMGwi0bym"
      },
      "source": [
        "with open('test2.txt','w') as f:\n",
        "    a = [68,41,92,74,81,80,63,99,86,79]\n",
        "    f.write('ID\\t Score\\n')\n",
        "    for i in range(10):\n",
        "        f.write('%d\\t %d\\n' %(i+1,a[i]))"
      ],
      "execution_count": null,
      "outputs": []
    },
    {
      "cell_type": "markdown",
      "metadata": {
        "id": "TJRZJRG70bym"
      },
      "source": [
        "#### 6.2 모듈의 작성 및 설치\n",
        "\n",
        "- 함수나 변수, 클래스를 모아 놓은 파일을 모듈이라고 함.\n",
        "- 다른 사람이 이미 만들어 놓은 모듈을 사용하거나 직접 모듈을 만들 수 있음. "
      ]
    },
    {
      "cell_type": "code",
      "metadata": {
        "id": "jH9UUgOh0bym"
      },
      "source": [
        "# mod.py라는 모듈을 작성하기\n",
        "with open('mod.py','w') as f:\n",
        "    f.write('def sum_fn(*inputs):\\n')\n",
        "    f.write('\\tsum = 0\\n')\n",
        "    f.write('\\tfor i in inputs:\\n')\n",
        "    f.write('\\t\\tsum += i\\n')\n",
        "    f.write('\\treturn sum')"
      ],
      "execution_count": null,
      "outputs": []
    },
    {
      "cell_type": "markdown",
      "metadata": {
        "id": "KIb5rfxn0byn"
      },
      "source": [
        "- 모듈을 설치하기"
      ]
    },
    {
      "cell_type": "code",
      "metadata": {
        "id": "6WOMYymL0byn"
      },
      "source": [
        "import mod"
      ],
      "execution_count": null,
      "outputs": []
    },
    {
      "cell_type": "markdown",
      "metadata": {
        "id": "wNZCb0zE0byn"
      },
      "source": [
        "- mod.py 모듈에 있는 sum_fn 함수를 사용하기\n",
        "- 모듈의 이름 뒤에 '.' 연산자를 붙이고 함수의 이름을 써서 사용함."
      ]
    },
    {
      "cell_type": "code",
      "metadata": {
        "id": "Mkm4wple0byn"
      },
      "source": [
        "mod.sum_fn(1,2,3,4,5,6,7,8,9,10)"
      ],
      "execution_count": null,
      "outputs": []
    },
    {
      "cell_type": "markdown",
      "metadata": {
        "id": "z65vSCl-0byn"
      },
      "source": [
        "- 모듈 안에 여러 개의 함수가 있을 경우, 모듈을 설치하는데 시간이 많이 걸림.\n",
        "- 모듈 안의 함수들 중에서 특정한 함수만 필요한 경우, 해당 함수만 설치하기."
      ]
    },
    {
      "cell_type": "code",
      "metadata": {
        "id": "sJhvSUo-0byn"
      },
      "source": [
        "from mod import sum_fn as s"
      ],
      "execution_count": null,
      "outputs": []
    },
    {
      "cell_type": "code",
      "metadata": {
        "id": "xsoQD3Ni0byo"
      },
      "source": [
        "s(1,2,3,4,5,6,7,8,9,10)"
      ],
      "execution_count": null,
      "outputs": []
    },
    {
      "cell_type": "markdown",
      "metadata": {
        "id": "zaY4n1R00byo"
      },
      "source": [
        "- 예제: 파이썬에 용도가 이미 정해져 변수 등으로 사용할 수 없는 예약어 리스트를 확인하는 모듈"
      ]
    },
    {
      "cell_type": "code",
      "metadata": {
        "id": "mU6ZhIOC0byo"
      },
      "source": [
        "import keyword\n",
        "keyword.kwlist"
      ],
      "execution_count": null,
      "outputs": []
    },
    {
      "cell_type": "markdown",
      "metadata": {
        "id": "ZY0TD6K65RRF"
      },
      "source": [
        "#### 6.3 Numpy 모듈 \n",
        "\n",
        "- 수치계산을 다루는 주요 모듈\n",
        "- 모듈의 이름은 as를 붙여 바꾸는 것이 가능함. "
      ]
    },
    {
      "cell_type": "code",
      "metadata": {
        "id": "NsJy39Hd5RRF"
      },
      "source": [
        "import numpy as np # from ... import ... as ..."
      ],
      "execution_count": null,
      "outputs": []
    },
    {
      "cell_type": "markdown",
      "metadata": {
        "id": "C1j74gOI5RRF"
      },
      "source": [
        "- array함수를 사용해 쉽게 배열 형태로 만듬"
      ]
    },
    {
      "cell_type": "code",
      "metadata": {
        "id": "Bl5W66KC5RRG"
      },
      "source": [
        "a = np.array([1,2,3])\n",
        "a # vector"
      ],
      "execution_count": null,
      "outputs": []
    },
    {
      "cell_type": "code",
      "metadata": {
        "id": "RnLxxe285RRG"
      },
      "source": [
        "b = np.array([4,5,6])\n",
        "b # vector"
      ],
      "execution_count": null,
      "outputs": []
    },
    {
      "cell_type": "code",
      "metadata": {
        "id": "GNIzjiRc5RRG"
      },
      "source": [
        "c = np.array([[1,2,3],[4,5,6]])\n",
        "c # matrix"
      ],
      "execution_count": null,
      "outputs": []
    },
    {
      "cell_type": "markdown",
      "metadata": {
        "id": "EoddDiEI5RRG"
      },
      "source": [
        "- array는 element-wise 계산이 가능함.\n",
        "- list의 계산과 비교!"
      ]
    },
    {
      "cell_type": "code",
      "metadata": {
        "id": "gGFeoCvs5RRG"
      },
      "source": [
        "a + b # element-wise sum"
      ],
      "execution_count": null,
      "outputs": []
    },
    {
      "cell_type": "markdown",
      "metadata": {
        "id": "Y-XaqeOk5RRH"
      },
      "source": [
        "- 전치행렬 (transposed) 구하기"
      ]
    },
    {
      "cell_type": "code",
      "metadata": {
        "id": "Yu8zi70L5RRH"
      },
      "source": [
        "c.T"
      ],
      "execution_count": null,
      "outputs": []
    },
    {
      "cell_type": "markdown",
      "metadata": {
        "id": "gvJSISbn5RRH"
      },
      "source": [
        "- 행렬곱 (matrix multiplication) 구하기"
      ]
    },
    {
      "cell_type": "code",
      "metadata": {
        "id": "4F2nZtjR5RRH"
      },
      "source": [
        "np.matmul(c,c.T)"
      ],
      "execution_count": null,
      "outputs": []
    },
    {
      "cell_type": "markdown",
      "metadata": {
        "id": "-3WBdSsM5RRH"
      },
      "source": [
        "- array의 기초 통계량 계산"
      ]
    },
    {
      "cell_type": "code",
      "metadata": {
        "id": "PtyfhE195RRH"
      },
      "source": [
        "np.sum(a), np.mean(a), np.median(a), np.var(a), np.std(a)"
      ],
      "execution_count": null,
      "outputs": []
    },
    {
      "cell_type": "code",
      "metadata": {
        "id": "jDa5JF1U5RRH"
      },
      "source": [
        "a.sum(), a.mean(), a.var(), a.std() # a.median()은 없음"
      ],
      "execution_count": null,
      "outputs": []
    },
    {
      "cell_type": "code",
      "metadata": {
        "id": "ERmeCwNq5RRH"
      },
      "source": [
        "np.sum(c) # total sum"
      ],
      "execution_count": null,
      "outputs": []
    },
    {
      "cell_type": "code",
      "metadata": {
        "id": "ut5egGbT5RRI"
      },
      "source": [
        "np.sum(c, axis=0) # column-wise"
      ],
      "execution_count": null,
      "outputs": []
    },
    {
      "cell_type": "code",
      "metadata": {
        "id": "zVz71qgT5RRI"
      },
      "source": [
        "np.sum(c, axis=1) # row-wise"
      ],
      "execution_count": null,
      "outputs": []
    },
    {
      "cell_type": "markdown",
      "metadata": {
        "id": "7-JWI1Er5RRI"
      },
      "source": [
        "- array의 크기를 계산하기"
      ]
    },
    {
      "cell_type": "code",
      "metadata": {
        "id": "C0TKXxnc5RRI"
      },
      "source": [
        "len(a)"
      ],
      "execution_count": null,
      "outputs": []
    },
    {
      "cell_type": "code",
      "metadata": {
        "id": "fE-4ZsQv5RRI"
      },
      "source": [
        "a.shape"
      ],
      "execution_count": null,
      "outputs": []
    },
    {
      "cell_type": "code",
      "metadata": {
        "scrolled": true,
        "id": "kx6lVFrV5RRI"
      },
      "source": [
        "len(c)"
      ],
      "execution_count": null,
      "outputs": []
    },
    {
      "cell_type": "code",
      "metadata": {
        "id": "rwj75RfJ5RRI"
      },
      "source": [
        "c.shape"
      ],
      "execution_count": null,
      "outputs": []
    },
    {
      "cell_type": "markdown",
      "metadata": {
        "id": "9DPFNZmi5RRJ"
      },
      "source": [
        "- 비교연산자"
      ]
    },
    {
      "cell_type": "code",
      "metadata": {
        "scrolled": false,
        "id": "G5X9jREs5RRJ"
      },
      "source": [
        "np.logical_or(1==1, 1==0)"
      ],
      "execution_count": null,
      "outputs": []
    },
    {
      "cell_type": "code",
      "metadata": {
        "id": "FWCwSQHm5RRJ"
      },
      "source": [
        "np.logical_and(1==1, 1==0)"
      ],
      "execution_count": null,
      "outputs": []
    },
    {
      "cell_type": "code",
      "metadata": {
        "scrolled": false,
        "id": "3exuMBwh5RRJ"
      },
      "source": [
        "np.where([1,2,3,4,0,1,0,0,1]) # True인 원소의 위치를 반환"
      ],
      "execution_count": null,
      "outputs": []
    },
    {
      "cell_type": "code",
      "metadata": {
        "scrolled": false,
        "id": "ecIGGeBe5RRJ"
      },
      "source": [
        "np.where([1,2,3,4,0,1,0,0,1],1,-1) # True이면 1을, False이면 -1을 반환 "
      ],
      "execution_count": null,
      "outputs": []
    },
    {
      "cell_type": "code",
      "metadata": {
        "scrolled": false,
        "id": "ltuElM3T5RRJ"
      },
      "source": [
        "np.array([0,1,2,3,4])==np.array([0,2,2,3,3]) # element-wise 비교연산"
      ],
      "execution_count": null,
      "outputs": []
    },
    {
      "cell_type": "markdown",
      "metadata": {
        "id": "8Iske95c5RRJ"
      },
      "source": [
        "- 0 또는 1의 행렬 만들기"
      ]
    },
    {
      "cell_type": "code",
      "metadata": {
        "id": "lUQzY4KH5RRJ"
      },
      "source": [
        "a = np.zeros([2,3])\n",
        "a"
      ],
      "execution_count": null,
      "outputs": []
    },
    {
      "cell_type": "code",
      "metadata": {
        "id": "SgwmSeW55RRK"
      },
      "source": [
        "b = np.ones([2,3])\n",
        "b"
      ],
      "execution_count": null,
      "outputs": []
    },
    {
      "cell_type": "markdown",
      "metadata": {
        "id": "m24fd_W_5RRK"
      },
      "source": [
        "- 행 또는 열 추가하기"
      ]
    },
    {
      "cell_type": "code",
      "metadata": {
        "scrolled": false,
        "id": "WeMCa4Ko5RRK"
      },
      "source": [
        "np.vstack((a,b))"
      ],
      "execution_count": null,
      "outputs": []
    },
    {
      "cell_type": "code",
      "metadata": {
        "scrolled": false,
        "id": "kq71kjju5RRK"
      },
      "source": [
        "np.hstack((a,b))"
      ],
      "execution_count": null,
      "outputs": []
    },
    {
      "cell_type": "markdown",
      "metadata": {
        "id": "HAv-JRQ55RRK"
      },
      "source": [
        "- 고유한 값과 상응하는 빈도 계산하기"
      ]
    },
    {
      "cell_type": "code",
      "metadata": {
        "scrolled": false,
        "id": "U0nMBR1U5RRK"
      },
      "source": [
        "np.unique([1,1,2,3,4,6,2,7,8,1])"
      ],
      "execution_count": null,
      "outputs": []
    },
    {
      "cell_type": "code",
      "metadata": {
        "scrolled": false,
        "id": "KwNu7pFK5RRK"
      },
      "source": [
        "np.bincount([1,1,2,3,4,6,2,7,8,1]) # 0부터 시작"
      ],
      "execution_count": null,
      "outputs": []
    },
    {
      "cell_type": "markdown",
      "metadata": {
        "id": "fci_G8dh5RRK"
      },
      "source": [
        "- 자연수(e)의 거듭제곱 구하기"
      ]
    },
    {
      "cell_type": "code",
      "metadata": {
        "id": "steShtAU5RRL"
      },
      "source": [
        "np.exp(1), np.exp(2) "
      ],
      "execution_count": null,
      "outputs": []
    },
    {
      "cell_type": "markdown",
      "metadata": {
        "id": "mJs2Edvp5RRL"
      },
      "source": [
        "- 간격이 동일한 벡터 생성하기"
      ]
    },
    {
      "cell_type": "code",
      "metadata": {
        "scrolled": false,
        "id": "YKnqah2c5RRL"
      },
      "source": [
        "np.arange(4)"
      ],
      "execution_count": null,
      "outputs": []
    },
    {
      "cell_type": "code",
      "metadata": {
        "id": "jHQr6mwv5RRL"
      },
      "source": [
        "np.arange(0, 1.1, 0.1) # 0과 1.1사이를 0.1의 간격으로 동일한 11개의 구간으로 나눔"
      ],
      "execution_count": null,
      "outputs": []
    },
    {
      "cell_type": "code",
      "metadata": {
        "id": "MAqIh-Bu5RRL"
      },
      "source": [
        "np.linspace(0, 1.0, 11) # 0과 1사이를 간격이 동일한 11개의 구간으로 나눔"
      ],
      "execution_count": null,
      "outputs": []
    },
    {
      "cell_type": "markdown",
      "metadata": {
        "id": "xsjQr22I5RRL"
      },
      "source": [
        "- 확률변수 생성하기\n",
        "- Uniform 분포: numpy.random.random( )\n",
        "- Normal 분포: numpy.random.randn( )\n",
        "- 이 외에 다양한 샘플링 함수는 다음의 링크에서 찾을 수 있음\n",
        "\n",
        "  https://docs.scipy.org/doc/numpy-1.14.1/reference/routines.random.html"
      ]
    },
    {
      "cell_type": "code",
      "metadata": {
        "id": "DRbSHdiW5RRL"
      },
      "source": [
        "np.random.seed(0)\n",
        "u = np.random.random([3,4]) # Unif(0,1)\n",
        "u"
      ],
      "execution_count": null,
      "outputs": []
    },
    {
      "cell_type": "code",
      "metadata": {
        "id": "iwNEyz5I5RRL"
      },
      "source": [
        "np.random.seed(0)\n",
        "n = np.random.randn(3,4) # N(0,1)\n",
        "n"
      ],
      "execution_count": null,
      "outputs": []
    },
    {
      "cell_type": "code",
      "metadata": {
        "id": "AG9nNYya5RRM"
      },
      "source": [
        "n = np.random.choice(45, 6, replace=True) + 1  # sample with replacement\n",
        "np.sort(n)"
      ],
      "execution_count": null,
      "outputs": []
    },
    {
      "cell_type": "code",
      "metadata": {
        "id": "-ibAsdyn5RRM"
      },
      "source": [
        "n = np.random.choice(45, 6, replace=False) + 1  # sample without replacement\n",
        "np.sort(n)"
      ],
      "execution_count": null,
      "outputs": []
    },
    {
      "cell_type": "markdown",
      "metadata": {
        "id": "GsvdTnuN5XsB"
      },
      "source": [
        "#### 6.4 Pandas 모듈\n",
        "\n",
        "- numpy 모듈보다 더 복잡한 형태의 자료(Series, DataFrame)를 다룸\n",
        "- pandas 모듈의 DataFrame은 R의 DataFrame과 유사함\n",
        "- 주식 트레이딩을 효율적으로 하기 위해 만든 모듈임\n",
        "- 결측치(NaN)를 처리할 수 있음"
      ]
    },
    {
      "cell_type": "code",
      "metadata": {
        "id": "3HSOQXKQ5XsC"
      },
      "source": [
        "import pandas as pd"
      ],
      "execution_count": null,
      "outputs": []
    },
    {
      "cell_type": "code",
      "metadata": {
        "id": "k35iOCh35XsC"
      },
      "source": [
        "a = pd.Series([1,3,5,7,9])\n",
        "a"
      ],
      "execution_count": null,
      "outputs": []
    },
    {
      "cell_type": "markdown",
      "metadata": {
        "id": "Lz4PYjYo5XsD"
      },
      "source": [
        "- Series가 열로 쌓이면 DataFrame이 됨\n",
        "- assign 함수를 이용해 열을 쌓을 수 있음"
      ]
    },
    {
      "cell_type": "code",
      "metadata": {
        "id": "UYJoU0ku5XsD"
      },
      "source": [
        "a = pd.DataFrame(a,columns=['var1'])\n",
        "a"
      ],
      "execution_count": null,
      "outputs": []
    },
    {
      "cell_type": "code",
      "metadata": {
        "id": "LcFu2cPo5XsD"
      },
      "source": [
        "a.assign(var2=[2,4,6,8,10])"
      ],
      "execution_count": null,
      "outputs": []
    },
    {
      "cell_type": "markdown",
      "metadata": {
        "id": "f2Xk7roD5XsD"
      },
      "source": [
        "- csv 데이터 읽기"
      ]
    },
    {
      "cell_type": "code",
      "metadata": {
        "id": "8j4nbg6I5XsD"
      },
      "source": [
        "a = pd.read_csv('Default.csv') \n",
        "a.head(3)"
      ],
      "execution_count": null,
      "outputs": []
    },
    {
      "cell_type": "code",
      "metadata": {
        "id": "ztpvaQwH5XsD"
      },
      "source": [
        "type(a)"
      ],
      "execution_count": null,
      "outputs": []
    },
    {
      "cell_type": "code",
      "metadata": {
        "id": "I-pKuqR05XsE"
      },
      "source": [
        "a.columns"
      ],
      "execution_count": null,
      "outputs": []
    },
    {
      "cell_type": "code",
      "metadata": {
        "id": "zJ4VM3zd5XsE"
      },
      "source": [
        "a.dtypes"
      ],
      "execution_count": null,
      "outputs": []
    },
    {
      "cell_type": "code",
      "metadata": {
        "id": "8nZfx8Kz5XsE"
      },
      "source": [
        "a.shape"
      ],
      "execution_count": null,
      "outputs": []
    },
    {
      "cell_type": "code",
      "metadata": {
        "id": "1K_plvDO5XsE"
      },
      "source": [
        "a.gender.head()"
      ],
      "execution_count": null,
      "outputs": []
    },
    {
      "cell_type": "markdown",
      "metadata": {
        "id": "ch0qlPic5XsE"
      },
      "source": [
        "- iloc 명령을 이용해 slicing 하기"
      ]
    },
    {
      "cell_type": "code",
      "metadata": {
        "id": "AEJcMWqA5XsE"
      },
      "source": [
        "a.iloc[0,:] # 1번째 '행'만 선택하기"
      ],
      "execution_count": null,
      "outputs": []
    },
    {
      "cell_type": "code",
      "metadata": {
        "scrolled": true,
        "id": "ijv3X5JZ5XsF"
      },
      "source": [
        "a.iloc[0] # 1번째 '행'만 선택하기"
      ],
      "execution_count": null,
      "outputs": []
    },
    {
      "cell_type": "code",
      "metadata": {
        "id": "frh0KlLc5XsF"
      },
      "source": [
        "# 2번째랑 4번째 '행'만 선택하기 - [1,3]의 list를 사용\n",
        "a.iloc[[1,3]]"
      ],
      "execution_count": null,
      "outputs": []
    },
    {
      "cell_type": "code",
      "metadata": {
        "id": "zxtbZmqw5XsF"
      },
      "source": [
        "a.iloc[:,0].head() # 1번째 '열'만 선택하기"
      ],
      "execution_count": null,
      "outputs": []
    },
    {
      "cell_type": "code",
      "metadata": {
        "id": "5QbxifHk5XsF"
      },
      "source": [
        "# 1-4번째 '행과 3-5번째 '열'만 선택하려면?\n",
        "a.iloc[0:4,2:5]"
      ],
      "execution_count": null,
      "outputs": []
    },
    {
      "cell_type": "code",
      "metadata": {
        "scrolled": true,
        "id": "umBMH0PT5XsF"
      },
      "source": [
        "# 2번째랑 4번째 '행'과 3번째랑 6번째 '열'만 선택하기\n",
        "a.iloc[[1,3],[2,5]]"
      ],
      "execution_count": null,
      "outputs": []
    },
    {
      "cell_type": "markdown",
      "metadata": {
        "id": "UzGzUFz95XsF"
      },
      "source": [
        "- loc 명령을 이용해 slicing 하기"
      ]
    },
    {
      "cell_type": "code",
      "metadata": {
        "scrolled": true,
        "id": "xL0ivLq95XsF"
      },
      "source": [
        "a.loc[:,'default'].head() # 'default'열 선택하기"
      ],
      "execution_count": null,
      "outputs": []
    },
    {
      "cell_type": "code",
      "metadata": {
        "scrolled": false,
        "id": "nT7yURYB5XsF"
      },
      "source": [
        "a.loc[:,['default','gender']].head() # 'default'와 'overdue_days'열 선택하기"
      ],
      "execution_count": null,
      "outputs": []
    },
    {
      "cell_type": "markdown",
      "metadata": {
        "id": "IHZ9EJqL5XsG"
      },
      "source": [
        "- '::(숫자)'는 (숫자)의 배수만 선택"
      ]
    },
    {
      "cell_type": "code",
      "metadata": {
        "id": "T_A3eOgs5XsG"
      },
      "source": [
        "a.iloc[::4,3]"
      ],
      "execution_count": null,
      "outputs": []
    },
    {
      "cell_type": "markdown",
      "metadata": {
        "id": "jRIqSqtP5XsG"
      },
      "source": [
        "- groupby 명령을 이용하여 여러 범주형 변수에 따른 그룹의 조합에 따라 분석 \n",
        "- 각 그룹의 조합은 unique하지 않아도 됨\n",
        "- 그룹 연산에 사용되는 자주 사용되는 명령\n",
        "    - size, count\n",
        "    - mean, median, min, max\n",
        "    - std, var, quantile\n",
        "    - sum, prod\n",
        "    - first, last\n",
        "    - describe"
      ]
    },
    {
      "cell_type": "code",
      "metadata": {
        "id": "zpjdb0NA5XsG"
      },
      "source": [
        "a.groupby('default').size() "
      ],
      "execution_count": null,
      "outputs": []
    },
    {
      "cell_type": "code",
      "metadata": {
        "id": "Es3PWB4V5XsG"
      },
      "source": [
        "a.groupby('default').count()"
      ],
      "execution_count": null,
      "outputs": []
    },
    {
      "cell_type": "code",
      "metadata": {
        "id": "ZLRNgBfA5XsG"
      },
      "source": [
        "a.groupby(['default','gender']).count().head()"
      ],
      "execution_count": null,
      "outputs": []
    },
    {
      "cell_type": "code",
      "metadata": {
        "id": "4IfgK7h_5XsG"
      },
      "source": [
        "a.groupby('default').mean().head()"
      ],
      "execution_count": null,
      "outputs": []
    },
    {
      "cell_type": "code",
      "metadata": {
        "id": "QTn9iYrM5XsG"
      },
      "source": [
        "a.groupby('default').describe()\n"
      ],
      "execution_count": null,
      "outputs": []
    },
    {
      "cell_type": "code",
      "metadata": {
        "scrolled": true,
        "id": "rI5G0pAg5XsH"
      },
      "source": [
        "# overdue_days 변수에 대한 요약값만 출력하려면?\n",
        "\n",
        "a.groupby('default')['overdue_days'].describe()"
      ],
      "execution_count": null,
      "outputs": []
    },
    {
      "cell_type": "markdown",
      "metadata": {
        "id": "dCifzpaS5XsH"
      },
      "source": [
        "- 데이터 결합의 예를 보기 위해 데이터프레임 A와 B를 정의"
      ]
    },
    {
      "cell_type": "code",
      "metadata": {
        "id": "eTXfaRnA5XsH"
      },
      "source": [
        "A = pd.DataFrame({'Company' : ['AAPL','NVDA','AMZN'], \n",
        "                  'Quant' : [100,500,300]})\n",
        "A"
      ],
      "execution_count": null,
      "outputs": []
    },
    {
      "cell_type": "code",
      "metadata": {
        "id": "PtKR_Ch65XsH"
      },
      "source": [
        "B = pd.DataFrame({'Company' : ['AMZN','GOOG','NFLX','NVDA'], \n",
        "                  'Price' : [3000,1700,500,500]})\n",
        "B"
      ],
      "execution_count": null,
      "outputs": []
    },
    {
      "cell_type": "markdown",
      "metadata": {
        "id": "oieQB3695XsH"
      },
      "source": [
        "- merge 명령은 기준열을 사용하여 데이터를 연결"
      ]
    },
    {
      "cell_type": "code",
      "metadata": {
        "id": "eYMp8_Fb5XsH"
      },
      "source": [
        "pd.merge(A,B) # 동일한 모든 변수에 대해 공통된 경우의 수를 조합 (how='inner'가 디폴트)"
      ],
      "execution_count": null,
      "outputs": []
    },
    {
      "cell_type": "code",
      "metadata": {
        "id": "JK9dKyXX5XsH"
      },
      "source": [
        "pd.merge(A,B,on='Company') # On 으로 기준열 명시"
      ],
      "execution_count": null,
      "outputs": []
    },
    {
      "cell_type": "code",
      "metadata": {
        "id": "J58glr5z5XsH"
      },
      "source": [
        "pd.merge(A,B,how='inner') # 공통된 경우의 수를 조합"
      ],
      "execution_count": null,
      "outputs": []
    },
    {
      "cell_type": "code",
      "metadata": {
        "id": "R9YrxrZY5XsI"
      },
      "source": [
        "pd.merge(A,B,how='outer') # 모든 경우의 수를 조합"
      ],
      "execution_count": null,
      "outputs": []
    },
    {
      "cell_type": "code",
      "metadata": {
        "id": "Vvue2mBB5XsI"
      },
      "source": [
        "pd.merge(A,B,how='left') # 첫번째 데이터프레임의 변수를 기준"
      ],
      "execution_count": null,
      "outputs": []
    },
    {
      "cell_type": "code",
      "metadata": {
        "id": "Pw-KltJW5XsI"
      },
      "source": [
        "pd.merge(A,B,how='right') # 두번째 데이터프레임의 변수를 기준"
      ],
      "execution_count": null,
      "outputs": []
    },
    {
      "cell_type": "markdown",
      "metadata": {
        "id": "icqVNhkI5XsI"
      },
      "source": [
        "- concat 명령은 기준열을 사용하지 않고 단순히 데이터를 가로 또는 세로로 연결\n",
        "- axis=1 은 데이터를 가로로 연결"
      ]
    },
    {
      "cell_type": "code",
      "metadata": {
        "id": "u1Q8mrwR5XsI"
      },
      "source": [
        "pd.concat([A,B],sort=False) # 'axis=0'이 디폴트로 세로로 연결, sort=False는 정렬하지 않고 그대로 연결z"
      ],
      "execution_count": null,
      "outputs": []
    },
    {
      "cell_type": "code",
      "metadata": {
        "id": "vbrA-vwE5XsI"
      },
      "source": [
        "pd.concat([A,B], axis=1) # 가로로 연결"
      ],
      "execution_count": null,
      "outputs": []
    },
    {
      "cell_type": "markdown",
      "metadata": {
        "id": "sRGOcJhW5d5j"
      },
      "source": [
        "#### 6.5 Matplotlib 모듈\n",
        "\n",
        "- 그림을 그리기 위한 라이브러리\n",
        "- 막대 그래프, 선 그래프, 히스토그램, 산점도 등"
      ]
    },
    {
      "cell_type": "code",
      "metadata": {
        "id": "NkO9FXwf5d5j"
      },
      "source": [
        "from matplotlib import pyplot as plt # import matplotlib.pyplot as plt"
      ],
      "execution_count": null,
      "outputs": []
    },
    {
      "cell_type": "markdown",
      "metadata": {
        "id": "tV_j0NL25d5k"
      },
      "source": [
        "- 막대그래프"
      ]
    },
    {
      "cell_type": "code",
      "metadata": {
        "id": "GXvQWlBC5d5k"
      },
      "source": [
        "x = ['Yes','No']\n",
        "y = [202,754]\n",
        "z = [50,150]\n",
        "\n",
        "plt.bar(x,y,yerr=z)\n",
        "\n",
        "plt.title('Bar plot')\n",
        "plt.xlabel('Default')\n",
        "plt.ylabel('Count') \n",
        "\n",
        "plt.show() "
      ],
      "execution_count": null,
      "outputs": []
    },
    {
      "cell_type": "markdown",
      "metadata": {
        "id": "a4J9uRsu5d5k"
      },
      "source": [
        "- 선 그래프 또는 시계열 그림"
      ]
    },
    {
      "cell_type": "code",
      "metadata": {
        "scrolled": true,
        "id": "MQUOcQFi5d5l"
      },
      "source": [
        "x = ['2011','2012','2013','2014','2015','2016','2017','2018','2019','2020','2021']\n",
        "y = [5.1,3.5,2.8,1.7,3.8,3,3.5,2.6,1.8,2.8,0.9]\n",
        "\n",
        "plt.plot(x,y,'r--',x,y,'go')\n",
        "\n",
        "plt.ylim([0,5.5])\n",
        "\n",
        "plt.xlabel('Year') \n",
        "plt.ylabel('Wages annual growth rate for civil servants')\n",
        "\n",
        "plt.show()"
      ],
      "execution_count": null,
      "outputs": []
    },
    {
      "cell_type": "markdown",
      "metadata": {
        "id": "B9nnunHx5d5l"
      },
      "source": [
        "- 히스토그램"
      ]
    },
    {
      "cell_type": "code",
      "metadata": {
        "id": "8vRQfZDe5d5l"
      },
      "source": [
        "import numpy as np \n",
        "\n",
        "x = np.random.randn(1000)\n",
        "\n",
        "plt.hist(x, 10, density=True)\n",
        "\n",
        "plt.xlabel('Normal')\n",
        "plt.ylabel('Probability') \n",
        "\n",
        "plt.axis([-4, 4, 0, 0.5])\n",
        "\n",
        "plt.show()"
      ],
      "execution_count": null,
      "outputs": []
    },
    {
      "cell_type": "markdown",
      "metadata": {
        "id": "i5EALBez5d5l"
      },
      "source": [
        "- 산점도"
      ]
    },
    {
      "cell_type": "code",
      "metadata": {
        "id": "9QAdtaj75d5l"
      },
      "source": [
        "x = np.random.normal(size=1000) \n",
        "y = 0.9*x + np.random.normal(size=1000)\n",
        "\n",
        "plt.plot(x,y,'o')\n",
        "\n",
        "plt.show()"
      ],
      "execution_count": null,
      "outputs": []
    },
    {
      "cell_type": "markdown",
      "metadata": {
        "id": "d0CKU-R25d5l"
      },
      "source": [
        "- 함수의 그림"
      ]
    },
    {
      "cell_type": "code",
      "metadata": {
        "id": "KXGo58gW5d5m"
      },
      "source": [
        "def f(x):\n",
        "    return np.cos(2*np.pi*x)**10\n",
        "\n",
        "x = np.arange(0.0, 1.0, 0.01)\n",
        "\n",
        "plt.plot(x, f(x), 'r--')\n",
        "\n",
        "plt.show()"
      ],
      "execution_count": null,
      "outputs": []
    },
    {
      "cell_type": "markdown",
      "metadata": {
        "id": "NwJNU_u45d5m"
      },
      "source": [
        "- 이 외에 다양한 기능들은 다음의 링크에서 찾을 수 있음\n",
        "\n",
        "  https://matplotlib.org/users/pyplot_tutorial.html"
      ]
    },
    {
      "cell_type": "markdown",
      "metadata": {
        "id": "2phIMWXx4BRP"
      },
      "source": [
        "### **8. 정규 표현식** \n",
        "    8.1 정규 표현식의 주요 함수들\n",
        "    8.2 정규 표현식에서 사용하는 특수문자\n",
        "    8.3 정규 표현식의 예제"
      ]
    },
    {
      "cell_type": "markdown",
      "metadata": {
        "id": "5uSDFPMv4BRP"
      },
      "source": [
        "#### 8.1 정규 표현식의 주요 함수들\n",
        "\n",
        "- 정규 표현식(regular expression)을 사용하기 위한 re 모듈 설치"
      ]
    },
    {
      "cell_type": "code",
      "metadata": {
        "id": "oQ09jzdx4BRQ"
      },
      "source": [
        "import re"
      ],
      "execution_count": null,
      "outputs": []
    },
    {
      "cell_type": "markdown",
      "metadata": {
        "id": "uCCdlYnu4BRQ"
      },
      "source": [
        "- 주요 함수들"
      ]
    },
    {
      "cell_type": "raw",
      "metadata": {
        "id": "kxjkD-vh4BRQ"
      },
      "source": [
        "- compile() : 주어진 문자열을 정규 표현식 객체로 변환\n",
        "\n",
        "- search()  : 문자열 전체에서 정규 표현식에 해당하는 문자열을 검색\n",
        "- match()   : 문자열의 처음이 정규 표현식에 해당하는지 검색\n",
        "\n",
        "  * group() : 매치된 문자열을 반환\n",
        "  * span()  : 매치된 문자열의 (시작, 끝+1)에 해당하는 위치의 튜플을 반환\n",
        "  * start() : 매치된 문자열의 (시작)에 해당하는 위치를 반환\n",
        "  * end()   : 매치된 문자열의 (끝+1)에 해당하는 위치를 반환\n",
        "\n",
        "- findall() : 정규 표현식에 해당하는 모든 문자열을 찾아서 리스트로 반환 \n",
        "- finditer(): 정규 표현식에 해당하는 모든 문자열을 찾아서 반복 가능한 객체로 반환 \n",
        "\n",
        "- split()   : 정규 표현식에 해당하는 문자열로 문자열을 분리\n",
        "- sub()     : 정규 표현식에 해당하는 문자열을 찾아서 다른 문자열로 변경"
      ]
    },
    {
      "cell_type": "markdown",
      "metadata": {
        "id": "GCtCgCDR4BRR"
      },
      "source": [
        "#### 8.2 정규 표현식에서 사용하는 특수문자\n",
        "\n",
        "- 정규 표현식에서 사용하는 특수문자는 특별한 의미를 가지고 있음"
      ]
    },
    {
      "cell_type": "raw",
      "metadata": {
        "id": "BAs71W294BRR"
      },
      "source": [
        "  ^ $ ? . * *? + +? | [ ] { } ( )"
      ]
    },
    {
      "cell_type": "markdown",
      "metadata": {
        "id": "XS7OGB6b4BRR"
      },
      "source": [
        "- 특수문자의 의미"
      ]
    },
    {
      "cell_type": "raw",
      "metadata": {
        "id": "QZ2YTeHK4BRR"
      },
      "source": [
        "- ^       : 바로 다음 문자로 문자열이 시작\n",
        "- $       : 바로 앞의 문자로 문자열이 끝\n",
        "- .       : 임의의 문자 1개\n",
        "- ?       : 바로 앞의 문자가 0개 또는 1개, 또는 {0,1}\n",
        "- *       : 바로 앞의 문자가 0개 이상 (가능한 길게) 반복, 또는 {0,}\n",
        "- *?      : 바로 앞의 문자가 0개 이상 (가능한 짧게) 반복, 또는 {0,}?\n",
        "- +       : 바로 앞의 문자가 1개 이상 (가능한 길게) 반복, 또는 {1,}\n",
        "- +?      : 바로 앞의 문자가 1개 이상 (가능한 짧게) 반복, 또는 {1,}?\n",
        "- |       : 앞의 문자열 또는 뒤의 문자열\n",
        "- [문자들]  : 대괄호 안의 문자들 중 하나라도 일치\n",
        "- [^문자들] : 대괄호 안의 문자들을 제외한 모든 문자\n",
        "- {n}     : n번 반복\n",
        "- {n,}    : n번 이상 반복\n",
        "- {n,m}   : n번 이상, m번 이하 반복"
      ]
    },
    {
      "cell_type": "raw",
      "metadata": {
        "collapsed": true,
        "id": "QQeN9oIc4BRS"
      },
      "source": [
        "- \\d : 모든 숫자, 또는 [0-9]\n",
        "- \\D : 숫자를 제외한 모든 것, 또는 [^0-9]\n",
        "- \\s : 공백\n",
        "- \\S : 공백을 제외한 모든 것\n",
        "- \\w : 문자와 숫자 및 밑줄, 또는 [a-zA-Z가-힣0-9_]\n",
        "- \\W : 문자와 숫자 및 밑줄을 제외한 모든 것, 또는 [^a-zA-Z가-힣0-9_]"
      ]
    },
    {
      "cell_type": "markdown",
      "metadata": {
        "id": "6qYZweOa4BRS"
      },
      "source": [
        "#### 8.3 정규 표현식의 예제\n",
        "\n",
        "- 이메일 아이디 분리 후 처음 4자리를 제외한 나머지는 \\*표 처리"
      ]
    },
    {
      "cell_type": "code",
      "metadata": {
        "id": "UuxJYu2Y4BRS"
      },
      "source": [
        "e = 'taeyoungp@yonsei.ac.kr'"
      ],
      "execution_count": null,
      "outputs": []
    },
    {
      "cell_type": "code",
      "metadata": {
        "id": "8J2-ip8X4BRS",
        "colab": {
          "base_uri": "https://localhost:8080/"
        },
        "outputId": "b60d6abd-dc1e-47f3-89e9-b2105bb559bf"
      },
      "source": [
        "a = re.split('@', e)\n",
        "print(a)"
      ],
      "execution_count": null,
      "outputs": [
        {
          "output_type": "stream",
          "text": [
            "['taeyoungp', 'yonsei.ac.kr']\n"
          ],
          "name": "stdout"
        }
      ]
    },
    {
      "cell_type": "code",
      "metadata": {
        "id": "C2CIYvUA4BRS",
        "colab": {
          "base_uri": "https://localhost:8080/",
          "height": 35
        },
        "outputId": "898a7a7b-d6cc-4aca-af61-68952e191224"
      },
      "source": [
        "a[0][:4] + re.sub('[^가-힣]','*',a[0][4:]) "
      ],
      "execution_count": null,
      "outputs": [
        {
          "output_type": "execute_result",
          "data": {
            "application/vnd.google.colaboratory.intrinsic+json": {
              "type": "string"
            },
            "text/plain": [
              "'taey*****'"
            ]
          },
          "metadata": {
            "tags": []
          },
          "execution_count": 124
        }
      ]
    },
    {
      "cell_type": "markdown",
      "metadata": {
        "id": "XyGVU4MV4BRS"
      },
      "source": [
        "- 영화 쿵푸팬더의 명대사"
      ]
    },
    {
      "cell_type": "code",
      "metadata": {
        "id": "LBPxzk4c4BRT",
        "colab": {
          "base_uri": "https://localhost:8080/"
        },
        "outputId": "ff367e95-c821-4c90-a208-1a70d45a4130"
      },
      "source": [
        "text = \"Yesterday is history (어제는 이미 지나간 역사이고), \\ntomorrow is a mystery (내일은 알 수 없는 수수께끼이지만),\\nbut today is a gift (오늘은 선물이에요).\\nThat's why it's called the present (이것이 현재라고 부르는 이유입니다).\"\n",
        "print(text)"
      ],
      "execution_count": null,
      "outputs": [
        {
          "output_type": "stream",
          "text": [
            "Yesterday is history (어제는 이미 지나간 역사이고), \n",
            "tomorrow is a mystery (내일은 알 수 없는 수수께끼이지만),\n",
            "but today is a gift (오늘은 선물이에요).\n",
            "That's why it's called the present (이것이 현재라고 부르는 이유입니다).\n"
          ],
          "name": "stdout"
        }
      ]
    },
    {
      "cell_type": "markdown",
      "metadata": {
        "id": "2_NquNY34BRT"
      },
      "source": [
        "- 소문자로 변경"
      ]
    },
    {
      "cell_type": "code",
      "metadata": {
        "id": "nuQDIcJX4BRT",
        "colab": {
          "base_uri": "https://localhost:8080/"
        },
        "outputId": "8ceb6454-efec-4c17-c1c0-e12fc916ed7c"
      },
      "source": [
        "text = text.lower()\n",
        "print(text)"
      ],
      "execution_count": null,
      "outputs": [
        {
          "output_type": "stream",
          "text": [
            "yesterday is history (어제는 이미 지나간 역사이고), \n",
            "tomorrow is a mystery (내일은 알 수 없는 수수께끼이지만),\n",
            "but today is a gift (오늘은 선물이에요).\n",
            "that's why it's called the present (이것이 현재라고 부르는 이유입니다).\n"
          ],
          "name": "stdout"
        }
      ]
    },
    {
      "cell_type": "markdown",
      "metadata": {
        "id": "9eMKKRGO4BRT"
      },
      "source": [
        "- 문자열의 패턴을 컴퓨터가 알아들을 수 있도록 컴파일 "
      ]
    },
    {
      "cell_type": "code",
      "metadata": {
        "id": "aJ5uKzfm4BRT"
      },
      "source": [
        "#p = re.compile('day')    # day를 포함\n",
        "#p = re.compile('[day]')  # d 또는 a 또는 y를 포함\n",
        "#p = re.compile('[^day]') # d와 a와 y를 제외\n",
        "#p = re.compile('y.*y')   # y로 시작해 중간에 0개 이상의 임의의 문자를 포함하고 y로 끝나는 가능한 긴 문자열\n",
        "#p = re.compile('y.*?y')  # y로 시작해 중간에 0개 이상의 임의의 문자를 포함하고 y로 끝나는 가능한 짧은 문자열\n",
        "#p = re.compile('^y.*y')  # 첫문자를 y로 시작해 중간에 0개 이상의 임의의 문자를 포함하고 y로 끝나는 가능한 긴 문자열\n",
        "#p = re.compile('.+y')    # 앞에 1개 이상의 임의의 문자를 포함하고 y로 끝나는 가능한 긴 문자열\n",
        "p = re.compile('.+?y')   # 앞에 1개 이상의 임의의 문자를 포함하고 y로 끝나는 가능한 짧은 문자열"
      ],
      "execution_count": null,
      "outputs": []
    },
    {
      "cell_type": "markdown",
      "metadata": {
        "id": "fimrWmnQ4BRT"
      },
      "source": [
        "- search, match, findall, finditer 비교"
      ]
    },
    {
      "cell_type": "code",
      "metadata": {
        "id": "8-SYqAIk4BRU",
        "colab": {
          "base_uri": "https://localhost:8080/"
        },
        "outputId": "01d70978-18bd-4390-9b3e-b6f17f5c21fc"
      },
      "source": [
        "print(p.search(text)) # 문자열 전체를 검색해서 첫번째만 반환"
      ],
      "execution_count": null,
      "outputs": [
        {
          "output_type": "stream",
          "text": [
            "<re.Match object; span=(0, 9), match='yesterday'>\n"
          ],
          "name": "stdout"
        }
      ]
    },
    {
      "cell_type": "code",
      "metadata": {
        "id": "QuqCcIKi4BRU",
        "colab": {
          "base_uri": "https://localhost:8080/"
        },
        "outputId": "91b98e6b-d58c-4716-f14b-6c998794e4fd"
      },
      "source": [
        "print(p.match(text)) # 문자열의 처음을 검색"
      ],
      "execution_count": null,
      "outputs": [
        {
          "output_type": "stream",
          "text": [
            "<re.Match object; span=(0, 9), match='yesterday'>\n"
          ],
          "name": "stdout"
        }
      ]
    },
    {
      "cell_type": "code",
      "metadata": {
        "id": "HletvYSu4BRU",
        "colab": {
          "base_uri": "https://localhost:8080/"
        },
        "outputId": "a78fd8d9-4a33-468a-a739-85c9c573cb22"
      },
      "source": [
        "print(p.findall(text)) # 문자열 전체를 검색해서 모두 리스트로 반환"
      ],
      "execution_count": null,
      "outputs": [
        {
          "output_type": "stream",
          "text": [
            "['yesterday', ' is history', 'tomorrow is a my', 'stery', 'but today', \"that's why\"]\n"
          ],
          "name": "stdout"
        }
      ]
    },
    {
      "cell_type": "code",
      "metadata": {
        "id": "xQpndlmw4BRU",
        "colab": {
          "base_uri": "https://localhost:8080/"
        },
        "outputId": "3c5532b7-41be-4fde-d62b-a5aad7240ff0"
      },
      "source": [
        "print(p.finditer(text)) # 문자열 전체를 검색해서 모두 반복 가능한 객체로 반환"
      ],
      "execution_count": null,
      "outputs": [
        {
          "output_type": "stream",
          "text": [
            "<callable_iterator object at 0x7fc2edd68b90>\n"
          ],
          "name": "stdout"
        }
      ]
    },
    {
      "cell_type": "code",
      "metadata": {
        "id": "NmQfgkSO4BRU",
        "colab": {
          "base_uri": "https://localhost:8080/"
        },
        "outputId": "d09ce35c-5529-40dc-8ef2-4f493b50460e"
      },
      "source": [
        "for x in p.finditer(text): print([x.group(),x.span()]) # for문에서 반복을 시행"
      ],
      "execution_count": null,
      "outputs": [
        {
          "output_type": "stream",
          "text": [
            "['yesterday', (0, 9)]\n",
            "[' is history', (9, 20)]\n",
            "['tomorrow is a my', (41, 57)]\n",
            "['stery', (57, 62)]\n",
            "['but today', (85, 94)]\n",
            "[\"that's why\", (118, 128)]\n"
          ],
          "name": "stdout"
        }
      ]
    },
    {
      "cell_type": "markdown",
      "metadata": {
        "id": "6r1OwZL64BRU"
      },
      "source": [
        "- split으로 문자열 분리하기"
      ]
    },
    {
      "cell_type": "code",
      "metadata": {
        "id": "3jRagAlB4BRU",
        "colab": {
          "base_uri": "https://localhost:8080/"
        },
        "outputId": "e9cbf4d8-dd91-480b-b327-1a80dfc71be5"
      },
      "source": [
        "p = re.compile('\\n')\n",
        "print(p.split(text)) # 정규표현식에 해당하는 문자열을 기준으로 분리"
      ],
      "execution_count": null,
      "outputs": [
        {
          "output_type": "stream",
          "text": [
            "['yesterday is history (어제는 이미 지나간 역사이고), ', 'tomorrow is a mystery (내일은 알 수 없는 수수께끼이지만),', 'but today is a gift (오늘은 선물이에요).', \"that's why it's called the present (이것이 현재라고 부르는 이유입니다).\"]\n"
          ],
          "name": "stdout"
        }
      ]
    },
    {
      "cell_type": "markdown",
      "metadata": {
        "id": "kFOBbY784BRU"
      },
      "source": [
        "- sub로 문자열 대체하기"
      ]
    },
    {
      "cell_type": "code",
      "metadata": {
        "id": "aRC3pn7D4BRV",
        "colab": {
          "base_uri": "https://localhost:8080/"
        },
        "outputId": "e0c9ec13-43c7-4954-b846-72409b0559de"
      },
      "source": [
        "print(re.sub('ry','gram',text)) # 'ry'를 'gram'으로 대체"
      ],
      "execution_count": null,
      "outputs": [
        {
          "output_type": "stream",
          "text": [
            "yesterday is histogram (어제는 이미 지나간 역사이고), \n",
            "tomorrow is a mystegram (내일은 알 수 없는 수수께끼이지만),\n",
            "but today is a gift (오늘은 선물이에요).\n",
            "that's why it's called the present (이것이 현재라고 부르는 이유입니다).\n"
          ],
          "name": "stdout"
        }
      ]
    },
    {
      "cell_type": "code",
      "metadata": {
        "id": "mI4upR_y4BRV",
        "colab": {
          "base_uri": "https://localhost:8080/"
        },
        "outputId": "2afb25db-6b54-4608-a371-08d24dbccba0"
      },
      "source": [
        "print(re.sub('[^가-힣 | ^( | ^) | ^, | ^\\n | \\.]','_',text)) # 정규표현식에 해당하는 문자열을 _로 대체"
      ],
      "execution_count": null,
      "outputs": [
        {
          "output_type": "stream",
          "text": [
            "_________ __ _______ (어제는 이미 지나간 역사이고), \n",
            "________ __ _ _______ (내일은 알 수 없는 수수께끼이지만),\n",
            "___ _____ __ _ ____ (오늘은 선물이에요).\n",
            "______ ___ ____ ______ ___ _______ (이것이 현재라고 부르는 이유입니다).\n"
          ],
          "name": "stdout"
        }
      ]
    },
    {
      "cell_type": "markdown",
      "metadata": {
        "id": "N7tG07YD0-Mw"
      },
      "source": [
        "### **9. Get 방식을 이용한 웹크롤링** \n",
        "    9.1 특정한 URL의 정보 추출\n",
        "    9.2 연결된 URL의 정보 추출"
      ]
    },
    {
      "cell_type": "markdown",
      "metadata": {
        "id": "cGy--pJU0-Mx"
      },
      "source": [
        "#### 9.1 특정한 URL의 정보 추출\n",
        "\n",
        "- 웹크롤링을 하려고 하는 웹사이트의 URL 지정"
      ]
    },
    {
      "cell_type": "code",
      "metadata": {
        "colab": {
          "base_uri": "https://localhost:8080/"
        },
        "id": "rxXNtaiz2_8x",
        "outputId": "65872e47-df68-4269-d69f-f4c48491388b"
      },
      "source": [
        "from google.colab import drive\n",
        "drive.mount('/content/gdrive')"
      ],
      "execution_count": 1,
      "outputs": [
        {
          "output_type": "stream",
          "text": [
            "Mounted at /content/gdrive\n"
          ],
          "name": "stdout"
        }
      ]
    },
    {
      "cell_type": "code",
      "metadata": {
        "colab": {
          "base_uri": "https://localhost:8080/"
        },
        "id": "M1JZr1_3i5vT",
        "outputId": "b9eb8904-d8dc-4378-b504-9b43fe22c83b"
      },
      "source": [
        "cd .."
      ],
      "execution_count": 13,
      "outputs": [
        {
          "output_type": "stream",
          "text": [
            "/content\n"
          ],
          "name": "stdout"
        }
      ]
    },
    {
      "cell_type": "code",
      "metadata": {
        "id": "03bwPUEP0-Mx"
      },
      "source": [
        "url = 'https://search.naver.com/search.naver?where=blog&sm=tab_viw.blog&query=연세대학교&nso='"
      ],
      "execution_count": 2,
      "outputs": []
    },
    {
      "cell_type": "code",
      "metadata": {
        "id": "l2hPJHaT0-Mx",
        "colab": {
          "base_uri": "https://localhost:8080/",
          "height": 320
        },
        "outputId": "abb21089-4f6a-4bf3-912e-59b54b5563e3"
      },
      "source": [
        "from IPython.display import Image\n",
        "Image(filename='gdrive/My Drive/Colab/Python_DS/Figs/Yonsei.png', width=700)"
      ],
      "execution_count": 14,
      "outputs": [
        {
          "output_type": "execute_result",
          "data": {
            "image/png": "[encoded data removed]",
            "text/plain": [
              "<IPython.core.display.Image object>"
            ]
          },
          "metadata": {
            "tags": [],
            "image/png": {
              "width": 700
            }
          },
          "execution_count": 14
        }
      ]
    },
    {
      "cell_type": "markdown",
      "metadata": {
        "id": "pw_hxEpT0-My"
      },
      "source": [
        "- Get 방식을 이용해 서버에 정보 요청\n",
        "- Requests 라이브러리 설치"
      ]
    },
    {
      "cell_type": "code",
      "metadata": {
        "id": "8qqK6QC_0-My"
      },
      "source": [
        "import requests as req # 웹크롤링을 위한 파이썬 라이브러리"
      ],
      "execution_count": null,
      "outputs": []
    },
    {
      "cell_type": "code",
      "metadata": {
        "id": "S8nAogRn0-My"
      },
      "source": [
        "res = req.get(url = url) # Get 방식을 이용한 정보 요청"
      ],
      "execution_count": null,
      "outputs": []
    },
    {
      "cell_type": "markdown",
      "metadata": {
        "id": "umTlSB1l0-My"
      },
      "source": [
        "- 응답받은 HTML 코드의 내용을 확인"
      ]
    },
    {
      "cell_type": "code",
      "metadata": {
        "id": "uFI_DVS20-My",
        "colab": {
          "base_uri": "https://localhost:8080/"
        },
        "outputId": "8d2ebc10-4e90-46e3-a040-1e88342acfcf"
      },
      "source": [
        "print(res.text) "
      ],
      "execution_count": null,
      "outputs": [
        {
          "output_type": "stream",
          "text": [
            "<!doctype html> <html lang=\"ko\"> <head> <meta charset=\"utf-8\"> <meta name=\"referrer\" content=\"always\">  <meta name=\"format-detection\" content=\"telephone=no,address=no,email=no\"> <meta name=\"viewport\" content=\"width=device-width,initial-scale=1.0,maximum-scale=2.0\"> <meta property=\"og:title\" content=\"연세대학교 : 네이버 블로그검색\"/> <meta property=\"og:image\" content=\"https://ssl.pstatic.net/sstatic/search/common/og_v3.png\"> <meta property=\"og:description\" content=\"'연세대학교'의 네이버 VIEW검색 결과입니다.\"> <meta name=\"description\" lang=\"ko\" content=\"'연세대학교'의 네이버 VIEW검색 결과입니다.\"> <title>연세대학교 : 네이버 블로그검색</title> <link rel=\"shortcut icon\" href=\"https://ssl.pstatic.net/sstatic/search/favicon/favicon_191118_pc.ico\">  <link rel=\"search\" type=\"application/opensearchdescription+xml\" href=\"https://ssl.pstatic.net/sstatic/search/opensearch-description.https.xml\" title=\"Naver\" /><link rel=\"stylesheet\" type=\"text/css\" href=\"https://ssl.pstatic.net/sstatic/search/pc/css/search1_210520.css\"> <link rel=\"stylesheet\" type=\"text/css\" href=\"https://ssl.pstatic.net/sstatic/search/pc/css/search2_210520.css\"> <link rel=\"stylesheet\" type=\"text/css\" href=\"https://ssl.pstatic.net/sstatic/search/pc/css/sp_autocomplete_210318.css\"><script type=\"text/javascript\"> if (!String.prototype.trim) { String.prototype.trim = function () { return this.replace(/^[\\s\\uFEFF\\xA0]+|[\\s\\uFEFF\\xA0]+$/g, ''); }; } if (!Array.prototype.indexOf) { Array.prototype.indexOf = function(searchElement, fromIndex) { var k; if (this == null) { throw new TypeError('\"this\" is null or not defined'); } var o = Object(this); var len = o.length >>> 0; if (len === 0) { return -1; } var n = fromIndex | 0; if (n >= len) { return -1; } k = Math.max(n >= 0 ? n : len - Math.abs(n), 0); while (k < len) { if (k in o && o[k] === searchElement) { return k; } k++; } return -1; }; } if (!Array.prototype.filter) { Array.prototype.filter = function(func, thisArg) { 'use strict'; if (!((typeof func === 'Function' || typeof func === 'function') && this)) throw new TypeError(); var len = this.length >>> 0, res = new Array(len), t = this, c = 0, i = -1; var kValue; if (thisArg === undefined) { while (++i !== len) { if (i in this) { kValue = t[i]; if (func(t[i], i, t)) { res[c++] = kValue; } } } } else { while (++i !== len) { if (i in this) { kValue = t[i]; if (func.call(thisArg, t[i], i, t)) { res[c++] = kValue; } } } } res.length = c; return res; }; } if (typeof(encodeURIComponent) != \"function\") { encodeURIComponent = function (s) { function toHex (n) { var hexchars = \"0123456789ABCDEF\" ; return \"%%\" + hexchars.charAt(n>>4) + hexchars.charAt(n&0xF) ; } var es = \"\" ; for (var i = 0; i < s.length;) { var c = s.charCodeAt(i++) ; if ((c&0xF800) == 0xD800) { var sc = s.charCodeAt(i++) ; c = ((c-0xD800)<<10) + (sc-0xDC00) + 0x10000 ; } if (!(c&~0x7F)) { if ((c>=65&&c<=90) || (c>=97&&c<=122) || (c>=48&&c<=57) || (c>=45&&c<=46) || c==95 || c==33 || c==126 || (c>=39&&c<=42)) es += String.fromCharCode(c) ; else es += toHex(c) ; } else if (!(c&~0x7FF)) es += toHex(0xC0+(c>>6)) + toHex(c&0x3F) ; else if (!(c&~0xFFFF)) es += toHex(0xE0+(c>>12)) + toHex(0x80+(c>>6&0x3F)) + toHex(0x80+(c&0x3F)) ; else es += toHex(0xF0+(c>>18)) + toHex(0x80+(c>>12&0x3F)) + toHex(0x80+(c>>6&0x3F)) + toHex(0x80+(c&0x3F)) ; } return es ; } } naver = window.naver || {}; naver.search = naver.search || {}; var g_D = 0 ; naver.search.error = (function () { var errorList = Array() ; return { add : function (s) { errorList.push(s) ; }, clear : function () { delete errorList ; }, get : function (s) { return errorList ; }, getString : function (d) { if (typeof d === 'undefined') d = '|' ; return errorList.join(d) ; } } })(); naver.search.cookie = (function () { return { set : function (key, value, expire, domain) { var cookie = key + \"=\" + escape(value); if (typeof expire !== 'undefined') { if (expire instanceof Date) { cookie = cookie + \"; expires=\" + expire.toUTCString(); } else { var exdate = new Date((new Date()).getTime() + expire*1000); cookie = cookie + \"; expires=\" + exdate.toUTCString(); } } cookie = cookie + \"; path=/\"; if (domain != null) { cookie = cookie + \"; domain=\" + domain; } document.cookie = cookie; }, get : function (key) { var cookie_list = document.cookie.split(/\\s*;\\s*/); for (var i = 0; i < cookie_list.length; i++) { var tmp_list = cookie_list[i].split(\"=\"); var c_key = tmp_list[0].trim(); var c_value = tmp_list[1]; if (key == c_key) { return unescape(c_value); } } return null; } } })(); naver.search.https = window.location.protocol == \"https:\"; naver.search.meta_referrer = 0; var _nx_js_load = (function () { var scrs = {} ; return function (script, callback) { scrs[script] = {} ; scrs[script].domscript = document.createElement('script'); scrs[script].domscript.src = script ; if (callback) scrs[script].callback = (callback instanceof Array) ? callback : [callback]; scrs[script].domscript.onloadDone = false; scrs[script].domscript.onload = function() { scrs[script].domscript.onloadDone = true; if (scrs[script].callback) { for (var i = 0; i < scrs[script].callback.length; i++) { scrs[script].callback[i]() ; } } scrs[script].domscript.onload = scrs[script].domscript.onreadystatechange = null; } ; scrs[script].domscript.onreadystatechange = function() { if ( (\"loaded\" === scrs[script].domscript.readyState || \"complete\" === scrs[script].domscript.readyState) && !scrs[script].domscript.onloadDone ) { scrs[script].domscript.onload(); } } ; document.getElementsByTagName('head')[0].appendChild(scrs[script].domscript); }; })() ; var nx_js_defer_load = (function() { var info = {} ; return function(scrname, callback, t) { var nx_load_once = (function() { return function(scrname) { if (info[scrname].t > 0) setTimeout(function() { _nx_js_load(scrname, info[scrname].callback) ; }, t) ; else _nx_js_load(scrname, info[scrname].callback) ; } ; })(); if (t < 0) t = 0 ; if (info[scrname]) { n = info[scrname].length; for (var i = 0; i < n; i++) { if (info[scrname][i] == callback) return ; } if (t < info[scrname].t) info[scrname].t = t ; } else { info[scrname] = {} ; info[scrname].callback = [] ; info[scrname].t = t ; jindo.$Fn(function() { nx_load_once(scrname) ; }).attach(window, \"load\") ; } info[scrname].callback.push(callback) ; }; })(); function nx_js_lazyload(scripts, onload, is_serial) { if (!(scripts instanceof Array)) { scripts = [scripts]; } if (is_serial) { function load_next() { if (scripts.length == 0) { onload(); return; } _nx_js_load( scripts.shift(), load_next ) ; } load_next(); } else { var load_check = function() { var num_js = scripts.length; return function() { num_js--; if (num_js <= 0) { onload(); } } }(); for (var i = 0; i < scripts.length; i++) { _nx_js_load( scripts[i], load_check ) ; } } } function nx_defer_eval (id) { var codeElement = document.getElementById(id), code = codeElement.innerHTML; eval(code.replace(/\\/\\*/, '').replace(/\\*\\//, '')); } </script><script> try { document.execCommand('BackgroundImageCache', false, true); } catch(e) {} if (top.frames.length!=0 || window!=top) window.open(location, \"_top\") ; naver = window.naver || {}; naver.search = naver.search || {}; naver.search.ext = naver.search.ext || {}; naver.search.map_api = { v2 : \"https://ssl.pstatic.net/sstatic.map/openapi/openapi_v23.js\", v3 : \"https://ssl.pstatic.net/sstatic.map/openapi/maps3.js\" } ; var nx_au_cookie_domain = \"search.naver.com\" ; var nx_mobile_agent = 0 ; var headerfooter_query = \"연세대학교\" ; var headerfooter_query_encoded = \"%EC%97%B0%EC%84%B8%EB%8C%80%ED%95%99%EA%B5%90\" ; var headerfooter_time_year = 2021 ; var headerfooter_time_month = 5 ; var headerfooter_time_day = 24 ; var headerfooter_time_hour = 0 ; var headerfooter_time_minute = 35 ; var headerfooter_time_second = 19 ; var headerfooter_time_wday = 1 ; var headerfooter_time_year_s = \"2021\" ; var headerfooter_time_month_s = \"05\" ; var headerfooter_time_day_s = \"24\" ; var headerfooter_time_hour_s = \"00\" ; var headerfooter_time_minute_s = \"35\" ; var headerfooter_time_second_s = \"19\" ; var headerfooter_time_wday_s = \"1\" ; var g_ssc = \"tab.view.blog\" ; var g_query = \"연세대학교\" ; var g_puid = \"h6p2Lwp0J1ZsshUTMPhsssssspo-158695\" ; var g_suid = \"oWvj+PLX0F7mEW1f9i97bQ==\" ; var g_tab = \"view\" ; var g_stab = \"blog\" ; var g_crt = \"\" ; var g_m_str = \"\" ; var g_tablet_device = 0 ; var g_nx_splugin ; document.domain = \"naver.com\" ; document.documentElement.setAttribute('data-useragent', window.navigator.userAgent.toLowerCase()) ; document.documentElement.setAttribute('data-platform', window.navigator.platform.toLowerCase()) ; var g_er_image, g_er_count = 0 ; function g_er (msg) { if (g_er_count++ > 0) return ; g_er_image = new Image() ; g_er_image.src = \"http://er.search.naver.com/er?f=\"+g_tab+\"&w=\"+g_stab+\"&q=%EC%97%B0%EC%84%B8%EB%8C%80%ED%95%99%EA%B5%90&u=\"+encodeURIComponent(document.location)+\"&m=\"+encodeURIComponent(msg) ; } function trim_space (q) { var head_re = /^ */; var tail_re = / *$/; q = q.replace(head_re, \"\"); q = q.replace(tail_re, \"\"); return q; } function trim_crlf (q) { var crlf = /[\\r|\\n]/ ; q = q.replace(crlf, \"\") ; return q ; } function include_script (type, defer, src, charset) { var script = document.createElement(\"script\") ; script.type = type, script.defer = defer ; script.src = src ; if (charset) script.charset = charset ; else script.charset = 'utf-8' ; document.getElementsByTagName('head')[0].appendChild(script) ; return script ; } function include_style (src, charset) { var h = document.getElementsByTagName(\"head\")[0] ; var l = document.createElement('link') ; l.type = 'text/css' ; l.rel = 'stylesheet' ; if (charset) l.charset = charset ; else l.charset = 'utf-8' ; l.media = 'screen' ; l.href = src ; h.appendChild(l) ; } function bt (id, after) { document.getElementById(id).src = after ; } function urlencode (q) { return encodeURIComponent(q).replace(/%20/g, \"+\").replace(/[!~'()]/g, function(c) { return '%' + c.charCodeAt(0).toString(16).toUpperCase() ; }); } function urldecode (q) { return decodeURIComponent(q.replace(/\\+/g, \" \")); } function urlexpand (url) { var href = document.location.href ; if (url == \"\") return href ; if (url.match(/^[-.A-Za-z]+:/)) return url ; if (url.charAt(0) == '#') return href.split(\"#\")[0] + url ; if (url.charAt(0) == '?') return href.split(\"?\")[0] + url ; if (url.charAt(0) == '/') return href.replace(/([^:\\/])\\/.*$/, \"$1\") + url ; return href.substring(0, href.lastIndexOf(\"/\")+1) + url ; } function tt_sub_disable (o) { if (typeof(o.tt_sub) == \"undefined\") return false ; if ((typeof(o.tt_sub) == \"object\") && (o.tt_sub.length)) { var i ; for (var i=0; i<o.tt_sub.length; i++) o.tt_sub[i].disabled = true ; } else o.tt_sub.disabled = true ; return true ; } function cpip () { var evt, sx = sy = px = py = -1 ; try { evt = window.event ; } catch (e) {} try { sx=evt.clientX-document.body.clientLeft, sy=evt.clientY-document.body.clientTop ; } catch (e) {} try { px=document.body.scrollLeft+(sx<0?0:sx), py=document.documentElement.scrollTop+(sy<0?0:sy) ; } catch (e) {} try { if (evt.pageX) px=evt.pageX ; if (evt.pageY) py=evt.pageY ; } catch (e) {} return \"px=\"+px+\"&py=\"+py+\"&sx=\"+sx+\"&sy=\"+sy ; } function nxGetCommonCRParam () { return \"p=\"+urlencode(g_puid)+\"&q=\"+urlencode(g_query)+\"&ie=utf8&rev=1&ssc=\"+urlencode(g_ssc)+\"&f=\"+urlencode(g_tab)+\"&w=\"+urlencode(g_stab)+\"&s=\"+urlencode(g_suid)+\"&time=\"+urlencode((new Date()).getTime())+g_crt ; } function getCRRankingByParam (p, info) { if (typeof info == 'undefined' || info == null) return 0 ; var cr = 0 ; try { var y, z ; var y = p.split('&') ; for (var i = 0; i < y.length; i++) { if (z = y[i].split('=')) { if (z[0] == 'a') { for (var j = 0; j < info.length; j++) { if (z[1].substr(0, info[j].n.length) == info[j].n) { cr = info[j].r ; break ; } } break ; } } } } catch (e) { } return cr ; } function getCRRanking (p) { var cr = 0 ; if (typeof nx_cr_area_info != 'undefined') cr = getCRRankingByParam(p, nx_cr_area_info) ; if (cr) return cr ; if (typeof nx_cr_right_area_info != 'undefined') cr = getCRRankingByParam(p, nx_cr_right_area_info) ; return cr ; } function isOutlink (u) { if (!u || u.indexOf(\"://\") < 0) return false; var b = (u.search(/^\\w*:\\/\\/([^:/?]*\\.|)*(?!(ad)?cr\\.)[^.:/?]+\\.+naver\\.com(:\\d*)?(\\/|$)/) < 0);  return b; } function nxGetCRURL (m, a, b, c, d, e) { var p = \"\" ; var u ; if (c==undefined && d==undefined && e==undefined) { p = (a==undefined?\"\":\"&\"+a) + (b==undefined || a.indexOf(\"u=\")==0 || a.indexOf(\"&u=\") > 0 ?\"\":\"&u=\"+urlencode(b)) ; u = b ; } else { p = (a==undefined ? \"\" : \"&a=\"+urlencode(a)) + (b==undefined ? \"\" : \"&r=\"+urlencode(b)) + (c==undefined ? \"\" : \"&i=\"+urlencode(c)) + (d==undefined ? \"\" : \"&u=\"+urlencode(d)) + (e==undefined ? \"\" : \"&\"+e) ; u = d ; } if (! p) return null ; var url ; if (naver.search.https) { url = (naver.search.meta_referrer ? \"/p/crd\" : \"/p/cr\") + \"/rd\"; if (m != 0) m = 1; } else { out = isOutlink(u); url = \"http://cr.naver.com\" + (g_D && out ? \"/nr\" : \"/rd\"); if (m != 0) m = g_D && out ? 2 : 1; } url += \"?m=\" + m + \"&\" + cpip() + \"&\" + nxGetCommonCRParam() + p; return url; } function tCR (a, b, c, d, e) { var l = nxGetCRURL(0, a, b, c, d, e) ; var cr = getCRRanking(l) ; if (cr > 0) l = l + \"&cr=\" + cr ; if (document.images) (new Image()).src = l ; else document.location = l ; return false ; } function gCR (u, a, r, i, e, t) { if (u) u = urlexpand(u) ; var l = nxGetCRURL(1, a, r, i, u, e) ; var o = document.createElement(\"a\") ; var cr = getCRRanking(l) ; if (cr > 0) l = l + \"&cr=\" + cr ; if (o.click) { o.href = l ; o.style.display = \"none\" ; document.body.appendChild(o) ; o.click() ; } else document.location = l ; } function goCR (o, p, t) { var u = o.href ; tt_sub_disable(o) ; if (p.indexOf(\"u=javascript\") >= 0) t = true ; var n = (o.ownerDocument==document && o.target && o.target!=\"_self\" && o.target!=\"_parent\" && o.target!=\"_top\") && !(window.location.protocol&&window.location.protocol.indexOf(\"https:\")==0) ; var cr = getCRRanking(p) ; if (cr > 0) p = p + \"&cr=\" + cr ;  if (!(u && u.indexOf(\"http://cr.naver.com/\")==0) && !(o.getAttribute !== undefined && o.getAttribute(\"crurl\"))) { if (0 && u && u.indexOf(\"/search.naver?\") >= 0) { var str = \"\" ;   p = p.replace(/(((?:^|&)u=).*%2Fsearch.naver%3F[^&]*)/, '$1' + str) ; } u = nxGetCRURL(t?0:(n?-1:1), p, u) ; } if (u && !u.match(/m=0&/)) { var a = o.innerHTML ; if (g_D && naver.search.https && naver.search.meta_referrer && o.href && isOutlink(o.href)) o.setAttribute(\"rel\", \"noreferrer\"); o.href = u ; if (o.getAttribute !== undefined) o.setAttribute(\"crurl\", \"1\"); if (o.innerHTML != a) o.innerHTML = a ; } else if (document.images) (new Image()).src = u ; return true ; } function goOtherCR (o, p) { return goCR(o, p, false) ; } function goOtherTCR (o, p) { return goCR(o, p, true) ; } function get_form_url (o) { var url = o.getAttribute(\"action\") ; if (url == null) url = \"\" ; var e, n = 0 ; for (var i=0; i<o.elements.length; i++) { e = o.elements[i] ; if (e.disabled || !e.name) continue ; url += (n++>0?\"&\":url.indexOf(\"?\")<0?\"?\":url.indexOf(\"?\")<url.length-1?\"&\":\"\") + encodeURIComponent(e.name) + \"=\" + encodeURIComponent(e.value) ; } return url ; } function formCR (o, area, rank, id) { if (typeof o == 'string') o = document.getElementById(o) ; var target = o.getAttribute(\"target\") ; if (target && target!=\"_self\" && target!=\"_parent\" && target!=\"_top\" || /^post$/i.test(o.getAttribute(\"method\"))) { tCR(area, rank, id) ; o.submit() ; return false ; } var url = get_form_url(o) ; var a = document.createElement(\"a\") ; a.href = url ; var p = area != undefined ? \"a=\" + area : \"\" ; if (rank != undefined) p += (p?\"&\":\"\") + \"r=\" + encodeURIComponent(rank) ; if (id != undefined) p += (p?\"&\":\"\") + \"i=\" + encodeURIComponent(id) ; if (url != undefined) p += (p?\"&\":\"\") + \"u=\" + encodeURIComponent(urlexpand(url)) ; goCR(a, p) ; if (navigator.userAgent.indexOf('MSIE') > 0) { a.style.display = 'none' ; o.appendChild(a) ; a.click() ; } else document.location = a.href ; return false ; } function goHist (o, a, e) { return true ; } function rank_val (rank, name, sign, number, ad_onair) { this.rank = rank ; this.name = name ; this.sign = sign ; this.number = number ; this.ad_onair = ad_onair ; } function rr_hotquery_val (titleImg, totalLink, ad_onair) { this.titleImg = titleImg ; this.totalLink = totalLink ; this.ad_onair = ad_onair ; } function rr_append () { for (var i=0; i<rr_list.length; i++) if (rr_list[i].qname==hotqry_Name && rr_list[i].dir==hotqry_Dir) return 0 ; var o = { order:hotqry_Order, contid:hotqry_ContID, qname:hotqry_Name, dir:hotqry_Dir, toprank:hotqry_TopRank, rankdown:hotqry_RankDown, clicklog:hotqry_ClickLog, toprank_idx:toprank_idx, lowrank_idx:lowrank_idx, topranklist:toprank, lowranklist:lowrank_idx>=0?lowrank:null } ; rr_list = rr_list.concat(o) ; return 1 ; } var msg_hidden_idle=null; function msg (id) { if(msg_hidden_idle) clearInterval(msg_hidden_idle); if(id) { var mid=document.getElementById(id); mid.style.display=''; mid.style.visibility='visible'; } } function msg_hidden (id, f) { if(f) hidden(id); else msg_hidden_idle=setInterval(\"hidden('\"+id+\"')\",100); } function hidden (id) { var mid=document.getElementById(id); mid.style.display='none'; mid.style.visibility='hidden'; } function nx_check_basic () { return ; } function nx_set_cookie (name, value, expire, domain) { var cookie = name + \"=\" + escape(value); if (expire != null) { if (expire instanceof Date) { cookie = cookie + \"; expires=\" + expire.toUTCString(); } else { var exdate = new Date((new Date()).getTime() + expire*1000); cookie = cookie + \"; expires=\" + exdate.toUTCString(); } } cookie = cookie + \"; path=/\"; if (domain != null) { cookie = cookie + \"; domain=\" + domain; } document.cookie = cookie; } function nx_get_cookie (name) { var cookie_list = document.cookie.split(/\\s*;\\s*/); for (var i = 0; i < cookie_list.length; i++) { var tmp_list = cookie_list[i].split(\"=\"); var c_name = trim_space(tmp_list[0]); var c_value = tmp_list[1]; if (name == c_name) { return unescape(c_value); } } return null; } var nx_default_charset = document.charset ; function nx_form_emul_charset (form) { if (/msie/i.test(navigator.userAgent) && !/opera/i.test(navigator.userAgent)) { document.charset = form.acceptCharset ; window.onbeforeunload = function () { document.charset = nx_default_charset ; } ; } return true; } (function() { function ignore(e) { var tagName = e.target.tagName.toUpperCase(); var ignoreTargets = [\"INPUT\", \"SELECT\", \"TEXTAREA\", \"EMBED\", \"OBJECT\"]; var isKeyV = e.key.toLowerCase() === \"v\"; if (ignoreTargets.indexOf(tagName) !== -1) return true; else if (e.altKey) return true; else if (e.ctrlKey && !isKeyV) return true; else if (e.metaKey && !isKeyV) return true; else if (isSpaceKey(e)) return true; return false; } function stop(e) { e.preventDefault(); e.stopPropagation(); } function focus(reset) { var query = document.getElementById(\"nx_query\"); scrollTo(0, 0); if(reset) query.value = \"\"; query.focus(); query.select(); } function isSpaceKey(e) { return e.code === \"Space\" || e.key === \"Spacebar\" || e.key === \" \"; } function isShiftKeyAndSpaceKey(e) { return e.shiftKey && isSpaceKey(e); } function isF2Key(e) { return e.key === \"F2\"; } function isInsertKey(e) { return e.key === \"Insert\" || e.code === \"Insert\"; } function isSingleCharKey(e) { return e.key.length === 1; } document.addEventListener(\"keydown\", function onKeydown(e) { try { if (ignore(e)) return; if (isShiftKeyAndSpaceKey(e) || isF2Key(e) || isInsertKey(e)) { stop(e); focus(); } else if (isSingleCharKey(e)) { focus(true); } } catch (err) {} }, true); })(); (function(exportTarget) { var lcs_options = { nnb: true }; var lcs_version = \"v0.8.3\"; var lcs_add = {}; var lcs_bc = {}; var lcs_perf = {}; var lcs_do_count = 0; var lcs_do_retry_count = 0; var lcs_waiting_pageshow = false; function lcs_do(optional_etc) { var etc = optional_etc || {}; if (lcs_waiting_pageshow) { return; } var retry = function(__etc) { return function() { window.setTimeout(function() { lcs_waiting_pageshow = false; lcs_do(__etc); }, 10); } }(etc); if (document.readyState !== \"complete\") { var eventName = \"onpageshow\" in window ? \"pageshow\" : \"load\"; if (document.addEventListener) { window.addEventListener(eventName, retry, false); } else { window.attachEvent(\"on\"+ eventName, retry); } lcs_do_retry_count++; lcs_waiting_pageshow = true; return; } if (!window.lcs_SerName) { window.lcs_SerName = \"lcs.naver.com\"; } var rs = \"\"; var index; var itarVal; var doc = document; var wlt = window.location; var lcsServerAddr; try { lcsServerAddr = \"https://\" + window.lcs_SerName + \"/m?\"; } catch (e) { return; } try { rs = lcsServerAddr + \"u=\" + encodeURIComponent(wlt.href) + \"&e=\" + (doc.referrer ? encodeURIComponent(doc.referrer) : \"\"); } catch (e) {} try { if (typeof lcs_add.i == \"undefined\") lcs_add.i = \"\"; if (lcs_do_count < 1) { lcs_setBrowserCapa(); if (lcs_options.nnb) { lcs_setNNB(); } lcs_setConnectionType(); lcs_setNavigationTiming(); var loadEventStart = lcs_perf[\"loadEventStart\"] || 0; var loadEventEnd = lcs_perf[\"loadEventEnd\"] || 0; if (loadEventEnd < loadEventStart && lcs_do_retry_count < 3) { lcs_do_retry_count++; lcs_waiting_pageshow = true; retry(); return; } lcs_setPaintTiming(); lcs_setNavigationType(); } for (index in lcs_bc) { if (typeof lcs_bc[index] !== \"function\") rs += \"&\" + index + \"=\" + encodeURIComponent(lcs_bc[index]); } for (index in lcs_add) { itarVal = lcs_add[index]; if (itarVal !== undefined && typeof itarVal !== \"function\") { rs += \"&\" + index + \"=\" + encodeURIComponent(itarVal); } } if (lcs_do_count < 1) { for (index in lcs_perf) { itarVal = lcs_perf[index]; if (itarVal) { rs += \"&\" + index + \"=\" + encodeURIComponent(itarVal); } } } var dni = !!etc.dni ? etc.dni : getCookie(\"NAPP_DI\"); if (!!dni) { etc.dni = dni; } else { delete etc.dni; } for (index in etc) { if ( (index.length >= 3 && typeof etc[index] !== \"function\") || index === \"qy\" ) { rs += \"&\" + index + \"=\" + encodeURIComponent(etc[index]); } } if (!!etc === false || !!etc.pid === false) { var pidFallback; if (window.g_pid) { pidFallback = g_pid; } else { pidFallback = lcs_get_lpid(); } rs += \"&pid=\" + encodeURIComponent(pidFallback); } var timeStr = new Date().getTime(); rs += \"&ts=\" + timeStr; rs += \"&EOU\"; var obj = document.createElement(\"img\"); obj.src = rs; obj.onload = function() { obj.onload = null; return; }; lcs_do_count++; } catch (e) { return; } } function getCookie(name) { var value = document.cookie.match('(^|;) ?' + name + '=([^;]*)(;|$)'); return value? value[2] : \"\"; } function lcs_do_gdid(gdid, etc) { try { if (gdid) { lcs_add[\"i\"] = gdid; if (etc) { lcs_do(etc); } else { lcs_do(); } } } catch (e) {} } function getLocalStorage() { var localStorage = null; try { localStorage = window.localStorage; } catch (e) {} try { if (!localStorage) localStorage = window.sessionStorage; } catch (e) {} return localStorage || null; } function lcs_setNNB() { try { var lsg = getLocalStorage(); if (lsg) { if (lsg.ls) { var lc = lsg.ls; if (lc.length == 13) { lcs_add[\"ls\"] = lc; return; } } var nnb = lcs_getNNBfromCookie(); if (nnb != null && nnb != \"\") { lsg.ls = nnb; lcs_add[\"ls\"] = nnb; } } } catch (e) {} } function lcs_setBrowserCapa() { lcs_bc[\"os\"] = lcs_getOS(); lcs_bc[\"ln\"] = lcs_getlanguage(); lcs_bc[\"sr\"] = lcs_getScreen(); lcs_bc[\"pr\"] = window.devicePixelRatio || 1; var windowSize = lcs_getWindowSize(); lcs_bc[\"bw\"] = windowSize[\"bw\"]; lcs_bc[\"bh\"] = windowSize[\"bh\"]; lcs_bc[\"c\"] = lcs_getColorDepth(); lcs_bc[\"j\"] = lcs_getJavaEnabled(); lcs_bc[\"k\"] = lcs_getCookieEnabled(); } function lcs_getOS() { var lcs_os = \"\"; try { navigator.platform ? (lcs_os = navigator.platform) : \"\"; } catch (e) {} return lcs_os; } function lcs_getlanguage() { var lcs_ln = \"\"; try { navigator.userLanguage ? (lcs_ln = navigator.userLanguage) : navigator.language ? (lcs_ln = navigator.language) : \"\"; } catch (e) {} return lcs_ln; } function lcs_getScreen() { var lcs_sr = \"\"; try { if (window.screen && screen.width && screen.height) { lcs_sr = screen.width + \"x\" + screen.height; } else if (window.java || self.java) { var sr = java.awt.Toolkit.getDefaultToolkit().getScreenSize(); lcs_sr = sr.width + \"x\" + sr.height; } } catch (e) { lcs_sr = \"\"; } return lcs_sr; } function lcs_getWindowSize() { var doc = document; var size = { bw: \"\", bh: \"\" }; try { size[\"bw\"] = doc.documentElement.clientWidth ? doc.documentElement.clientWidth : doc.body.clientWidth; size[\"bh\"] = doc.documentElement.clientHeight ? doc.documentElement.clientHeight : doc.body.clientHeight; } catch (e) {} return size; } function lcs_getColorDepth() { var colorDepth = \"\"; try { if (window.screen) { colorDepth = screen.colorDepth ? screen.colorDepth : screen.pixelDepth; } else if (window.java || self.java) { var c = java.awt.Toolkit.getDefaultToolkit() .getColorModel() .getPixelSize(); colorDepth = c; } } catch (e) { colorDepth = \"\"; } return colorDepth; } function lcs_getJavaEnabled() { var jsEnable = \"\"; try { jsEnable = navigator.javaEnabled() ? \"Y\" : \"N\"; } catch (e) {} return jsEnable; } function lcs_getCookieEnabled() { var cookieEnable = \"\"; try { cookieEnable = navigator.cookieEnabled ? \"Y\" : \"N\"; } catch (e) {} return cookieEnable; } function lcs_getNNBfromCookie() { try { var ck = document.cookie; var k, v, i, ArrCookies = ck.split(\";\"); for (i = 0; i < ArrCookies.length; i++) { k = ArrCookies[i].substr(0, ArrCookies[i].indexOf(\"=\")); v = ArrCookies[i].substr(ArrCookies[i].indexOf(\"=\") + 1); k = k.replace(/^\\s+|\\s+$/g, \"\"); if (k == \"NNB\") { return unescape(v); } } } catch (e) {} } function lcs_setConnectionType() { var connection = navigator.connection; if (connection) { if (connection.type && connection.type.length > 1) { lcs_add[\"ct\"] = connection.type; } if (connection.effectiveType) { lcs_add[\"ect\"] = connection.effectiveType; } } } function lcs_setNavigationTiming() { var performance = window.performance || {}; if (performance.timing) { var pt = performance.timing; for (var key in pt) { var value = pt[key]; if (typeof value === \"number\") { lcs_perf[key] = value; } } } } function lcs_setPaintTiming() { var performance = window.performance || {}; try { if (performance.getEntriesByType) { var performanceEntries = performance.getEntriesByType(\"paint\"); performanceEntries.forEach(function(performanceEntry, i, entries) { var name = performanceEntry.name; switch (name) { case \"first-paint\": case \"first-contentful-paint\": lcs_perf[name] = performanceEntry.startTime; break; default: break; } }); } else { } } catch (e) { console.warn(e); } } function lcs_setNavigationType() { var ngt = getNavigationType(); if (ngt !== undefined) { lcs_perf[\"ngt\"] = ngt; } } function getNavigationType() { var performance = window.performance || {}; if (performance.navigation) { return performance.navigation.type; } return; } var lpid = null; function lcs_create_lpid() { var uaID; var lsg = getLocalStorage(); var nnb = lsg ? lsg.ls : null; if (nnb) { uaID = nnb; } else { var nnbFallback; nnbFallback = navigator.userAgent + Math.random(); uaID = nnbFallback; } var performance = window.performance || {}; var pageURL = location.href; var currentTime; if (performance.now) { currentTime = performance.now(); } else { currentTime = new Date().getTime(); } lpid = hashFunction.md5(uaID + pageURL + currentTime); return lpid; } function lcs_get_lpid() { if (lpid === null) { lpid = lcs_create_lpid(); } return lpid; } function lcs_update_lpid() { lpid = lcs_create_lpid(); return lpid; } var hashFunction = {}; (function(exportTarget) { function safeAdd(x, y) { var lsw = (x & 0xffff) + (y & 0xffff); var msw = (x >> 16) + (y >> 16) + (lsw >> 16); return (msw << 16) | (lsw & 0xffff); } function bitRotateLeft(num, cnt) { return (num << cnt) | (num >>> (32 - cnt)); } function md5cmn(q, a, b, x, s, t) { return safeAdd( bitRotateLeft(safeAdd(safeAdd(a, q), safeAdd(x, t)), s), b ); } function md5ff(a, b, c, d, x, s, t) { return md5cmn((b & c) | (~b & d), a, b, x, s, t); } function md5gg(a, b, c, d, x, s, t) { return md5cmn((b & d) | (c & ~d), a, b, x, s, t); } function md5hh(a, b, c, d, x, s, t) { return md5cmn(b ^ c ^ d, a, b, x, s, t); } function md5ii(a, b, c, d, x, s, t) { return md5cmn(c ^ (b | ~d), a, b, x, s, t); } function binlMD5(x, len) { x[len >> 5] |= 0x80 << len % 32; x[(((len + 64) >>> 9) << 4) + 14] = len; var i; var olda; var oldb; var oldc; var oldd; var a = 1732584193; var b = -271733879; var c = -1732584194; var d = 271733878; for (i = 0; i < x.length; i += 16) { olda = a; oldb = b; oldc = c; oldd = d; a = md5ff(a, b, c, d, x[i], 7, -680876936); d = md5ff(d, a, b, c, x[i + 1], 12, -389564586); c = md5ff(c, d, a, b, x[i + 2], 17, 606105819); b = md5ff(b, c, d, a, x[i + 3], 22, -1044525330); a = md5ff(a, b, c, d, x[i + 4], 7, -176418897); d = md5ff(d, a, b, c, x[i + 5], 12, 1200080426); c = md5ff(c, d, a, b, x[i + 6], 17, -1473231341); b = md5ff(b, c, d, a, x[i + 7], 22, -45705983); a = md5ff(a, b, c, d, x[i + 8], 7, 1770035416); d = md5ff(d, a, b, c, x[i + 9], 12, -1958414417); c = md5ff(c, d, a, b, x[i + 10], 17, -42063); b = md5ff(b, c, d, a, x[i + 11], 22, -1990404162); a = md5ff(a, b, c, d, x[i + 12], 7, 1804603682); d = md5ff(d, a, b, c, x[i + 13], 12, -40341101); c = md5ff(c, d, a, b, x[i + 14], 17, -1502002290); b = md5ff(b, c, d, a, x[i + 15], 22, 1236535329); a = md5gg(a, b, c, d, x[i + 1], 5, -165796510); d = md5gg(d, a, b, c, x[i + 6], 9, -1069501632); c = md5gg(c, d, a, b, x[i + 11], 14, 643717713); b = md5gg(b, c, d, a, x[i], 20, -373897302); a = md5gg(a, b, c, d, x[i + 5], 5, -701558691); d = md5gg(d, a, b, c, x[i + 10], 9, 38016083); c = md5gg(c, d, a, b, x[i + 15], 14, -660478335); b = md5gg(b, c, d, a, x[i + 4], 20, -405537848); a = md5gg(a, b, c, d, x[i + 9], 5, 568446438); d = md5gg(d, a, b, c, x[i + 14], 9, -1019803690); c = md5gg(c, d, a, b, x[i + 3], 14, -187363961); b = md5gg(b, c, d, a, x[i + 8], 20, 1163531501); a = md5gg(a, b, c, d, x[i + 13], 5, -1444681467); d = md5gg(d, a, b, c, x[i + 2], 9, -51403784); c = md5gg(c, d, a, b, x[i + 7], 14, 1735328473); b = md5gg(b, c, d, a, x[i + 12], 20, -1926607734); a = md5hh(a, b, c, d, x[i + 5], 4, -378558); d = md5hh(d, a, b, c, x[i + 8], 11, -2022574463); c = md5hh(c, d, a, b, x[i + 11], 16, 1839030562); b = md5hh(b, c, d, a, x[i + 14], 23, -35309556); a = md5hh(a, b, c, d, x[i + 1], 4, -1530992060); d = md5hh(d, a, b, c, x[i + 4], 11, 1272893353); c = md5hh(c, d, a, b, x[i + 7], 16, -155497632); b = md5hh(b, c, d, a, x[i + 10], 23, -1094730640); a = md5hh(a, b, c, d, x[i + 13], 4, 681279174); d = md5hh(d, a, b, c, x[i], 11, -358537222); c = md5hh(c, d, a, b, x[i + 3], 16, -722521979); b = md5hh(b, c, d, a, x[i + 6], 23, 76029189); a = md5hh(a, b, c, d, x[i + 9], 4, -640364487); d = md5hh(d, a, b, c, x[i + 12], 11, -421815835); c = md5hh(c, d, a, b, x[i + 15], 16, 530742520); b = md5hh(b, c, d, a, x[i + 2], 23, -995338651); a = md5ii(a, b, c, d, x[i], 6, -198630844); d = md5ii(d, a, b, c, x[i + 7], 10, 1126891415); c = md5ii(c, d, a, b, x[i + 14], 15, -1416354905); b = md5ii(b, c, d, a, x[i + 5], 21, -57434055); a = md5ii(a, b, c, d, x[i + 12], 6, 1700485571); d = md5ii(d, a, b, c, x[i + 3], 10, -1894986606); c = md5ii(c, d, a, b, x[i + 10], 15, -1051523); b = md5ii(b, c, d, a, x[i + 1], 21, -2054922799); a = md5ii(a, b, c, d, x[i + 8], 6, 1873313359); d = md5ii(d, a, b, c, x[i + 15], 10, -30611744); c = md5ii(c, d, a, b, x[i + 6], 15, -1560198380); b = md5ii(b, c, d, a, x[i + 13], 21, 1309151649); a = md5ii(a, b, c, d, x[i + 4], 6, -145523070); d = md5ii(d, a, b, c, x[i + 11], 10, -1120210379); c = md5ii(c, d, a, b, x[i + 2], 15, 718787259); b = md5ii(b, c, d, a, x[i + 9], 21, -343485551); a = safeAdd(a, olda); b = safeAdd(b, oldb); c = safeAdd(c, oldc); d = safeAdd(d, oldd); } return [a, b, c, d]; } function binl2rstr(input) { var i; var output = \"\"; var length32 = input.length * 32; for (i = 0; i < length32; i += 8) { output += String.fromCharCode((input[i >> 5] >>> i % 32) & 0xff); } return output; } function rstr2binl(input) { var i; var output = []; output[(input.length >> 2) - 1] = undefined; for (i = 0; i < output.length; i += 1) { output[i] = 0; } var length8 = input.length * 8; for (i = 0; i < length8; i += 8) { output[i >> 5] |= (input.charCodeAt(i / 8) & 0xff) << i % 32; } return output; } function rstrMD5(s) { return binl2rstr(binlMD5(rstr2binl(s), s.length * 8)); } function rstrHMACMD5(key, data) { var i; var bkey = rstr2binl(key); var ipad = []; var opad = []; var hash; ipad[15] = opad[15] = undefined; if (bkey.length > 16) { bkey = binlMD5(bkey, key.length * 8); } for (i = 0; i < 16; i += 1) { ipad[i] = bkey[i] ^ 0x36363636; opad[i] = bkey[i] ^ 0x5c5c5c5c; } hash = binlMD5(ipad.concat(rstr2binl(data)), 512 + data.length * 8); return binl2rstr(binlMD5(opad.concat(hash), 512 + 128)); } function rstr2hex(input) { var hexTab = \"0123456789abcdef\"; var output = \"\"; var x; var i; for (i = 0; i < input.length; i += 1) { x = input.charCodeAt(i); output += hexTab.charAt((x >>> 4) & 0x0f) + hexTab.charAt(x & 0x0f); } return output; } function str2rstrUTF8(input) { return unescape(encodeURIComponent(input)); } function rawMD5(s) { return rstrMD5(str2rstrUTF8(s)); } function hexMD5(s) { return rstr2hex(rawMD5(s)); } function rawHMACMD5(k, d) { return rstrHMACMD5(str2rstrUTF8(k), str2rstrUTF8(d)); } function hexHMACMD5(k, d) { return rstr2hex(rawHMACMD5(k, d)); } function md5(string, key, raw) { if (!key) { if (!raw) { return hexMD5(string); } return rawMD5(string); } if (!raw) { return hexHMACMD5(key, string); } return rawHMACMD5(key, string); } exportTarget.md5 = md5; })(hashFunction); exportTarget.lcs_do = lcs_do; exportTarget.lcs_do_gdid = lcs_do_gdid; exportTarget.lcs_get_lpid = lcs_get_lpid; exportTarget.lcs_update_lpid = lcs_update_lpid; exportTarget.lcs_version = lcs_version; })(window); if (window.addEventListener) window.addEventListener(\"load\", function() { lcs_do({\"pid\": \"h6p2Lwp0J1ZsshUTMPhsssssspo-158695\"}) }, false) ; else lcs_do({\"pid\": \"h6p2Lwp0J1ZsshUTMPhsssssspo-158695\"}) ; </script> <script type=\"text/javascript\" src=\"https://ssl.pstatic.net/sstatic/sdyn.js?f=/au/pc/_nx/jindo_1.5.3_171116.js+/search/js/nhn.Component.js+/search/js/jindo.Component.1.1.0.js+/search/js/jindo.component.library_120927.js+/au/s/pc/_common/jindo/jindo.Rolling_140526.js+/au/pc/_common/nhn.common_210406.js+/au/pc/_nx/2017/nx_jquery_0622b.js+/au/pc/_nx/2020/nhn.common.ScriptErrorLogger.sauPc_201014.js+/au/pc/naver_autocomplete/naver.common.atcmp.naver_web_210408.js&amp;o=search\" crossorigin=\"anonymous\"></script> <script> if (0 && nhn.common.ScriptErrorLogger) { nhn.common.ScriptErrorLogger.sauPcStart(); } function nx_add_event_handler (event, func) { $Fn(func).attach(document, event) ; } </script> <script type=\"text/javascript\"> function nx_form_submit (f) { if (g_D || 0) f.action = \"\" ; if (typeof naver.search.option !== 'undefined') naver.search.option.append_params(f, ['qdt', 'qvt']); return true ; } </script><script type=\"text/javascript\"> var g_site = \"\" ; function document_write (s) { document.write(s) ; } nhn.jsLazyLoad = { include: function(a, b, c) { nx_js_lazyload(a, b, 0) ; } } ; nx_js_defer_load(\"https://ssl.pstatic.net/sstatic/au/s/pc/_others/nxtt/search_om.js\", function() {NXTT.div=document.getElementById(\"nxtt_div\");}, 50); </script></head> <body class='wrap-new api_animation tabsch tabsch_blog'> <div id=nxtt_div style=\"display:none;position:absolute;border-width:0;z-index:11000\"></div> <div id=\"u_skip\"> <a href=\"#lnb\"><span>메뉴 영역으로 바로가기</span></a> <a href=\"#content\"><span>본문 영역으로 바로가기</span></a> </div> <div id=\"wrap\"> <div id=\"header_wrap\" role=\"heading\"> <div class=\"api_floating_header\">   <div class=\"gnb_wrap\"> <div class=\"header_group\"> <div class=\"search_area\"> <h1 class=\"logo\"><a href=\"https://www.naver.com\" onclick=\"return goOtherCR(this, 'a=sta.naver&amp;r=&amp;i=&amp;u='+urlencode(this.href));\" class=\"link\"><i class=\"spnew ico_logo\">NAVER</i></a></h1> <form id=\"nx_search_form\" name=\"search\" action=\"?\" method=\"get\" role=\"search\" onsubmit=\"return nx_form_submit(this)\"> <fieldset class=\"greenwindow\"> <legend>검색</legend> <input type=\"hidden\" name=\"sm\" value=\"tab_hty.top\"> <input type=\"hidden\" name=\"where\" value=\"blog\"> <div class=\"greenbox\"> <input type=\"text\" id=\"nx_query\" name=\"query\" class=\"box_window\" maxlength=255 accesskey=\"s\" value=\"연세대학교\" autocomplete=\"off\" placeholder=\"검색어를 입력해 주세요.\" data-atcmp-element> </div> <input type=\"hidden\" name=\"oquery\" value=\"연세대학교\"> <input type=\"hidden\" name=\"tqi\" value=\"h6p2Lwp0J1ZsshUTMPhsssssspo-158695\"> <input type=\"hidden\" value=\"\" name=\"acq\" disabled> <input type=\"hidden\" value=\"\" name=\"acr\" disabled> <input type=\"hidden\" value=\"\" name=\"qdt\" disabled> <input type=\"hidden\" value=\"\" name=\"acir\" disabled> <input type=\"hidden\" value=\"\" name=\"os\" disabled> <input type=\"hidden\" value=\"\" name=\"bid\" disabled> <input type=\"hidden\" value=\"\" name=\"pkid\" disabled> <input type=\"hidden\" value=\"\" name=\"eid\" disabled> <input type=\"hidden\" value=\"\" name=\"mra\" disabled>     <div class=\"setkr_area\"> <a id=\"ke_kbd_btn\" role=\"button\" href=\"#\" class=\"bt_setkr\" aria-pressed=\"false\" onclick=\"return tCR('a=sch.ime');\"><i class=\"spnew ico_keyboard\">한글 입력기</i></a> <div id=\"_nx_kbd\" style=\"display:none;\"></div> </div> <script> (function() { var startApplication = function() { var jsUrl = \"https://ssl.pstatic.net/sstatic/au/pc/ime/ime_201105.js\"; var ime; jQuery(\"#ke_kbd_btn\").on(\"click\", function(){ require([jsUrl], function(IMEKeyboard) { if (ime) { ime.toggle(); return; } ime = new IMEKeyboard({selector: { TOGGLE_BTN: \"#ke_kbd_btn\", CONTENTS_AREA: \"#_nx_kbd\", INPUT: \"#nx_query\" }}).toggle(); }, function () { alert(\"네트워크 상태가 안 좋아 한영입력기를 불러오지 못했습니다.\\n잠시 후 다시 시도해 주세요.\"); }); }); }; naver.common.load_js(window.require ? null : naver.common.gv.REQUIRE_JS, startApplication, true, 150); })(); </script> <div class=\"autocomplete\"> <a role=\"button\" href=\"#\" class=\"bt_atcp _btn_arw\" id=\"nautocomplete\" aria-pressed=\"false\" data-atcmp-element><i class=\"spnew ico_arrow\">자동완성 레이어</i></a> <div class=\"ly_atcmp\" id=\"nx_autoframe_top\" style=\"display:none\" data-atcmp-element> <div class=\"api_atcmp_wrap\"> <div class=\"atcmp_fixer _recent_layer\" style=\"display:none;\"> <div class=\"atcmp_header _recent_header\"> <strong class=\"tit\">최근검색어</strong> <div class=\"option\"> <a role=\"button\" href=\"#\" class=\"item _delAll\" aria-pressed=\"false\">전체삭제</a> </div> </div> <div class=\"atcmp_container\"> <ul class=\"kwd_lst _recent\"> <li class=\"item _item\" data-rank=\"@rank@\" data-template-type=\"history\" data-keyword=\"@in_txt@\"> <a href=\"#\" class=\"kwd\"> <span class=\"fix\"><span class=\"common_ico_kwd\"><i class=\"imsc ico_search\"></i></span><span>@txt@</span></span> </a> <span class=\"etc\"> <em class=\"date\">@date@.</em> <a href=\"#\" role=\"button\" class=\"bt_item _del\" aria-pressed=\"false\"><i class=\"imsc ico_del\">삭제</i></a> </span> </li> </ul> <div class=\"kwd_info kwd_off _offMsg\" style=\"display: none;\">검색어 저장 기능이 꺼져 있습니다.<br><span class=\"kwd_dsc\">설정이 초기화 된다면 <a onclick=\"return goOtherCR(this,'a=sly.help&amp;r=&amp;i=&amp;u='+urlencode(this.href));\" href=\"https://help.naver.com/support/alias/search/word/word_29.naver\" target=\"_blank\" class=\"kwd_help\">도움말</a>을 확인해주세요.</span></div> <div class=\"kwd_info kwd_none _recentNone\" style=\"display: none;\">최근 검색어 내역이 없습니다.<br><span class=\"kwd_dsc\">설정이 초기화 된다면 <a onclick=\"return goOtherCR(this,'a=sly.help&amp;r=&amp;i=&amp;u='+urlencode(this.href));\" href=\"https://help.naver.com/support/alias/search/word/word_29.naver\" target=\"_blank\" class=\"kwd_help\">도움말</a>을 확인해주세요.</span></div> </div> <div class=\"atcmp_footer\"> <span class=\"side_opt_area\"> <span class=\"opt_item\"><a onclick=\"return goOtherCR(this,'a=sly.help&amp;r=&amp;i=&amp;u='+urlencode(this.href));\" href=\"https://help.naver.com/support/alias/search/word/word_29.naver\" target=\"_blank\">도움말</a></span> </span> <span class=\"rside_opt_area\"> <span class=\"opt_item\"> <a href=\"#\" class=\"close _keywordOnOff\">자동저장 끄기</a> </span> </span> </div> </div> <div class=\"atcmp_fixer _atcmp_layer\" style=\"display:none;\"> <div class=\"atcmp_container _words\"> <div class=\"atcmp_correct type_lotto _answer\" data-template-type=\"answer_3\" data-code=\"@code@\" data-keyword=\"@1@\"> <a href=\"#\" class=\"link_item\"> <span class=\"common_ico_kwd\"><i class=\"imsc ico_search\"></i></span> <div class=\"dsc_area\"> <span class=\"tit\">@5@회차 당첨번호</span> <span class=\"dsc\"> <span class=\"item\">추첨 @13@.</span><span class=\"item\">지급기한 1년</span> </span> </div> <span class=\"etc_area\"> <span class=\"etc lotto\"> <em class=\"n@6@\">@6@</em><em class=\"n@7@\">@7@</em><em class=\"n@8@\">@8@</em><em class=\"n@9@\">@9@</em><em class=\"n@10@\">@10@</em><em class=\"n@11@\">@11@</em><em class=\"imsc_bf bonus n@12@\">@12@</em> </span> </span> </a> </div> <div class=\"atcmp_correct type_exchange _answer\" data-template-type=\"answer_9\" data-code=\"@code@\" data-keyword=\"@1@\"> <a href=\"#\" class=\"link_item @11@\"> <span class=\"common_ico_kwd\"><i class=\"imsc ico @12@\">@14@</i></span> <div class=\"dsc_area\"> <span class=\"tit\">@txt@<span class=\"sub\">@currency@</span></span> <span class=\"dsc\"> <span class=\"item\"><i class=\"imsc ico_arr\"></i>@8@(@9@%)</span> </span> </div> <span class=\"etc_area\"> <span class=\"etc\"><em class=\"num\">@6@</em>원</span> </span> </a> </div> <div class=\"atcmp_correct type_weather _answer\" data-template-type=\"answer_11\" data-code=\"@code@\" data-keyword=\"@1@\"> <a href=\"#\" class=\"link_item @12@\"> <span class=\"common_ico_kwd\"><i class=\"imsc ico_search\"></i></span> <div class=\"dsc_area\"> <span class=\"tit\">@txt@</span> <span class=\"dsc\"> <span class=\"item\">@7@, @message@</span> </span> </div> <span class=\"etc_area\"> <span class=\"etc\"> <span class=\"ico_weather\"><i class=\"imsc ico ico@iconNo@\">@7@</i></span> <em class=\"degree\">@8@<sup class=\"celsius\">°</sup></em> </span> </span> </a> </div> <div class=\"atcmp_correct type_site _answer\" data-template-type=\"answer_17\" data-code=\"@code@\" data-keyword=\"@1@\"> <a href=\"@5@\" class=\"link_item\" target=\"_blank\"> <span class=\"common_ico_kwd\"><i class=\"imsc ico_url\"></i></span> <div class=\"dsc_area\"> <span class=\"tit\">@txt@</span> <span class=\"dsc\"> <span class=\"item\">@5@</span> </span> </div> <span class=\"etc_area\"> <span class=\"etc\">바로가기</span> </span> </a> </div> <ul class=\"kwd_lst _kwd_list\"> <li class=\"item _item\" data-rank=\"@rank@\" data-template-type=\"suggestion\" data-keyword=\"@in_txt@\"> <a href=\"#\" class=\"kwd\"> <span class=\"fix\"><span class=\"common_ico_kwd\"><i class=\"imsc ico_search\"></i></span>@txt@</span> </a> <span class=\"etc\"> <a href=\"#\" role=\"button\" class=\"bt_item _add\" aria-pressed=\"false\"><i class=\"imsc ico_insert\">추가</i></a> </span> </li> <li class=\"item has_correct _item\" data-rank=\"@rank@\" data-template-type=\"history\" data-keyword=\"@in_txt@\"> <a href=\"#\" class=\"kwd\"> <span class=\"fix\"><span class=\"common_ico_kwd\"><i class=\"imsc ico_search\"></i></span>@txt@</span> </a> <span class=\"etc\"> <em class=\"date\">@date@.</em> <a href=\"#\" role=\"button\" class=\"bt_item _add\" aria-pressed=\"false\"><i class=\"imsc ico_insert\">추가</i></a> </span> </li> </ul> <li class=\"item has_correct _item\" data-rank=\"@rank@\" data-intend-rank=\"@intendRank@\" data-template-type=\"intend\" data-keyword=\"@transQuery@\"> <a href=\"#\" class=\"kwd\"> <span class=\"fix\"><span class=\"common_ico_kwd\"><i class=\"imsc ico_search\"></i></span>@query@ <span class=\"context\">@intend@</span></span> </a> <span class=\"etc\"> <a href=\"#\" role=\"button\" class=\"bt_item _add\" aria-pressed=\"false\"><i class=\"imsc ico_insert\">추가</i></a> </span> </li> <div class=\"atcmp_alert _alert\"> <div class=\"dsc_election\"> <p class=\"dsc\"> <i class=\"imsc ico_election\"></i><span class=\"_alert_passage\"></span> </p> <span class=\"dsc_inner\"> <span class=\"_alert_passage2\"></span> <a href=\"#\" target=\"_blank\" class=\"link _alert_link\" onclick=\"return goOtherCR(this,'a=sug.vote&r=&i=&u='+urlencode(this.href));\">자세히보기</a> </span> </div> </div> <div class=\"atcmp_plus _plus\"> <div class=\"dsc_plus\"> <a onclick=\"return goOtherCR(this,'a=sug.cxhelp&amp;r=&amp;i=&amp;u='+urlencode(this.href));\" href=\"https://help.naver.com/support/alias/search/word/word_16.naver\" target=\"_blank\" class=\"link_dsc\">관심사를 반영한 컨텍스트 자동완성<i class=\"imsc ico_help\">도움말</i></a> </div> <div class=\"switch\"> <a role=\"button\" href=\"#\" class=\"bt_switch active _plus_btn\" aria-pressed=\"false\"><i class=\"imsc ico_option\">컨텍스트 자동완성</i></a> </div> <div class=\"layer_plus _plus_layer\"> <strong class=\"tit\">컨텍스트 자동완성</strong> <div class=\"_plus_layer_isloggedin\" style=\"display:none\"> <p class=\"dsc\">ON/OFF 설정은<br>해당기기(브라우저)에 저장됩니다.</p> <div class=\"btn_area\"> <a onclick=\"return goOtherCR(this,'a=sug.cxhelp&amp;r=&amp;i=&amp;u='+urlencode(this.href));\" href=\"https://help.naver.com/support/alias/search/word/word_16.naver\" target=\"_blank\" class=\"btn btn_view\">자세히</a> </div> </div> <div class=\"_plus_layer_isnotloggedin\" style=\"display:none\"> <p class=\"dsc\"><em class=\"txt\">동일한 시간대/연령/남녀별</em> 사용자 그룹의<br>관심사에 맞춰 자동완성을 제공합니다.</p> <div class=\"btn_area\"> <a href=\"https://nid.naver.com/nidlogin.login?url=https%3A%2F%2Fsearch.naver.com%2Fsearch.naver%3Fwhere%3Dblog%26sm%3Dtab_viw.blog%26query%3D%25EC%2597%25B0%25EC%2584%25B8%25EB%258C%2580%25ED%2595%2599%25EA%25B5%2590%26nso%3D\" onclick=\"return goOtherCR(this,'a=sug.cxlogin&amp;r=&amp;i=&amp;u='+urlencode(this.href));\" class=\"btn btn_login\">로그인</a> <a onclick=\"return goOtherCR(this,'a=sug.cxhelp&amp;r=&amp;i=&amp;u='+urlencode(this.href));\" href=\"https://help.naver.com/support/alias/search/word/word_16.naver\" target=\"_blank\" class=\"btn btn_view\">자세히</a> </div> </div> <a href=\"#\" role=\"button\" onclick=\"return tCR('a=sug.cxhide');\" class=\"btn_close _plus_layer_close\"><i class=\"imsc ico_close\">컨텍스트 자동완성 레이어 닫기</i></a> </div> </div> </div> <div class=\"atcmp_footer\"> <span class=\"side_opt_area\"> <span class=\"opt_item\"><a onclick=\"return goOtherCR(this,'a=sug.help&amp;r=&amp;i=&amp;u='+urlencode(this.href));\" href=\"https://help.naver.com/support/alias/search/word/word_17.naver\" target=\"_blank\">도움말</a></span> <span class=\"opt_item\"><a onclick=\"return goOtherCR(this,'a=sug.report&amp;r=&amp;i=&amp;u='+urlencode(this.href));\" href=\"https://help.naver.com/support/alias/search/word/word_18.naver\" target=\"_blank\" class=\"report\">신고</a></span> </span> <span class=\"rside_opt_area\"> <span class=\"opt_item\"> <a href=\"#\" class=\"close _suggestOnOff\">자동완성 끄기</a> </span> </span> </div> </div> </div> </div> </div> <button type=\"submit\" class=\"bt_search\"><i class=\"spnew ico_search\">검색</i></button> </fieldset> </form> </div></div> <div id=\"gnb\"> <script type=\"text/javascript\"> var gnb_option = { gnb_service : \"search\", gnb_template : \"gnb_utf8\", gnb_logout : encodeURIComponent(location.href), gnb_login : encodeURIComponent(location.href), gnb_brightness : 1 , gnb_item_hide_option : 0 } ; var gnb_url = \"https://ssl.pstatic.net/static.gn/templates/gnb_utf8.nhn\" ; nx_js_defer_load(gnb_url + \"?\" + headerfooter_time_year_s + headerfooter_time_month_s + headerfooter_time_day_s + headerfooter_time_hour_s, function() { getGNB() ; $Fn(function(we) { if (typeof gnbAllLayerClose == \"function\") { var bShowLayer = gnbUserLayer.show || gnbNaverMeLayer.show || gnbMoreLayer.show; var bClickGNBArea = $Element($$.getSingle(\"ul.gnb_lst\")).isEqual(we.element) || $Element($$.getSingle(\"ul.gnb_lst\")).isParentOf(we.element); if (bShowLayer && !bClickGNBArea) { gnbAllLayerClose(); } } }, this).attach(document, \"click\"); }, 0) ; </script> </div> </div><script> var nx_usain_beacon = function($) { var sent = 0; var tags = []; var usain_obj = { send: function() { if (sent > 0) { return; } sent = 1; setTimeout(function() { var perf = \"\" ; perf = (function() { function _(t) { return (t?(t-window.performance.timing.navigationStart):0); } ; if (typeof(window.performance) == \"undefined\") { return \"\"} if (typeof(window.performance.timing) == \"undefined\"){ return \"\"} if (typeof(window.performance.navigation) == \"undefined\"){ return \"\"} var t = window.performance.timing ; var n = window.performance.navigation ; return \"navt=\" + [_(t.navigationStart), _(t.unloadEventStart), _(t.unloadEventEnd), _(t.redirectStart), _(t.redirectEnd), _(t.fetchStart), _(t.domainLookupStart), _(t.domainLookupEnd), _(t.connectStart), _(t.connectEnd), _(t.requestStart), _(t.responseStart), _(t.responseEnd), _(t.domLoading), _(t.domInteractive), _(t.domContentLoadedEventStart), _(t.domContentLoadedEventEnd), _(t.domComplete), _(t.loadEventStart), _(t.loadEventEnd), n.type, n.redirectCount].join(\":\") ; }) () ; if (document.location.protocol === 'https:') { tags.push('_ssl'); } else { tags.push('_nossl'); } var agent = eg.agent() ; if (agent.browser.version) { var version = \"\"; var vers = (agent.browser.version + \"\").split('.'); version = vers[0]; if (version > 0) { tags.push('ua.' + agent.browser.name + '.' + version); } } if (window.matchMedia) { if(window.matchMedia('(prefers-color-scheme: dark)').matches){ tags.push(\"cscheme.d\"); } else if(window.matchMedia('(prefers-color-scheme: light)').matches){ tags.push(\"cscheme.l\"); } else if(window.matchMedia('(prefers-color-scheme: no-preference)').matches){ tags.push(\"cscheme.n\"); } else { tags.push(\"cscheme.u\"); } } else { tags.push(\"cscheme.u\"); } var queries = []; if (perf) { queries.push(perf); } queries.push(\"tags=\" + tags.join(\":\") ); var u = new Image() ; u.src = \"https://er.search.naver.com/er?v=2&\" + queries.join(\"&\"); u.onload = function() { u.onload = null ; } }, 250); }, add_tag: function(tag) { tags.push(tag); } }; return usain_obj; }(jQuery); </script> <div id=\"lnb\" tabindex=\"0\"><div class=\"lnb_group\"> <div class=\"lnb_menu\"> <ul role=\"tablist\" class=\"base\"> <li role=\"presentation\" class=\"menu\"><a role=\"tab\" href=\"?where=nexearch&amp;sm=tab_jum&amp;query=%EC%97%B0%EC%84%B8%EB%8C%80%ED%95%99%EA%B5%90\" onclick=\"return goOtherCR(this,'a=tab*N.jmp&amp;r=1&amp;i=&amp;u='+urlencode(this.href));\" class=\"tab\" aria-selected=\"false\">통합</a></li><li role=\"presentation\" class=\"menu\"><a role=\"tab\" href=\"?where=image&amp;sm=tab_jum&amp;query=%EC%97%B0%EC%84%B8%EB%8C%80%ED%95%99%EA%B5%90\" onclick=\"return goOtherCR(this,'a=tab*i.jmp&amp;r=2&amp;i=&amp;u='+urlencode(this.href));\" class=\"tab\" aria-selected=\"false\">이미지</a></li><li role=\"presentation\" class=\"menu\"><a role=\"tab\" href=\"?where=view&amp;sm=tab_jum&amp;query=%EC%97%B0%EC%84%B8%EB%8C%80%ED%95%99%EA%B5%90\" onclick=\"return goOtherCR(this,'a=tab*e.now&amp;r=3&amp;i=&amp;u='+urlencode(this.href))\" class=\"tab\" aria-selected=\"true\">VIEW</a></li><li role=\"presentation\" class=\"menu\"><a role=\"tab\" href=\"?where=kin&amp;sm=tab_jum&amp;query=%EC%97%B0%EC%84%B8%EB%8C%80%ED%95%99%EA%B5%90\" onclick=\"return goOtherCR(this,'a=tab*k.jmp&amp;r=4&amp;i=&amp;u='+urlencode(this.href));\" class=\"tab\" aria-selected=\"false\">지식iN</a></li><li role=\"presentation\" class=\"menu\"><a role=\"tab\" href=\"?where=video&amp;sm=tab_jum&amp;query=%EC%97%B0%EC%84%B8%EB%8C%80%ED%95%99%EA%B5%90\" onclick=\"return goOtherCR(this,'a=tab*v.jmp&amp;r=5&amp;i=&amp;u='+urlencode(this.href));\" class=\"tab\" aria-selected=\"false\">동영상</a></li><li role=\"presentation\" class=\"menu\"><a role=\"tab\" href=\"https://search.shopping.naver.com/search/all.nhn?where=all&amp;frm=NVSCTAB&amp;query=%EC%97%B0%EC%84%B8%EB%8C%80%ED%95%99%EA%B5%90\" onclick=\"return goOtherCR(this,'a=tab*S.jmp&amp;r=6&i=&amp;u='+urlencode(this.href));\" class=\"tab\" aria-selected=\"false\" target=\"_blank\">쇼핑</a></li><li role=\"presentation\" class=\"menu\"><a role=\"tab\" href=\"?where=news&amp;sm=tab_jum&amp;query=%EC%97%B0%EC%84%B8%EB%8C%80%ED%95%99%EA%B5%90\" onclick=\"return goOtherCR(this,'a=tab*n.jmp&amp;r=7&amp;i=&amp;u='+urlencode(this.href));\" class=\"tab\" aria-selected=\"false\">뉴스</a></li><li role=\"presentation\" class=\"menu\"><a role=\"tab\" href=\"https://dict.naver.com/search.nhn?dicQuery=%EC%97%B0%EC%84%B8%EB%8C%80%ED%95%99%EA%B5%90&amp;query=%EC%97%B0%EC%84%B8%EB%8C%80%ED%95%99%EA%B5%90&amp;target=dic&amp;query_utf=&amp;isOnlyViewEE=\" onclick=\"return goOtherCR(this,'a=tab*L.jmp&amp;r=8&amp;i=&amp;u='+urlencode(this.href));\" class=\"tab\" aria-selected=\"false\" target=\"_blank\">어학사전</a></li><li role=\"presentation\" class=\"menu\"><a role=\"tab\" href=\"https://map.naver.com/v5/search/%EC%97%B0%EC%84%B8%EB%8C%80%ED%95%99%EA%B5%90\" onclick=\"return goOtherCR(this,'a=tab*M.jmp&amp;r=9&amp;i=&amp;u='+urlencode(this.href));\" class=\"tab\" aria-selected=\"false\" target=\"_blank\">지도</a></li><li role=\"presentation\" class=\"menu\"><a role=\"tab\" href=\"https://book.naver.com/search/search.nhn?query=%EC%97%B0%EC%84%B8%EB%8C%80%ED%95%99%EA%B5%90\" onclick=\"return goOtherCR(this,'a=tab*B.jmp&amp;r=10&amp;i=&amp;u='+urlencode(this.href));\" class=\"tab\" aria-selected=\"false\" target=\"_blank\">책</a></li> </ul> <div class=\"group_more\"> <div id=\"_nx_lnb_more\" class=\"more_area\"> <a role=\"button\" href=\"#\" class=\"lnb_more _more_btn\" aria-pressed=\"false\" onclick=\"tCR(jQuery(this).attr('aria-pressed') === 'false' ? 'a=tab.more' : 'a=tmr.less');\"> <i class=\"spnew ico_lnb_more\">더보기</i> </a> <div class=\"addon\"> <ul> <li role=\"presentation\" class=\"menu\"><a role=\"tab\" href=\"https://vibe.naver.com/search?query=%EC%97%B0%EC%84%B8%EB%8C%80%ED%95%99%EA%B5%90\" onclick=\"return goOtherCR(this,'a=tmr*m.jmp&amp;r=1&amp;i=&amp;u='+urlencode(this.href));\" class=\"tab\" aria-selected=\"false\" target=\"_blank\">뮤직</a></li><li role=\"presentation\" class=\"menu\"><a role=\"tab\" href=\"?where=kdic&amp;sm=tab_jum&amp;query=%EC%97%B0%EC%84%B8%EB%8C%80%ED%95%99%EA%B5%90\" onclick=\"return goOtherCR(this,'a=tmr*K.jmp&amp;r=2&amp;i=&amp;u='+urlencode(this.href));\" class=\"tab\" aria-selected=\"false\">지식백과</a></li><li role=\"presentation\" class=\"menu\"><a role=\"tab\" href=\"https://audioclip.naver.com/search/all?keyword=%EC%97%B0%EC%84%B8%EB%8C%80%ED%95%99%EA%B5%90\" onclick=\"return goOtherCR(this,'a=tmr*A.jmp&amp;r=3&amp;i=&amp;u='+urlencode(this.href));\" class=\"tab\" aria-selected=\"false\" target=\"_blank\">오디오클립</a></li><li role=\"presentation\" class=\"menu\"><a role=\"tab\" href=\"https://academic.naver.com/search.naver?field=0&amp;query=%EC%97%B0%EC%84%B8%EB%8C%80%ED%95%99%EA%B5%90\" onclick=\"return goOtherCR(this,'a=tmr*a.jmp&amp;r=4&amp;i=&amp;u='+urlencode(this.href));\" class=\"tab\" aria-selected=\"false\" target=\"_blank\">학술정보</a></li> </ul> <a role=\"button\" href=\"#\" class=\"btn_option _option_btn\" onclick=\"return tCR('a=tmr.optn');\" aria-pressed=\"false\" style=\"display:none\">검색옵션</a> </div> </div> </div> </div> </div><div class=\"lnb_util\"> <ul class=\"list_util\"> <li> <a role=\"button\" href=\"#\" id=\"spiButton2\" class=\"spnew_bf bt_share naver-splugin\" onclick=\"return tCR('a=lnb.shr');\" data-evkey=\"search\" data-service-name=\"통합검색\" data-style=\"unity-v2\" data-use-short-url=\"on\" data-me-display=\"off\" data-mail-display=\"off\" data-option=\"{baseElement:'spiButton2', layerPosition:'outside-bottom', align:'right', top:4, left:0, marginLeft:8, marginTop:10}\" data-blog-url=\"https://search.naver.com/search.naver?nso=&amp;query=%EC%97%B0%EC%84%B8%EB%8C%80%ED%95%99%EA%B5%90&amp;sm=svc_pin.blog&amp;where=blog\" data-cafe-url=\"https://search.naver.com/search.naver?nso=&amp;query=%EC%97%B0%EC%84%B8%EB%8C%80%ED%95%99%EA%B5%90&amp;sm=svc_pin.cafe&amp;where=blog\" data-cafe-source-form=\"2\" data-memo-url=\"https://search.naver.com/search.naver?nso=&amp;query=%EC%97%B0%EC%84%B8%EB%8C%80%ED%95%99%EA%B5%90&amp;sm=svc_pin.memo&amp;where=blog\" data-calendar-url=\"https://search.naver.com/search.naver?nso=&amp;query=%EC%97%B0%EC%84%B8%EB%8C%80%ED%95%99%EA%B5%90&amp;sm=svc_pin.cal&amp;where=blog\" data-twitter-url=\"https://search.naver.com/search.naver?nso=&amp;query=%EC%97%B0%EC%84%B8%EB%8C%80%ED%95%99%EA%B5%90&amp;sm=twp_pin&amp;where=blog\" data-facebook-url=\"https://search.naver.com/search.naver?nso=&amp;query=%EC%97%B0%EC%84%B8%EB%8C%80%ED%95%99%EA%B5%90&amp;sm=fbp_pin&amp;where=blog\" data-band-url=\"https://search.naver.com/search.naver?nso=&amp;query=%EC%97%B0%EC%84%B8%EB%8C%80%ED%95%99%EA%B5%90&amp;sm=bdp_pin&amp;where=blog\" >공유</a> </li> </ul> </div><script type=\"text/javascript\"> nx_js_defer_load(\"https://ssl.pstatic.net/spi/js/release/ko_KR/splugin.js?\" + headerfooter_time_year_s + headerfooter_time_month_s + headerfooter_time_day_s, function() { g_nx_splugin = SocialPlugIn_Core({ \"evKey\" : \"search\", \"serviceName\" : \"VIEW검색\" }) ; }, 150) ; function splugin_oninitialize(sTargetId) { var elTarget = document.getElementById(sTargetId) ; var sUrl = $$.getSingle('a._sp_each_url', elTarget ).href ; var sTitle = $Element($$.getSingle('._sp_each_title', elTarget)).text() ; var sSource = $Element($$.getSingle('._sp_each_source', elTarget)) ; if (sSource) sSource = sSource.text() ; return { \"url\" : sUrl, \"title\" : sTitle, \"option\" : {baseElement:sTargetId + '_base', layerPosition:'outside-bottom', align:'right', top:18, left:-28, marginLeft:8, marginTop:10}, \"me\" : { display : \"off\" }, \"mail\" : { display : \"off\" }, \"sourceName\" : sSource } ; } </script><script> nx_js_defer_load(\"//search.like.naver.com/static/js/likeIt.list.js?\" + headerfooter_time_year_s + headerfooter_time_month_s + headerfooter_time_day_s, function() { nhn.LikeIt.list.util.init({ sId : \"SEARCH\", sDomain : \"//search.like.naver.com\", bMobile : false }) ; }, 150) ; </script></div></div><script> (function() { var startApplication = function() { var jsFileURL = \"https://ssl.pstatic.net/sstatic/au/pc/tab/SearchTab_210504.js\"; var require = window.require.config({ \"context\": \"search_tab_module\", \"paths\": { \"SearchTab\": jsFileURL.replace(/\\.js$/, \"\"), } }); define(\"jquery\", [], function() { return jQuery; }); require([\"SearchTab\"], function(SearchTab) { var BASE_FLOATING_WIDTH = 1181; var $window = jQuery(window); var $lnb = jQuery(\"#lnb\"); var $headerWrap = jQuery(\"#header_wrap\"); var tab = new SearchTab($window, $lnb) .on(\"checkWindowWidth\", function(e){ if (e.windowWidth >= BASE_FLOATING_WIDTH) { $headerWrap.addClass(\"type_fixed\"); tab.activateFloating(); } else { tab.deactivateFloating(); $headerWrap .removeClass(\"type_fixed\") .removeClass(\"type_hide\"); } }) .on(\"hideTab\", function(){ if (window.g_nx_splugin && typeof window.g_nx_splugin.hide === \"function\") { window.g_nx_splugin.hide(); } }) .on(\"changeState\", function(e){ $headerWrap.toggleClass(\"type_hide\", e.isUnderBaseline); if (e.isUnderBaseline) { $headerWrap.addClass(\"type_animation\"); } }); }); }; naver.common.load_js(window.require ? null : naver.common.gv.REQUIRE_JS, startApplication, true, 150); })(); </script><script type=\"text/javascript\"> naver.search.section = { \"main\": [{\"area\": \"tab\", \"rank\": 1}], \"main2\": [{\"area\": \"rsk_top*q\", \"rank\": 1},{\"area\": \"bnr\", \"rank\": 2}],  \"find_section_list\": function(column, area) { if (!this[column]) return []; return this[column].filter(function(a) { return a.area.indexOf(area) === 0; }); } }; </script></div><script type=\"text/javascript\"> var nx_location_rcode = \"\" ; </script><div id=\"container\" role=\"main\"> <div id=\"content\" class=\"pack_group\"> <h1 class=\"blind\">연세대학교 VIEW검색 결과</h1> <div id=\"main_pack\" class=\"main_pack\"><script type=\"text/javascript\"> naver.search.option = {} ; naver.search.option.params = {} ; naver.search.option.append_params = (function () { return function (f, exclude) { if (exclude == undefined) exclude = []; for (var k in naver.search.option.params) { if (exclude.indexOf(k) >= 0) continue; var v = naver.search.option.params[k] ; var input = document.createElement(\"input\"); input.type = \"hidden\"; input.name = k ; input.value = v ; f.appendChild(input); } return true ; } ; })() ; naver.search.option.get_params = (function () { return function () { var option_params = \"\" ; for (var k in naver.search.option.params) { var v = naver.search.option.params[k]; option_params = option_params.concat(\"&\" + k + \"=\" + urlencode(v)); } return option_params ; } ; })() ; </script><script type='text/javascript'>var nx_cr_area_info=[{ n:\"tab\",r:1 }];</script><link rel=\"stylesheet\" type=\"text/css\" href=\"https://ssl.pstatic.net/sstatic/search/pc/css/sp_nblog_210520.css\" > <script type=\"text/javascript\"> (function() { var jsFileURL = \"https://ssl.pstatic.net/sstatic/au/m/searchOption/Controller_210415.js\"; var startApplication = function() { var require = window.require.config({ \"context\": \"_fe_search_option\", \"paths\": { \"Controller\": jsFileURL.replace(/\\.js$/, \"\") } }); define(\"jquery\", [], function() { return jQuery; }); require([\"Controller\"], function(Controller) { var oSearchOption = new Controller({ \"$form\": jQuery(\"#blog_form\"), \"direct\": { min: { year: 2003, month: 5, date: 20 }, max: { year: new Date().getFullYear(), month: new Date().getMonth() + 1, date: new Date().getDate() } } }); oSearchOption.on({ \"selectCalendar\": function(e) { var param = e.param; var cr = { \"area\": e.$item.data(\"cr-area\") }; var startDate = e.startDate; var endDate = e.endDate; var start = startDate.year + startDate.month + startDate.date; var end = endDate.year + endDate.month + endDate.date; /* nso */ var soNso = \"r\"; var dateNso = \"all\"; if(\"sim\" == \"date\") soNso = \"dd\"; dateNso = \"from\" + start + \"to\" + end; param = \"nso=\" + \"so:\" + soNso + \",p:\" + dateNso; this.submit(param, cr); }, \"clickDirectInputTrigger\": function(e) { var param = e.param; tCR('a=opt.cal&r=0&i=&u='+urlencode(this.href)) }, \"selectTime\": function(e) { var param = e.value; var cr = { \"area\": e.$item.data(\"cr-area\") }; this.submit(param, cr); }, \"clickTimeTrigger\": function(e) { if (e.bOpen) { console.log(\"clicklog: timetrigger open\"); } else { console.log(\"clicklog: timetrigger close\"); } }, \"clickItem\": function(e) { var param = e.param; var cr = { \"area\": e.$item.data(\"cr-area\") }; this.submit(param, cr); } }); }); }; var requirejs = naver.common.gv.REQUIRE_JS; naver.common.load_js(window.require ? null : requirejs, startApplication, true, 150); })(); </script> <form method=\"GET\" id=\"blog_form\" action=\"?\"> <input type=hidden name=\"where\" value=\"blog\"> <input type=hidden name=\"query\" id=\"query\" value=\"연세대학교\"> <input type=hidden name=\"sm\" id=\"sm\" value=\"tab_opt\"> <input type=hidden name=\"nso\" id=\"nso\" value=\"\"> </form> <div id=\"snb\"> <div class=\"api_group_option_filter _search_option_simple_wrap\" style=\"display: block;\"> <div class=\"list_option_filter type_solo\"> <div role=\"listbox\" class=\"option_area type_sort\" aria-label=\"정렬 필터를 선택하세요\"> <a href=\"?where=view&sm=tab_viw.blog&query=%EC%97%B0%EC%84%B8%EB%8C%80%ED%95%99%EA%B5%90&nso=\" role=\"option\" class=\"item\" aria-selected=\"false\" onclick=\"return goOtherCR(this, 'a=blg.sourceall&r=0&i=&u='+urlencode(this.href))\">전체</a> <a href=\"?where=blog&sm=tab_viw.blog&query=%EC%97%B0%EC%84%B8%EB%8C%80%ED%95%99%EA%B5%90&nso=\" role=\"option\" class=\"item\" aria-selected=\"true\" onclick=\"return goOtherCR(this, 'a=blg.sourceblog&r=0&i=&u='+urlencode(this.href))\">블로그</a> <a href=\"?where=article&sm=tab_viw.blog&query=%EC%97%B0%EC%84%B8%EB%8C%80%ED%95%99%EA%B5%90&nso=\" role=\"option\" class=\"item\" aria-selected=\"false\" onclick=\"return goOtherCR(this, 'a=blg.sourcecafe&r=0&i=&u='+urlencode(this.href))\">카페</a> </div> <div class=\"option_filter\"> <a href=\"javascript:;\" role=\"button\" aria-expanded=\"false\" aria-haspopup=\"listbox\" class=\"btn_option _search_option_open_btn\" aria-label=\"검색옵션 열기\" onclick=\"tCR('a=opt.unfd&r=0&i=&u='+urlencode(this.href))\"><i class=\"spnew ico_filter\"></i>옵션</a> </div> </div> </div> <div role=\"listbox\" class=\"api_group_option_sort _search_option_detail_wrap\" style=\"display: none;\"> <button type=\"button\" class=\"spnew_bf bt_close _search_option_close_btn\" onclick=\"tCR('a=opt.fold&r=0&i=&u='+urlencode(this.href))\">검색옵션 닫기</button> <ul class=\"lst_option\"> <li class=\"bx source\"> <div class=\"bx_inner\"> <strong class=\"tit\">출처</strong> <div role=\"tablist\" class=\"option\"> <a href=\"?where=view&sm=tab_viw.blog&query=%EC%97%B0%EC%84%B8%EB%8C%80%ED%95%99%EA%B5%90&nso=\" role=\"tab\" class=\"txt\" aria-selected=\"false\" onclick=\"return goOtherCR(this, 'a=blg.sourceall&r=0&i=&u='+urlencode(this.href))\">전체</a> <a href=\"?where=blog&sm=tab_viw.blog&query=%EC%97%B0%EC%84%B8%EB%8C%80%ED%95%99%EA%B5%90&nso=\" role=\"tab\" class=\"txt\" aria-selected=\"true\" onclick=\"return goOtherCR(this, 'a=blg.sourceblog&r=0&i=&u='+urlencode(this.href))\">블로그</a> <a href=\"?where=article&sm=tab_viw.blog&query=%EC%97%B0%EC%84%B8%EB%8C%80%ED%95%99%EA%B5%90&nso=\" role=\"tab\" class=\"txt\" aria-selected=\"false\" onclick=\"return goOtherCR(this, 'a=blg.sourcecafe&r=0&i=&u='+urlencode(this.href))\">카페</a> </div> </div> </li> <li class=\"bx lineup\"> <div class=\"bx_inner\"> <strong class=\"tit\">정렬</strong> <div role=\"tablist\" class=\"option\"> <a href=\"javascript:;\" data-cr-area=\"opt.sim\" data-param=\"nso=so:r,p:all\" data-search-option-item role=\"tab\" class=\"txt\" aria-selected=\"true\">관련도순</a> <a href=\"javascript:;\" data-cr-area=\"opt.new\" data-param=\"nso=so:dd,p:all\" data-search-option-item role=\"tab\" class=\"txt\" aria-selected=\"false\">최신순</a> </div> </div> </li> <li class=\"bx term\"> <div class=\"bx_inner\"> <strong class=\"tit\">기간</strong> <div role=\"tablist\" class=\"option\"> <a href=\"javascript:;\" data-cr-area=\"opt.all\" data-param=\"nso=so:r,p:all\" data-search-option-item role=\"tab\" class=\"txt\" aria-selected=\"true\">전체</a> <a href=\"javascript:;\" data-cr-area=\"opt.1hr\" data-param=\"nso=so:r,p:1h\" data-search-option-item role=\"tab\" class=\"txt\" aria-selected=\"false\">1시간</a> <a href=\"javascript:;\" data-cr-area=\"opt.1day\" data-param=\"nso=so:r,p:1d\" data-search-option-item role=\"tab\" class=\"txt\" aria-selected=\"false\">1일</a> <a href=\"javascript:;\" data-cr-area=\"opt.1week\" data-param=\"nso=so:r,p:1w\" data-search-option-item role=\"tab\" class=\"txt\" aria-selected=\"false\">1주</a> <a href=\"javascript:;\" data-cr-area=\"opt.1mon\" data-param=\"nso=so:r,p:1m\" data-search-option-item role=\"tab\" class=\"txt\" aria-selected=\"false\">1개월</a> <a href=\"javascript:;\" data-cr-area=\"opt.3mon\" data-param=\"nso=so:r,p:3m\" data-search-option-item role=\"tab\" class=\"txt\" aria-selected=\"false\">3개월</a> <a href=\"javascript:;\" data-cr-area=\"opt.6mon\" data-param=\"nso=so:r,p:6m\" data-search-option-item role=\"tab\" class=\"txt\" aria-selected=\"false\">6개월</a> <a href=\"javascript:;\" data-cr-area=\"opt.1yr\" data-param=\"nso=so:r,p:1y\" data-search-option-item role=\"tab\" class=\"txt\" aria-selected=\"false\">1년</a> <a href=\"javascript:;\" data-cr-area=\"opt.cal\" role=\"tab\" class=\"txt txt_option _calendar_select_trigger\" data-select-trigger aria-selected=\"false\">직접입력<i class=\"spnew ico_check\">옵션<em class=\"open\">펼치기</em><em class=\"close\">접기</em></i></a> </div> <div class=\"api_select_option type_calendar _calendar_select_layer\" data-select-layer style=\"display: none;\"> <div role=\"tablist\" class=\"set_calendar\"> <span class=\"set\"> <span class=\"blind\">기간 설정시작</span> <a href=\"javascript:;\" data-cr-area=\"opt.str\" role=\"tab\" class=\"spnew_bf ico_calendar _start_trigger\" aria-selected=\"true\" onclick=\"tCR('a=opt.str&r=0&i=&u='+urlencode(this.href))\"></a> </span> <span class=\"set etc\"> <span class=\"spnew ico_since\"></span> </span> <span class=\"set\"> <span class=\"blind\">기간 설정끝</span> <a href=\"javascript:;\" data-cr-area=\"opt.fin\" role=\"tab\" class=\"spnew_bf ico_calendar _end_trigger\" aria-selected=\"false\" onclick=\"tCR('a=opt.fin&r=0&i=&u='+urlencode(this.href))\"></a> </span> </div> <div class=\"select_wrap _root\"> <div class=\"group_select _list_root\"> <strong class=\"blind\">년(Year)</strong> <div class=\"select_cont\"> <div class=\"select_area _scroll_wrapper\"> <div> <ul role=\"tablist\" class=\"lst_item _ul\"> </ul> </div> </div> </div> </div> <div class=\"group_select _list_root\"> <strong class=\"blind\">월(Month)</strong> <div class=\"select_cont\"> <div class=\"select_area _scroll_wrapper\"> <div> <ul role=\"tablist\" class=\"lst_item _ul\"> </ul> </div> </div> </div> </div> <div class=\"group_select _list_root\"> <strong class=\"blind\">일(Day)</strong> <div class=\"select_cont\"> <div class=\"select_area _scroll_wrapper\"> <div> <ul role=\"tablist\" class=\"lst_item _ul\"> </ul> </div> </div> </div> </div> </div> <div class=\"btn_area\"><button data-cr-area=\"opt.set\" type=\"button\" class=\"btn_apply _apply_btn\">적용</button></div> </div> </div> </li> <li class=\"bx clear\"> <div class=\"bx_inner\"> <div class=\"option\"> <a href=\"?where=blog&sm=&query=%EC%97%B0%EC%84%B8%EB%8C%80%ED%95%99%EA%B5%90&nso_open=1\" class=\"btn_clear spnew_bf\" role=\"button\" onClick=\"return goOtherCR(this, 'a=opt.reset&r=0&i=&u='+urlencode(this.href))\">옵션 초기화</a> <a href=\"https://help.naver.com/support/alias/search/integration/intergration_85.naver\" class=\"link_help\" target=\"_blank\" onClick=\"return goOtherCR(this, 'a=opt.help&r=0&i=&u='+urlencode(this.href))\">검색옵션 가이드<i class=\"spnew api_ico_help\"></i></a> </div> </div> </li> </ul> </div> </div> <script type=\"text/javascript\"> function onErrorImage(obj, className) { obj.src = 'data:image/gif;base64,R0lGODlhAQABAIAAAAAAAP///yH5BAEAAAAALAAAAAABAAEAAAIBRAA7'; obj.className = className; obj.alt = '이미지준비중'; } function makeNSO(st, dateOption, dateFrom, dateTo, srchby) { submitForm = $Form(\"submitForm\"); soNso = \"r\"; srchbyNso = \"all\"; dateNso = \"all\"; if(st == \"date\") soNso = \"dd\"; if(srchby == \"title\") srchbyNso = \"t\"; if(dateOption == \"2\") dateNso = \"1d\"; else if(dateOption == \"3\") dateNso = \"1d\"; else if(dateOption == \"4\") dateNso = \"1d\"; else if(dateOption == \"6\") dateNso = \"1d\"; else if(dateOption == \"7\") dateNso = \"1d\"; else if(dateOption == \"8\") { dateFrom = dateFrom.replace('.','').replace('.',''); dateTo = dateTo.replace('.','').replace('.',''); dateNso = \"from\" + dateFrom + \"to\" + dateTo; } else dateNso = \"all\"; nso = \"so:\" + soNso + \",a:\" + srchbyNso + \",p:\" + dateNso; submitForm.value(\"form_nso\", nso); } (function() { var jsFileURL = \"https://ssl.pstatic.net/sstatic/au/pc/view/naver.search.view.Controller_201104.js\"; var jsLoadCallback = function () { var $base = jQuery(\"body\"); var oView = new naver.search.view.Controller($base.get(), { \"moreContents\": { \"getHTMLFromResponse\": function(res) { tCR('a=blg.more&r=0&i='); return res.html; } } }); oView.active(); }; naver.common.load_js(jsFileURL, jsLoadCallback, true, 150); })(); </script> <section class=\"sc_new sp_nblog _au_view_tab _svp_list\"> <html-persist id=\"_view_review_body_html\"> <div class=\"api_subject_bx\"> <more-contents> <div class=\"_more_contents_event_base\"> <ul class=\"lst_total\"> <li class=\"bx\" id=\"sp_blog_1\"> <div class=\"total_wrap api_ani_send\"> <div class=\"total_area\"> <div class=\"total_info\"> <div class=\"api_save_group _keep_wrap\"> <a href=\"javascript:;\" role=\"button\" class=\"btn_save _keep_trigger\" data-cr-on=\"a=blg*a.kep&r=1&i=90000003_0000000000000033C5227220&u=javascript\" data-cr-off=\"a=blg*a.kep&r=1&i=90000003_0000000000000033C5227220&u=javascript\" data-url=\"https://blog.naver.com/ibasser?Redirect=Log&logNo=222350701088\" aria-pressed=\"false\"><i class=\"spnew ico_save\">문서 저장하기</i></a> <div class=\"api_ly_save _keep_save_layer\"> <a href=\"javascript:;\" role=\"button\" class=\"spnew_af item item_save _keep_save\" data-cr-on=\"a=blg*a.kepon&r=1&i=90000003_0000000000000033C5227220&u=javascript\" data-cr-off=\"a=blg*a.kepoff&r=1&i=90000003_0000000000000033C5227220&u=javascript\">Keep에 저장</a> <a href=\"https://keep.naver.com/\" target=\"_blank\" class=\"spnew_af item item_quick\" onClick=\"return goOtherCR(this, 'a=blg*a.kephome&r=1&i=90000003_0000000000000033C5227220&u='+urlencode(this.href))\">Keep 바로가기</a> </div> </div> <div class=\"total_sub\"> <a href=\"https://blog.naver.com/ibasser\" class=\"sub_thumb\" target=\"_blank\" onClick=\"return goOtherCR(this, 'a=blg*a.writer&r=1&i=90000003_0000000000000033C5227220&u='+urlencode(this.href))\"> <span class=\"thumb\"><img src=\"https://search.pstatic.net/common/?src=http%3A%2F%2Fblogpfthumb.phinf.naver.net%2FMjAyMDA2MzBfMzYg%2FMDAxNTkzNDg3MTkxNDg3.GIErv7a5HIzWRpTJuRNvRQaVRTPJkRSzpfDY3WyKXpQg.hW_K6gxBoTugGcf7C7mleKg-qs_O2xvx9aL-Lc-d_Z4g.PNG.ibasser%2F20200630_121926.png&type=n48_48\" width=\"20\" height=\"20\" alt=\"\" onerror=\"onErrorImage(this, 'bg_npimg');\"></span> </a> <span class=\"elss etc_dsc\"> <span class=\"etc_dsc_group\"> <span class=\"etc_dsc_area\"> <span class=\"sub_time sub_txt\">2021.05.14.</span> </span> <span class=\"elss etc_dsc_inner\"> <a href=\"https://blog.naver.com/ibasser\" class=\"sub_txt sub_name\" target=\"_blank\" onClick=\"return goOtherCR(this, 'a=blg*a.writer&r=1&i=90000003_0000000000000033C5227220&u='+urlencode(this.href))\">아이펭의 스터디 하이[High]</a> </span> </span> </span> </div> </div> <a href=\"https://blog.naver.com/ibasser?Redirect=Log&logNo=222350701088\" class=\"api_txt_lines total_tit\" target=\"_blank\" onClick=\"return goOtherCR(this, 'a=blg*a.iblg&r=1&i=90000003_0000000000000033C5227220&u='+urlencode(this.href))\"><strong class=\"hl\">연세대학교</strong> 편입 세심한 부분까지 공부!</a> <div class=\"total_group\"> <div class=\"total_dsc_wrap\"> <a href=\"https://blog.naver.com/ibasser?Redirect=Log&logNo=222350701088\" class=\"total_dsc\" target=\"_blank\" onClick=\"return goOtherCR(this, 'a=blg*a.iblg&r=1&i=90000003_0000000000000033C5227220&u='+urlencode(this.href))\"> <div class=\"api_txt_lines dsc_txt\">상대적으로 연세대가 가장 까다롭게 느껴지게 되었는데요. 그래서 <strong class=\"hl\">연세대학교</strong> 편입 대비를 부담스러워하는 분들이 참 많습니다. 따라서 그 중 가장 핵심인 전공... </div> </a> </div> </div> </div> <a href=\"https://blog.naver.com/ibasser?Redirect=Log&logNo=222350701088\" class=\"thumb_single\" target=\"_blank\" onClick=\"return goOtherCR(this, 'a=blg*a.iblg&r=1&i=90000003_0000000000000033C5227220&u='+urlencode(this.href))\"> <span class=\"thumb_fix\"><img src=\"https://search.pstatic.net/common/?src=http%3A%2F%2Fblogfiles.naver.net%2FMjAyMTA1MTRfMTQy%2FMDAxNjIwOTY3NzA4OTY0.IMa2janXpXT4IoBYEM4A-p8N2c4Ho76Ez-Xj2SL3HFQg.wpwmhN08zqXJ3IZEnTAOjrzSrlGFeoSvEdtJCqFfyjIg.GIF.ibasser%2F%25C6%25ED_%252816%2529.gif%23740x740%23g&type=ff264_180\" width=\"132\" height=\"90\" alt=\"\" class=\"thumb api_get\" onerror=\"onErrorImage(this, 'bg_nimg');\"><span class=\"thumb_count\">18</span></span> </a> </div> </li> <li class=\"bx\" id=\"sp_blog_2\"> <div class=\"total_wrap api_ani_send\"> <div class=\"total_area\"> <div class=\"total_info\"> <div class=\"api_save_group _keep_wrap\"> <a href=\"javascript:;\" role=\"button\" class=\"btn_save _keep_trigger\" data-cr-on=\"a=blg*a.kep&r=2&i=90000003_0000000000000033C515610D&u=javascript\" data-cr-off=\"a=blg*a.kep&r=2&i=90000003_0000000000000033C515610D&u=javascript\" data-url=\"https://blog.naver.com/jjangting?Redirect=Log&logNo=222349844749\" aria-pressed=\"false\"><i class=\"spnew ico_save\">문서 저장하기</i></a> <div class=\"api_ly_save _keep_save_layer\"> <a href=\"javascript:;\" role=\"button\" class=\"spnew_af item item_save _keep_save\" data-cr-on=\"a=blg*a.kepon&r=2&i=90000003_0000000000000033C515610D&u=javascript\" data-cr-off=\"a=blg*a.kepoff&r=2&i=90000003_0000000000000033C515610D&u=javascript\">Keep에 저장</a> <a href=\"https://keep.naver.com/\" target=\"_blank\" class=\"spnew_af item item_quick\" onClick=\"return goOtherCR(this, 'a=blg*a.kephome&r=2&i=90000003_0000000000000033C515610D&u='+urlencode(this.href))\">Keep 바로가기</a> </div> </div> <div class=\"total_sub\"> <a href=\"https://blog.naver.com/jjangting\" class=\"sub_thumb\" target=\"_blank\" onClick=\"return goOtherCR(this, 'a=blg*a.writer&r=2&i=90000003_0000000000000033C515610D&u='+urlencode(this.href))\"> <span class=\"thumb\"><img src=\"https://search.pstatic.net/common/?src=http%3A%2F%2Fblogpfthumb.phinf.naver.net%2FMjAyMTAzMDRfMTI5%2FMDAxNjE0Nzg1OTcyODc5.UdHIBakkNzPITZs0SFZhtYAmN_EL6tqedo0qSrS-_08g.N0PmLQjyR4qER_n3l8Vwb6_L8mE1t7Ia0Lu3Q469_50g.JPEG.jjangting%2FprofileImage.jpg&type=n48_48\" width=\"20\" height=\"20\" alt=\"\" onerror=\"onErrorImage(this, 'bg_npimg');\"></span> </a> <span class=\"elss etc_dsc\"> <span class=\"etc_dsc_group\"> <span class=\"etc_dsc_area\"> <span class=\"sub_time sub_txt\">2021.05.13.</span> </span> <span class=\"elss etc_dsc_inner\"> <a href=\"https://blog.naver.com/jjangting\" class=\"sub_txt sub_name\" target=\"_blank\" onClick=\"return goOtherCR(this, 'a=blg*a.writer&r=2&i=90000003_0000000000000033C515610D&u='+urlencode(this.href))\">My Style !!</a> </span> </span> </span> </div> </div> <a href=\"https://blog.naver.com/jjangting?Redirect=Log&logNo=222349844749\" class=\"api_txt_lines total_tit\" target=\"_blank\" onClick=\"return goOtherCR(this, 'a=blg*a.iblg&r=2&i=90000003_0000000000000033C515610D&u='+urlencode(this.href))\">[입시] 2022학년도 <strong class=\"hl\">연세대학교</strong> 수시 모집요강</a> <div class=\"total_group\"> <div class=\"total_dsc_wrap\"> <a href=\"https://blog.naver.com/jjangting?Redirect=Log&logNo=222349844749\" class=\"total_dsc\" target=\"_blank\" onClick=\"return goOtherCR(this, 'a=blg*a.iblg&r=2&i=90000003_0000000000000033C515610D&u='+urlencode(this.href))\"> <div class=\"api_txt_lines dsc_txt\">(예체능)이 <strong class=\"hl\">연세대학교</strong>에서 수학하기 어렵다고 판단되는 경우 * 입학전형 평가내용은 공개하지 않습니다. * 공정하고 투명한 전형 시행을 위해 본 대학교 「입학전형... </div> </a> </div> </div> </div> <a href=\"https://blog.naver.com/jjangting?Redirect=Log&logNo=222349844749\" class=\"thumb_single\" target=\"_blank\" onClick=\"return goOtherCR(this, 'a=blg*a.iblg&r=2&i=90000003_0000000000000033C515610D&u='+urlencode(this.href))\"> <span class=\"thumb_fix\"><img src=\"https://search.pstatic.net/common/?src=http%3A%2F%2Fblogfiles.naver.net%2FMjAyMTA1MTNfMjE1%2FMDAxNjIwODg5Nzc1MTcy.HGzdiAUcf3IUvJT19VO-A-OmS6_vbe_n4jTOMDcPNA4g.zRLdg5PRQLC8TAKjzmaFcm3FqB8wz7MbrjqD7QLucJog.JPEG.jjangting%2F1%25BC%25F6%25BD%25C3%25B8%25F0%25C1%25FD.jpg%231211x755&type=ff264_180\" width=\"132\" height=\"90\" alt=\"\" class=\"thumb api_get\" onerror=\"onErrorImage(this, 'bg_nimg');\"><span class=\"thumb_count\">17</span></span> </a> </div> </li> <li class=\"bx\" id=\"sp_blog_3\"> <div class=\"total_wrap api_ani_send\"> <div class=\"total_area\"> <div class=\"total_info\"> <div class=\"api_save_group _keep_wrap\"> <a href=\"javascript:;\" role=\"button\" class=\"btn_save _keep_trigger\" data-cr-on=\"a=blg*a.kep&r=3&i=90000003_0000000000000033C5B18D2F&u=javascript\" data-cr-off=\"a=blg*a.kep&r=3&i=90000003_0000000000000033C5B18D2F&u=javascript\" data-url=\"https://blog.naver.com/yonseiblog?Redirect=Log&logNo=222360079663\" aria-pressed=\"false\"><i class=\"spnew ico_save\">문서 저장하기</i></a> <div class=\"api_ly_save _keep_save_layer\"> <a href=\"javascript:;\" role=\"button\" class=\"spnew_af item item_save _keep_save\" data-cr-on=\"a=blg*a.kepon&r=3&i=90000003_0000000000000033C5B18D2F&u=javascript\" data-cr-off=\"a=blg*a.kepoff&r=3&i=90000003_0000000000000033C5B18D2F&u=javascript\">Keep에 저장</a> <a href=\"https://keep.naver.com/\" target=\"_blank\" class=\"spnew_af item item_quick\" onClick=\"return goOtherCR(this, 'a=blg*a.kephome&r=3&i=90000003_0000000000000033C5B18D2F&u='+urlencode(this.href))\">Keep 바로가기</a> </div> </div> <div class=\"total_sub\"> <a href=\"https://blog.naver.com/yonseiblog\" class=\"sub_thumb\" target=\"_blank\" onClick=\"return goOtherCR(this, 'a=blg*a.writer&r=3&i=90000003_0000000000000033C5B18D2F&u='+urlencode(this.href))\"> <span class=\"thumb\"><img src=\"https://search.pstatic.net/common/?src=http%3A%2F%2Fblogpfthumb.phinf.naver.net%2F20191006_100%2Fyonseiblog_1570370958330gwz8W_JPEG%2F%253F%253F%253F%253F%253F%253F%253F%25AC%25D2%253F%2528%253F%253F%25A5%25E1%253F%2529%2528%253F%253F%253F%253F%253F%253F%2529.jpg&type=n48_48\" width=\"20\" height=\"20\" alt=\"\" onerror=\"onErrorImage(this, 'bg_npimg');\"></span> </a> <span class=\"elss etc_dsc\"> <span class=\"etc_dsc_group\"> <span class=\"etc_dsc_area\"> <i class=\"spnew api_icon_official2\">공식</i> <span class=\"sub_time sub_txt\">2일 전</span> </span> <span class=\"elss etc_dsc_inner\"> <a href=\"https://blog.naver.com/yonseiblog\" class=\"sub_txt sub_name\" target=\"_blank\" onClick=\"return goOtherCR(this, 'a=blg*a.writer&r=3&i=90000003_0000000000000033C5B18D2F&u='+urlencode(this.href))\">연세대학교 공식 블로그</a> </span> </span> </span> </div> </div> <a href=\"https://blog.naver.com/yonseiblog?Redirect=Log&logNo=222360079663\" class=\"api_txt_lines total_tit\" target=\"_blank\" onClick=\"return goOtherCR(this, 'a=blg*a.iblg&r=3&i=90000003_0000000000000033C5B18D2F&u='+urlencode(this.href))\"><strong class=\"hl\">연세대학교</strong> 상경대학, 故 김우중(前 대우그룹 회장) 흉상... </a> <div class=\"total_group\"> <div class=\"total_dsc_wrap\"> <a href=\"https://blog.naver.com/yonseiblog?Redirect=Log&logNo=222360079663\" class=\"total_dsc\" target=\"_blank\" onClick=\"return goOtherCR(this, 'a=blg*a.iblg&r=3&i=90000003_0000000000000033C5B18D2F&u='+urlencode(this.href))\"> <div class=\"api_txt_lines dsc_txt\">&quot;며 &quot;<strong class=\"hl\">연세대학교</strong>는 제2, 제3의 김우중을 배출해 회장님께서 꿈꾸었던 넓은 세상을 이끌어갈 리더를 배출하겠다.&quot;고 밝혔다. 이어 유경선 총동문회장은 &quot;연세 교정에... </div> </a> </div> </div> </div> <a href=\"https://blog.naver.com/yonseiblog?Redirect=Log&logNo=222360079663\" class=\"thumb_single\" target=\"_blank\" onClick=\"return goOtherCR(this, 'a=blg*a.iblg&r=3&i=90000003_0000000000000033C5B18D2F&u='+urlencode(this.href))\"> <span class=\"thumb_fix\"><img src=\"https://search.pstatic.net/common/?src=http%3A%2F%2Fblogfiles.naver.net%2FMjAyMTA1MjFfMjg4%2FMDAxNjIxNTc2MTY0NTIw.LFPz8q7j6qvkRNfdFvsacBzNJ0WpY57JgmC1AYaF8d4g.HU1cjH4yQppIpc-EmZt__2CFE8fxp8U_ZIkqDTYHg0wg.PNG.yonseiblog%2F2021_%25BA%25ED%25B7%25CE%25B1%25D7%25BC%25B6%25B3%25D7%25C0%25CF.png%23250x250&type=ff264_180\" width=\"132\" height=\"90\" alt=\"\" class=\"thumb api_get\" onerror=\"onErrorImage(this, 'bg_nimg');\"><span class=\"thumb_count\">3</span></span> </a> </div> </li> <li class=\"bx\" id=\"sp_blog_4\"> <div class=\"total_wrap api_ani_send\"> <div class=\"total_area\"> <div class=\"total_info\"> <div class=\"api_save_group _keep_wrap\"> <a href=\"javascript:;\" role=\"button\" class=\"btn_save _keep_trigger\" data-cr-on=\"a=blg*a.kep&r=4&i=90000003_0000000000000033BD84C205&u=javascript\" data-cr-off=\"a=blg*a.kep&r=4&i=90000003_0000000000000033BD84C205&u=javascript\" data-url=\"https://blog.naver.com/uway2005?Redirect=Log&logNo=222222926341\" aria-pressed=\"false\"><i class=\"spnew ico_save\">문서 저장하기</i></a> <div class=\"api_ly_save _keep_save_layer\"> <a href=\"javascript:;\" role=\"button\" class=\"spnew_af item item_save _keep_save\" data-cr-on=\"a=blg*a.kepon&r=4&i=90000003_0000000000000033BD84C205&u=javascript\" data-cr-off=\"a=blg*a.kepoff&r=4&i=90000003_0000000000000033BD84C205&u=javascript\">Keep에 저장</a> <a href=\"https://keep.naver.com/\" target=\"_blank\" class=\"spnew_af item item_quick\" onClick=\"return goOtherCR(this, 'a=blg*a.kephome&r=4&i=90000003_0000000000000033BD84C205&u='+urlencode(this.href))\">Keep 바로가기</a> </div> </div> <div class=\"total_sub\"> <a href=\"https://blog.naver.com/uway2005\" class=\"sub_thumb\" target=\"_blank\" onClick=\"return goOtherCR(this, 'a=blg*a.writer&r=4&i=90000003_0000000000000033BD84C205&u='+urlencode(this.href))\"> <span class=\"thumb\"><img src=\"https://search.pstatic.net/common/?src=http%3A%2F%2Fblogpfthumb.phinf.naver.net%2FMjAxOTA2MTlfMjA5%2FMDAxNTYwOTMyMTExNDU0.3YQNun15GjhV7yCn4fDmMqmNhnneUXmmll2R7fhQ53wg.JoFYKKVzgZxnICh1Wx3mWCmPe44UaDrqK3QUQ9LVL6Qg.JPEG.uway2005%2F%2525C4%2525B8%2525C3%2525B311.JPG&type=n48_48\" width=\"20\" height=\"20\" alt=\"\" onerror=\"onErrorImage(this, 'bg_npimg');\"></span> </a> <span class=\"elss etc_dsc\"> <span class=\"etc_dsc_group\"> <span class=\"etc_dsc_area\"> <i class=\"spnew api_icon_official2\">공식</i> <span class=\"sub_time sub_txt\">2021.01.28.</span> </span> <span class=\"elss etc_dsc_inner\"> <a href=\"https://blog.naver.com/uway2005\" class=\"sub_txt sub_name\" target=\"_blank\" onClick=\"return goOtherCR(this, 'a=blg*a.writer&r=4&i=90000003_0000000000000033BD84C205&u='+urlencode(this.href))\">유웨이 공식블로그</a> </span> </span> </span> </div> </div> <a href=\"https://blog.naver.com/uway2005?Redirect=Log&logNo=222222926341\" class=\"api_txt_lines total_tit\" target=\"_blank\" onClick=\"return goOtherCR(this, 'a=blg*a.iblg&r=4&i=90000003_0000000000000033BD84C205&u='+urlencode(this.href))\">2022학년도 <strong class=\"hl\">연세대학교</strong> 서울캠퍼스 수시 전형방법, 모집요강... </a> <div class=\"total_group\"> <div class=\"total_dsc_wrap\"> <a href=\"https://blog.naver.com/uway2005?Redirect=Log&logNo=222222926341\" class=\"total_dsc\" target=\"_blank\" onClick=\"return goOtherCR(this, 'a=blg*a.iblg&r=4&i=90000003_0000000000000033BD84C205&u='+urlencode(this.href))\"> <div class=\"api_txt_lines dsc_txt\">#연세대 #<strong class=\"hl\">연세대학교</strong> #연세대전형방법 #연세대수시전형방법 #<strong class=\"hl\">연세대학교</strong>수시전형방법 #연세대수능최저학력기준 #연세대경쟁률 #유웨이연세대 #유웨이앱 #연세대삼성... </div> </a> </div> </div> </div> <a href=\"https://blog.naver.com/uway2005?Redirect=Log&logNo=222222926341\" class=\"thumb_single\" target=\"_blank\" onClick=\"return goOtherCR(this, 'a=blg*a.iblg&r=4&i=90000003_0000000000000033BD84C205&u='+urlencode(this.href))\"> <span class=\"thumb_fix\"><img src=\"https://search.pstatic.net/common/?src=http%3A%2F%2Fblogfiles.naver.net%2FMjAyMTAxMjhfMjcw%2FMDAxNjExODA4MTc1MTMy.96uzDpCkfXwL6YRWWk0Nx0tWq8X4WnC5lNoOqhZuQzkg.8c74oVAZKZ6MSFOYi_e6qGlsI3inR5LPfuRH9dRC_pUg.PNG.uway2005%2F2.png%23400x400&type=ff264_180\" width=\"132\" height=\"90\" alt=\"\" class=\"thumb api_get\" onerror=\"onErrorImage(this, 'bg_nimg');\"><span class=\"thumb_count\">17</span></span> </a> </div> </li> <li class=\"bx\" id=\"sp_blog_5\"> <div class=\"total_wrap api_ani_send\"> <div class=\"total_area\"> <div class=\"total_info\"> <div class=\"api_save_group _keep_wrap\"> <a href=\"javascript:;\" role=\"button\" class=\"btn_save _keep_trigger\" data-cr-on=\"a=blg*a.kep&r=5&i=90000003_0000000000000033C3ACD43B&u=javascript\" data-cr-off=\"a=blg*a.kep&r=5&i=90000003_0000000000000033C3ACD43B&u=javascript\" data-url=\"https://blog.naver.com/nextyonsei?Redirect=Log&logNo=222326215739\" aria-pressed=\"false\"><i class=\"spnew ico_save\">문서 저장하기</i></a> <div class=\"api_ly_save _keep_save_layer\"> <a href=\"javascript:;\" role=\"button\" class=\"spnew_af item item_save _keep_save\" data-cr-on=\"a=blg*a.kepon&r=5&i=90000003_0000000000000033C3ACD43B&u=javascript\" data-cr-off=\"a=blg*a.kepoff&r=5&i=90000003_0000000000000033C3ACD43B&u=javascript\">Keep에 저장</a> <a href=\"https://keep.naver.com/\" target=\"_blank\" class=\"spnew_af item item_quick\" onClick=\"return goOtherCR(this, 'a=blg*a.kephome&r=5&i=90000003_0000000000000033C3ACD43B&u='+urlencode(this.href))\">Keep 바로가기</a> </div> </div> <div class=\"total_sub\"> <a href=\"https://blog.naver.com/nextyonsei\" class=\"sub_thumb\" target=\"_blank\" onClick=\"return goOtherCR(this, 'a=blg*a.writer&r=5&i=90000003_0000000000000033C3ACD43B&u='+urlencode(this.href))\"> <span class=\"thumb\"><img src=\"https://search.pstatic.net/common/?src=http%3A%2F%2Fblogpfthumb.phinf.naver.net%2F20140122_266%2Fnextyonsei_1390355854064HaiAf_JPEG%2F%25BF%25AC%25BC%25BCY-1.jpg&type=n48_48\" width=\"20\" height=\"20\" alt=\"\" onerror=\"onErrorImage(this, 'bg_npimg');\"></span> </a> <span class=\"elss etc_dsc\"> <span class=\"etc_dsc_group\"> <span class=\"etc_dsc_area\"> <i class=\"spnew api_icon_official2\">공식</i> <span class=\"sub_time sub_txt\">2021.04.28.</span> </span> <span class=\"elss etc_dsc_inner\"> <a href=\"https://blog.naver.com/nextyonsei\" class=\"sub_txt sub_name\" target=\"_blank\" onClick=\"return goOtherCR(this, 'a=blg*a.writer&r=5&i=90000003_0000000000000033C3ACD43B&u='+urlencode(this.href))\">연세대학교 미래캠퍼스 공식블로그</a> </span> </span> </span> </div> </div> <a href=\"https://blog.naver.com/nextyonsei?Redirect=Log&logNo=222326215739\" class=\"api_txt_lines total_tit\" target=\"_blank\" onClick=\"return goOtherCR(this, 'a=blg*a.iblg&r=5&i=90000003_0000000000000033C3ACD43B&u='+urlencode(this.href))\"><strong class=\"hl\">연세대학교</strong> 미래캠퍼스 RC융합대학에 대해 알아보자!</a> <div class=\"total_group\"> <div class=\"total_dsc_wrap\"> <a href=\"https://blog.naver.com/nextyonsei?Redirect=Log&logNo=222326215739\" class=\"total_dsc\" target=\"_blank\" onClick=\"return goOtherCR(this, 'a=blg*a.iblg&r=5&i=90000003_0000000000000033C3ACD43B&u='+urlencode(this.href))\"> <div class=\"api_txt_lines dsc_txt\"><strong class=\"hl\">연세대학교</strong> 미래캠퍼스 RC융합대학에 대해 알아보자! 2021학년도를 맞이하면서 학사구조 개편 등 다양한 혁신의 바람이 불어온 <strong class=\"hl\">연세대학교</strong> 미래캠퍼스. 오늘은... </div> </a> </div> </div> </div> <a href=\"https://blog.naver.com/nextyonsei?Redirect=Log&logNo=222326215739\" class=\"thumb_single\" target=\"_blank\" onClick=\"return goOtherCR(this, 'a=blg*a.iblg&r=5&i=90000003_0000000000000033C3ACD43B&u='+urlencode(this.href))\"> <span class=\"thumb_fix\"><img src=\"https://search.pstatic.net/common/?src=http%3A%2F%2Fblogfiles.naver.net%2FMjAyMTA0MjhfMjQ1%2FMDAxNjE5NTkwMzgxMjQz.mYqkyRg5-yGfMtwRiiaUYuxvJZGW-_o_ZkPsXU2lU34g.TC04y8ZHxXEbXjBeMHdRzDimHaW1pqyU1grZxL3ezLIg.PNG.nextyonsei%2F210422_%25BF%25AC%25BC%25BC%25B4%25EBRC%25C0%25B6%25C7%25D5_01.jpg.png%23960x960&type=ff264_180\" width=\"132\" height=\"90\" alt=\"\" class=\"thumb api_get\" onerror=\"onErrorImage(this, 'bg_nimg');\"><span class=\"thumb_count\">6</span></span> </a> </div> </li> <li class=\"bx\" id=\"sp_blog_6\"> <div class=\"total_wrap api_ani_send\"> <div class=\"total_area\"> <div class=\"total_info\"> <div class=\"api_save_group _keep_wrap\"> <a href=\"javascript:;\" role=\"button\" class=\"btn_save _keep_trigger\" data-cr-on=\"a=blg*a.kep&r=6&i=90000003_0000000000000033C560FFD8&u=javascript\" data-cr-off=\"a=blg*a.kep&r=6&i=90000003_0000000000000033C560FFD8&u=javascript\" data-url=\"https://blog.naver.com/atstudy?Redirect=Log&logNo=222354800600\" aria-pressed=\"false\"><i class=\"spnew ico_save\">문서 저장하기</i></a> <div class=\"api_ly_save _keep_save_layer\"> <a href=\"javascript:;\" role=\"button\" class=\"spnew_af item item_save _keep_save\" data-cr-on=\"a=blg*a.kepon&r=6&i=90000003_0000000000000033C560FFD8&u=javascript\" data-cr-off=\"a=blg*a.kepoff&r=6&i=90000003_0000000000000033C560FFD8&u=javascript\">Keep에 저장</a> <a href=\"https://keep.naver.com/\" target=\"_blank\" class=\"spnew_af item item_quick\" onClick=\"return goOtherCR(this, 'a=blg*a.kephome&r=6&i=90000003_0000000000000033C560FFD8&u='+urlencode(this.href))\">Keep 바로가기</a> </div> </div> <div class=\"total_sub\"> <a href=\"https://blog.naver.com/atstudy\" class=\"sub_thumb\" target=\"_blank\" onClick=\"return goOtherCR(this, 'a=blg*a.writer&r=6&i=90000003_0000000000000033C560FFD8&u='+urlencode(this.href))\"> <span class=\"thumb\"><img src=\"https://search.pstatic.net/common/?src=http%3A%2F%2Fblogpfthumb.phinf.naver.net%2F20160615_292%2Fatstudy_1465917068277a1kxm_JPEG%2F%2525B7%2525CE%2525B0%2525ED.jpg&type=n48_48\" width=\"20\" height=\"20\" alt=\"\" onerror=\"onErrorImage(this, 'bg_npimg');\"></span> </a> <span class=\"elss etc_dsc\"> <span class=\"etc_dsc_group\"> <span class=\"etc_dsc_area\"> <span class=\"sub_time sub_txt\">6일 전</span> </span> <span class=\"elss etc_dsc_inner\"> <a href=\"https://blog.naver.com/atstudy\" class=\"sub_txt sub_name\" target=\"_blank\" onClick=\"return goOtherCR(this, 'a=blg*a.writer&r=6&i=90000003_0000000000000033C560FFD8&u='+urlencode(this.href))\">올댓스터디는 다음세대와 우리가정을 위해 일합니다</a> </span> </span> </span> </div> </div> <a href=\"https://blog.naver.com/atstudy?Redirect=Log&logNo=222354800600\" class=\"api_txt_lines total_tit\" target=\"_blank\" onClick=\"return goOtherCR(this, 'a=blg*a.iblg&r=6&i=90000003_0000000000000033C560FFD8&u='+urlencode(this.href))\">[2022학년도] 대입핵심전략 5탄(<strong class=\"hl\">연세대학교</strong>)</a> <div class=\"total_group\"> <div class=\"total_dsc_wrap\"> <a href=\"https://blog.naver.com/atstudy?Redirect=Log&logNo=222354800600\" class=\"total_dsc\" target=\"_blank\" onClick=\"return goOtherCR(this, 'a=blg*a.iblg&r=6&i=90000003_0000000000000033C560FFD8&u='+urlencode(this.href))\"> <div class=\"api_txt_lines dsc_txt\">한양대학교 입시 정보를 다루었었죠. 오늘은 <strong class=\"hl\">연세대학교</strong>의 2022학년도 입시... 2022학년도 연세대 입시 공식 안내 연세대 2022학년도 입시 요강 1부 : [1] 2022학년도... </div> </a> </div> </div> </div> <a href=\"https://blog.naver.com/atstudy?Redirect=Log&logNo=222354800600\" class=\"thumb_single\" target=\"_blank\" onClick=\"return goOtherCR(this, 'a=blg*a.iblg&r=6&i=90000003_0000000000000033C560FFD8&u='+urlencode(this.href))\"> <span class=\"thumb_fix\"><img src=\"https://search.pstatic.net/common/?src=http%3A%2F%2Fblogfiles.naver.net%2FMjAyMTA1MTRfMjM2%2FMDAxNjIwOTk1NjI0Njkw.u38j-hbWz3C2S_24SCDkC2oW09UKDzhFJOsvQu-pc0Yg.BY-qLAg5Ym05mzAKwP83m_gUK9e1pSKwXvosS6GQyg4g.PNG.atstudy%2F%25BF%25AC%25BC%25BC%25B4%25EB_%25BA%25ED%25B7%25CE%25B1%25D7_%25C7%25A5%25C1%25F6.PNG%23672x671&type=ff264_180\" width=\"132\" height=\"90\" alt=\"\" class=\"thumb api_get\" onerror=\"onErrorImage(this, 'bg_nimg');\"><span class=\"thumb_count\">33</span></span> </a> </div> </li> <li class=\"bx\" id=\"sp_blog_7\"> <div class=\"total_wrap api_ani_send\"> <div class=\"total_area\"> <div class=\"total_info\"> <div class=\"api_save_group _keep_wrap\"> <a href=\"javascript:;\" role=\"button\" class=\"btn_save _keep_trigger\" data-cr-on=\"a=blg*a.kep&r=7&i=90000003_0000000000000033B9296B76&u=javascript\" data-cr-off=\"a=blg*a.kep&r=7&i=90000003_0000000000000033B9296B76&u=javascript\" data-url=\"https://blog.naver.com/megamdl?Redirect=Log&logNo=222149831542\" aria-pressed=\"false\"><i class=\"spnew ico_save\">문서 저장하기</i></a> <div class=\"api_ly_save _keep_save_layer\"> <a href=\"javascript:;\" role=\"button\" class=\"spnew_af item item_save _keep_save\" data-cr-on=\"a=blg*a.kepon&r=7&i=90000003_0000000000000033B9296B76&u=javascript\" data-cr-off=\"a=blg*a.kepoff&r=7&i=90000003_0000000000000033B9296B76&u=javascript\">Keep에 저장</a> <a href=\"https://keep.naver.com/\" target=\"_blank\" class=\"spnew_af item item_quick\" onClick=\"return goOtherCR(this, 'a=blg*a.kephome&r=7&i=90000003_0000000000000033B9296B76&u='+urlencode(this.href))\">Keep 바로가기</a> </div> </div> <div class=\"total_sub\"> <a href=\"https://blog.naver.com/megamdl\" class=\"sub_thumb\" target=\"_blank\" onClick=\"return goOtherCR(this, 'a=blg*a.writer&r=7&i=90000003_0000000000000033B9296B76&u='+urlencode(this.href))\"> <span class=\"thumb\"><img src=\"https://search.pstatic.net/common/?src=http%3A%2F%2Fblogpfthumb.phinf.naver.net%2F20140414_39%2Fmegamdl_1397451647111BJdDk_PNG%2F%25BA%25EA%25B7%25A3%25B5%25E5.png&type=n48_48\" width=\"20\" height=\"20\" alt=\"\" onerror=\"onErrorImage(this, 'bg_npimg');\"></span> </a> <span class=\"elss etc_dsc\"> <span class=\"etc_dsc_group\"> <span class=\"etc_dsc_area\"> <i class=\"spnew api_icon_official2\">공식</i> <span class=\"sub_time sub_txt\">2020.11.20.</span> </span> <span class=\"elss etc_dsc_inner\"> <a href=\"https://blog.naver.com/megamdl\" class=\"sub_txt sub_name\" target=\"_blank\" onClick=\"return goOtherCR(this, 'a=blg*a.writer&r=7&i=90000003_0000000000000033B9296B76&u='+urlencode(this.href))\">1등의 책임감, 메가엠디 공식 블로그</a> </span> </span> </span> </div> </div> <a href=\"https://blog.naver.com/megamdl?Redirect=Log&logNo=222149831542\" class=\"api_txt_lines total_tit\" target=\"_blank\" onClick=\"return goOtherCR(this, 'a=blg*a.iblg&r=7&i=90000003_0000000000000033B9296B76&u='+urlencode(this.href))\"><strong class=\"hl\">연세대학교</strong> 편입학 이공계열 필기고사와 서류</a> <div class=\"total_group\"> <div class=\"total_dsc_wrap\"> <a href=\"https://blog.naver.com/megamdl?Redirect=Log&logNo=222149831542\" class=\"total_dsc\" target=\"_blank\" onClick=\"return goOtherCR(this, 'a=blg*a.iblg&r=7&i=90000003_0000000000000033B9296B76&u='+urlencode(this.href))\"> <div class=\"api_txt_lines dsc_txt\">오늘은 <strong class=\"hl\">연세대학교</strong> 편입학 이공계열 모집요강을 함께 살펴보고, 전공... [주관식 물리 추천 학습법] 시험의 유형은 고등학교 내신, 대학교의 중간/기말고사 형태로... </div> </a> </div> </div> </div> <a href=\"https://blog.naver.com/megamdl?Redirect=Log&logNo=222149831542\" class=\"thumb_single\" target=\"_blank\" onClick=\"return goOtherCR(this, 'a=blg*a.iblg&r=7&i=90000003_0000000000000033B9296B76&u='+urlencode(this.href))\"> <span class=\"thumb_fix\"><img src=\"https://search.pstatic.net/common/?src=http%3A%2F%2Fblogfiles.naver.net%2FMjAyMDExMjBfMjE1%2FMDAxNjA1ODYxOTg2MzMw.OI_0ZG0S5XpLn3ykirVwkWix6P5xkQz6U_Zpu2zTsgIg.lfz947M_Rwh_99hZKu8u8bNuEAFw_kkr-UN6FTQk9DAg.PNG.megamdl%2F20201120_174615.png%231080x1080&type=ff264_180\" width=\"132\" height=\"90\" alt=\"\" class=\"thumb api_get\" onerror=\"onErrorImage(this, 'bg_nimg');\"><span class=\"thumb_count\">11</span></span> </a> </div> </li> <li class=\"bx\" id=\"sp_blog_8\"> <div class=\"total_wrap api_ani_send\"> <div class=\"total_area\"> <div class=\"total_info\"> <div class=\"api_save_group _keep_wrap\"> <a href=\"javascript:;\" role=\"button\" class=\"btn_save _keep_trigger\" data-cr-on=\"a=blg*a.kep&r=8&i=90000003_0000000000000033C3A92DE5&u=javascript\" data-cr-off=\"a=blg*a.kep&r=8&i=90000003_0000000000000033C3A92DE5&u=javascript\" data-url=\"https://blog.naver.com/miopet?Redirect=Log&logNo=222325976549\" aria-pressed=\"false\"><i class=\"spnew ico_save\">문서 저장하기</i></a> <div class=\"api_ly_save _keep_save_layer\"> <a href=\"javascript:;\" role=\"button\" class=\"spnew_af item item_save _keep_save\" data-cr-on=\"a=blg*a.kepon&r=8&i=90000003_0000000000000033C3A92DE5&u=javascript\" data-cr-off=\"a=blg*a.kepoff&r=8&i=90000003_0000000000000033C3A92DE5&u=javascript\">Keep에 저장</a> <a href=\"https://keep.naver.com/\" target=\"_blank\" class=\"spnew_af item item_quick\" onClick=\"return goOtherCR(this, 'a=blg*a.kephome&r=8&i=90000003_0000000000000033C3A92DE5&u='+urlencode(this.href))\">Keep 바로가기</a> </div> </div> <div class=\"total_sub\"> <a href=\"https://blog.naver.com/miopet\" class=\"sub_thumb\" target=\"_blank\" onClick=\"return goOtherCR(this, 'a=blg*a.writer&r=8&i=90000003_0000000000000033C3A92DE5&u='+urlencode(this.href))\"> <span class=\"thumb\"><img src=\"https://search.pstatic.net/common/?src=http%3A%2F%2Fblogpfthumb.phinf.naver.net%2FMjAyMDAyMDNfMjEx%2FMDAxNTgwNzQwODg4MTIy.yDCCXxlX_BNJXmG1Z4lg-6HOM9dKw20lI4s6Ocwaydgg.mtqxCVg7QZ4x0KfBzZl5_bKkqZv1KgYQsZcRpWOGbzEg.JPEG.miopet%2Fdrops-of-water-578897_640.jpg&type=n48_48\" width=\"20\" height=\"20\" alt=\"\" onerror=\"onErrorImage(this, 'bg_npimg');\"></span> </a> <span class=\"elss etc_dsc\"> <span class=\"etc_dsc_group\"> <span class=\"etc_dsc_area\"> <span class=\"sub_time sub_txt\">2021.04.28.</span> </span> <span class=\"elss etc_dsc_inner\"> <a href=\"https://blog.naver.com/miopet\" class=\"sub_txt sub_name\" target=\"_blank\" onClick=\"return goOtherCR(this, 'a=blg*a.writer&r=8&i=90000003_0000000000000033C3A92DE5&u='+urlencode(this.href))\">E-스튜디오</a> </span> </span> </span> </div> </div> <a href=\"https://blog.naver.com/miopet?Redirect=Log&logNo=222325976549\" class=\"api_txt_lines total_tit\" target=\"_blank\" onClick=\"return goOtherCR(this, 'a=blg*a.iblg&r=8&i=90000003_0000000000000033C3A92DE5&u='+urlencode(this.href))\"><strong class=\"hl\">연세대학교</strong> 교육대학원 상담심리 비전공자는?</a> <div class=\"total_group\"> <div class=\"total_dsc_wrap\"> <a href=\"https://blog.naver.com/miopet?Redirect=Log&logNo=222325976549\" class=\"total_dsc\" target=\"_blank\" onClick=\"return goOtherCR(this, 'a=blg*a.iblg&r=8&i=90000003_0000000000000033C3A92DE5&u='+urlencode(this.href))\"> <div class=\"api_txt_lines dsc_txt\">물으시는 분들이 꽤 많은편인데요 오늘은 그래서 <strong class=\"hl\">연세대학교</strong> 교육대학원에... 대학교의 경우 심리학과로 진학하더라도 교직이수를 해내지 못한다면 교직이수의 길은... </div> </a> </div> </div> </div> <a href=\"https://blog.naver.com/miopet?Redirect=Log&logNo=222325976549\" class=\"thumb_single\" target=\"_blank\" onClick=\"return goOtherCR(this, 'a=blg*a.iblg&r=8&i=90000003_0000000000000033C3A92DE5&u='+urlencode(this.href))\"> <span class=\"thumb_fix\"><img src=\"https://search.pstatic.net/common/?src=http%3A%2F%2Fblogfiles.naver.net%2FMjAyMTA0MjZfMjY4%2FMDAxNjE5NDIzNzI3OTE1.1dVPtCFz7X_mfxuRPpTwa-eA7bwH7zG2fXle2OPmh6Qg.5DX99equY-9bTEGhFg-Ezx_tBhKhpWQmXaAZgqsUUGYg.PNG.miopet%2F1.png%231000x1000&type=ff264_180\" width=\"132\" height=\"90\" alt=\"\" class=\"thumb api_get\" onerror=\"onErrorImage(this, 'bg_nimg');\"><span class=\"thumb_count\">7</span></span> </a> </div> </li> <li class=\"bx\" id=\"sp_blog_9\"> <div class=\"total_wrap api_ani_send\"> <div class=\"total_area\"> <div class=\"total_info\"> <div class=\"api_save_group _keep_wrap\"> <a href=\"javascript:;\" role=\"button\" class=\"btn_save _keep_trigger\" data-cr-on=\"a=blg*a.kep&r=9&i=90000003_0000000000000033C28D224B&u=javascript\" data-cr-off=\"a=blg*a.kep&r=9&i=90000003_0000000000000033C28D224B&u=javascript\" data-url=\"https://blog.naver.com/ieverything?Redirect=Log&logNo=222307361355\" aria-pressed=\"false\"><i class=\"spnew ico_save\">문서 저장하기</i></a> <div class=\"api_ly_save _keep_save_layer\"> <a href=\"javascript:;\" role=\"button\" class=\"spnew_af item item_save _keep_save\" data-cr-on=\"a=blg*a.kepon&r=9&i=90000003_0000000000000033C28D224B&u=javascript\" data-cr-off=\"a=blg*a.kepoff&r=9&i=90000003_0000000000000033C28D224B&u=javascript\">Keep에 저장</a> <a href=\"https://keep.naver.com/\" target=\"_blank\" class=\"spnew_af item item_quick\" onClick=\"return goOtherCR(this, 'a=blg*a.kephome&r=9&i=90000003_0000000000000033C28D224B&u='+urlencode(this.href))\">Keep 바로가기</a> </div> </div> <div class=\"total_sub\"> <a href=\"https://blog.naver.com/ieverything\" class=\"sub_thumb\" target=\"_blank\" onClick=\"return goOtherCR(this, 'a=blg*a.writer&r=9&i=90000003_0000000000000033C28D224B&u='+urlencode(this.href))\"> <span class=\"thumb\"><img src=\"https://search.pstatic.net/common/?src=http%3A%2F%2Fblogpfthumb.phinf.naver.net%2F20130526_123%2Fieverything_136950741595539U5B_JPEG%2F%25C1%25A6%25B8%25F1%2B%25BE%25F8%25C0%25BD.jpg&type=n48_48\" width=\"20\" height=\"20\" alt=\"\" onerror=\"onErrorImage(this, 'bg_npimg');\"></span> </a> <span class=\"elss etc_dsc\"> <span class=\"etc_dsc_group\"> <span class=\"etc_dsc_area\"> <span class=\"sub_time sub_txt\">2021.04.12.</span> </span> <span class=\"elss etc_dsc_inner\"> <a href=\"https://blog.naver.com/ieverything\" class=\"sub_txt sub_name\" target=\"_blank\" onClick=\"return goOtherCR(this, 'a=blg*a.writer&r=9&i=90000003_0000000000000033C28D224B&u='+urlencode(this.href))\">대치동클쌤 입시&amp;영어 교실 (교육문의:010-3619-1131)</a> </span> </span> </span> </div> </div> <a href=\"https://blog.naver.com/ieverything?Redirect=Log&logNo=222307361355\" class=\"api_txt_lines total_tit\" target=\"_blank\" onClick=\"return goOtherCR(this, 'a=blg*a.iblg&r=9&i=90000003_0000000000000033C28D224B&u='+urlencode(this.href))\"><strong class=\"hl\">연세대학교</strong> 12년 특례 20년,21년 솟구치는 경쟁률</a> <div class=\"total_group\"> <div class=\"total_dsc_wrap\"> <a href=\"https://blog.naver.com/ieverything?Redirect=Log&logNo=222307361355\" class=\"total_dsc\" target=\"_blank\" onClick=\"return goOtherCR(this, 'a=blg*a.iblg&r=9&i=90000003_0000000000000033C28D224B&u='+urlencode(this.href))\"> <div class=\"api_txt_lines dsc_txt\">보이는 <strong class=\"hl\">연세대학교</strong> 경쟁률 (지원현황) 분석 드릴꺼예요~~ 20년, 21년 9월 지원... 하므로 연세대 최인기 학과 등극했네요 이제 이전만큼 만만한 학과 아닙니다 선발... </div> </a> </div> </div> </div> <a href=\"https://blog.naver.com/ieverything?Redirect=Log&logNo=222307361355\" class=\"thumb_single\" target=\"_blank\" onClick=\"return goOtherCR(this, 'a=blg*a.iblg&r=9&i=90000003_0000000000000033C28D224B&u='+urlencode(this.href))\"> <span class=\"thumb_fix\"><img src=\"https://search.pstatic.net/common/?src=http%3A%2F%2Fblogfiles.naver.net%2FMjAyMTA0MTJfMTI4%2FMDAxNjE4MjEwMTMwMzEy.n5DY6oUnmRRfE8u99Kb_015Pf5cePxCIHqDdZxinGnQg.aXs-JrUUb1dDMXrwxrKOQBN6p8iQKMefDg23wbempQog.PNG.ieverything%2F0.PNG%23740x466&type=ff264_180\" width=\"132\" height=\"90\" alt=\"\" class=\"thumb api_get\" onerror=\"onErrorImage(this, 'bg_nimg');\"><span class=\"thumb_count\">10</span></span> </a> </div> </li> <li class=\"bx\" id=\"sp_blog_10\"> <div class=\"total_wrap api_ani_send\"> <div class=\"total_area\"> <div class=\"total_info\"> <div class=\"api_save_group _keep_wrap\"> <a href=\"javascript:;\" role=\"button\" class=\"btn_save _keep_trigger\" data-cr-on=\"a=blg*a.kep&r=10&i=90000003_0000000000000033BED9AE20&u=javascript\" data-cr-off=\"a=blg*a.kep&r=10&i=90000003_0000000000000033BED9AE20&u=javascript\" data-url=\"https://blog.naver.com/easywayout?Redirect=Log&logNo=222245269024\" aria-pressed=\"false\"><i class=\"spnew ico_save\">문서 저장하기</i></a> <div class=\"api_ly_save _keep_save_layer\"> <a href=\"javascript:;\" role=\"button\" class=\"spnew_af item item_save _keep_save\" data-cr-on=\"a=blg*a.kepon&r=10&i=90000003_0000000000000033BED9AE20&u=javascript\" data-cr-off=\"a=blg*a.kepoff&r=10&i=90000003_0000000000000033BED9AE20&u=javascript\">Keep에 저장</a> <a href=\"https://keep.naver.com/\" target=\"_blank\" class=\"spnew_af item item_quick\" onClick=\"return goOtherCR(this, 'a=blg*a.kephome&r=10&i=90000003_0000000000000033BED9AE20&u='+urlencode(this.href))\">Keep 바로가기</a> </div> </div> <div class=\"total_sub\"> <a href=\"https://blog.naver.com/easywayout\" class=\"sub_thumb\" target=\"_blank\" onClick=\"return goOtherCR(this, 'a=blg*a.writer&r=10&i=90000003_0000000000000033BED9AE20&u='+urlencode(this.href))\"> <span class=\"thumb\"><img src=\"https://search.pstatic.net/common/?src=http%3A%2F%2Fblogpfthumb.phinf.naver.net%2FMjAxOTAyMTFfOTkg%2FMDAxNTQ5ODYwMDY1ODYx.78ErwxV-IeOZa2KIhgm11smE0KZHL2Ag3acgHL6Nx-gg.gcEk-MXUZTk7M2iMYuQn-ijCinYnxx4vTA99Y3QE4pMg.PNG.easywayout%2Fp.png&type=n48_48\" width=\"20\" height=\"20\" alt=\"\" onerror=\"onErrorImage(this, 'bg_npimg');\"></span> </a> <span class=\"elss etc_dsc\"> <span class=\"etc_dsc_group\"> <span class=\"etc_dsc_area\"> <span class=\"sub_time sub_txt\">2021.02.26.</span> </span> <span class=\"elss etc_dsc_inner\"> <a href=\"https://blog.naver.com/easywayout\" class=\"sub_txt sub_name\" target=\"_blank\" onClick=\"return goOtherCR(this, 'a=blg*a.writer&r=10&i=90000003_0000000000000033BED9AE20&u='+urlencode(this.href))\">절 대 대 학 가</a> </span> </span> </span> </div> </div> <a href=\"https://blog.naver.com/easywayout?Redirect=Log&logNo=222245269024\" class=\"api_txt_lines total_tit\" target=\"_blank\" onClick=\"return goOtherCR(this, 'a=blg*a.iblg&r=10&i=90000003_0000000000000033BED9AE20&u='+urlencode(this.href))\"><strong class=\"hl\">연세대학교</strong> 미래캠퍼스 논술 전형, 시험 (2021학년도, 인문계)</a> <div class=\"total_group\"> <div class=\"total_dsc_wrap\"> <a href=\"https://blog.naver.com/easywayout?Redirect=Log&logNo=222245269024\" class=\"total_dsc\" target=\"_blank\" onClick=\"return goOtherCR(this, 'a=blg*a.iblg&r=10&i=90000003_0000000000000033BED9AE20&u='+urlencode(this.href))\"> <div class=\"api_txt_lines dsc_txt\">개요(경쟁률, 전형결과, 전형설명) <strong class=\"hl\">연세대학교</strong>(미래캠퍼스)는 2021학년도 수시... 방안 <strong class=\"hl\">연세대학교</strong>(미래캠퍼스) 일반논술전형 인문계열 논술은 인문 및 사회과목을... </div> </a> </div> </div> </div> <a href=\"https://blog.naver.com/easywayout?Redirect=Log&logNo=222245269024\" class=\"thumb_single\" target=\"_blank\" onClick=\"return goOtherCR(this, 'a=blg*a.iblg&r=10&i=90000003_0000000000000033BED9AE20&u='+urlencode(this.href))\"> <span class=\"thumb_fix\"><img src=\"https://search.pstatic.net/common/?src=http%3A%2F%2Fblogfiles.naver.net%2FMjAyMTAyMTZfMTk4%2FMDAxNjEzNDQzMzg4NjA0.OzSkDOlA0ujpT2S6q1P7Y7ufclfEm80JLBCIthUuImcg.JvfkLZYOT9Mm00FL0drgB4ihkx_lA0ChVJrzoHW34Psg.PNG.easywayout%2F%25BF%25AC%25BC%25BC%25B4%25EB.png%23400x400&type=ff264_180\" width=\"132\" height=\"90\" alt=\"\" class=\"thumb api_get\" onerror=\"onErrorImage(this, 'bg_nimg');\"><span class=\"thumb_count\">3</span></span> </a> </div> </li> <li class=\"bx\" id=\"sp_blog_11\"> <div class=\"total_wrap api_ani_send\"> <div class=\"total_area\"> <div class=\"total_info\"> <div class=\"api_save_group _keep_wrap\"> <a href=\"javascript:;\" role=\"button\" class=\"btn_save _keep_trigger\" data-cr-on=\"a=blg*a.kep&r=11&i=90000003_0000000000000033C3645A79&u=javascript\" data-cr-off=\"a=blg*a.kep&r=11&i=90000003_0000000000000033C3645A79&u=javascript\" data-url=\"https://blog.naver.com/henem2?Redirect=Log&logNo=222321465977\" aria-pressed=\"false\"><i class=\"spnew ico_save\">문서 저장하기</i></a> <div class=\"api_ly_save _keep_save_layer\"> <a href=\"javascript:;\" role=\"button\" class=\"spnew_af item item_save _keep_save\" data-cr-on=\"a=blg*a.kepon&r=11&i=90000003_0000000000000033C3645A79&u=javascript\" data-cr-off=\"a=blg*a.kepoff&r=11&i=90000003_0000000000000033C3645A79&u=javascript\">Keep에 저장</a> <a href=\"https://keep.naver.com/\" target=\"_blank\" class=\"spnew_af item item_quick\" onClick=\"return goOtherCR(this, 'a=blg*a.kephome&r=11&i=90000003_0000000000000033C3645A79&u='+urlencode(this.href))\">Keep 바로가기</a> </div> </div> <div class=\"total_sub\"> <a href=\"https://blog.naver.com/henem2\" class=\"sub_thumb\" target=\"_blank\" onClick=\"return goOtherCR(this, 'a=blg*a.writer&r=11&i=90000003_0000000000000033C3645A79&u='+urlencode(this.href))\"> <span class=\"thumb\"><img src=\"https://search.pstatic.net/common/?src=http%3A%2F%2Fblogpfthumb.phinf.naver.net%2FMjAyMDA1MjZfMjYg%2FMDAxNTkwNDczODA4ODYz.PUoZA5wc6NRG2OX7VBiBqw0Erx0IWmuUnkcGa4nlCQYg.CF0InYmNt5etJoq8dx7fFnaHpbQBnsHInsPRYBHX1CQg.PNG.henem2%2F%2525C7%2525D8%2525B3%2525BF%2525C7%2525D0%2525BF%2525F8.png&type=n48_48\" width=\"20\" height=\"20\" alt=\"\" onerror=\"onErrorImage(this, 'bg_npimg');\"></span> </a> <span class=\"elss etc_dsc\"> <span class=\"etc_dsc_group\"> <span class=\"etc_dsc_area\"> <span class=\"sub_time sub_txt\">2021.04.24.</span> </span> <span class=\"elss etc_dsc_inner\"> <a href=\"https://blog.naver.com/henem2\" class=\"sub_txt sub_name\" target=\"_blank\" onClick=\"return goOtherCR(this, 'a=blg*a.writer&r=11&i=90000003_0000000000000033C3645A79&u='+urlencode(this.href))\">평촌 해냄학원</a> </span> </span> </span> </div> </div> <a href=\"https://blog.naver.com/henem2?Redirect=Log&logNo=222321465977\" class=\"api_txt_lines total_tit\" target=\"_blank\" onClick=\"return goOtherCR(this, 'a=blg*a.iblg&r=11&i=90000003_0000000000000033C3645A79&u='+urlencode(this.href))\">2021학년도 <strong class=\"hl\">연세대학교</strong> 정시 입시결과 - 자연계열</a> <div class=\"total_group\"> <div class=\"total_dsc_wrap\"> <a href=\"https://blog.naver.com/henem2?Redirect=Log&logNo=222321465977\" class=\"total_dsc\" target=\"_blank\" onClick=\"return goOtherCR(this, 'a=blg*a.iblg&r=11&i=90000003_0000000000000033C3645A79&u='+urlencode(this.href))\"> <div class=\"api_txt_lines dsc_txt\">476 -8878 #평촌학원가수학학원 #평촌학원가과학학원 #평촌학원가 #평촌학원가과탐학원 #<strong class=\"hl\">연세대학교</strong>정시 #연세대정시 #<strong class=\"hl\">연세대학교</strong>입결 #연세대입시결과... </div> </a> </div> </div> </div> <a href=\"https://blog.naver.com/henem2?Redirect=Log&logNo=222321465977\" class=\"thumb_single\" target=\"_blank\" onClick=\"return goOtherCR(this, 'a=blg*a.iblg&r=11&i=90000003_0000000000000033C3645A79&u='+urlencode(this.href))\"> <span class=\"thumb_fix\"><img src=\"https://search.pstatic.net/common/?src=http%3A%2F%2Fblogfiles.naver.net%2FMjAyMTA0MjRfMjE0%2FMDAxNjE5MjQ5OTUxNTc0.iO7XqZUu36RaH4InenxvITXtTTjL5046iisX-jW1mwog.1CeJxT84WEU_sCNmEepiNa9zBgwc29Od9EiDZDLBOEEg.JPEG.henem2%2F2021%25C7%25D0%25B3%25E2%25B5%25B5_%25BF%25AC%25BC%25BC%25B4%25EB_%25C1%25A4%25BD%25C3_%25C0%25D4%25B0%25E1.jpg%231080x1080&type=ff264_180\" width=\"132\" height=\"90\" alt=\"\" class=\"thumb api_get\" onerror=\"onErrorImage(this, 'bg_nimg');\"><span class=\"thumb_count\">2</span></span> </a> </div> </li> <li class=\"bx\" id=\"sp_blog_12\"> <div class=\"total_wrap api_ani_send\"> <div class=\"total_area\"> <div class=\"total_info\"> <div class=\"api_save_group _keep_wrap\"> <a href=\"javascript:;\" role=\"button\" class=\"btn_save _keep_trigger\" data-cr-on=\"a=blg*a.kep&r=12&i=90000003_0000000000000033B59CFE77&u=javascript\" data-cr-off=\"a=blg*a.kep&r=12&i=90000003_0000000000000033B59CFE77&u=javascript\" data-url=\"https://blog.naver.com/metivna?Redirect=Log&logNo=222090296951\" aria-pressed=\"false\"><i class=\"spnew ico_save\">문서 저장하기</i></a> <div class=\"api_ly_save _keep_save_layer\"> <a href=\"javascript:;\" role=\"button\" class=\"spnew_af item item_save _keep_save\" data-cr-on=\"a=blg*a.kepon&r=12&i=90000003_0000000000000033B59CFE77&u=javascript\" data-cr-off=\"a=blg*a.kepoff&r=12&i=90000003_0000000000000033B59CFE77&u=javascript\">Keep에 저장</a> <a href=\"https://keep.naver.com/\" target=\"_blank\" class=\"spnew_af item item_quick\" onClick=\"return goOtherCR(this, 'a=blg*a.kephome&r=12&i=90000003_0000000000000033B59CFE77&u='+urlencode(this.href))\">Keep 바로가기</a> </div> </div> <div class=\"total_sub\"> <a href=\"https://blog.naver.com/metivna\" class=\"sub_thumb\" target=\"_blank\" onClick=\"return goOtherCR(this, 'a=blg*a.writer&r=12&i=90000003_0000000000000033B59CFE77&u='+urlencode(this.href))\"> <span class=\"thumb\"><img src=\"https://search.pstatic.net/common/?src=http%3A%2F%2Fblogpfthumb.phinf.naver.net%2FMjAyMDExMjNfNDIg%2FMDAxNjA2MTIxMDk3NjM5.9R-mVA-5gl38zUIRZfE0fNxCOYIP6lq7EPeRPBcLFFMg.V8jq07C8QB_0MOLpHSmEQGjntprMNqJTkCjbJBE1Chog.PNG.metivna%2FKakaoTalk_20201123_174313080.png&type=n48_48\" width=\"20\" height=\"20\" alt=\"\" onerror=\"onErrorImage(this, 'bg_npimg');\"></span> </a> <span class=\"elss etc_dsc\"> <span class=\"etc_dsc_group\"> <span class=\"etc_dsc_area\"> <i class=\"spnew api_icon_official2\">공식</i> <span class=\"sub_time sub_txt\">2020.09.17.</span> </span> <span class=\"elss etc_dsc_inner\"> <a href=\"https://blog.naver.com/metivna\" class=\"sub_txt sub_name\" target=\"_blank\" onClick=\"return goOtherCR(this, 'a=blg*a.writer&r=12&i=90000003_0000000000000033B59CFE77&u='+urlencode(this.href))\">메가스터디 공식블로그</a> </span> </span> </span> </div> </div> <a href=\"https://blog.naver.com/metivna?Redirect=Log&logNo=222090296951\" class=\"api_txt_lines total_tit\" target=\"_blank\" onClick=\"return goOtherCR(this, 'a=blg*a.iblg&r=12&i=90000003_0000000000000033B59CFE77&u='+urlencode(this.href))\">미리 준비해볼 만한 것들(feat. <strong class=\"hl\">연세대학교</strong> 20학번 선배의 꿀팁)</a> <div class=\"total_group\"> <div class=\"total_dsc_wrap\"> <a href=\"https://blog.naver.com/metivna?Redirect=Log&logNo=222090296951\" class=\"total_dsc\" target=\"_blank\" onClick=\"return goOtherCR(this, 'a=blg*a.iblg&r=12&i=90000003_0000000000000033B59CFE77&u='+urlencode(this.href))\"> <div class=\"api_txt_lines dsc_txt\">여러분 :) 오늘은 <strong class=\"hl\">연세대학교</strong> 20학번 선배가 수능 전에 미리 준비해볼 만한 것들에 대해서 이야기해 준다고 합니다. 연세대 선배만의 꿀팁 잘 보고 활용해보시면 좋을 것... </div> </a> </div> </div> </div> <a href=\"https://blog.naver.com/metivna?Redirect=Log&logNo=222090296951\" class=\"thumb_single\" target=\"_blank\" onClick=\"return goOtherCR(this, 'a=blg*a.iblg&r=12&i=90000003_0000000000000033B59CFE77&u='+urlencode(this.href))\"> <span class=\"thumb_fix\"><img src=\"https://search.pstatic.net/common/?src=http%3A%2F%2Fblogfiles.naver.net%2FMjAyMDA5MTVfMTk2%2FMDAxNjAwMTYxNDEyODY0.Y1GjoBvJZS8mToXIv84y-hTcuXcRs5IB7FXBf_llWCcg.umNg9uH2XMETGYBnNku_2x3xlkIxChvmR0Q_JilSujsg.PNG.metivna%2Fimage.png%23566x556&type=ff264_180\" width=\"132\" height=\"90\" alt=\"\" class=\"thumb api_get\" onerror=\"onErrorImage(this, 'bg_nimg');\"></span> </a> </div> </li> <li class=\"bx\" id=\"sp_blog_13\"> <div class=\"total_wrap api_ani_send\"> <div class=\"total_area\"> <div class=\"total_info\"> <div class=\"api_save_group _keep_wrap\"> <a href=\"javascript:;\" role=\"button\" class=\"btn_save _keep_trigger\" data-cr-on=\"a=blg*a.kep&r=13&i=90000003_0000000000000033C5702794&u=javascript\" data-cr-off=\"a=blg*a.kep&r=13&i=90000003_0000000000000033C5702794&u=javascript\" data-url=\"https://blog.naver.com/yonseiblog?Redirect=Log&logNo=222355793812\" aria-pressed=\"false\"><i class=\"spnew ico_save\">문서 저장하기</i></a> <div class=\"api_ly_save _keep_save_layer\"> <a href=\"javascript:;\" role=\"button\" class=\"spnew_af item item_save _keep_save\" data-cr-on=\"a=blg*a.kepon&r=13&i=90000003_0000000000000033C5702794&u=javascript\" data-cr-off=\"a=blg*a.kepoff&r=13&i=90000003_0000000000000033C5702794&u=javascript\">Keep에 저장</a> <a href=\"https://keep.naver.com/\" target=\"_blank\" class=\"spnew_af item item_quick\" onClick=\"return goOtherCR(this, 'a=blg*a.kephome&r=13&i=90000003_0000000000000033C5702794&u='+urlencode(this.href))\">Keep 바로가기</a> </div> </div> <div class=\"total_sub\"> <a href=\"https://blog.naver.com/yonseiblog\" class=\"sub_thumb\" target=\"_blank\" onClick=\"return goOtherCR(this, 'a=blg*a.writer&r=13&i=90000003_0000000000000033C5702794&u='+urlencode(this.href))\"> <span class=\"thumb\"><img src=\"https://search.pstatic.net/common/?src=http%3A%2F%2Fblogpfthumb.phinf.naver.net%2F20191006_100%2Fyonseiblog_1570370958330gwz8W_JPEG%2F%253F%253F%253F%253F%253F%253F%253F%25AC%25D2%253F%2528%253F%253F%25A5%25E1%253F%2529%2528%253F%253F%253F%253F%253F%253F%2529.jpg&type=n48_48\" width=\"20\" height=\"20\" alt=\"\" onerror=\"onErrorImage(this, 'bg_npimg');\"></span> </a> <span class=\"elss etc_dsc\"> <span class=\"etc_dsc_group\"> <span class=\"etc_dsc_area\"> <i class=\"spnew api_icon_official2\">공식</i> <span class=\"sub_time sub_txt\">4일 전</span> </span> <span class=\"elss etc_dsc_inner\"> <a href=\"https://blog.naver.com/yonseiblog\" class=\"sub_txt sub_name\" target=\"_blank\" onClick=\"return goOtherCR(this, 'a=blg*a.writer&r=13&i=90000003_0000000000000033C5702794&u='+urlencode(this.href))\">연세대학교 공식 블로그</a> </span> </span> </span> </div> </div> <a href=\"https://blog.naver.com/yonseiblog?Redirect=Log&logNo=222355793812\" class=\"api_txt_lines total_tit\" target=\"_blank\" onClick=\"return goOtherCR(this, 'a=blg*a.iblg&r=13&i=90000003_0000000000000033C5702794&u='+urlencode(this.href))\"><strong class=\"hl\">연세대학교</strong> 글로벌사회공헌원, 특별세미나 ‘GEEF for... </a> <div class=\"total_group\"> <div class=\"total_dsc_wrap\"> <a href=\"https://blog.naver.com/yonseiblog?Redirect=Log&logNo=222355793812\" class=\"total_dsc\" target=\"_blank\" onClick=\"return goOtherCR(this, 'a=blg*a.iblg&r=13&i=90000003_0000000000000033C5702794&u='+urlencode(this.href))\"> <div class=\"api_txt_lines dsc_txt\"><strong class=\"hl\">연세대학교</strong> 글로벌사회공헌원, 특별세미나 'GEEF for ALL' 개최 5월 10일 개최된... <strong class=\"hl\">연세대학교</strong> 글로벌사회공헌원(원장 박영렬)은 5월 10일(월) 오후 3시 ‘제1회... </div> </a> </div> </div> </div> <a href=\"https://blog.naver.com/yonseiblog?Redirect=Log&logNo=222355793812\" class=\"thumb_single\" target=\"_blank\" onClick=\"return goOtherCR(this, 'a=blg*a.iblg&r=13&i=90000003_0000000000000033C5702794&u='+urlencode(this.href))\"> <span class=\"thumb_fix\"><img src=\"https://search.pstatic.net/common/?src=http%3A%2F%2Fblogfiles.naver.net%2FMjAyMTA1MThfOTkg%2FMDAxNjIxMzA5MDE1MDYx.y5MqwosFr05sE3wF1YLbxPsh5ZaO914wEefQMx7KFiYg.xHTNW38xyU3zhhLiNzkTIX2kko3IucvTcQaHil8lRCgg.PNG.yonseiblog%2F2021_%25BA%25ED%25B7%25CE%25B1%25D7%25BC%25B6%25B3%25D7%25C0%25CF.png%23250x250&type=ff264_180\" width=\"132\" height=\"90\" alt=\"\" class=\"thumb api_get\" onerror=\"onErrorImage(this, 'bg_nimg');\"><span class=\"thumb_count\">3</span></span> </a> </div> </li> <li class=\"bx\" id=\"sp_blog_14\"> <div class=\"total_wrap api_ani_send\"> <div class=\"total_area\"> <div class=\"total_info\"> <div class=\"api_save_group _keep_wrap\"> <a href=\"javascript:;\" role=\"button\" class=\"btn_save _keep_trigger\" data-cr-on=\"a=blg*a.kep&r=14&i=90000003_0000000000000033C0656DB2&u=javascript\" data-cr-off=\"a=blg*a.kep&r=14&i=90000003_0000000000000033C0656DB2&u=javascript\" data-url=\"https://blog.naver.com/danceyoga?Redirect=Log&logNo=222271204786\" aria-pressed=\"false\"><i class=\"spnew ico_save\">문서 저장하기</i></a> <div class=\"api_ly_save _keep_save_layer\"> <a href=\"javascript:;\" role=\"button\" class=\"spnew_af item item_save _keep_save\" data-cr-on=\"a=blg*a.kepon&r=14&i=90000003_0000000000000033C0656DB2&u=javascript\" data-cr-off=\"a=blg*a.kepoff&r=14&i=90000003_0000000000000033C0656DB2&u=javascript\">Keep에 저장</a> <a href=\"https://keep.naver.com/\" target=\"_blank\" class=\"spnew_af item item_quick\" onClick=\"return goOtherCR(this, 'a=blg*a.kephome&r=14&i=90000003_0000000000000033C0656DB2&u='+urlencode(this.href))\">Keep 바로가기</a> </div> </div> <div class=\"total_sub\"> <a href=\"https://blog.naver.com/danceyoga\" class=\"sub_thumb\" target=\"_blank\" onClick=\"return goOtherCR(this, 'a=blg*a.writer&r=14&i=90000003_0000000000000033C0656DB2&u='+urlencode(this.href))\"> <span class=\"thumb\"><img src=\"https://search.pstatic.net/common/?src=http%3A%2F%2Fblogpfthumb.phinf.naver.net%2FMjAyMDA3MjFfMjYy%2FMDAxNTk1MjU5MzU1MjQ0.T3WVyamrrE215LKDXsrWAkxhxGiXOmUPQ7eEDM3B4PYg.xtEdOowS-N-NgO6liN9KY0UTLTbCYIWYcgP--G5zUuAg.JPEG.danceyoga%2F20802186-zen-yoga-bride.jpg&type=n48_48\" width=\"20\" height=\"20\" alt=\"\" onerror=\"onErrorImage(this, 'bg_npimg');\"></span> </a> <span class=\"elss etc_dsc\"> <span class=\"etc_dsc_group\"> <span class=\"etc_dsc_area\"> <span class=\"sub_time sub_txt\">2021.03.10.</span> </span> <span class=\"elss etc_dsc_inner\"> <a href=\"https://blog.naver.com/danceyoga\" class=\"sub_txt sub_name\" target=\"_blank\" onClick=\"return goOtherCR(this, 'a=blg*a.writer&r=14&i=90000003_0000000000000033C0656DB2&u='+urlencode(this.href))\">댄스-영어요가필라</a> </span> </span> </span> </div> </div> <a href=\"https://blog.naver.com/danceyoga?Redirect=Log&logNo=222271204786\" class=\"api_txt_lines total_tit\" target=\"_blank\" onClick=\"return goOtherCR(this, 'a=blg*a.iblg&r=14&i=90000003_0000000000000033C0656DB2&u='+urlencode(this.href))\">16곡 꿀 선식두유 리뷰(<strong class=\"hl\">연세대학교</strong>에서 만든)</a> <div class=\"total_group\"> <div class=\"total_dsc_wrap\"> <a href=\"https://blog.naver.com/danceyoga?Redirect=Log&logNo=222271204786\" class=\"total_dsc\" target=\"_blank\" onClick=\"return goOtherCR(this, 'a=blg*a.iblg&r=14&i=90000003_0000000000000033C0656DB2&u='+urlencode(this.href))\"> <div class=\"api_txt_lines dsc_txt\"><strong class=\"hl\">연세대학교</strong> 연세우유에서 만든 두유네요, 그럼 원재료를 살펴볼께요! 정제수, 원액두유25%(대구고형분7%,대두는 미국,캐나다,호주에서 왔군요),,오곡분말2%(오곡은... </div> </a> </div> </div> </div> <a href=\"https://blog.naver.com/danceyoga?Redirect=Log&logNo=222271204786\" class=\"thumb_single\" target=\"_blank\" onClick=\"return goOtherCR(this, 'a=blg*a.iblg&r=14&i=90000003_0000000000000033C0656DB2&u='+urlencode(this.href))\"> <span class=\"thumb_fix\"><img src=\"https://search.pstatic.net/common/?src=http%3A%2F%2Fblogfiles.naver.net%2FMjAyMTAzMTBfOTEg%2FMDAxNjE1Mzc4MTc4OTM2.JYaNiFkIgutkBW63siHmDJSUiOdd07msU6sqvsbP7S0g.FPGF_MMMY_MGBf0rTamOIcHsSW6aqZFxNg2zgvcKEb8g.JPEG.danceyoga%2Fimage4.jpg%231993x2276&type=ff264_180\" width=\"132\" height=\"90\" alt=\"\" class=\"thumb api_get\" onerror=\"onErrorImage(this, 'bg_nimg');\"><span class=\"thumb_count\">7</span></span> </a> </div> </li> <li class=\"bx\" id=\"sp_blog_15\"> <div class=\"total_wrap api_ani_send\"> <div class=\"total_area\"> <div class=\"total_info\"> <div class=\"api_save_group _keep_wrap\"> <a href=\"javascript:;\" role=\"button\" class=\"btn_save _keep_trigger\" data-cr-on=\"a=blg*a.kep&r=15&i=90000003_0000000000000033C50A68DC&u=javascript\" data-cr-off=\"a=blg*a.kep&r=15&i=90000003_0000000000000033C50A68DC&u=javascript\" data-url=\"https://blog.naver.com/dentkjk?Redirect=Log&logNo=222349125852\" aria-pressed=\"false\"><i class=\"spnew ico_save\">문서 저장하기</i></a> <div class=\"api_ly_save _keep_save_layer\"> <a href=\"javascript:;\" role=\"button\" class=\"spnew_af item item_save _keep_save\" data-cr-on=\"a=blg*a.kepon&r=15&i=90000003_0000000000000033C50A68DC&u=javascript\" data-cr-off=\"a=blg*a.kepoff&r=15&i=90000003_0000000000000033C50A68DC&u=javascript\">Keep에 저장</a> <a href=\"https://keep.naver.com/\" target=\"_blank\" class=\"spnew_af item item_quick\" onClick=\"return goOtherCR(this, 'a=blg*a.kephome&r=15&i=90000003_0000000000000033C50A68DC&u='+urlencode(this.href))\">Keep 바로가기</a> </div> </div> <div class=\"total_sub\"> <a href=\"https://blog.naver.com/dentkjk\" class=\"sub_thumb\" target=\"_blank\" onClick=\"return goOtherCR(this, 'a=blg*a.writer&r=15&i=90000003_0000000000000033C50A68DC&u='+urlencode(this.href))\"> <span class=\"thumb\"><img src=\"https://search.pstatic.net/common/?src=http%3A%2F%2Fblogpfthumb.phinf.naver.net%2FMjAxOTA0MTBfMjE4%2FMDAxNTU0ODc0NzAyODI1.UPiKFshCOToA9D64-btehhHYi0fxwe7ms4bOKUslZv0g.m5SrFL-Q-JynpfYXT7nQHl9vP4YCTdypqtBHSNjKxjog.JPEG.dentkjk%2FKakaoTalk_20190410_141826510.jpg&type=n48_48\" width=\"20\" height=\"20\" alt=\"\" onerror=\"onErrorImage(this, 'bg_npimg');\"></span> </a> <span class=\"elss etc_dsc\"> <span class=\"etc_dsc_group\"> <span class=\"etc_dsc_area\"> <span class=\"sub_time sub_txt\">2021.05.13.</span> </span> <span class=\"elss etc_dsc_inner\"> <a href=\"https://blog.naver.com/dentkjk\" class=\"sub_txt sub_name\" target=\"_blank\" onClick=\"return goOtherCR(this, 'a=blg*a.writer&r=15&i=90000003_0000000000000033C50A68DC&u='+urlencode(this.href))\">강북점</a> </span> </span> </span> </div> </div> <a href=\"https://blog.naver.com/dentkjk?Redirect=Log&logNo=222349125852\" class=\"api_txt_lines total_tit\" target=\"_blank\" onClick=\"return goOtherCR(this, 'a=blg*a.iblg&r=15&i=90000003_0000000000000033C50A68DC&u='+urlencode(this.href))\">수유역 치과:<strong class=\"hl\">연세대학교</strong>... 협진 진료/연세고운미소치과강북</a> <div class=\"total_group\"> <div class=\"total_dsc_wrap\"> <a href=\"https://blog.naver.com/dentkjk?Redirect=Log&logNo=222349125852\" class=\"total_dsc\" target=\"_blank\" onClick=\"return goOtherCR(this, 'a=blg*a.iblg&r=15&i=90000003_0000000000000033C50A68DC&u='+urlencode(this.href))\"> <div class=\"api_txt_lines dsc_txt\">연세고운미소치과의원강북구점 입니다. 강북구에서 2005년 부터 시작해서 16년이... 순천향대학교 의과대학 외래교수 ●대한 치과 보철학회 정회원 ●<strong class=\"hl\">연세대학교</strong>... </div> </a> </div> </div> </div> <a href=\"https://blog.naver.com/dentkjk?Redirect=Log&logNo=222349125852\" class=\"thumb_single\" target=\"_blank\" onClick=\"return goOtherCR(this, 'a=blg*a.iblg&r=15&i=90000003_0000000000000033C50A68DC&u='+urlencode(this.href))\"> <span class=\"thumb_fix\"><img src=\"https://search.pstatic.net/common/?src=http%3A%2F%2Fblogfiles.naver.net%2FMjAyMTA1MTNfNjkg%2FMDAxNjIwODY4NTYyNzU5.Es5f4mJt7uLSFGEfKU1UQ2egfVLrFAYqvQLdfIvBgeUg.ZiotuSXm_pNi9kTUcYyGnJLN69QrfjW-UDDCdAYD_w8g.PNG.dentkjk%2F%25BF%25F8%25C0%25DA%25B4%25D4%25BC%25BC%25BA%25D0%2528%25BF%25AC%25BC%25BC%25B4%25EB%25B7%25CE%25B0%25ED%25B9%25E8%25B0%25E6%2529.png%231080x1080&type=ff264_180\" width=\"132\" height=\"90\" alt=\"\" class=\"thumb api_get\" onerror=\"onErrorImage(this, 'bg_nimg');\"><span class=\"thumb_count\">8</span></span> </a> </div> </li> <li class=\"bx\" id=\"sp_blog_16\"> <div class=\"total_wrap api_ani_send\"> <div class=\"total_area\"> <div class=\"total_info\"> <div class=\"api_save_group _keep_wrap\"> <a href=\"javascript:;\" role=\"button\" class=\"btn_save _keep_trigger\" data-cr-on=\"a=blg*a.kep&r=16&i=90000003_0000000000000033BE698813&u=javascript\" data-cr-off=\"a=blg*a.kep&r=16&i=90000003_0000000000000033BE698813&u=javascript\" data-url=\"https://blog.naver.com/jjangting?Redirect=Log&logNo=222237919251\" aria-pressed=\"false\"><i class=\"spnew ico_save\">문서 저장하기</i></a> <div class=\"api_ly_save _keep_save_layer\"> <a href=\"javascript:;\" role=\"button\" class=\"spnew_af item item_save _keep_save\" data-cr-on=\"a=blg*a.kepon&r=16&i=90000003_0000000000000033BE698813&u=javascript\" data-cr-off=\"a=blg*a.kepoff&r=16&i=90000003_0000000000000033BE698813&u=javascript\">Keep에 저장</a> <a href=\"https://keep.naver.com/\" target=\"_blank\" class=\"spnew_af item item_quick\" onClick=\"return goOtherCR(this, 'a=blg*a.kephome&r=16&i=90000003_0000000000000033BE698813&u='+urlencode(this.href))\">Keep 바로가기</a> </div> </div> <div class=\"total_sub\"> <a href=\"https://blog.naver.com/jjangting\" class=\"sub_thumb\" target=\"_blank\" onClick=\"return goOtherCR(this, 'a=blg*a.writer&r=16&i=90000003_0000000000000033BE698813&u='+urlencode(this.href))\"> <span class=\"thumb\"><img src=\"https://search.pstatic.net/common/?src=http%3A%2F%2Fblogpfthumb.phinf.naver.net%2FMjAyMTAzMDRfMTI5%2FMDAxNjE0Nzg1OTcyODc5.UdHIBakkNzPITZs0SFZhtYAmN_EL6tqedo0qSrS-_08g.N0PmLQjyR4qER_n3l8Vwb6_L8mE1t7Ia0Lu3Q469_50g.JPEG.jjangting%2FprofileImage.jpg&type=n48_48\" width=\"20\" height=\"20\" alt=\"\" onerror=\"onErrorImage(this, 'bg_npimg');\"></span> </a> <span class=\"elss etc_dsc\"> <span class=\"etc_dsc_group\"> <span class=\"etc_dsc_area\"> <span class=\"sub_time sub_txt\">2021.02.11.</span> </span> <span class=\"elss etc_dsc_inner\"> <a href=\"https://blog.naver.com/jjangting\" class=\"sub_txt sub_name\" target=\"_blank\" onClick=\"return goOtherCR(this, 'a=blg*a.writer&r=16&i=90000003_0000000000000033BE698813&u='+urlencode(this.href))\">My Style !!</a> </span> </span> </span> </div> </div> <a href=\"https://blog.naver.com/jjangting?Redirect=Log&logNo=222237919251\" class=\"api_txt_lines total_tit\" target=\"_blank\" onClick=\"return goOtherCR(this, 'a=blg*a.iblg&r=16&i=90000003_0000000000000033BE698813&u='+urlencode(this.href))\">[대입] 2022학년도 <strong class=\"hl\">연세대학교</strong> 입학전형 시행계획</a> <div class=\"total_group\"> <div class=\"total_dsc_wrap\"> <a href=\"https://blog.naver.com/jjangting?Redirect=Log&logNo=222237919251\" class=\"total_dsc\" target=\"_blank\" onClick=\"return goOtherCR(this, 'a=blg*a.iblg&r=16&i=90000003_0000000000000033BE698813&u='+urlencode(this.href))\"> <div class=\"api_txt_lines dsc_txt\">[대입] 2022학년도 <strong class=\"hl\">연세대학교</strong> 입학전형 시행계획 2022학년도 <strong class=\"hl\">연세대학교</strong> 입학전형... 특별전형 (정원 외) 설명입니다. 첨부파일 2022＿plan연세대.pdf 파일 다운로드</div> </a> </div> </div> </div> <a href=\"https://blog.naver.com/jjangting?Redirect=Log&logNo=222237919251\" class=\"thumb_single\" target=\"_blank\" onClick=\"return goOtherCR(this, 'a=blg*a.iblg&r=16&i=90000003_0000000000000033BE698813&u='+urlencode(this.href))\"> <span class=\"thumb_fix\"><img src=\"https://search.pstatic.net/common/?src=http%3A%2F%2Fblogfiles.naver.net%2FMjAyMTAyMDlfMjI0%2FMDAxNjEyNzk3MzAwODA2._VL25m6mnjZiWVT9x4x78SUHpa5Wn8ABuBRhE60KyREg.R5wguZd-_0TP6_PQCB2YHyUPKv_yXN3VqSkQGPJgAuwg.JPEG.jjangting%2FIMG%25A3%25DF20210208%25A3%25DF220702.jpg%23861x886&type=ff264_180\" width=\"132\" height=\"90\" alt=\"\" class=\"thumb api_get\" onerror=\"onErrorImage(this, 'bg_nimg');\"><span class=\"thumb_count\">6</span></span> </a> </div> </li> <li class=\"bx\" id=\"sp_blog_17\"> <div class=\"total_wrap api_ani_send\"> <div class=\"total_area\"> <div class=\"total_info\"> <div class=\"api_save_group _keep_wrap\"> <a href=\"javascript:;\" role=\"button\" class=\"btn_save _keep_trigger\" data-cr-on=\"a=blg*a.kep&r=17&i=90000003_0000000000000033B855DB5A&u=javascript\" data-cr-off=\"a=blg*a.kep&r=17&i=90000003_0000000000000033B855DB5A&u=javascript\" data-url=\"https://blog.naver.com/bosungabi?Redirect=Log&logNo=222135966554\" aria-pressed=\"false\"><i class=\"spnew ico_save\">문서 저장하기</i></a> <div class=\"api_ly_save _keep_save_layer\"> <a href=\"javascript:;\" role=\"button\" class=\"spnew_af item item_save _keep_save\" data-cr-on=\"a=blg*a.kepon&r=17&i=90000003_0000000000000033B855DB5A&u=javascript\" data-cr-off=\"a=blg*a.kepoff&r=17&i=90000003_0000000000000033B855DB5A&u=javascript\">Keep에 저장</a> <a href=\"https://keep.naver.com/\" target=\"_blank\" class=\"spnew_af item item_quick\" onClick=\"return goOtherCR(this, 'a=blg*a.kephome&r=17&i=90000003_0000000000000033B855DB5A&u='+urlencode(this.href))\">Keep 바로가기</a> </div> </div> <div class=\"total_sub\"> <a href=\"https://blog.naver.com/bosungabi\" class=\"sub_thumb\" target=\"_blank\" onClick=\"return goOtherCR(this, 'a=blg*a.writer&r=17&i=90000003_0000000000000033B855DB5A&u='+urlencode(this.href))\"> <span class=\"thumb\"><img src=\"https://search.pstatic.net/common/?src=http%3A%2F%2Fblogpfthumb.phinf.naver.net%2F20160509_290%2Fbosungabi_1462721570819PQhkq_JPEG%2F%2525BE%2525BE%2525B8%2525B6%2525BD%2525BA%2525BA%2525ED%2525B7%2525CE%2525B1%2525D7%2525C7%2525C1%2525B7%2525CE%2525C7%2525CA.jpg&type=n48_48\" width=\"20\" height=\"20\" alt=\"\" onerror=\"onErrorImage(this, 'bg_npimg');\"></span> </a> <span class=\"elss etc_dsc\"> <span class=\"etc_dsc_group\"> <span class=\"etc_dsc_area\"> <i class=\"spnew api_icon_official2\">공식</i> <span class=\"sub_time sub_txt\">2020.11.05.</span> </span> <span class=\"elss etc_dsc_inner\"> <a href=\"https://blog.naver.com/bosungabi\" class=\"sub_txt sub_name\" target=\"_blank\" onClick=\"return goOtherCR(this, 'a=blg*a.writer&r=17&i=90000003_0000000000000033B855DB5A&u='+urlencode(this.href))\">수험서의 명가 씨마스</a> </span> </span> </span> </div> </div> <a href=\"https://blog.naver.com/bosungabi?Redirect=Log&logNo=222135966554\" class=\"api_txt_lines total_tit\" target=\"_blank\" onClick=\"return goOtherCR(this, 'a=blg*a.iblg&r=17&i=90000003_0000000000000033B855DB5A&u='+urlencode(this.href))\">2021학년도 <strong class=\"hl\">연세대학교</strong> 정시모집 일반전형 일반계열 수능 위주</a> <div class=\"total_group\"> <div class=\"total_dsc_wrap\"> <a href=\"https://blog.naver.com/bosungabi?Redirect=Log&logNo=222135966554\" class=\"total_dsc\" target=\"_blank\" onClick=\"return goOtherCR(this, 'a=blg*a.iblg&r=17&i=90000003_0000000000000033B855DB5A&u='+urlencode(this.href))\"> <div class=\"api_txt_lines dsc_txt\">2021학년도 <strong class=\"hl\">연세대학교</strong> 정시 일반전형 일반계열 수능 위주 모집요강 입니다.... 지원자격 - 2021학년도 대학수학능력시험(이하 '수능'이라 함)에서 <strong class=\"hl\">연세대학교</strong> 지정... </div> </a> </div> </div> </div> <a href=\"https://blog.naver.com/bosungabi?Redirect=Log&logNo=222135966554\" class=\"thumb_single\" target=\"_blank\" onClick=\"return goOtherCR(this, 'a=blg*a.iblg&r=17&i=90000003_0000000000000033B855DB5A&u='+urlencode(this.href))\"> <span class=\"thumb_fix\"><img src=\"https://search.pstatic.net/common/?src=http%3A%2F%2Fblogfiles.naver.net%2FMjAyMDExMDVfNjQg%2FMDAxNjA0NTQwNjMxNjE1.uNvdwYVjvfuC9_seUfumAgYyBLMcE0SYVjnYreVamwog._3qN9hiNJAfvKZaI9m81f6J26UhkfkBsiM72RW3WEuMg.JPEG.bosungabi%2F2021%25C7%25D0%25B3%25E2%25B5%25B5-%25BF%25AC%25BC%25BC%25B4%25EB%25C7%25D0%25B1%25B3-%25C1%25A4%25BD%25C3-%25C0%25CF%25B9%25DD%25C0%25FC%25C7%25FC-%25B8%25F0%25C1%25FD%25BF%25E4%25B0%25AD.jpg%23500x500&type=ff264_180\" width=\"132\" height=\"90\" alt=\"\" class=\"thumb api_get\" onerror=\"onErrorImage(this, 'bg_nimg');\"><span class=\"thumb_count\">7</span></span> </a> </div> </li> <li class=\"bx\" id=\"sp_blog_18\"> <div class=\"total_wrap api_ani_send\"> <div class=\"total_area\"> <div class=\"total_info\"> <div class=\"api_save_group _keep_wrap\"> <a href=\"javascript:;\" role=\"button\" class=\"btn_save _keep_trigger\" data-cr-on=\"a=blg*a.kep&r=18&i=90000003_0000000000000033C07D980E&u=javascript\" data-cr-off=\"a=blg*a.kep&r=18&i=90000003_0000000000000033C07D980E&u=javascript\" data-url=\"https://blog.naver.com/nextyonsei?Redirect=Log&logNo=222272788494\" aria-pressed=\"false\"><i class=\"spnew ico_save\">문서 저장하기</i></a> <div class=\"api_ly_save _keep_save_layer\"> <a href=\"javascript:;\" role=\"button\" class=\"spnew_af item item_save _keep_save\" data-cr-on=\"a=blg*a.kepon&r=18&i=90000003_0000000000000033C07D980E&u=javascript\" data-cr-off=\"a=blg*a.kepoff&r=18&i=90000003_0000000000000033C07D980E&u=javascript\">Keep에 저장</a> <a href=\"https://keep.naver.com/\" target=\"_blank\" class=\"spnew_af item item_quick\" onClick=\"return goOtherCR(this, 'a=blg*a.kephome&r=18&i=90000003_0000000000000033C07D980E&u='+urlencode(this.href))\">Keep 바로가기</a> </div> </div> <div class=\"total_sub\"> <a href=\"https://blog.naver.com/nextyonsei\" class=\"sub_thumb\" target=\"_blank\" onClick=\"return goOtherCR(this, 'a=blg*a.writer&r=18&i=90000003_0000000000000033C07D980E&u='+urlencode(this.href))\"> <span class=\"thumb\"><img src=\"https://search.pstatic.net/common/?src=http%3A%2F%2Fblogpfthumb.phinf.naver.net%2F20140122_266%2Fnextyonsei_1390355854064HaiAf_JPEG%2F%25BF%25AC%25BC%25BCY-1.jpg&type=n48_48\" width=\"20\" height=\"20\" alt=\"\" onerror=\"onErrorImage(this, 'bg_npimg');\"></span> </a> <span class=\"elss etc_dsc\"> <span class=\"etc_dsc_group\"> <span class=\"etc_dsc_area\"> <i class=\"spnew api_icon_official2\">공식</i> <span class=\"sub_time sub_txt\">2021.03.12.</span> </span> <span class=\"elss etc_dsc_inner\"> <a href=\"https://blog.naver.com/nextyonsei\" class=\"sub_txt sub_name\" target=\"_blank\" onClick=\"return goOtherCR(this, 'a=blg*a.writer&r=18&i=90000003_0000000000000033C07D980E&u='+urlencode(this.href))\">연세대학교 미래캠퍼스 공식블로그</a> </span> </span> </span> </div> </div> <a href=\"https://blog.naver.com/nextyonsei?Redirect=Log&logNo=222272788494\" class=\"api_txt_lines total_tit\" target=\"_blank\" onClick=\"return goOtherCR(this, 'a=blg*a.iblg&r=18&i=90000003_0000000000000033C07D980E&u='+urlencode(this.href))\"><strong class=\"hl\">연세대학교</strong> 미래캠퍼스 디지털헬스케어학부 출범식 및... </a> <div class=\"total_group\"> <div class=\"total_dsc_wrap\"> <a href=\"https://blog.naver.com/nextyonsei?Redirect=Log&logNo=222272788494\" class=\"total_dsc\" target=\"_blank\" onClick=\"return goOtherCR(this, 'a=blg*a.iblg&r=18&i=90000003_0000000000000033C07D980E&u='+urlencode(this.href))\"> <div class=\"api_txt_lines dsc_txt\"><strong class=\"hl\">연세대학교</strong> 미래캠퍼스 디지털헬스케어학부 출범식 및 기념강연 개최 -국내 최초... o <strong class=\"hl\">연세대학교</strong> 미래캠퍼스(미래캠퍼스부총장 권명중)가 강원도 원주 의료기기 산업을... </div> </a> </div> </div> </div> <a href=\"https://blog.naver.com/nextyonsei?Redirect=Log&logNo=222272788494\" class=\"thumb_single\" target=\"_blank\" onClick=\"return goOtherCR(this, 'a=blg*a.iblg&r=18&i=90000003_0000000000000033C07D980E&u='+urlencode(this.href))\"> <span class=\"thumb_fix\"><img src=\"https://search.pstatic.net/common/?src=http%3A%2F%2Fblogfiles.naver.net%2FMjAyMTAzMTJfMTg1%2FMDAxNjE1NTE0MDY5NDA1.umO1iYRjMb6NwoaSpwjAdzs9hwsFbWL3hP3xuIRh1dQg.OQ-FMC5doYhXGo4H8ThY-DIZNAdVt2c3XDldsl2p78cg.PNG.nextyonsei%2F%25B5%25F0%25C1%25F6%25C5%25D0%25C7%25EF%25BD%25BA%25C4%25C9%25BE%25EE.png%23600x600&type=ff264_180\" width=\"132\" height=\"90\" alt=\"\" class=\"thumb api_get\" onerror=\"onErrorImage(this, 'bg_nimg');\"><span class=\"thumb_count\">2</span></span> </a> </div> </li> <li class=\"bx\" id=\"sp_blog_19\"> <div class=\"total_wrap\"> <div class=\"total_area\"> <div class=\"total_info\"> <div class=\"api_save_group _keep_wrap\"> <a href=\"javascript:;\" role=\"button\" class=\"btn_save _keep_trigger\" data-cr-on=\"a=blg*a.kep&r=19&i=90000003_0000000000000033BD1CF481&u=javascript\" data-cr-off=\"a=blg*a.kep&r=19&i=90000003_0000000000000033BD1CF481&u=javascript\" data-url=\"https://blog.naver.com/foredu0813?Redirect=Log&logNo=222216123521\" aria-pressed=\"false\"><i class=\"spnew ico_save\">문서 저장하기</i></a> <div class=\"api_ly_save _keep_save_layer\"> <a href=\"javascript:;\" role=\"button\" class=\"spnew_af item item_save _keep_save\" data-cr-on=\"a=blg*a.kepon&r=19&i=90000003_0000000000000033BD1CF481&u=javascript\" data-cr-off=\"a=blg*a.kepoff&r=19&i=90000003_0000000000000033BD1CF481&u=javascript\">Keep에 저장</a> <a href=\"https://keep.naver.com/\" target=\"_blank\" class=\"spnew_af item item_quick\" onClick=\"return goOtherCR(this, 'a=blg*a.kephome&r=19&i=90000003_0000000000000033BD1CF481&u='+urlencode(this.href))\">Keep 바로가기</a> </div> </div> <div class=\"total_sub\"> <a href=\"https://blog.naver.com/foredu0813\" class=\"sub_thumb\" target=\"_blank\" onClick=\"return goOtherCR(this, 'a=blg*a.writer&r=19&i=90000003_0000000000000033BD1CF481&u='+urlencode(this.href))\"> <span class=\"thumb\"><img src=\"https://search.pstatic.net/common/?src=http%3A%2F%2Fblogpfthumb.phinf.naver.net%2FMjAyMDAxMjFfMjcy%2FMDAxNTc5NTkwOTU5Mzk2.Kpwv4Dkqohl3vZVwPtN6fuAnz37k2687rQmsMdKrya8g.w3BRUY6ccM7yHTzFfIhdod7Bt1StjcnGuNP0oAdc3VUg.JPEG.foredu0813%2FprofileImage.jpg&type=n48_48\" width=\"20\" height=\"20\" alt=\"\" onerror=\"onErrorImage(this, 'bg_npimg');\"></span> </a> <span class=\"elss etc_dsc\"> <span class=\"etc_dsc_group\"> <span class=\"etc_dsc_area\"> <span class=\"sub_time sub_txt\">2021.01.22.</span> </span> <span class=\"elss etc_dsc_inner\"> <a href=\"https://blog.naver.com/foredu0813\" class=\"sub_txt sub_name\" target=\"_blank\" onClick=\"return goOtherCR(this, 'a=blg*a.writer&r=19&i=90000003_0000000000000033BD1CF481&u='+urlencode(this.href))\">보득솔쌤 이승우쌤 국어 수업</a> </span> </span> </span> </div> </div> <a href=\"https://blog.naver.com/foredu0813?Redirect=Log&logNo=222216123521\" class=\"api_txt_lines total_tit\" target=\"_blank\" onClick=\"return goOtherCR(this, 'a=blg*a.iblg&r=19&i=90000003_0000000000000033BD1CF481&u='+urlencode(this.href))\"><strong class=\"hl\">연세대학교</strong> 온라인 멘토링 실시 안내</a> <div class=\"total_group\"> <div class=\"total_dsc_wrap\"> <a href=\"https://blog.naver.com/foredu0813?Redirect=Log&logNo=222216123521\" class=\"total_dsc\" target=\"_blank\" onClick=\"return goOtherCR(this, 'a=blg*a.iblg&r=19&i=90000003_0000000000000033BD1CF481&u='+urlencode(this.href))\"> <div class=\"api_txt_lines dsc_txt\"><strong class=\"hl\">연세대학교</strong> 온라인 멘토링 실시 안내 코로나19 사태의 장기화로 인해 캠퍼스 견학을 정상 운영하기 어려운 상황입니다. <strong class=\"hl\">연세대학교</strong>는 이에 아래와 같이... </div> </a> </div> </div> </div> </div> </li> <li class=\"bx\" id=\"sp_blog_20\"> <div class=\"total_wrap api_ani_send\"> <div class=\"total_area\"> <div class=\"total_info\"> <div class=\"api_save_group _keep_wrap\"> <a href=\"javascript:;\" role=\"button\" class=\"btn_save _keep_trigger\" data-cr-on=\"a=blg*a.kep&r=20&i=90000003_0000000000000033B61B80D5&u=javascript\" data-cr-off=\"a=blg*a.kep&r=20&i=90000003_0000000000000033B61B80D5&u=javascript\" data-url=\"https://blog.naver.com/megamdl?Redirect=Log&logNo=222098587861\" aria-pressed=\"false\"><i class=\"spnew ico_save\">문서 저장하기</i></a> <div class=\"api_ly_save _keep_save_layer\"> <a href=\"javascript:;\" role=\"button\" class=\"spnew_af item item_save _keep_save\" data-cr-on=\"a=blg*a.kepon&r=20&i=90000003_0000000000000033B61B80D5&u=javascript\" data-cr-off=\"a=blg*a.kepoff&r=20&i=90000003_0000000000000033B61B80D5&u=javascript\">Keep에 저장</a> <a href=\"https://keep.naver.com/\" target=\"_blank\" class=\"spnew_af item item_quick\" onClick=\"return goOtherCR(this, 'a=blg*a.kephome&r=20&i=90000003_0000000000000033B61B80D5&u='+urlencode(this.href))\">Keep 바로가기</a> </div> </div> <div class=\"total_sub\"> <a href=\"https://blog.naver.com/megamdl\" class=\"sub_thumb\" target=\"_blank\" onClick=\"return goOtherCR(this, 'a=blg*a.writer&r=20&i=90000003_0000000000000033B61B80D5&u='+urlencode(this.href))\"> <span class=\"thumb\"><img src=\"https://search.pstatic.net/common/?src=http%3A%2F%2Fblogpfthumb.phinf.naver.net%2F20140414_39%2Fmegamdl_1397451647111BJdDk_PNG%2F%25BA%25EA%25B7%25A3%25B5%25E5.png&type=n48_48\" width=\"20\" height=\"20\" alt=\"\" onerror=\"onErrorImage(this, 'bg_npimg');\"></span> </a> <span class=\"elss etc_dsc\"> <span class=\"etc_dsc_group\"> <span class=\"etc_dsc_area\"> <i class=\"spnew api_icon_official2\">공식</i> <span class=\"sub_time sub_txt\">2020.09.24.</span> </span> <span class=\"elss etc_dsc_inner\"> <a href=\"https://blog.naver.com/megamdl\" class=\"sub_txt sub_name\" target=\"_blank\" onClick=\"return goOtherCR(this, 'a=blg*a.writer&r=20&i=90000003_0000000000000033B61B80D5&u='+urlencode(this.href))\">1등의 책임감, 메가엠디 공식 블로그</a> </span> </span> </span> </div> </div> <a href=\"https://blog.naver.com/megamdl?Redirect=Log&logNo=222098587861\" class=\"api_txt_lines total_tit\" target=\"_blank\" onClick=\"return goOtherCR(this, 'a=blg*a.iblg&r=20&i=90000003_0000000000000033B61B80D5&u='+urlencode(this.href))\"><strong class=\"hl\">연세대학교</strong> 편입 모의고사 풀어보고 실력 점검!</a> <div class=\"total_group\"> <div class=\"total_dsc_wrap\"> <a href=\"https://blog.naver.com/megamdl?Redirect=Log&logNo=222098587861\" class=\"total_dsc\" target=\"_blank\" onClick=\"return goOtherCR(this, 'a=blg*a.iblg&r=20&i=90000003_0000000000000033B61B80D5&u='+urlencode(this.href))\"> <div class=\"api_txt_lines dsc_txt\">오늘은 <strong class=\"hl\">연세대학교</strong> 편입을 준비 중인 분들을 위해 기출 문제와 모의고사를 활용해 남은 기간을 알차게 보낼 수 있는 방법을 알려 드리겠습니다! 먼저 <strong class=\"hl\">연세대학교</strong>... </div> </a> </div> </div> </div> <a href=\"https://blog.naver.com/megamdl?Redirect=Log&logNo=222098587861\" class=\"thumb_single\" target=\"_blank\" onClick=\"return goOtherCR(this, 'a=blg*a.iblg&r=20&i=90000003_0000000000000033B61B80D5&u='+urlencode(this.href))\"> <span class=\"thumb_fix\"><img src=\"https://search.pstatic.net/common/?src=http%3A%2F%2Fblogfiles.naver.net%2FMjAyMDA5MjRfMjI4%2FMDAxNjAwOTM1OTMyNTAy.CJIDCjLOjRJlyJ8r-3yMCXyhw0evWmKetJIM2fBdptAg.fQGgHS-IOTGLtLIlPKpQWiVzbS28LBGUVTjpykAPNa4g.PNG.megamdl%2F20200924_172519.png%23696x697&type=ff264_180\" width=\"132\" height=\"90\" alt=\"\" class=\"thumb api_get\" onerror=\"onErrorImage(this, 'bg_nimg');\"><span class=\"thumb_count\">13</span></span> </a> </div> </li> <li class=\"bx\" id=\"sp_blog_21\"> <div class=\"total_wrap api_ani_send\"> <div class=\"total_area\"> <div class=\"total_info\"> <div class=\"api_save_group _keep_wrap\"> <a href=\"javascript:;\" role=\"button\" class=\"btn_save _keep_trigger\" data-cr-on=\"a=blg*a.kep&r=21&i=90000003_0000000000000033C25BECE8&u=javascript\" data-cr-off=\"a=blg*a.kep&r=21&i=90000003_0000000000000033C25BECE8&u=javascript\" data-url=\"https://blog.naver.com/beaguen?Redirect=Log&logNo=222304136424\" aria-pressed=\"false\"><i class=\"spnew ico_save\">문서 저장하기</i></a> <div class=\"api_ly_save _keep_save_layer\"> <a href=\"javascript:;\" role=\"button\" class=\"spnew_af item item_save _keep_save\" data-cr-on=\"a=blg*a.kepon&r=21&i=90000003_0000000000000033C25BECE8&u=javascript\" data-cr-off=\"a=blg*a.kepoff&r=21&i=90000003_0000000000000033C25BECE8&u=javascript\">Keep에 저장</a> <a href=\"https://keep.naver.com/\" target=\"_blank\" class=\"spnew_af item item_quick\" onClick=\"return goOtherCR(this, 'a=blg*a.kephome&r=21&i=90000003_0000000000000033C25BECE8&u='+urlencode(this.href))\">Keep 바로가기</a> </div> </div> <div class=\"total_sub\"> <a href=\"https://blog.naver.com/beaguen\" class=\"sub_thumb\" target=\"_blank\" onClick=\"return goOtherCR(this, 'a=blg*a.writer&r=21&i=90000003_0000000000000033C25BECE8&u='+urlencode(this.href))\"> <span class=\"thumb\"><img src=\"https://search.pstatic.net/common/?src=http%3A%2F%2Fblogpfthumb.phinf.naver.net%2FMjAyMDEyMjJfMzUg%2FMDAxNjA4NjE0Mjc0NDM4.BEAnobh9DhjLLBYxW7p9ARw1uDeAnAAti84urFiBlsAg.D0S6IGZuem4EOrbqtxUbg6coJm4Kij9moVK9mZRDdo4g.JPEG.beaguen%2F%2525EC%25259C%2525A0%2525ED%25258A%25259C%2525EB%2525B8%25258C%252B%2525ED%252594%252584%2525EC%252582%2525AC_%2525EB%25258C%252580%2525EC%2525A7%252580%252B1.jpg&type=n48_48\" width=\"20\" height=\"20\" alt=\"\" onerror=\"onErrorImage(this, 'bg_npimg');\"></span> </a> <span class=\"elss etc_dsc\"> <span class=\"etc_dsc_group\"> <span class=\"etc_dsc_area\"> <span class=\"sub_time sub_txt\">2021.04.09.</span> </span> <span class=\"elss etc_dsc_inner\"> <a href=\"https://blog.naver.com/beaguen\" class=\"sub_txt sub_name\" target=\"_blank\" onClick=\"return goOtherCR(this, 'a=blg*a.writer&r=21&i=90000003_0000000000000033C25BECE8&u='+urlencode(this.href))\">대학정보 입시랩</a> </span> </span> </span> </div> </div> <a href=\"https://blog.naver.com/beaguen?Redirect=Log&logNo=222304136424\" class=\"api_txt_lines total_tit\" target=\"_blank\" onClick=\"return goOtherCR(this, 'a=blg*a.iblg&r=21&i=90000003_0000000000000033C25BECE8&u='+urlencode(this.href))\"><strong class=\"hl\">연세대학교</strong> 미래교육원 반려동물 학위 과정!</a> <div class=\"total_group\"> <div class=\"total_dsc_wrap\"> <a href=\"https://blog.naver.com/beaguen?Redirect=Log&logNo=222304136424\" class=\"total_dsc\" target=\"_blank\" onClick=\"return goOtherCR(this, 'a=blg*a.iblg&r=21&i=90000003_0000000000000033C25BECE8&u='+urlencode(this.href))\"> <div class=\"api_txt_lines dsc_txt\">따라 <strong class=\"hl\">연세대학교</strong> 미래교육원에서는 반려동물 학위 과정을 개설했답니다! <strong class=\"hl\">연세대학교</strong> 미래교육원은 2년의 과정을 마치면 애완동물관리전공 생명산업전문학사 학위를... </div> </a> </div> </div> </div> <a href=\"https://blog.naver.com/beaguen?Redirect=Log&logNo=222304136424\" class=\"thumb_single\" target=\"_blank\" onClick=\"return goOtherCR(this, 'a=blg*a.iblg&r=21&i=90000003_0000000000000033C25BECE8&u='+urlencode(this.href))\"> <span class=\"thumb_fix\"><img src=\"https://search.pstatic.net/common/?src=http%3A%2F%2Fblogfiles.naver.net%2FMjAyMTA0MDlfOTYg%2FMDAxNjE3OTQ3MTE4NjQ5.q6bfAJKA_fCzfpZS9N1ZhE8xHlL7q4K8_8n4f22LmWUg.2xDu71qW2aN0Lj08xQ-h6mrI6w23yEGaUehpU-MB3BQg.JPEG.beaguen%2F%25BF%25AC%25BC%25BC%25B4%25EB_%25B9%25CC%25B7%25A1%25B1%25B3%25C0%25B0%25BF%25F8.jpg%231000x650&type=ff264_180\" width=\"132\" height=\"90\" alt=\"\" class=\"thumb api_get\" onerror=\"onErrorImage(this, 'bg_nimg');\"><span class=\"thumb_count\">10</span></span> </a> </div> </li> <li class=\"bx\" id=\"sp_blog_22\"> <div class=\"total_wrap api_ani_send\"> <div class=\"total_area\"> <div class=\"total_info\"> <div class=\"api_save_group _keep_wrap\"> <a href=\"javascript:;\" role=\"button\" class=\"btn_save _keep_trigger\" data-cr-on=\"a=blg*a.kep&r=22&i=90000003_0000000000000033C355A976&u=javascript\" data-cr-off=\"a=blg*a.kep&r=22&i=90000003_0000000000000033C355A976&u=javascript\" data-url=\"https://blog.naver.com/yonsei_life?Redirect=Log&logNo=222320503158\" aria-pressed=\"false\"><i class=\"spnew ico_save\">문서 저장하기</i></a> <div class=\"api_ly_save _keep_save_layer\"> <a href=\"javascript:;\" role=\"button\" class=\"spnew_af item item_save _keep_save\" data-cr-on=\"a=blg*a.kepon&r=22&i=90000003_0000000000000033C355A976&u=javascript\" data-cr-off=\"a=blg*a.kepoff&r=22&i=90000003_0000000000000033C355A976&u=javascript\">Keep에 저장</a> <a href=\"https://keep.naver.com/\" target=\"_blank\" class=\"spnew_af item item_quick\" onClick=\"return goOtherCR(this, 'a=blg*a.kephome&r=22&i=90000003_0000000000000033C355A976&u='+urlencode(this.href))\">Keep 바로가기</a> </div> </div> <div class=\"total_sub\"> <a href=\"https://blog.naver.com/yonsei_life\" class=\"sub_thumb\" target=\"_blank\" onClick=\"return goOtherCR(this, 'a=blg*a.writer&r=22&i=90000003_0000000000000033C355A976&u='+urlencode(this.href))\"> <span class=\"thumb\"><img src=\"https://search.pstatic.net/common/?src=http%3A%2F%2Fblogpfthumb.phinf.naver.net%2F20150428_266%2Fyonsei_life_1430210093406crOyv_PNG%2Fprofile.png&type=n48_48\" width=\"20\" height=\"20\" alt=\"\" onerror=\"onErrorImage(this, 'bg_npimg');\"></span> </a> <span class=\"elss etc_dsc\"> <span class=\"etc_dsc_group\"> <span class=\"etc_dsc_area\"> <span class=\"sub_time sub_txt\">2021.04.23.</span> </span> <span class=\"elss etc_dsc_inner\"> <a href=\"https://blog.naver.com/yonsei_life\" class=\"sub_txt sub_name\" target=\"_blank\" onClick=\"return goOtherCR(this, 'a=blg*a.writer&r=22&i=90000003_0000000000000033C355A976&u='+urlencode(this.href))\">연세우유 라이프연구소</a> </span> </span> </span> </div> </div> <a href=\"https://blog.naver.com/yonsei_life?Redirect=Log&logNo=222320503158\" class=\"api_txt_lines total_tit\" target=\"_blank\" onClick=\"return goOtherCR(this, 'a=blg*a.iblg&r=22&i=90000003_0000000000000033C355A976&u='+urlencode(this.href))\"><strong class=\"hl\">연세대학교</strong> 연세우유 대리점 신규 모집 소식</a> <div class=\"total_group\"> <div class=\"total_dsc_wrap\"> <a href=\"https://blog.naver.com/yonsei_life?Redirect=Log&logNo=222320503158\" class=\"total_dsc\" target=\"_blank\" onClick=\"return goOtherCR(this, 'a=blg*a.iblg&r=22&i=90000003_0000000000000033C355A976&u='+urlencode(this.href))\"> <div class=\"api_txt_lines dsc_txt\">오랜만에 연세우유 대리점 신규 모집 소식으로 찾아왔습니다! 자세한 내용을... 그 비결은 바로 국내 최고의 식품 및 의학전문 연구능력을 갖춘 <strong class=\"hl\">연세대학교</strong>의... </div> </a> </div> </div> </div> <a href=\"https://blog.naver.com/yonsei_life?Redirect=Log&logNo=222320503158\" class=\"thumb_single\" target=\"_blank\" onClick=\"return goOtherCR(this, 'a=blg*a.iblg&r=22&i=90000003_0000000000000033C355A976&u='+urlencode(this.href))\"> <span class=\"thumb_fix\"><img src=\"https://search.pstatic.net/common/?src=http%3A%2F%2Fblogfiles.naver.net%2FMjAyMTA0MjNfODQg%2FMDAxNjE5MTY3MjgxMzE2.c0WaCAQ5_i7jNtxOiAIAFJsuO_I2pASs8KhzhofYouYg.nJj2qvADT6Y68SyOQBrEKcC6e5JNjM7r6F1j7SHdjxwg.PNG.yonsei_life%2F%25BF%25AC%25BC%25BC%25BF%25EC%25C0%25AF_%25BA%25ED%25B7%25CE%25B1%25D7.png%23550x627&type=ff264_180\" width=\"132\" height=\"90\" alt=\"\" class=\"thumb api_get\" onerror=\"onErrorImage(this, 'bg_nimg');\"><span class=\"thumb_count\">4</span></span> </a> </div> </li> <li class=\"bx\" id=\"sp_blog_23\"> <div class=\"total_wrap api_ani_send\"> <div class=\"total_area\"> <div class=\"total_info\"> <div class=\"api_save_group _keep_wrap\"> <a href=\"javascript:;\" role=\"button\" class=\"btn_save _keep_trigger\" data-cr-on=\"a=blg*a.kep&r=23&i=90000003_0000000000000033C588C240&u=javascript\" data-cr-off=\"a=blg*a.kep&r=23&i=90000003_0000000000000033C588C240&u=javascript\" data-url=\"https://blog.naver.com/summatussl?Redirect=Log&logNo=222357406272\" aria-pressed=\"false\"><i class=\"spnew ico_save\">문서 저장하기</i></a> <div class=\"api_ly_save _keep_save_layer\"> <a href=\"javascript:;\" role=\"button\" class=\"spnew_af item item_save _keep_save\" data-cr-on=\"a=blg*a.kepon&r=23&i=90000003_0000000000000033C588C240&u=javascript\" data-cr-off=\"a=blg*a.kepoff&r=23&i=90000003_0000000000000033C588C240&u=javascript\">Keep에 저장</a> <a href=\"https://keep.naver.com/\" target=\"_blank\" class=\"spnew_af item item_quick\" onClick=\"return goOtherCR(this, 'a=blg*a.kephome&r=23&i=90000003_0000000000000033C588C240&u='+urlencode(this.href))\">Keep 바로가기</a> </div> </div> <div class=\"total_sub\"> <a href=\"https://blog.naver.com/summatussl\" class=\"sub_thumb\" target=\"_blank\" onClick=\"return goOtherCR(this, 'a=blg*a.writer&r=23&i=90000003_0000000000000033C588C240&u='+urlencode(this.href))\"> <span class=\"thumb\"><img src=\"https://search.pstatic.net/common/?src=http%3A%2F%2Fblogpfthumb.phinf.naver.net%2FMjAxOTA2MjZfMTcw%2FMDAxNTYxNTMyNDEyNDk2.ZdfZz76fsm-OX8wJkWHdmggFEA23wH4Ug2qU0pDT18Mg.C78Dj6fydQkQkMufIqQ5gFPzEFHzq7GnGl1c-s11Qegg.PNG.summatussl%2Fnyj%25252Cshinchon%25252Csuwon%25252Cnrj%25252Cart_161161.png&type=n48_48\" width=\"20\" height=\"20\" alt=\"\" onerror=\"onErrorImage(this, 'bg_npimg');\"></span> </a> <span class=\"elss etc_dsc\"> <span class=\"etc_dsc_group\"> <span class=\"etc_dsc_area\"> <span class=\"sub_time sub_txt\">2일 전</span> </span> <span class=\"elss etc_dsc_inner\"> <a href=\"https://blog.naver.com/summatussl\" class=\"sub_txt sub_name\" target=\"_blank\" onClick=\"return goOtherCR(this, 'a=blg*a.writer&r=23&i=90000003_0000000000000033C588C240&u='+urlencode(this.href))\">커넥츠 숨마투스학원</a> </span> </span> </span> </div> </div> <a href=\"https://blog.naver.com/summatussl?Redirect=Log&logNo=222357406272\" class=\"api_txt_lines total_tit\" target=\"_blank\" onClick=\"return goOtherCR(this, 'a=blg*a.iblg&r=23&i=90000003_0000000000000033C588C240&u='+urlencode(this.href))\">예체능 정시등급 | 2021학년도 <strong class=\"hl\">연세대학교</strong> 정시등급, 입결... </a> <div class=\"total_group\"> <div class=\"total_dsc_wrap\"> <a href=\"https://blog.naver.com/summatussl?Redirect=Log&logNo=222357406272\" class=\"total_dsc\" target=\"_blank\" onClick=\"return goOtherCR(this, 'a=blg*a.iblg&r=23&i=90000003_0000000000000033C588C240&u='+urlencode(this.href))\"> <div class=\"api_txt_lines dsc_txt\">▼ 2022학년도 <strong class=\"hl\">연세대학교</strong> 체대입시 알아보기! ▼ 안녕하세요! 숨마투스학원... <strong class=\"hl\">연세대학교</strong>입니다! 2022학년도 <strong class=\"hl\">연세대학교</strong> 수능 전형 내용을 살펴보면, 올... </div> </a> </div> </div> </div> <a href=\"https://blog.naver.com/summatussl?Redirect=Log&logNo=222357406272\" class=\"thumb_single\" target=\"_blank\" onClick=\"return goOtherCR(this, 'a=blg*a.iblg&r=23&i=90000003_0000000000000033C588C240&u='+urlencode(this.href))\"> <span class=\"thumb_fix\"><img src=\"https://search.pstatic.net/common/?src=http%3A%2F%2Fblogfiles.naver.net%2FMjAyMTA1MTlfMjYy%2FMDAxNjIxNDEyNDYxODEy.yEorCGkM8pUdDfO5fokN3fK5S6zUZw3dTun_gOqnjp0g.AmbodohJu8QT5tv9BWUGKbD9vPt5GoxcM1uvDNT-xqAg.JPEG.summatussl%2F%25B9%25CC%25B4%25EB%25C1%25A4%25BD%25C3%25C0%25D4%25B0%25E1-001_%25284%2529.jpg%231080x1080&type=ff264_180\" width=\"132\" height=\"90\" alt=\"\" class=\"thumb api_get\" onerror=\"onErrorImage(this, 'bg_nimg');\"></span> </a> </div> </li> <li class=\"bx\" id=\"sp_blog_24\"> <div class=\"total_wrap api_ani_send\"> <div class=\"total_area\"> <div class=\"total_info\"> <div class=\"api_save_group _keep_wrap\"> <a href=\"javascript:;\" role=\"button\" class=\"btn_save _keep_trigger\" data-cr-on=\"a=blg*a.kep&r=24&i=90000003_0000000000000033C5233935&u=javascript\" data-cr-off=\"a=blg*a.kep&r=24&i=90000003_0000000000000033C5233935&u=javascript\" data-url=\"https://blog.naver.com/law7kiho?Redirect=Log&logNo=222350752053\" aria-pressed=\"false\"><i class=\"spnew ico_save\">문서 저장하기</i></a> <div class=\"api_ly_save _keep_save_layer\"> <a href=\"javascript:;\" role=\"button\" class=\"spnew_af item item_save _keep_save\" data-cr-on=\"a=blg*a.kepon&r=24&i=90000003_0000000000000033C5233935&u=javascript\" data-cr-off=\"a=blg*a.kepoff&r=24&i=90000003_0000000000000033C5233935&u=javascript\">Keep에 저장</a> <a href=\"https://keep.naver.com/\" target=\"_blank\" class=\"spnew_af item item_quick\" onClick=\"return goOtherCR(this, 'a=blg*a.kephome&r=24&i=90000003_0000000000000033C5233935&u='+urlencode(this.href))\">Keep 바로가기</a> </div> </div> <div class=\"total_sub\"> <a href=\"https://blog.naver.com/law7kiho\" class=\"sub_thumb\" target=\"_blank\" onClick=\"return goOtherCR(this, 'a=blg*a.writer&r=24&i=90000003_0000000000000033C5233935&u='+urlencode(this.href))\"> <span class=\"thumb\"><img src=\"https://search.pstatic.net/common/?src=http%3A%2F%2Fblogpfthumb.phinf.naver.net%2FMjAxOTA4MDFfMTY5%2FMDAxNTY0NjY4Nzk4NDAz.5P3fOq5F8zSEfKyZ3hiXyk7XUsosHYmW7DMgc4HYO34g.Qj8C0mRAgTTTay4vD6lY_gzisJ1xksY20zgO3atH-t4g.JPEG.law7kiho%2F442332.jpg&type=n48_48\" width=\"20\" height=\"20\" alt=\"\" onerror=\"onErrorImage(this, 'bg_npimg');\"></span> </a> <span class=\"elss etc_dsc\"> <span class=\"etc_dsc_group\"> <span class=\"etc_dsc_area\"> <span class=\"sub_time sub_txt\">2021.05.14.</span> </span> <span class=\"elss etc_dsc_inner\"> <a href=\"https://blog.naver.com/law7kiho\" class=\"sub_txt sub_name\" target=\"_blank\" onClick=\"return goOtherCR(this, 'a=blg*a.writer&r=24&i=90000003_0000000000000033C5233935&u='+urlencode(this.href))\">메가스터디 박기호 논술</a> </span> </span> </span> </div> </div> <a href=\"https://blog.naver.com/law7kiho?Redirect=Log&logNo=222350752053\" class=\"api_txt_lines total_tit\" target=\"_blank\" onClick=\"return goOtherCR(this, 'a=blg*a.iblg&r=24&i=90000003_0000000000000033C5233935&u='+urlencode(this.href))\">[<strong class=\"hl\">연세대학교</strong>] 2022학년도 논술 전형 살펴보기!</a> <div class=\"total_group\"> <div class=\"total_dsc_wrap\"> <a href=\"https://blog.naver.com/law7kiho?Redirect=Log&logNo=222350752053\" class=\"total_dsc\" target=\"_blank\" onClick=\"return goOtherCR(this, 'a=blg*a.iblg&r=24&i=90000003_0000000000000033C5233935&u='+urlencode(this.href))\"> <div class=\"api_txt_lines dsc_txt\">오늘은 <strong class=\"hl\">연세대학교</strong> 2022학년도 논술전형 안내를 영상으로 준비해보았습니다. 앞으로 다양한 대학들의 영상이 업로드 될 예정이니 많은 관심 부탁드립니다! 1.... </div> </a> </div> </div> </div> <a href=\"https://blog.naver.com/law7kiho?Redirect=Log&logNo=222350752053\" class=\"thumb_single\" target=\"_blank\" onClick=\"return goOtherCR(this, 'a=blg*a.iblg&r=24&i=90000003_0000000000000033C5233935&u='+urlencode(this.href))\"> <span class=\"thumb_fix\"><img src=\"https://search.pstatic.net/common/?src=http%3A%2F%2Fblogfiles.naver.net%2FMjAyMTA1MTRfMzkg%2FMDAxNjIwOTY4MzQ5NTQz.nKvOz6UnNCO8uz8g0I2bBvUw3NCMrrDZGOTez8GSXQMg.GTHWp4C2kY0DUClXirojMc5QpEPNE3HtRDJvancP33sg.JPEG.law7kiho%2F1.jpg%23600x600&type=ff264_180\" width=\"132\" height=\"90\" alt=\"\" class=\"thumb api_get\" onerror=\"onErrorImage(this, 'bg_nimg');\"><span class=\"thumb_count\">11</span></span> </a> </div> </li> <li class=\"bx\" id=\"sp_blog_25\"> <div class=\"total_wrap api_ani_send\"> <div class=\"total_area\"> <div class=\"total_info\"> <div class=\"api_save_group _keep_wrap\"> <a href=\"javascript:;\" role=\"button\" class=\"btn_save _keep_trigger\" data-cr-on=\"a=blg*a.kep&r=25&i=90000003_0000000000000033C3C20E17&u=javascript\" data-cr-off=\"a=blg*a.kep&r=25&i=90000003_0000000000000033C3C20E17&u=javascript\" data-url=\"https://blog.naver.com/yonseiblog?Redirect=Log&logNo=222327606807\" aria-pressed=\"false\"><i class=\"spnew ico_save\">문서 저장하기</i></a> <div class=\"api_ly_save _keep_save_layer\"> <a href=\"javascript:;\" role=\"button\" class=\"spnew_af item item_save _keep_save\" data-cr-on=\"a=blg*a.kepon&r=25&i=90000003_0000000000000033C3C20E17&u=javascript\" data-cr-off=\"a=blg*a.kepoff&r=25&i=90000003_0000000000000033C3C20E17&u=javascript\">Keep에 저장</a> <a href=\"https://keep.naver.com/\" target=\"_blank\" class=\"spnew_af item item_quick\" onClick=\"return goOtherCR(this, 'a=blg*a.kephome&r=25&i=90000003_0000000000000033C3C20E17&u='+urlencode(this.href))\">Keep 바로가기</a> </div> </div> <div class=\"total_sub\"> <a href=\"https://blog.naver.com/yonseiblog\" class=\"sub_thumb\" target=\"_blank\" onClick=\"return goOtherCR(this, 'a=blg*a.writer&r=25&i=90000003_0000000000000033C3C20E17&u='+urlencode(this.href))\"> <span class=\"thumb\"><img src=\"https://search.pstatic.net/common/?src=http%3A%2F%2Fblogpfthumb.phinf.naver.net%2F20191006_100%2Fyonseiblog_1570370958330gwz8W_JPEG%2F%253F%253F%253F%253F%253F%253F%253F%25AC%25D2%253F%2528%253F%253F%25A5%25E1%253F%2529%2528%253F%253F%253F%253F%253F%253F%2529.jpg&type=n48_48\" width=\"20\" height=\"20\" alt=\"\" onerror=\"onErrorImage(this, 'bg_npimg');\"></span> </a> <span class=\"elss etc_dsc\"> <span class=\"etc_dsc_group\"> <span class=\"etc_dsc_area\"> <i class=\"spnew api_icon_official2\">공식</i> <span class=\"sub_time sub_txt\">2021.05.13.</span> </span> <span class=\"elss etc_dsc_inner\"> <a href=\"https://blog.naver.com/yonseiblog\" class=\"sub_txt sub_name\" target=\"_blank\" onClick=\"return goOtherCR(this, 'a=blg*a.writer&r=25&i=90000003_0000000000000033C3C20E17&u='+urlencode(this.href))\">연세대학교 공식 블로그</a> </span> </span> </span> </div> </div> <a href=\"https://blog.naver.com/yonseiblog?Redirect=Log&logNo=222327606807\" class=\"api_txt_lines total_tit\" target=\"_blank\" onClick=\"return goOtherCR(this, 'a=blg*a.iblg&r=25&i=90000003_0000000000000033C3C20E17&u='+urlencode(this.href))\">내면의 나를 마주하다, <strong class=\"hl\">연세대학교</strong> 심리상담센터</a> <div class=\"total_group\"> <div class=\"total_dsc_wrap\"> <a href=\"https://blog.naver.com/yonseiblog?Redirect=Log&logNo=222327606807\" class=\"total_dsc\" target=\"_blank\" onClick=\"return goOtherCR(this, 'a=blg*a.iblg&r=25&i=90000003_0000000000000033C3C20E17&u='+urlencode(this.href))\"> <div class=\"api_txt_lines dsc_txt\">주소(신촌캠퍼스) : (03722) 서울특별시 서대문구 연세로 50 <strong class=\"hl\">연세대학교</strong> 백양관 북측동 408호, 전화 : 02-2123-6688, 이메일 : *******@******.**.** 02. 심리상담센터 서비스... </div> </a> </div> </div> </div> <a href=\"https://blog.naver.com/yonseiblog?Redirect=Log&logNo=222327606807\" class=\"thumb_single\" target=\"_blank\" onClick=\"return goOtherCR(this, 'a=blg*a.iblg&r=25&i=90000003_0000000000000033C3C20E17&u='+urlencode(this.href))\"> <span class=\"thumb_fix\"><img src=\"https://search.pstatic.net/common/?src=http%3A%2F%2Fblogfiles.naver.net%2FMjAyMTA1MTNfMTcy%2FMDAxNjIwODg2Njk4NjA1.3dsHqUYZw1MH5rfqQ6fw7XWGU4jU5TbbfM9ZRMruucog.E2QwVeiW4o8ueTBWlLgFlpkrEGOBE9TsWxO1gTrxDMAg.PNG.yonseiblog%2F2021%25BA%25ED1.png%23250x250&type=ff264_180\" width=\"132\" height=\"90\" alt=\"\" class=\"thumb api_get\" onerror=\"onErrorImage(this, 'bg_nimg');\"><span class=\"thumb_count\">8</span></span> </a> </div> </li> <li class=\"bx\" id=\"sp_blog_26\"> <div class=\"total_wrap api_ani_send\"> <div class=\"total_area\"> <div class=\"total_info\"> <div class=\"api_save_group _keep_wrap\"> <a href=\"javascript:;\" role=\"button\" class=\"btn_save _keep_trigger\" data-cr-on=\"a=blg*a.kep&r=26&i=90000003_0000000000000033C4AACB6F&u=javascript\" data-cr-off=\"a=blg*a.kep&r=26&i=90000003_0000000000000033C4AACB6F&u=javascript\" data-url=\"https://blog.naver.com/semi133?Redirect=Log&logNo=222342859631\" aria-pressed=\"false\"><i class=\"spnew ico_save\">문서 저장하기</i></a> <div class=\"api_ly_save _keep_save_layer\"> <a href=\"javascript:;\" role=\"button\" class=\"spnew_af item item_save _keep_save\" data-cr-on=\"a=blg*a.kepon&r=26&i=90000003_0000000000000033C4AACB6F&u=javascript\" data-cr-off=\"a=blg*a.kepoff&r=26&i=90000003_0000000000000033C4AACB6F&u=javascript\">Keep에 저장</a> <a href=\"https://keep.naver.com/\" target=\"_blank\" class=\"spnew_af item item_quick\" onClick=\"return goOtherCR(this, 'a=blg*a.kephome&r=26&i=90000003_0000000000000033C4AACB6F&u='+urlencode(this.href))\">Keep 바로가기</a> </div> </div> <div class=\"total_sub\"> <a href=\"https://blog.naver.com/semi133\" class=\"sub_thumb\" target=\"_blank\" onClick=\"return goOtherCR(this, 'a=blg*a.writer&r=26&i=90000003_0000000000000033C4AACB6F&u='+urlencode(this.href))\"> <span class=\"thumb\"><img src=\"https://search.pstatic.net/common/?src=http%3A%2F%2Fblogpfthumb.phinf.naver.net%2F20140414_201%2Fsemi133_1397405356867DKKFP_JPEG%2F%25BA%25CE%25C4%25C9.jpg&type=n48_48\" width=\"20\" height=\"20\" alt=\"\" onerror=\"onErrorImage(this, 'bg_npimg');\"></span> </a> <span class=\"elss etc_dsc\"> <span class=\"etc_dsc_group\"> <span class=\"etc_dsc_area\"> <span class=\"sub_time sub_txt\">2021.05.08.</span> </span> <span class=\"elss etc_dsc_inner\"> <a href=\"https://blog.naver.com/semi133\" class=\"sub_txt sub_name\" target=\"_blank\" onClick=\"return goOtherCR(this, 'a=blg*a.writer&r=26&i=90000003_0000000000000033C4AACB6F&u='+urlencode(this.href))\">샌디앤봄이</a> </span> </span> </span> </div> </div> <a href=\"https://blog.naver.com/semi133?Redirect=Log&logNo=222342859631\" class=\"api_txt_lines total_tit\" target=\"_blank\" onClick=\"return goOtherCR(this, 'a=blg*a.iblg&r=26&i=90000003_0000000000000033C4AACB6F&u='+urlencode(this.href))\"><strong class=\"hl\">연세대학교</strong> 순수 두유</a> <div class=\"total_group\"> <div class=\"total_dsc_wrap\"> <a href=\"https://blog.naver.com/semi133?Redirect=Log&logNo=222342859631\" class=\"total_dsc\" target=\"_blank\" onClick=\"return goOtherCR(this, 'a=blg*a.iblg&r=26&i=90000003_0000000000000033C4AACB6F&u='+urlencode(this.href))\"> <div class=\"api_txt_lines dsc_txt\">보다 건강한 몸을 위해 두유를 주문해보았습니다 <strong class=\"hl\">연세대학교</strong> 순수두유 오늘 올거라... 작은 블로그에 방문해주시는 분들께도 감사드립니다 ^^ #순수두유 #순수 #연세우유</div> </a> </div> </div> </div> <a href=\"https://blog.naver.com/semi133?Redirect=Log&logNo=222342859631\" class=\"thumb_single\" target=\"_blank\" onClick=\"return goOtherCR(this, 'a=blg*a.iblg&r=26&i=90000003_0000000000000033C4AACB6F&u='+urlencode(this.href))\"> <span class=\"thumb_fix\"><img src=\"https://search.pstatic.net/common/?src=http%3A%2F%2Fblogfiles.naver.net%2FMjAyMTA1MDhfMjkg%2FMDAxNjIwNDY2MTM4NDk0.iKg4YsAdcIdAM_WupLOftqc16wlrnBxJ6lQ1fYgkRdEg.Tbz_wxL2ILKjRoOrGkldYVADtqPv4LUhAlwDnIwWLbEg.JPEG.semi133%2F20210508%25A3%25DF160645%25A3%25DFHDR.jpg%23900x675&type=ff264_180\" width=\"132\" height=\"90\" alt=\"\" class=\"thumb api_get\" onerror=\"onErrorImage(this, 'bg_nimg');\"><span class=\"thumb_count\">8</span></span> </a> </div> </li> <li class=\"bx\" id=\"sp_blog_27\"> <div class=\"total_wrap api_ani_send\"> <div class=\"total_area\"> <div class=\"total_info\"> <div class=\"api_save_group _keep_wrap\"> <a href=\"javascript:;\" role=\"button\" class=\"btn_save _keep_trigger\" data-cr-on=\"a=blg*a.kep&r=27&i=90000003_0000000000000033C437BEA4&u=javascript\" data-cr-off=\"a=blg*a.kep&r=27&i=90000003_0000000000000033C437BEA4&u=javascript\" data-url=\"https://blog.naver.com/xideal?Redirect=Log&logNo=222335319716\" aria-pressed=\"false\"><i class=\"spnew ico_save\">문서 저장하기</i></a> <div class=\"api_ly_save _keep_save_layer\"> <a href=\"javascript:;\" role=\"button\" class=\"spnew_af item item_save _keep_save\" data-cr-on=\"a=blg*a.kepon&r=27&i=90000003_0000000000000033C437BEA4&u=javascript\" data-cr-off=\"a=blg*a.kepoff&r=27&i=90000003_0000000000000033C437BEA4&u=javascript\">Keep에 저장</a> <a href=\"https://keep.naver.com/\" target=\"_blank\" class=\"spnew_af item item_quick\" onClick=\"return goOtherCR(this, 'a=blg*a.kephome&r=27&i=90000003_0000000000000033C437BEA4&u='+urlencode(this.href))\">Keep 바로가기</a> </div> </div> <div class=\"total_sub\"> <a href=\"https://blog.naver.com/xideal\" class=\"sub_thumb\" target=\"_blank\" onClick=\"return goOtherCR(this, 'a=blg*a.writer&r=27&i=90000003_0000000000000033C437BEA4&u='+urlencode(this.href))\"> <span class=\"thumb\"><img src=\"https://search.pstatic.net/common/?src=http%3A%2F%2Fblogpfthumb.phinf.naver.net%2F20141212_150%2Fxideal_1418370363016s6aOu_JPEG%2F%25BB%25E7%25C1%25F8%2B002.jpg&type=n48_48\" width=\"20\" height=\"20\" alt=\"\" onerror=\"onErrorImage(this, 'bg_npimg');\"></span> </a> <span class=\"elss etc_dsc\"> <span class=\"etc_dsc_group\"> <span class=\"etc_dsc_area\"> <span class=\"sub_time sub_txt\">6일 전</span> </span> <span class=\"elss etc_dsc_inner\"> <a href=\"https://blog.naver.com/xideal\" class=\"sub_txt sub_name\" target=\"_blank\" onClick=\"return goOtherCR(this, 'a=blg*a.writer&r=27&i=90000003_0000000000000033C437BEA4&u='+urlencode(this.href))\">광주복부동산사무소(010-3603-6462/광주부동산박사)</a> </span> </span> </span> </div> </div> <a href=\"https://blog.naver.com/xideal?Redirect=Log&logNo=222335319716\" class=\"api_txt_lines total_tit\" target=\"_blank\" onClick=\"return goOtherCR(this, 'a=blg*a.iblg&r=27&i=90000003_0000000000000033C437BEA4&u='+urlencode(this.href))\">전문점 '옥루몽'/ <strong class=\"hl\">연세대학교</strong> 신촌캠퍼스 인접 '옥루몽... </a> <div class=\"total_group\"> <div class=\"total_dsc_wrap\"> <a href=\"https://blog.naver.com/xideal?Redirect=Log&logNo=222335319716\" class=\"total_dsc\" target=\"_blank\" onClick=\"return goOtherCR(this, 'a=blg*a.iblg&r=27&i=90000003_0000000000000033C437BEA4&u='+urlencode(this.href))\"> <div class=\"api_txt_lines dsc_txt\"><strong class=\"hl\">연세대학교</strong> 신촌캠퍼스와 인접하여 있어서 찾기에 좋았습니다. 가마솥 전통 팥빙수를 주문하고 대기표를 받고 기다리니 20여분 후에 벨이 울리더군요. 주문과 동시에... </div> </a> </div> </div> </div> <a href=\"https://blog.naver.com/xideal?Redirect=Log&logNo=222335319716\" class=\"thumb_single\" target=\"_blank\" onClick=\"return goOtherCR(this, 'a=blg*a.iblg&r=27&i=90000003_0000000000000033C437BEA4&u='+urlencode(this.href))\"> <span class=\"thumb_fix\"><img src=\"https://search.pstatic.net/common/?src=http%3A%2F%2Fblogfiles.naver.net%2FMjAyMTA1MDNfMjQy%2FMDAxNjIwMDI3NTc0NzA4.Zcb0Ol7bb2Cd2lwFXykyaxJn_ZxNmCuB0-Vp2s6SmaEg.waoyVlx0s-fEJZbTWr60ioQBD-94SI0fdIHKCmVff3og.JPEG.xideal%2F%25BC%25AD%25BF%25EF%25BD%25C3_%25BC%25AD%25B4%25EB%25B9%25AE%25B1%25B8_%25B4%25EB%25BD%25C5%25B5%25BF_%25B0%25A1%25B8%25B6%25BC%25DC%25C0%25FC%25C5%25EB%25C6%25CF%25BA%25F9%25BC%25F6_%25BF%25C1%25B7%25E7%25B8%25F9%25BD%25C5%25C3%25CC%25BA%25BB%25C1%25A1_%25BF%25AC%25BC%25BC%25B4%25EB%25C7%25D0%25B1%25B3%25BD%25C5%25C3%25CC%25C4%25B7%25C6%25DB%25BD%25BA%25C0%25CE%25C1%25A2_%25281%2529.jpg%232048x1152&type=ff264_180\" width=\"132\" height=\"90\" alt=\"\" class=\"thumb api_get\" onerror=\"onErrorImage(this, 'bg_nimg');\"><span class=\"thumb_count\">15</span></span> </a> </div> </li> <li class=\"bx\" id=\"sp_blog_28\"> <div class=\"total_wrap api_ani_send\"> <div class=\"total_area\"> <div class=\"total_info\"> <div class=\"api_save_group _keep_wrap\"> <a href=\"javascript:;\" role=\"button\" class=\"btn_save _keep_trigger\" data-cr-on=\"a=blg*a.kep&r=28&i=90000003_0000000000000033C48F250C&u=javascript\" data-cr-off=\"a=blg*a.kep&r=28&i=90000003_0000000000000033C48F250C&u=javascript\" data-url=\"https://blog.naver.com/loveyhcha?Redirect=Log&logNo=222341047564\" aria-pressed=\"false\"><i class=\"spnew ico_save\">문서 저장하기</i></a> <div class=\"api_ly_save _keep_save_layer\"> <a href=\"javascript:;\" role=\"button\" class=\"spnew_af item item_save _keep_save\" data-cr-on=\"a=blg*a.kepon&r=28&i=90000003_0000000000000033C48F250C&u=javascript\" data-cr-off=\"a=blg*a.kepoff&r=28&i=90000003_0000000000000033C48F250C&u=javascript\">Keep에 저장</a> <a href=\"https://keep.naver.com/\" target=\"_blank\" class=\"spnew_af item item_quick\" onClick=\"return goOtherCR(this, 'a=blg*a.kephome&r=28&i=90000003_0000000000000033C48F250C&u='+urlencode(this.href))\">Keep 바로가기</a> </div> </div> <div class=\"total_sub\"> <a href=\"https://blog.naver.com/loveyhcha\" class=\"sub_thumb\" target=\"_blank\" onClick=\"return goOtherCR(this, 'a=blg*a.writer&r=28&i=90000003_0000000000000033C48F250C&u='+urlencode(this.href))\"> <span class=\"thumb\"><img src=\"https://search.pstatic.net/common/?src=http%3A%2F%2Fblogpfthumb.phinf.naver.net%2FMjAxOTA3MjJfMjcw%2FMDAxNTYzNzY0MjQ2MDkw.ryLRKkjWO7wjWcU_enk025wBeIP8IPXFYJSHNtdZd9Yg.PNwUPXxmyHt-znzV2M3m1UY3ebCkG_RZauhGZtX1ogog.JPEG.loveyhcha%2Fkim.jpg&type=n48_48\" width=\"20\" height=\"20\" alt=\"\" onerror=\"onErrorImage(this, 'bg_npimg');\"></span> </a> <span class=\"elss etc_dsc\"> <span class=\"etc_dsc_group\"> <span class=\"etc_dsc_area\"> <span class=\"sub_time sub_txt\">2021.05.07.</span> </span> <span class=\"elss etc_dsc_inner\"> <a href=\"https://blog.naver.com/loveyhcha\" class=\"sub_txt sub_name\" target=\"_blank\" onClick=\"return goOtherCR(this, 'a=blg*a.writer&r=28&i=90000003_0000000000000033C48F250C&u='+urlencode(this.href))\">편린의 일상다이어리</a> </span> </span> </span> </div> </div> <a href=\"https://blog.naver.com/loveyhcha?Redirect=Log&logNo=222341047564\" class=\"api_txt_lines total_tit\" target=\"_blank\" onClick=\"return goOtherCR(this, 'a=blg*a.iblg&r=28&i=90000003_0000000000000033C48F250C&u='+urlencode(this.href))\"><strong class=\"hl\">연세대학교</strong> 글로벌사회공헌원에서 글로벌지속가능발전포럼... </a> <div class=\"total_group\"> <div class=\"total_dsc_wrap\"> <a href=\"https://blog.naver.com/loveyhcha?Redirect=Log&logNo=222341047564\" class=\"total_dsc\" target=\"_blank\" onClick=\"return goOtherCR(this, 'a=blg*a.iblg&r=28&i=90000003_0000000000000033C48F250C&u='+urlencode(this.href))\"> <div class=\"api_txt_lines dsc_txt\"><strong class=\"hl\">연세대학교</strong> 글로벌사회공헌원에서 글로벌지속가능발전포럼 (GEEF) 특별... =&gt; &quot;GEEF for ALL 등록하러 가기&quot; 연세대 글로벌사회공헌원이 '제1회 지속가능발전포럼... </div> </a> </div> </div> </div> <a href=\"https://blog.naver.com/loveyhcha?Redirect=Log&logNo=222341047564\" class=\"thumb_single\" target=\"_blank\" onClick=\"return goOtherCR(this, 'a=blg*a.iblg&r=28&i=90000003_0000000000000033C48F250C&u='+urlencode(this.href))\"> <span class=\"thumb_fix\"><img src=\"https://search.pstatic.net/common/?src=http%3A%2F%2Fblogfiles.naver.net%2FMjAyMTA1MDdfMjU4%2FMDAxNjIwMzQzMzIyNTEw.PLtimdMxtKwZsyYKTYs3oEi5WhR9cKVByOWHriLnpfsg.NNq5T7tjE_MXON5u2aCcPJnb4Ly3yMG46YscCBqhr4Yg.PNG.loveyhcha%2FZVTOMkEUeiPZcIsWwDUZ.png%233308x4678&type=ff264_180\" width=\"132\" height=\"90\" alt=\"\" class=\"thumb api_get\" onerror=\"onErrorImage(this, 'bg_nimg');\"></span> </a> </div> </li> <li class=\"bx\" id=\"sp_blog_29\"> <div class=\"total_wrap api_ani_send\"> <div class=\"total_area\"> <div class=\"total_info\"> <div class=\"api_save_group _keep_wrap\"> <a href=\"javascript:;\" role=\"button\" class=\"btn_save _keep_trigger\" data-cr-on=\"a=blg*a.kep&r=29&i=90000003_0000000000000033B91419A1&u=javascript\" data-cr-off=\"a=blg*a.kep&r=29&i=90000003_0000000000000033B91419A1&u=javascript\" data-url=\"https://blog.naver.com/nextyonsei?Redirect=Log&logNo=222148434337\" aria-pressed=\"false\"><i class=\"spnew ico_save\">문서 저장하기</i></a> <div class=\"api_ly_save _keep_save_layer\"> <a href=\"javascript:;\" role=\"button\" class=\"spnew_af item item_save _keep_save\" data-cr-on=\"a=blg*a.kepon&r=29&i=90000003_0000000000000033B91419A1&u=javascript\" data-cr-off=\"a=blg*a.kepoff&r=29&i=90000003_0000000000000033B91419A1&u=javascript\">Keep에 저장</a> <a href=\"https://keep.naver.com/\" target=\"_blank\" class=\"spnew_af item item_quick\" onClick=\"return goOtherCR(this, 'a=blg*a.kephome&r=29&i=90000003_0000000000000033B91419A1&u='+urlencode(this.href))\">Keep 바로가기</a> </div> </div> <div class=\"total_sub\"> <a href=\"https://blog.naver.com/nextyonsei\" class=\"sub_thumb\" target=\"_blank\" onClick=\"return goOtherCR(this, 'a=blg*a.writer&r=29&i=90000003_0000000000000033B91419A1&u='+urlencode(this.href))\"> <span class=\"thumb\"><img src=\"https://search.pstatic.net/common/?src=http%3A%2F%2Fblogpfthumb.phinf.naver.net%2F20140122_266%2Fnextyonsei_1390355854064HaiAf_JPEG%2F%25BF%25AC%25BC%25BCY-1.jpg&type=n48_48\" width=\"20\" height=\"20\" alt=\"\" onerror=\"onErrorImage(this, 'bg_npimg');\"></span> </a> <span class=\"elss etc_dsc\"> <span class=\"etc_dsc_group\"> <span class=\"etc_dsc_area\"> <i class=\"spnew api_icon_official2\">공식</i> <span class=\"sub_time sub_txt\">2020.11.19.</span> </span> <span class=\"elss etc_dsc_inner\"> <a href=\"https://blog.naver.com/nextyonsei\" class=\"sub_txt sub_name\" target=\"_blank\" onClick=\"return goOtherCR(this, 'a=blg*a.writer&r=29&i=90000003_0000000000000033B91419A1&u='+urlencode(this.href))\">연세대학교 미래캠퍼스 공식블로그</a> </span> </span> </span> </div> </div> <a href=\"https://blog.naver.com/nextyonsei?Redirect=Log&logNo=222148434337\" class=\"api_txt_lines total_tit\" target=\"_blank\" onClick=\"return goOtherCR(this, 'a=blg*a.iblg&r=29&i=90000003_0000000000000033B91419A1&u='+urlencode(this.href))\"><strong class=\"hl\">연세대학교</strong> 미래캠퍼스, BK21사업에 10개 교육연구단(팀)... </a> <div class=\"total_group\"> <div class=\"total_dsc_wrap\"> <a href=\"https://blog.naver.com/nextyonsei?Redirect=Log&logNo=222148434337\" class=\"total_dsc\" target=\"_blank\" onClick=\"return goOtherCR(this, 'a=blg*a.iblg&r=29&i=90000003_0000000000000033B91419A1&u='+urlencode(this.href))\"> <div class=\"api_txt_lines dsc_txt\"><strong class=\"hl\">연세대학교</strong> 미래캠퍼스 BK21사업에 10개 교육연구단(팀) 최종 선정 o <strong class=\"hl\">연세대학교</strong> 미래캠퍼스(미래캠퍼스부총장 권명중)는 교육부와 한국연구재단이 주관하는 ‘4단계... </div> </a> </div> </div> </div> <a href=\"https://blog.naver.com/nextyonsei?Redirect=Log&logNo=222148434337\" class=\"thumb_single\" target=\"_blank\" onClick=\"return goOtherCR(this, 'a=blg*a.iblg&r=29&i=90000003_0000000000000033B91419A1&u='+urlencode(this.href))\"> <span class=\"thumb_fix\"><img src=\"https://search.pstatic.net/common/?src=http%3A%2F%2Fblogfiles.naver.net%2FMjAyMDExMTlfMTQ5%2FMDAxNjA1NzQ5NDUzNTI3.alvsbRP6GN8Tmf7-uKA6k66griGBDCOKlCPj1VYpfA4g.iVJXU6bSMCzsYx_kbPwO7U8pTieZPZl9KK3M6fy1w7Qg.PNG.nextyonsei%2F%25B1%25B3%25C0%25B0%25BF%25AC%25B1%25B8%25B4%25DC_201119.png%23600x600&type=ff264_180\" width=\"132\" height=\"90\" alt=\"\" class=\"thumb api_get\" onerror=\"onErrorImage(this, 'bg_nimg');\"><span class=\"thumb_count\">2</span></span> </a> </div> </li> <li class=\"bx\" id=\"sp_blog_30\"> <div class=\"total_wrap api_ani_send\"> <div class=\"total_area\"> <div class=\"total_info\"> <div class=\"api_save_group _keep_wrap\"> <a href=\"javascript:;\" role=\"button\" class=\"btn_save _keep_trigger\" data-cr-on=\"a=blg*a.kep&r=30&i=90000003_0000000000000033B96DD9C0&u=javascript\" data-cr-off=\"a=blg*a.kep&r=30&i=90000003_0000000000000033B96DD9C0&u=javascript\" data-url=\"https://blog.naver.com/yonseiblog?Redirect=Log&logNo=222154316224\" aria-pressed=\"false\"><i class=\"spnew ico_save\">문서 저장하기</i></a> <div class=\"api_ly_save _keep_save_layer\"> <a href=\"javascript:;\" role=\"button\" class=\"spnew_af item item_save _keep_save\" data-cr-on=\"a=blg*a.kepon&r=30&i=90000003_0000000000000033B96DD9C0&u=javascript\" data-cr-off=\"a=blg*a.kepoff&r=30&i=90000003_0000000000000033B96DD9C0&u=javascript\">Keep에 저장</a> <a href=\"https://keep.naver.com/\" target=\"_blank\" class=\"spnew_af item item_quick\" onClick=\"return goOtherCR(this, 'a=blg*a.kephome&r=30&i=90000003_0000000000000033B96DD9C0&u='+urlencode(this.href))\">Keep 바로가기</a> </div> </div> <div class=\"total_sub\"> <a href=\"https://blog.naver.com/yonseiblog\" class=\"sub_thumb\" target=\"_blank\" onClick=\"return goOtherCR(this, 'a=blg*a.writer&r=30&i=90000003_0000000000000033B96DD9C0&u='+urlencode(this.href))\"> <span class=\"thumb\"><img src=\"https://search.pstatic.net/common/?src=http%3A%2F%2Fblogpfthumb.phinf.naver.net%2F20191006_100%2Fyonseiblog_1570370958330gwz8W_JPEG%2F%253F%253F%253F%253F%253F%253F%253F%25AC%25D2%253F%2528%253F%253F%25A5%25E1%253F%2529%2528%253F%253F%253F%253F%253F%253F%2529.jpg&type=n48_48\" width=\"20\" height=\"20\" alt=\"\" onerror=\"onErrorImage(this, 'bg_npimg');\"></span> </a> <span class=\"elss etc_dsc\"> <span class=\"etc_dsc_group\"> <span class=\"etc_dsc_area\"> <i class=\"spnew api_icon_official2\">공식</i> <span class=\"sub_time sub_txt\">2020.11.27.</span> </span> <span class=\"elss etc_dsc_inner\"> <a href=\"https://blog.naver.com/yonseiblog\" class=\"sub_txt sub_name\" target=\"_blank\" onClick=\"return goOtherCR(this, 'a=blg*a.writer&r=30&i=90000003_0000000000000033B96DD9C0&u='+urlencode(this.href))\">연세대학교 공식 블로그</a> </span> </span> </span> </div> </div> <a href=\"https://blog.naver.com/yonseiblog?Redirect=Log&logNo=222154316224\" class=\"api_txt_lines total_tit\" target=\"_blank\" onClick=\"return goOtherCR(this, 'a=blg*a.iblg&r=30&i=90000003_0000000000000033B96DD9C0&u='+urlencode(this.href))\"><strong class=\"hl\">연세대학교</strong> 속 작은 숲, 청송대를 소개합니다!</a> <div class=\"total_group\"> <div class=\"total_dsc_wrap\"> <a href=\"https://blog.naver.com/yonseiblog?Redirect=Log&logNo=222154316224\" class=\"total_dsc\" target=\"_blank\" onClick=\"return goOtherCR(this, 'a=blg*a.iblg&r=30&i=90000003_0000000000000033B96DD9C0&u='+urlencode(this.href))\"> <div class=\"api_txt_lines dsc_txt\"><strong class=\"hl\">연세대학교</strong>의 작은 숲 청송대 알아보기! 연세인 여러분 안녕하세요 SNS 기자단입니다! 어느덧 가을이 지나가고 겨울이 찾아왔는데요! 비대면 수업으로 보낸 일 년이... </div> </a> </div> </div> </div> <a href=\"https://blog.naver.com/yonseiblog?Redirect=Log&logNo=222154316224\" class=\"thumb_single\" target=\"_blank\" onClick=\"return goOtherCR(this, 'a=blg*a.iblg&r=30&i=90000003_0000000000000033B96DD9C0&u='+urlencode(this.href))\"> <span class=\"thumb_fix\"><img src=\"https://search.pstatic.net/common/?src=http%3A%2F%2Fblogfiles.naver.net%2FMjAyMDExMjdfMjQ3%2FMDAxNjA2NDQyNDU0NzA1.zA8n-XQ0B2JVbdEC7r2tFeyPtCJVZowSUMw_MDu1d2Qg.EhY5-BzPB5NL0-bi-zp-JDQGGvwY6WOKdyu1NMOkRSsg.PNG.yonseiblog%2F%25BA%25ED%25B7%25CE%25B1%25D7%25BC%25B6%25B3%25D7%25C0%25CF.png%23740x740&type=ff264_180\" width=\"132\" height=\"90\" alt=\"\" class=\"thumb api_get\" onerror=\"onErrorImage(this, 'bg_nimg');\"><span class=\"thumb_count\">17</span></span> </a> </div> </li> </ul> <div class=\"review_loading _trigger_base\" data-api=\"https://s.search.naver.com/p/blog/search.naver?where=blog&sm=tab_pge&api_type=1&query=%EC%97%B0%EC%84%B8%EB%8C%80%ED%95%99%EA%B5%90&rev=44&start=31&dup_remove=1&post_blogurl=&post_blogurl_without=&nso=&nlu_query=%7B%22r_category%22%3A%2234%22%7D&dkey=0&source_query=&nx_search_query=%EC%97%B0%EC%84%B8%EB%8C%80%ED%95%99%EA%B5%90&spq=0\"> <div class=\"api_loading _trigger_btn\" data-visible-trigger=\"true\" onclick=\"tCR('a=blg.more'); return false;\"> <img src=\"https://ssl.pstatic.net/sstatic/search/pc/2016/img/blank.gif\" width=\"100%\" height=\"10\" alt=\"로딩중\" class=\"bg_loading\"> </div> </div> </div> </more-contents> <load-condition-view> <div class=\"review_error _loading\" style=\"display:none;\"> <div class=\"api_error_wrap\"> <div class=\"api_loading _loading\" style=\"display:none;\"> <img src=\"https://ssl.pstatic.net/sstatic/search/pc/2016/img/blank.gif\" width=\"100%\" height=\"10\" alt=\"로딩중\" class=\"bg_loading\"> <p class=\"dsc_loading\">정보를 가져오는 중입니다.</p> </div> </div> </div> <div class=\"review_error _no_result\" style=\"display: none;\"> <div class=\"api_error_wrap\"> <i class=\"spnew api_ico_search_big\"></i> <strong class=\"tit_message\">검색결과가 없습니다.</strong> <p class=\"dsc_message\">옵션을 재선택 하시거나 초기화 해보시기 바랍니다.</p> <a href=\"#\" class=\"btn_retry _retry\" onclick=\"tCR('a=blg.refresh'); setTimeout(jq.proxy(location, 'reload'), 100); return false;\"><i class=\"spnew api_ico_retry\"></i>초기화</a> </div> </div> <div class=\"review_error _error\" style=\"display: none;\"> <div class=\"api_error_wrap\"> <i class=\"spnew api_ico_alert_big\"></i> <strong class=\"tit_message\">죄송합니다. 일시적인 오류입니다.</strong> <p class=\"dsc_message\">잠시 후 다시 시도해주십시오.</p> <a href=\"#\" class=\"btn_retry _retry\" onclick=\"tCR('a=blg.retry'); return false;\"><i class=\"spnew api_ico_retry\"></i>재시도</a> </div> </div> </load-condition-view> </div> </html-persist> </section> <script>g_crt+=\"&bt=26\";</script>\n",
            "</div><div id=\"sub_pack\" class=\"sub_pack\"><section class=\"sc_new sp_nkeyword\" id=\"nx_right_related_keywords\"> <div class=\"api_subject_bx _related_box\"> <div class=\"api_title_area\"> <h2 class=\"api_title\">연관 검색어<a href=\"https://help.naver.com/support/alias/search/word/word_1.naver\" class=\"api_link_help\" onclick=\"return goOtherCR(this, 'a=rsk_top.guide&r=&i=&u='+urlencode(urlexpand(this.href)));\" target=\"_blank\"><i class=\"spnew api_ico_help\">도움말</i></a></h2> <div class=\"api_title_sub\"> <a href=\"https://help.naver.com/support/alias/search/word/word_2.naver\" class=\"btn_report\" onclick=\"return goOtherCR(this, 'a=rsk_top.report&r=&i=&u='+urlencode(urlexpand(this.href)));\" target=\"_blank\"><span class=\"txt\">신고</span></a><a href=\"#\" onclick=\"return tCR('a=rsk_top.1fold&r=1&i=');\" class=\"btn_close _close\"><i class=\"spnew api_ico_close4\">검색어제안 기능 닫기</i></a> </div> </div> <div class=\"related_srch\"> <ul class=\"lst_related_srch\"> <li class=\"item\"> <a class=\"keyword\" href=\"?where=blog&query=%EA%B3%A0%EB%A0%A4%EB%8C%80%ED%95%99%EA%B5%90&ie=utf8&sm=tab_she&qdt=0\" onclick=\"return goOtherCR(this, 'a=rsk_top*q.list1&r=1&u=' + urlencode(this.href))\"> <div class=\"tit\">고려대학교</div> </a> </li> <li class=\"item\"> <a class=\"keyword\" href=\"?where=blog&query=%EC%84%9C%EC%9A%B8%EB%8C%80%ED%95%99%EA%B5%90&ie=utf8&sm=tab_she&qdt=0\" onclick=\"return goOtherCR(this, 'a=rsk_top*q.list1&r=2&u=' + urlencode(this.href))\"> <div class=\"tit\">서울대학교</div> </a> </li> <li class=\"item\"> <a class=\"keyword\" href=\"?where=blog&query=%EC%97%B0%EC%84%B8%EB%8C%80&ie=utf8&sm=tab_she&qdt=0\" onclick=\"return goOtherCR(this, 'a=rsk_top*q.list1&r=3&u=' + urlencode(this.href))\"> <div class=\"tit\">연세대</div> </a> </li> <li class=\"item\"> <a class=\"keyword\" href=\"?where=blog&query=%EC%84%B1%EA%B7%A0%EA%B4%80%EB%8C%80%ED%95%99%EA%B5%90&ie=utf8&sm=tab_she&qdt=0\" onclick=\"return goOtherCR(this, 'a=rsk_top*q.list1&r=4&u=' + urlencode(this.href))\"> <div class=\"tit\">성균관대학교</div> </a> </li> <li class=\"item\"> <a class=\"keyword\" href=\"?where=blog&query=%ED%95%9C%EC%96%91%EB%8C%80%ED%95%99%EA%B5%90&ie=utf8&sm=tab_she&qdt=0\" onclick=\"return goOtherCR(this, 'a=rsk_top*q.list1&r=5&u=' + urlencode(this.href))\"> <div class=\"tit\">한양대학교</div> </a> </li> <li class=\"item\"> <a class=\"keyword\" href=\"?where=blog&query=%EC%84%9C%EA%B0%95%EB%8C%80%ED%95%99%EA%B5%90&ie=utf8&sm=tab_she&qdt=0\" onclick=\"return goOtherCR(this, 'a=rsk_top*q.list1&r=6&u=' + urlencode(this.href))\"> <div class=\"tit\">서강대학교</div> </a> </li> <li class=\"item\"> <a class=\"keyword\" href=\"?where=blog&query=%EC%97%B0%EC%84%B8%EB%8C%80%ED%95%99%EA%B5%90+%EB%AF%B8%EB%9E%98%EC%BA%A0%ED%8D%BC%EC%8A%A4&ie=utf8&sm=tab_she&qdt=0\" onclick=\"return goOtherCR(this, 'a=rsk_top*q.list1&r=7&u=' + urlencode(this.href))\"> <div class=\"tit\">연세대학교 미래캠퍼스</div> </a> </li> <li class=\"item\"> <a class=\"keyword\" href=\"?where=blog&query=%EC%97%B0%EC%84%B8%EB%8C%80%ED%95%99%EA%B5%90+%ED%95%99%EA%B3%BC&ie=utf8&sm=tab_she&qdt=0\" onclick=\"return goOtherCR(this, 'a=rsk_top*q.list1&r=8&u=' + urlencode(this.href))\"> <div class=\"tit\">연세대학교 학과</div> </a> </li> <li class=\"item\"> <a class=\"keyword\" href=\"?where=blog&query=%EA%B2%BD%ED%9D%AC%EB%8C%80%ED%95%99%EA%B5%90&ie=utf8&sm=tab_she&qdt=0\" onclick=\"return goOtherCR(this, 'a=rsk_top*q.list1&r=9&u=' + urlencode(this.href))\"> <div class=\"tit\">경희대학교</div> </a> </li> <li class=\"item\"> <a class=\"keyword\" href=\"?where=blog&query=%EC%97%B0%EC%84%B8%EB%8C%80%ED%95%99%EA%B5%90+%EC%9E%85%ED%95%99%EC%B2%98&ie=utf8&sm=tab_she&qdt=0\" onclick=\"return goOtherCR(this, 'a=rsk_top*q.list1&r=10&u=' + urlencode(this.href))\"> <div class=\"tit\">연세대학교 입학처</div> </a> </li> </ul> <div class=\"closed\">1주일간 닫힘 상태가 유지됩니다. 다시 보시겠습니까?<a href=\"#\" onclick=\"return tCR('a=rsk_top.1unfold&r=1&i=');\" class=\"btn_open _open\">열기</a></div> </div> </div> </section> <script> (function() { var startApplication = function() { var jsFile = \"https://ssl.pstatic.net/sstatic/au/pc/related_keyword/Controller_201028.js\"; var require = window.require.config({ \"context\": \"_au_related_keyword\", \"paths\": { /* Controller.js의 경로 지정. */ \"Controller\": jsFile.replace(/\\.js$/, \"\"), } }); /* module define은 require의 context별로 호출해야함. */ define(\"jquery\", [], function() { return jQuery; }); require([\"Controller\"], function(Controller) { var ck = \"qre\"; new Controller(jQuery(\"#nx_right_related_keywords\"), { /* 초기 닫힘 상태 설정 */ isClosed: !!nx_get_cookie(ck) }) /* 열기 이벤트 */ .on(\"open\", function(e){ /* 쿠키 제거 */ nx_set_cookie(ck, \"\", -1, nx_au_cookie_domain); }) /* 닫기 이벤트 */ .on(\"close\", function(e){ var date = new Date(); date.setDate(date.getDate() + 7); /* 쿠키 저장 */ nx_set_cookie(ck, 1, date, nx_au_cookie_domain); }) }); }; var requirejs = naver.common.gv.REQUIRE_JS; naver.common.load_js(window.require ? null : requirejs, startApplication, true, 150); })(); </script> <section class=\"sc_new\"> <div class=\"api_subject_bx\"> <div class=\"api_common_banner\"> <a href=\"https://m.news.naver.com/covid19/index.nhn\" class=\"spnew_bf item\" target=\"_blank\" onclick=\"return goOtherCR(this, 'a=bnr.link&r=1&i=&u='+urlencode(this.href));\"> <div class=\"ico_area\"><img src=\"data:image/png;base64,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\" width=\"30\" height=\"30\" alt=\"\" class=\"ico\"></div> <div class=\"dsc_area\"> <strong class=\"elss tit\">코로나19</strong> <p class=\"elss dsc\">확진현황 및 백신·접종 정보</p> </div> </a> <a href=\"?where=nexearch&query=%EC%BD%94%EB%A1%9C%EB%82%9819+%EC%84%A0%EB%B3%84%EC%A7%84%EB%A3%8C%EC%86%8C&sm=tab_etc\" class=\"spnew_bf item\" onclick=\"return goOtherCR(this, 'a=bnr.link&r=2&i=&u='+urlencode(this.href));\"> <div class=\"ico_area\"><img src=\"data:image/png;base64,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\" width=\"30\" height=\"30\" alt=\"\" class=\"ico\"></div> <div class=\"dsc_area\"> <strong class=\"elss tit\">선별 진료소</strong> <p class=\"elss dsc\">내주변 진료소 찾기</p> </div> </a> <a href=\"https://news.naver.com/main/factcheck/main.nhn?section=%C4%DA%B7%CE%B3%AA%B9%E9%BD%C5\" class=\"spnew_bf item\" target=\"_blank\" onclick=\"return goOtherCR(this, 'a=bnr.link&r=3&i=&u='+urlencode(this.href));\"> <div class=\"ico_area\"><img src=\"data:image/png;base64,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\" width=\"30\" height=\"30\" alt=\"\" class=\"ico\"></div> <div class=\"dsc_area\"> <strong class=\"elss tit\">코로나19 팩트체크</strong> <p class=\"elss dsc\">백신 정보 팩트는?</p> </div> </a> <a href=\"?where=nexearch&query=%EC%BD%94%EB%A1%9C%EB%82%9819%EC%98%88%EB%B0%A9%EC%A0%91%EC%A2%85%EC%84%BC%ED%84%B0&sm=tab_etc\" class=\"spnew_bf item\" onclick=\"return goOtherCR(this, 'a=bnr.link&r=4&i=&u='+urlencode(this.href));\"> <div class=\"ico_area\"><img src=\"data:image/png;base64,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\" width=\"30\" height=\"30\" alt=\"\" class=\"ico\"></div> <div class=\"dsc_area\"> <strong class=\"elss tit\">예방접종센터</strong> <p class=\"elss dsc\">내 주변 센터 찾기</p> </div> </a> </div> </div> </section> <script type='text/javascript'>var nx_cr_right_area_info=[{ n:\"rsk\",r:1 },{ n:\"bnr\",r:2 }];</script></div><div class=\"ly_dimmed\"></div> </div> </div><div id=\"footer\"> <div class=\"sub_pack_btm\"> <a href=\"#\" class=\"top\" onclick=\"window.scrollTo(0,0); document.querySelector('#wrap a').focus(); return false;\"><i class=\"spnew ico_top\">맨위로</i></a> </div> <div class=\"footer_group\"> <div class=\"footer_menu\"> <span class=\"inner\"><a href=\"https://www.naver.com/more.html\" target=\"_blank\" onclick=\"return goOtherCR(this, 'u='+urlencode(this.href)+'&amp;a=fot.sitemap&amp;r=&amp;i=');\" class=\"link\">전체서비스</a></span> <span class=\"inner\"><a href=\"https://policy.naver.com/policy/service.html\" target=\"_blank\" onclick=\"return goOtherCR(this, 'u='+urlencode(this.href)+'&amp;a=fot.policy&amp;r=&amp;i=');\" class=\"link\">이용약관</a></span> <span class=\"inner\"><a href=\"https://policy.naver.com/policy/privacy.html\" target=\"_blank\" onclick=\"return goOtherCR(this, 'u='+urlencode(this.href)+'&amp;a=fot.privacy&amp;r=&amp;i=');\" class=\"link\"><strong>개인정보처리방침</strong></a></span> <span class=\"inner\"><a class=\"link\" href=\"https://help.naver.com/support/alias/search/integration/integration_1.naver\" target=\"_blank\" onclick=\"return goOtherCR(this, 'u='+urlencode(this.href)+'&amp;a=fot.help&amp;r=&amp;i=');\">통합검색 고객센터</a></span> <span class=\"inner\"><a href=\"https://www.navercorp.com/\" target=\"_blank\" onclick=\"return goOtherCR(this, 'u='+urlencode(this.href)+'&amp;a=fot.nhn&amp;r=&amp;i=');\" class=\"link\"><i class=\"ico_footer_logo\">© NAVER Corp.</i></a></span> </div> </div>  </div> <div id=\"bck_layer_map\" class=\"layer_map\" style=\"left:440px; top:284px; display:none\"> <div class=\"layer_bd\"> <iframe title=\"약도 보기\" name=\"map\" frameborder=\"0\" width=\"440\" height=\"373\" marginwidth=\"0\" marginheight=\"0\" scrolling=\"no\"></iframe> </div> <!--[if IE 6]><iframe title=\"약도 보기\" frameborder=\"0\" width=\"444\" height=\"377\" style=\"position:absolute; left:0; top:0; z-index:10\"></iframe><![endif]--> </div> <script type=\"text/javascript\"> /* [PR] 서비스에서 사용하는 클릭로그함수 설정 */ window.__atcmpCR = function(we, el, name, order, areaCode, rank) { var htAreaCode = __ghtAutoCompleteConfig[\"htAreaCode\"]; if (typeof htAreaCode[name] !== \"undefined\") { var areaCode = htAreaCode[name][0]; var rank = htAreaCode[name][1]; if (areaCode !== \"\") { tCR(\"a=\"+areaCode+\"&u=\"+urlencode(el.href)); /* clickcr(el, areaCode, rank, '', we); */ /* console.log(areaCode + rank); */ } } return false; }; /* [PR] 서비스별로 form submit 전에 처리해야하는 내용은 이곳에 작성해주세요. */ window.__atcmpSubmitBefore = function(elForm) { try { top.nx_form_submit(elForm); } catch (e) { try { nx_form_submit(elForm); } catch (e) {} } }; /* [PR] 각 서비스별 옵션 : 로그인여부는 pr에서 정의필요합니다. */ window.__ghtAutoCompleteConfig = { /* 자동완성 설정 (Top&Bottom) */ \"bLogin\" : false, /* 로그인 여부 */ \"sFromWhere\" : \"nx\", /* 검색 출처 (폼전송시 함께 전송) */ \"htApiUrl\" : { /* 자동완성 API 정보 */ \"sMyKeyword\" : 'https://s.search.naver.com/n/mykeyword/search', \"sAcKeyword\" : \"//ac.search.naver.com/nx/ac\", \"sAcAnsType\" : \"2\" /* 1 : 기존정답형만 lookup (탭검인 경우 1로 설정) */ }, \"ahtOption\": [ { \"sOrder\": \"asc\", /* 정렬방식 (asc/desc) */ \"sFormId\": \"nx_search_form\", /* 폼엘리먼트 ID */ \"sInputId\": \"nx_query\", /* 입력창 엘리먼트 ID */ \"sViewId\": \"nx_autoframe_top\", /* 자동완성 레이어 ID */ \"sViewToggleButtonId\": \"nautocomplete\" /* 레이어토글 버튼 ID */ } ], /* 서비스별 클릭영역코드 매핑정보 (sch.xxx: 검색창영역, sug.xxx: 자동완성 영역, sly.xxx: 최근 검색어 영역)*/ \"htAreaCode\": { \"expand\": ['sch.expand', '0'], /* 우측 역삼각형 펼침 */ \"close\": ['sch.close', '0'], /* 우측 역삼각형 접힘 */ \"ansdirect\": ['sug.ansdirect', ''], /* 정답형 바로가기 (엔터/클릭) */ \"sugoff\": ['sug.sugoff', ''], /* 자동완성 끄기 클릭 */ \"sugon\": ['sug.sugon', ''], /* 자동완성 켜기 클릭 */ \"plus.use\": ['sug.cxon', ''], /* 자동완성 플러스 사용 */ \"plus.unuse\": ['sug.cxoff', ''], /* 자동완성 플러스 사용안함 */ \"saveoff\": ['sug.saveoff', ''], /* 검색어저장 끄기 클릭 */ \"saveon\": ['sug.saveon', ''], /* 검색어저장 켜기 클릭 */ \"rx\": ['sly.rx', ''], /* 최근검색어 개별삭제 클릭 */ \"ralldel\": ['sly.ralldel', ''], /* 최근검색어 전체삭제 클릭 */ \"kwd.expand\": ['sug.plus', ''] /* ↖︎ 버튼 클릭 */ }, /* 서비스별 SM파라미터 매핑정보 * sm파라미터 추가시 https://oss.navercorp.com/sau-pc/naver_autocomplete/issues/19 확인 필요 */ \"htSmParam\" : { \"hty\" : 'tab_hty.top', /* sm 파라미터 초기값 */ \"htyb\" : 'tab_hty.btm', /* sm 파라미터 초기값(검색창 하단) */ \"hst\" : 'tab_sly.hst', /* 최근검색키워드 */ \"prefix\" : 'tab_sug', /* sm 파라미터 서비스별 prefix */ \"top\" : 'tab_sug.top', /* 자동완성키워드 */ \"btm\" : 'tab_sug.btm', /* 자동완성키워드 (역순) */ \"pat\" : 'tab_sug.pat', /* 자동완성키워드 (부분자동완성) */ \"mbk\" : 'tab_sug.mbk', /* 자동완성키워드 (오타교정자동완성) */ \"nlq\" : 'tab_sug.nlq', /* 자연어검색 */ \"asgl\" : 'tab_sug.asgl', /* 1국가번호 (한국 국가번호) */ \"asga\" : 'tab_sug.asga', /* 1국가번호 다른중복지역 */ \"aslt\" : 'tab_sug.aslt', /* 3로또당첨번호 */ \"aspl\" : 'tab_sug.aspl', /* 6연금복권당첨번호 */ \"astm\" : 'tab_sug.astm', /* 7영업시간 (신한은행 영업시간) */ \"ast\" : 'tab_sug.ast', /* 8전화번호 (국세청 전화번호) */ \"ase\" : 'tab_sug.ase', /* 9환율 (엔화환율) */ \"aswt\" : 'tab_sug.aswt', /* 10해외날씨 (일본날씨) */ \"asiw\" : \"tab_sug.asiw\", /* 11국내날씨 (서울날씨) */ \"asis\" : 'tab_sug.asis', /* 12올림픽순위 */ \"extension\" : 'tab_sug.search', /* 검색기반 자동완성 */ \"asct\" : \"tab_sug.asct\" /* 문맥검색키워드 */ } }; </script> <script type=\"text/javascript\"> /* 자동완성 객체 생성 (Top) */ new naver.common.atcmp.naver_web.Controller(__ghtAutoCompleteConfig).attach({ \"onOpen\": function(){ jQuery(\"#header_wrap .search_area\").addClass(\"type_write\"); }, \"onClose\": function(){ jQuery(\"#header_wrap .search_area\").removeClass(\"type_write\"); }, \"onSelect\": function(oCustomEvent) { __atcmpSubmitBefore(oCustomEvent.elForm); }, \"onClickLog\": function(oCustomEvent) { __atcmpCR(oCustomEvent.event, oCustomEvent.element, oCustomEvent.name, oCustomEvent.order, \"\", \"\"); } }); </script> <script> (function() { var startApplication = function () { var jsFile = \"https://ssl.pstatic.net/sstatic/au/module/keep/Controller_210512.js\"; var require = window.require.config({ \"context\": \"search_common_module\", \"paths\": { \"Keep\": jsFile.replace(/\\.js$/, \"\") } }); define(\"jquery\", [], function () { return jQuery; }); require([\"Keep\"], function (Controller) { var oSearchKeep = new Controller({ \"api\": { \"token\": \"https://apis.naver.com/naverSearchFe/naver_keep/naver_keep\", \"check\": \"https://apis.naver.com/naverSearchFe/naver_keep/v1_web_keep_check?type=bookmark&key={=url}\", \"create\": \"https://apis.naver.com/naverSearchFe/naver_keep/v1_web_bookmark_create\", \"delete\": \"https://apis.naver.com/naverSearchFe/naver_keep/v1_web_keep_delete\" }, \"loginUrl\": \"https://nid.naver.com/nidlogin.login?url={=location}\" }); oSearchKeep.on({ \"create\": function (we) { var crLog = we.data(\"cr-on\"); if (crLog) tCR(crLog); }, \"delete\": function (we) { var crLog = we.data(\"cr-off\"); if (crLog) tCR(crLog); }, \"showLayer\": function (we) { var crLog = we.data(\"cr-on\"); if (crLog) tCR(crLog); }, \"hideLayer\": function (we) { var crLog = we.data(\"cr-off\"); if (crLog) tCR(crLog); } }); window.naver.common.gv.searchKeep = oSearchKeep; }); }; naver.common.load_js(window.require ? null : naver.common.gv.REQUIRE_JS, startApplication, true, 150); })(); </script> </div> <script type=\"text/javascript\"> (function() { var needFix = navigator.userAgent.toLowerCase().indexOf('webkit') > -1; d = document; if (!needFix || !d.querySelectorAll) return; var toArray = function(list){ var armap=[]; i=0; for(;i<list.length;++i){ armap.push(list[i]); } return Array.prototype.slice.call(armap, 0); } ; window.addEventListener('load', function() { toArray(d.querySelectorAll('#u_skip a')).forEach(function(el) { el.addEventListener('click', function() { var target = d.getElementById(this.href.split('#')[1]); oldTabIndex = target.getAttribute('tabindex'); oldOutlineWidth = d.defaultView.getComputedStyle(target, null).getPropertyValue('outline-width'); target.setAttribute('tabindex', 0); target.style.outlineWidth = 0; target.focus(); if (oldTabIndex === null) target.removeAttribute('tabindex'); else target.setAttribute('tabindex', oldTabIndex); }, false); }); }, false); })(); </script><script type=\"text/javascript\"> if(typeof nx_usain_beacon !== 'undefined') { nx_usain_beacon.add_tag(\"conn_._TLSv1.3_.\") ; $Fn(function () { nx_usain_beacon.send(); }).attach(window, \"load\") ; } </script></body> </html>\n"
          ],
          "name": "stdout"
        }
      ]
    },
    {
      "cell_type": "markdown",
      "metadata": {
        "id": "YjdfiUll0-Mz"
      },
      "source": [
        "- HTML 코드를 파싱\n",
        "- BeautifulSoup 라이브러리 설치"
      ]
    },
    {
      "cell_type": "code",
      "metadata": {
        "id": "i9IRQXpy0-Mz",
        "colab": {
          "base_uri": "https://localhost:8080/"
        },
        "outputId": "d7b24a63-0472-4f8c-8a38-bfeda49488f5"
      },
      "source": [
        "!pip install --upgrade pip # pip는 (아나콘다에 포함되지 않은) 외부 라이브러리를 설치하는 명령어\n",
        "!pip install bs4           # 주피터노트북에서 !(느낌표)를 앞에 붙이면 커맨드 창에서 실행하는 것과 동일함"
      ],
      "execution_count": null,
      "outputs": [
        {
          "output_type": "stream",
          "text": [
            "Collecting pip\n",
            "\u001b[?25l  Downloading https://files.pythonhosted.org/packages/cd/82/04e9aaf603fdbaecb4323b9e723f13c92c245f6ab2902195c53987848c78/pip-21.1.2-py3-none-any.whl (1.5MB)\n",
            "\r\u001b[K     |▏                               | 10kB 13.0MB/s eta 0:00:01\r\u001b[K     |▍                               | 20kB 17.9MB/s eta 0:00:01\r\u001b[K     |▋                               | 30kB 22.5MB/s eta 0:00:01\r\u001b[K     |▉                               | 40kB 25.5MB/s eta 0:00:01\r\u001b[K     |█                               | 51kB 27.8MB/s eta 0:00:01\r\u001b[K     |█▎                              | 61kB 30.2MB/s eta 0:00:01\r\u001b[K     |█▌                              | 71kB 27.3MB/s eta 0:00:01\r\u001b[K     |█▊                              | 81kB 27.4MB/s eta 0:00:01\r\u001b[K     |██                              | 92kB 28.0MB/s eta 0:00:01\r\u001b[K     |██▏                             | 102kB 29.3MB/s eta 0:00:01\r\u001b[K     |██▎                             | 112kB 29.3MB/s eta 0:00:01\r\u001b[K     |██▌                             | 122kB 29.3MB/s eta 0:00:01\r\u001b[K     |██▊                             | 133kB 29.3MB/s eta 0:00:01\r\u001b[K     |███                             | 143kB 29.3MB/s eta 0:00:01\r\u001b[K     |███▏                            | 153kB 29.3MB/s eta 0:00:01\r\u001b[K     |███▍                            | 163kB 29.3MB/s eta 0:00:01\r\u001b[K     |███▋                            | 174kB 29.3MB/s eta 0:00:01\r\u001b[K     |███▉                            | 184kB 29.3MB/s eta 0:00:01\r\u001b[K     |████                            | 194kB 29.3MB/s eta 0:00:01\r\u001b[K     |████▎                           | 204kB 29.3MB/s eta 0:00:01\r\u001b[K     |████▌                           | 215kB 29.3MB/s eta 0:00:01\r\u001b[K     |████▋                           | 225kB 29.3MB/s eta 0:00:01\r\u001b[K     |████▉                           | 235kB 29.3MB/s eta 0:00:01\r\u001b[K     |█████                           | 245kB 29.3MB/s eta 0:00:01\r\u001b[K     |█████▎                          | 256kB 29.3MB/s eta 0:00:01\r\u001b[K     |█████▌                          | 266kB 29.3MB/s eta 0:00:01\r\u001b[K     |█████▊                          | 276kB 29.3MB/s eta 0:00:01\r\u001b[K     |██████                          | 286kB 29.3MB/s eta 0:00:01\r\u001b[K     |██████▏                         | 296kB 29.3MB/s eta 0:00:01\r\u001b[K     |██████▍                         | 307kB 29.3MB/s eta 0:00:01\r\u001b[K     |██████▋                         | 317kB 29.3MB/s eta 0:00:01\r\u001b[K     |██████▊                         | 327kB 29.3MB/s eta 0:00:01\r\u001b[K     |███████                         | 337kB 29.3MB/s eta 0:00:01\r\u001b[K     |███████▏                        | 348kB 29.3MB/s eta 0:00:01\r\u001b[K     |███████▍                        | 358kB 29.3MB/s eta 0:00:01\r\u001b[K     |███████▋                        | 368kB 29.3MB/s eta 0:00:01\r\u001b[K     |███████▉                        | 378kB 29.3MB/s eta 0:00:01\r\u001b[K     |████████                        | 389kB 29.3MB/s eta 0:00:01\r\u001b[K     |████████▎                       | 399kB 29.3MB/s eta 0:00:01\r\u001b[K     |████████▌                       | 409kB 29.3MB/s eta 0:00:01\r\u001b[K     |████████▊                       | 419kB 29.3MB/s eta 0:00:01\r\u001b[K     |█████████                       | 430kB 29.3MB/s eta 0:00:01\r\u001b[K     |█████████                       | 440kB 29.3MB/s eta 0:00:01\r\u001b[K     |█████████▎                      | 450kB 29.3MB/s eta 0:00:01\r\u001b[K     |█████████▌                      | 460kB 29.3MB/s eta 0:00:01\r\u001b[K     |█████████▊                      | 471kB 29.3MB/s eta 0:00:01\r\u001b[K     |██████████                      | 481kB 29.3MB/s eta 0:00:01\r\u001b[K     |██████████▏                     | 491kB 29.3MB/s eta 0:00:01\r\u001b[K     |██████████▍                     | 501kB 29.3MB/s eta 0:00:01\r\u001b[K     |██████████▋                     | 512kB 29.3MB/s eta 0:00:01\r\u001b[K     |██████████▉                     | 522kB 29.3MB/s eta 0:00:01\r\u001b[K     |███████████                     | 532kB 29.3MB/s eta 0:00:01\r\u001b[K     |███████████▏                    | 542kB 29.3MB/s eta 0:00:01\r\u001b[K     |███████████▍                    | 552kB 29.3MB/s eta 0:00:01\r\u001b[K     |███████████▋                    | 563kB 29.3MB/s eta 0:00:01\r\u001b[K     |███████████▉                    | 573kB 29.3MB/s eta 0:00:01\r\u001b[K     |████████████                    | 583kB 29.3MB/s eta 0:00:01\r\u001b[K     |████████████▎                   | 593kB 29.3MB/s eta 0:00:01\r\u001b[K     |████████████▌                   | 604kB 29.3MB/s eta 0:00:01\r\u001b[K     |████████████▊                   | 614kB 29.3MB/s eta 0:00:01\r\u001b[K     |█████████████                   | 624kB 29.3MB/s eta 0:00:01\r\u001b[K     |█████████████▏                  | 634kB 29.3MB/s eta 0:00:01\r\u001b[K     |█████████████▍                  | 645kB 29.3MB/s eta 0:00:01\r\u001b[K     |█████████████▌                  | 655kB 29.3MB/s eta 0:00:01\r\u001b[K     |█████████████▊                  | 665kB 29.3MB/s eta 0:00:01\r\u001b[K     |██████████████                  | 675kB 29.3MB/s eta 0:00:01\r\u001b[K     |██████████████▏                 | 686kB 29.3MB/s eta 0:00:01\r\u001b[K     |██████████████▍                 | 696kB 29.3MB/s eta 0:00:01\r\u001b[K     |██████████████▋                 | 706kB 29.3MB/s eta 0:00:01\r\u001b[K     |██████████████▉                 | 716kB 29.3MB/s eta 0:00:01\r\u001b[K     |███████████████                 | 727kB 29.3MB/s eta 0:00:01\r\u001b[K     |███████████████▎                | 737kB 29.3MB/s eta 0:00:01\r\u001b[K     |███████████████▌                | 747kB 29.3MB/s eta 0:00:01\r\u001b[K     |███████████████▋                | 757kB 29.3MB/s eta 0:00:01\r\u001b[K     |███████████████▉                | 768kB 29.3MB/s eta 0:00:01\r\u001b[K     |████████████████                | 778kB 29.3MB/s eta 0:00:01\r\u001b[K     |████████████████▎               | 788kB 29.3MB/s eta 0:00:01\r\u001b[K     |████████████████▌               | 798kB 29.3MB/s eta 0:00:01\r\u001b[K     |████████████████▊               | 808kB 29.3MB/s eta 0:00:01\r\u001b[K     |█████████████████               | 819kB 29.3MB/s eta 0:00:01\r\u001b[K     |█████████████████▏              | 829kB 29.3MB/s eta 0:00:01\r\u001b[K     |█████████████████▍              | 839kB 29.3MB/s eta 0:00:01\r\u001b[K     |█████████████████▋              | 849kB 29.3MB/s eta 0:00:01\r\u001b[K     |█████████████████▉              | 860kB 29.3MB/s eta 0:00:01\r\u001b[K     |██████████████████              | 870kB 29.3MB/s eta 0:00:01\r\u001b[K     |██████████████████▏             | 880kB 29.3MB/s eta 0:00:01\r\u001b[K     |██████████████████▍             | 890kB 29.3MB/s eta 0:00:01\r\u001b[K     |██████████████████▋             | 901kB 29.3MB/s eta 0:00:01\r\u001b[K     |██████████████████▉             | 911kB 29.3MB/s eta 0:00:01\r\u001b[K     |███████████████████             | 921kB 29.3MB/s eta 0:00:01\r\u001b[K     |███████████████████▎            | 931kB 29.3MB/s eta 0:00:01\r\u001b[K     |███████████████████▌            | 942kB 29.3MB/s eta 0:00:01\r\u001b[K     |███████████████████▊            | 952kB 29.3MB/s eta 0:00:01\r\u001b[K     |████████████████████            | 962kB 29.3MB/s eta 0:00:01\r\u001b[K     |████████████████████            | 972kB 29.3MB/s eta 0:00:01\r\u001b[K     |████████████████████▎           | 983kB 29.3MB/s eta 0:00:01\r\u001b[K     |████████████████████▌           | 993kB 29.3MB/s eta 0:00:01\r\u001b[K     |████████████████████▊           | 1.0MB 29.3MB/s eta 0:00:01\r\u001b[K     |█████████████████████           | 1.0MB 29.3MB/s eta 0:00:01\r\u001b[K     |█████████████████████▏          | 1.0MB 29.3MB/s eta 0:00:01\r\u001b[K     |█████████████████████▍          | 1.0MB 29.3MB/s eta 0:00:01\r\u001b[K     |█████████████████████▋          | 1.0MB 29.3MB/s eta 0:00:01\r\u001b[K     |█████████████████████▉          | 1.1MB 29.3MB/s eta 0:00:01\r\u001b[K     |██████████████████████          | 1.1MB 29.3MB/s eta 0:00:01\r\u001b[K     |██████████████████████▎         | 1.1MB 29.3MB/s eta 0:00:01\r\u001b[K     |██████████████████████▍         | 1.1MB 29.3MB/s eta 0:00:01\r\u001b[K     |██████████████████████▋         | 1.1MB 29.3MB/s eta 0:00:01\r\u001b[K     |██████████████████████▉         | 1.1MB 29.3MB/s eta 0:00:01\r\u001b[K     |███████████████████████         | 1.1MB 29.3MB/s eta 0:00:01\r\u001b[K     |███████████████████████▎        | 1.1MB 29.3MB/s eta 0:00:01\r\u001b[K     |███████████████████████▌        | 1.1MB 29.3MB/s eta 0:00:01\r\u001b[K     |███████████████████████▊        | 1.1MB 29.3MB/s eta 0:00:01\r\u001b[K     |████████████████████████        | 1.2MB 29.3MB/s eta 0:00:01\r\u001b[K     |████████████████████████▏       | 1.2MB 29.3MB/s eta 0:00:01\r\u001b[K     |████████████████████████▍       | 1.2MB 29.3MB/s eta 0:00:01\r\u001b[K     |████████████████████████▌       | 1.2MB 29.3MB/s eta 0:00:01\r\u001b[K     |████████████████████████▊       | 1.2MB 29.3MB/s eta 0:00:01\r\u001b[K     |█████████████████████████       | 1.2MB 29.3MB/s eta 0:00:01\r\u001b[K     |█████████████████████████▏      | 1.2MB 29.3MB/s eta 0:00:01\r\u001b[K     |█████████████████████████▍      | 1.2MB 29.3MB/s eta 0:00:01\r\u001b[K     |█████████████████████████▋      | 1.2MB 29.3MB/s eta 0:00:01\r\u001b[K     |█████████████████████████▉      | 1.2MB 29.3MB/s eta 0:00:01\r\u001b[K     |██████████████████████████      | 1.3MB 29.3MB/s eta 0:00:01\r\u001b[K     |██████████████████████████▎     | 1.3MB 29.3MB/s eta 0:00:01\r\u001b[K     |██████████████████████████▌     | 1.3MB 29.3MB/s eta 0:00:01\r\u001b[K     |██████████████████████████▊     | 1.3MB 29.3MB/s eta 0:00:01\r\u001b[K     |██████████████████████████▉     | 1.3MB 29.3MB/s eta 0:00:01\r\u001b[K     |███████████████████████████     | 1.3MB 29.3MB/s eta 0:00:01\r\u001b[K     |███████████████████████████▎    | 1.3MB 29.3MB/s eta 0:00:01\r\u001b[K     |███████████████████████████▌    | 1.3MB 29.3MB/s eta 0:00:01\r\u001b[K     |███████████████████████████▊    | 1.3MB 29.3MB/s eta 0:00:01\r\u001b[K     |████████████████████████████    | 1.4MB 29.3MB/s eta 0:00:01\r\u001b[K     |████████████████████████████▏   | 1.4MB 29.3MB/s eta 0:00:01\r\u001b[K     |████████████████████████████▍   | 1.4MB 29.3MB/s eta 0:00:01\r\u001b[K     |████████████████████████████▋   | 1.4MB 29.3MB/s eta 0:00:01\r\u001b[K     |████████████████████████████▉   | 1.4MB 29.3MB/s eta 0:00:01\r\u001b[K     |█████████████████████████████   | 1.4MB 29.3MB/s eta 0:00:01\r\u001b[K     |█████████████████████████████▏  | 1.4MB 29.3MB/s eta 0:00:01\r\u001b[K     |█████████████████████████████▍  | 1.4MB 29.3MB/s eta 0:00:01\r\u001b[K     |█████████████████████████████▋  | 1.4MB 29.3MB/s eta 0:00:01\r\u001b[K     |█████████████████████████████▉  | 1.4MB 29.3MB/s eta 0:00:01\r\u001b[K     |██████████████████████████████  | 1.5MB 29.3MB/s eta 0:00:01\r\u001b[K     |██████████████████████████████▎ | 1.5MB 29.3MB/s eta 0:00:01\r\u001b[K     |██████████████████████████████▌ | 1.5MB 29.3MB/s eta 0:00:01\r\u001b[K     |██████████████████████████████▊ | 1.5MB 29.3MB/s eta 0:00:01\r\u001b[K     |███████████████████████████████ | 1.5MB 29.3MB/s eta 0:00:01\r\u001b[K     |███████████████████████████████▏| 1.5MB 29.3MB/s eta 0:00:01\r\u001b[K     |███████████████████████████████▎| 1.5MB 29.3MB/s eta 0:00:01\r\u001b[K     |███████████████████████████████▌| 1.5MB 29.3MB/s eta 0:00:01\r\u001b[K     |███████████████████████████████▊| 1.5MB 29.3MB/s eta 0:00:01\r\u001b[K     |████████████████████████████████| 1.5MB 29.3MB/s eta 0:00:01\r\u001b[K     |████████████████████████████████| 1.6MB 29.3MB/s \n",
            "\u001b[?25hInstalling collected packages: pip\n",
            "  Found existing installation: pip 19.3.1\n",
            "    Uninstalling pip-19.3.1:\n",
            "      Successfully uninstalled pip-19.3.1\n",
            "Successfully installed pip-21.1.2\n",
            "Requirement already satisfied: bs4 in /usr/local/lib/python3.7/dist-packages (0.0.1)\n",
            "Requirement already satisfied: beautifulsoup4 in /usr/local/lib/python3.7/dist-packages (from bs4) (4.6.3)\n",
            "\u001b[33mWARNING: Running pip as root will break packages and permissions. You should install packages reliably by using venv: https://pip.pypa.io/warnings/venv\u001b[0m\n"
          ],
          "name": "stdout"
        }
      ]
    },
    {
      "cell_type": "code",
      "metadata": {
        "id": "aBnlG2pf0-Mz"
      },
      "source": [
        "from bs4 import BeautifulSoup as bs # html을 쉽게 다룰 수 있는 파이썬 라이브러리"
      ],
      "execution_count": null,
      "outputs": []
    },
    {
      "cell_type": "code",
      "metadata": {
        "id": "1i3bz4m20-Mz"
      },
      "source": [
        "soup = bs(res.text,'html.parser') # html을 파싱"
      ],
      "execution_count": null,
      "outputs": []
    },
    {
      "cell_type": "markdown",
      "metadata": {
        "id": "7XCFl4GI0-Mz"
      },
      "source": [
        "- 파싱한 HTML 코드에서 원하는 정보 추출"
      ]
    },
    {
      "cell_type": "code",
      "metadata": {
        "id": "QJlNEbSF0-Mz"
      },
      "source": [
        "html = soup.select('div > a.api_txt_lines.total_tit') # 원하는 부분의 CSS 선택자 지정"
      ],
      "execution_count": null,
      "outputs": []
    },
    {
      "cell_type": "code",
      "metadata": {
        "id": "rOPSzEha0-M0",
        "colab": {
          "base_uri": "https://localhost:8080/"
        },
        "outputId": "99a57d8f-3374-4f01-bdce-7c3e2015793b"
      },
      "source": [
        "html[2] # 리스트의 3번째 요소 내용 확인"
      ],
      "execution_count": null,
      "outputs": [
        {
          "output_type": "execute_result",
          "data": {
            "text/plain": [
              "<a class=\"api_txt_lines total_tit\" href=\"https://blog.naver.com/yonseiblog?Redirect=Log&amp;logNo=222360079663\" onclick=\"return goOtherCR(this, 'a=blg*a.iblg&amp;r=3&amp;i=90000003_0000000000000033C5B18D2F&amp;u='+urlencode(this.href))\" target=\"_blank\"><strong class=\"hl\">연세대학교</strong> 상경대학, 故 김우중(前 대우그룹 회장) 흉상... </a>"
            ]
          },
          "metadata": {
            "tags": []
          },
          "execution_count": 105
        }
      ]
    },
    {
      "cell_type": "code",
      "metadata": {
        "scrolled": true,
        "id": "mpzkIBAB0-M0",
        "colab": {
          "base_uri": "https://localhost:8080/",
          "height": 35
        },
        "outputId": "b2ade301-6a1a-4a65-dab3-c58c5b4b8d5b"
      },
      "source": [
        "html[2].text # 블로그 제목 추출"
      ],
      "execution_count": null,
      "outputs": [
        {
          "output_type": "execute_result",
          "data": {
            "application/vnd.google.colaboratory.intrinsic+json": {
              "type": "string"
            },
            "text/plain": [
              "'연세대학교 상경대학, 故 김우중(前 대우그룹 회장) 흉상... '"
            ]
          },
          "metadata": {
            "tags": []
          },
          "execution_count": 106
        }
      ]
    },
    {
      "cell_type": "code",
      "metadata": {
        "id": "qsbToQbW0-M0",
        "colab": {
          "base_uri": "https://localhost:8080/",
          "height": 35
        },
        "outputId": "cd43442f-292e-42b7-87da-14203f29ae45"
      },
      "source": [
        "html[2].get('href') # 하이퍼링크를 걸어준 HTML 문서"
      ],
      "execution_count": null,
      "outputs": [
        {
          "output_type": "execute_result",
          "data": {
            "application/vnd.google.colaboratory.intrinsic+json": {
              "type": "string"
            },
            "text/plain": [
              "'https://blog.naver.com/yonseiblog?Redirect=Log&logNo=222360079663'"
            ]
          },
          "metadata": {
            "tags": []
          },
          "execution_count": 107
        }
      ]
    },
    {
      "cell_type": "markdown",
      "metadata": {
        "id": "0ZSnXlmE0-M0"
      },
      "source": [
        "- 각 블로그의 제목 가져오기"
      ]
    },
    {
      "cell_type": "code",
      "metadata": {
        "id": "5ol_PP7A0-M0",
        "colab": {
          "base_uri": "https://localhost:8080/"
        },
        "outputId": "aa992b13-cac5-4872-ca56-eb3ea763dd9c"
      },
      "source": [
        "title = [x.text for x in html]\n",
        "print(title)"
      ],
      "execution_count": null,
      "outputs": [
        {
          "output_type": "stream",
          "text": [
            "['연세대학교 편입 세심한 부분까지 공부!', '[입시] 2022학년도 연세대학교 수시 모집요강', '연세대학교 상경대학, 故 김우중(前 대우그룹 회장) 흉상... ', '2022학년도 연세대학교 서울캠퍼스 수시 전형방법, 모집요강... ', '연세대학교 미래캠퍼스 RC융합대학에 대해 알아보자!', '[2022학년도] 대입핵심전략 5탄(연세대학교)', '연세대학교 편입학 이공계열 필기고사와 서류', '연세대학교 교육대학원 상담심리 비전공자는?', '연세대학교 12년 특례 20년,21년 솟구치는 경쟁률', '연세대학교 미래캠퍼스 논술 전형, 시험 (2021학년도, 인문계)', '2021학년도 연세대학교 정시 입시결과 - 자연계열', '미리 준비해볼 만한 것들(feat. 연세대학교 20학번 선배의 꿀팁)', '연세대학교 글로벌사회공헌원, 특별세미나 ‘GEEF for... ', '16곡 꿀 선식두유 리뷰(연세대학교에서 만든)', '수유역 치과:연세대학교... 협진 진료/연세고운미소치과강북', '[대입] 2022학년도 연세대학교 입학전형 시행계획', '2021학년도 연세대학교 정시모집 일반전형 일반계열 수능 위주', '연세대학교 미래캠퍼스 디지털헬스케어학부 출범식 및... ', '연세대학교 온라인 멘토링 실시 안내', '연세대학교 편입 모의고사 풀어보고 실력 점검!', '연세대학교 미래교육원 반려동물 학위 과정!', '연세대학교 연세우유 대리점 신규 모집 소식', '예체능 정시등급 | 2021학년도 연세대학교 정시등급, 입결... ', '[연세대학교] 2022학년도 논술 전형 살펴보기!', '내면의 나를 마주하다, 연세대학교 심리상담센터', '연세대학교 순수 두유', \"전문점 '옥루몽'/ 연세대학교 신촌캠퍼스 인접 '옥루몽... \", '연세대학교 글로벌사회공헌원에서 글로벌지속가능발전포럼... ', '연세대학교 미래캠퍼스, BK21사업에 10개 교육연구단(팀)... ', '연세대학교 속 작은 숲, 청송대를 소개합니다!']\n"
          ],
          "name": "stdout"
        }
      ]
    },
    {
      "cell_type": "code",
      "metadata": {
        "id": "mMEY4_YO0-M0",
        "colab": {
          "base_uri": "https://localhost:8080/"
        },
        "outputId": "514dd450-5b19-4b7b-fea2-c06403d4890a"
      },
      "source": [
        "out = []\n",
        "for x in html:\n",
        "    out += [x.text]\n",
        "urls = out\n",
        "print(urls)"
      ],
      "execution_count": null,
      "outputs": [
        {
          "output_type": "stream",
          "text": [
            "['연세대학교 편입 세심한 부분까지 공부!', '[입시] 2022학년도 연세대학교 수시 모집요강', '연세대학교 상경대학, 故 김우중(前 대우그룹 회장) 흉상... ', '2022학년도 연세대학교 서울캠퍼스 수시 전형방법, 모집요강... ', '연세대학교 미래캠퍼스 RC융합대학에 대해 알아보자!', '[2022학년도] 대입핵심전략 5탄(연세대학교)', '연세대학교 편입학 이공계열 필기고사와 서류', '연세대학교 교육대학원 상담심리 비전공자는?', '연세대학교 12년 특례 20년,21년 솟구치는 경쟁률', '연세대학교 미래캠퍼스 논술 전형, 시험 (2021학년도, 인문계)', '2021학년도 연세대학교 정시 입시결과 - 자연계열', '미리 준비해볼 만한 것들(feat. 연세대학교 20학번 선배의 꿀팁)', '연세대학교 글로벌사회공헌원, 특별세미나 ‘GEEF for... ', '16곡 꿀 선식두유 리뷰(연세대학교에서 만든)', '수유역 치과:연세대학교... 협진 진료/연세고운미소치과강북', '[대입] 2022학년도 연세대학교 입학전형 시행계획', '2021학년도 연세대학교 정시모집 일반전형 일반계열 수능 위주', '연세대학교 미래캠퍼스 디지털헬스케어학부 출범식 및... ', '연세대학교 온라인 멘토링 실시 안내', '연세대학교 편입 모의고사 풀어보고 실력 점검!', '연세대학교 미래교육원 반려동물 학위 과정!', '연세대학교 연세우유 대리점 신규 모집 소식', '예체능 정시등급 | 2021학년도 연세대학교 정시등급, 입결... ', '[연세대학교] 2022학년도 논술 전형 살펴보기!', '내면의 나를 마주하다, 연세대학교 심리상담센터', '연세대학교 순수 두유', \"전문점 '옥루몽'/ 연세대학교 신촌캠퍼스 인접 '옥루몽... \", '연세대학교 글로벌사회공헌원에서 글로벌지속가능발전포럼... ', '연세대학교 미래캠퍼스, BK21사업에 10개 교육연구단(팀)... ', '연세대학교 속 작은 숲, 청송대를 소개합니다!']\n"
          ],
          "name": "stdout"
        }
      ]
    },
    {
      "cell_type": "markdown",
      "metadata": {
        "id": "u1I8BJuI0-M0"
      },
      "source": [
        "- 각 블로그의 주소 가져오기"
      ]
    },
    {
      "cell_type": "code",
      "metadata": {
        "id": "Wd2BDfZI0-M1",
        "colab": {
          "base_uri": "https://localhost:8080/"
        },
        "outputId": "6d2b94e7-4104-4bc4-948a-9cfaddc5b7ce"
      },
      "source": [
        "urls = [x.get('href') for x in html]\n",
        "print(urls)"
      ],
      "execution_count": null,
      "outputs": [
        {
          "output_type": "stream",
          "text": [
            "['https://blog.naver.com/ibasser?Redirect=Log&logNo=222350701088', 'https://blog.naver.com/jjangting?Redirect=Log&logNo=222349844749', 'https://blog.naver.com/yonseiblog?Redirect=Log&logNo=222360079663', 'https://blog.naver.com/uway2005?Redirect=Log&logNo=222222926341', 'https://blog.naver.com/nextyonsei?Redirect=Log&logNo=222326215739', 'https://blog.naver.com/atstudy?Redirect=Log&logNo=222354800600', 'https://blog.naver.com/megamdl?Redirect=Log&logNo=222149831542', 'https://blog.naver.com/miopet?Redirect=Log&logNo=222325976549', 'https://blog.naver.com/ieverything?Redirect=Log&logNo=222307361355', 'https://blog.naver.com/easywayout?Redirect=Log&logNo=222245269024', 'https://blog.naver.com/henem2?Redirect=Log&logNo=222321465977', 'https://blog.naver.com/metivna?Redirect=Log&logNo=222090296951', 'https://blog.naver.com/yonseiblog?Redirect=Log&logNo=222355793812', 'https://blog.naver.com/danceyoga?Redirect=Log&logNo=222271204786', 'https://blog.naver.com/dentkjk?Redirect=Log&logNo=222349125852', 'https://blog.naver.com/jjangting?Redirect=Log&logNo=222237919251', 'https://blog.naver.com/bosungabi?Redirect=Log&logNo=222135966554', 'https://blog.naver.com/nextyonsei?Redirect=Log&logNo=222272788494', 'https://blog.naver.com/foredu0813?Redirect=Log&logNo=222216123521', 'https://blog.naver.com/megamdl?Redirect=Log&logNo=222098587861', 'https://blog.naver.com/beaguen?Redirect=Log&logNo=222304136424', 'https://blog.naver.com/yonsei_life?Redirect=Log&logNo=222320503158', 'https://blog.naver.com/summatussl?Redirect=Log&logNo=222357406272', 'https://blog.naver.com/law7kiho?Redirect=Log&logNo=222350752053', 'https://blog.naver.com/yonseiblog?Redirect=Log&logNo=222327606807', 'https://blog.naver.com/semi133?Redirect=Log&logNo=222342859631', 'https://blog.naver.com/xideal?Redirect=Log&logNo=222335319716', 'https://blog.naver.com/loveyhcha?Redirect=Log&logNo=222341047564', 'https://blog.naver.com/nextyonsei?Redirect=Log&logNo=222148434337', 'https://blog.naver.com/yonseiblog?Redirect=Log&logNo=222154316224']\n"
          ],
          "name": "stdout"
        }
      ]
    },
    {
      "cell_type": "markdown",
      "metadata": {
        "id": "4rkCwufV0-M1"
      },
      "source": [
        "#### 9.2 연결된 URL의 정보 추출\n",
        "\n",
        "- 특정한 URL과 하이퍼링크로 연결된 URL의 정보 추출\n",
        "- 블로그 검색 후, 각 블로그의 내용을 추출\n",
        "- 우리가 일반적으로 방문하는 웹사이트에서는 웹크롤링이 불가능한 경우 발생"
      ]
    },
    {
      "cell_type": "code",
      "metadata": {
        "id": "626fkD2O0-M1",
        "colab": {
          "base_uri": "https://localhost:8080/",
          "height": 35
        },
        "outputId": "e18fdb68-f519-4a11-b94c-347fa530c9fa"
      },
      "source": [
        "url = html[2].get('href') \n",
        "url"
      ],
      "execution_count": null,
      "outputs": [
        {
          "output_type": "execute_result",
          "data": {
            "application/vnd.google.colaboratory.intrinsic+json": {
              "type": "string"
            },
            "text/plain": [
              "'https://blog.naver.com/yonseiblog?Redirect=Log&logNo=222360079663'"
            ]
          },
          "metadata": {
            "tags": []
          },
          "execution_count": 111
        }
      ]
    },
    {
      "cell_type": "markdown",
      "metadata": {
        "id": "izuTYJMn0-M1"
      },
      "source": [
        "- 웹사이트의 동일한 정보를 가지고 있는 링크 추출 \n",
        "- 블로그의 아이디와 글 번호는 동일"
      ]
    },
    {
      "cell_type": "code",
      "metadata": {
        "id": "lIIct9_m0-M1",
        "colab": {
          "base_uri": "https://localhost:8080/",
          "height": 52
        },
        "outputId": "97eb26c0-0e53-4178-91bb-bb75db5e1a48"
      },
      "source": [
        "'https://blog.naver.com/PostView.nhn?blogId=yonseiblog&logNo=222190336768&redirect=Dlog&widgetTypeCall=true&topReferer=https%3A%2F%2Fsearch.naver.com%2Fsearch.naver%3Fwhere%3Dblog%26sm%3Dtab_viw.blog%26query%3D%25EC%2597%25B0%25EC%2584%25B8%25EB%258C%2580%25ED%2595%2599%25EA%25B5%2590%26nso%3D&directAccess=false'"
      ],
      "execution_count": null,
      "outputs": [
        {
          "output_type": "execute_result",
          "data": {
            "application/vnd.google.colaboratory.intrinsic+json": {
              "type": "string"
            },
            "text/plain": [
              "'https://blog.naver.com/PostView.nhn?blogId=yonseiblog&logNo=222190336768&redirect=Dlog&widgetTypeCall=true&topReferer=https%3A%2F%2Fsearch.naver.com%2Fsearch.naver%3Fwhere%3Dblog%26sm%3Dtab_viw.blog%26query%3D%25EC%2597%25B0%25EC%2584%25B8%25EB%258C%2580%25ED%2595%2599%25EA%25B5%2590%26nso%3D&directAccess=false'"
            ]
          },
          "metadata": {
            "tags": []
          },
          "execution_count": 112
        }
      ]
    },
    {
      "cell_type": "markdown",
      "metadata": {
        "id": "vWp3Nnhn0-M1"
      },
      "source": [
        "- 이전에 추출한 블로그의 주소에서 블로그의 아이디와 글 번호만 추출"
      ]
    },
    {
      "cell_type": "code",
      "metadata": {
        "id": "BPFyy9r-0-M1"
      },
      "source": [
        "import re"
      ],
      "execution_count": null,
      "outputs": []
    },
    {
      "cell_type": "code",
      "metadata": {
        "id": "ouVXgfho0-M2"
      },
      "source": [
        "def id_extract(url):\n",
        "    blog_name = re.sub('.+com/|\\?.+','',url)\n",
        "    article_id = re.sub('.+logNo=','',url)\n",
        "    return blog_name,article_id"
      ],
      "execution_count": null,
      "outputs": []
    },
    {
      "cell_type": "markdown",
      "metadata": {
        "id": "F7Qz-N5d0-M2"
      },
      "source": [
        "- 이전에 추출한 블로그의 주소를 넣으면 자동으로 내용을 추출하는 함수 생성\n",
        "- **주의**: 반복적으로 내용을 추출하는 경우, 파이썬의 속도가 지나치게 빠름"
      ]
    },
    {
      "cell_type": "code",
      "metadata": {
        "id": "LfCpp5TU0-M2"
      },
      "source": [
        "import time # 시간과 관련된 함수 모듈\n",
        "\n",
        "def blog_crawler(url):\n",
        "    try:\n",
        "        blog_name,article_id = id_extract(url)\n",
        "        new_url = 'https://blog.naver.com/PostView.nhn?blogId='+blog_name+'&logNo='+article_id+'&redirect=Dlog&widgetTypeCall=true&topReferer=https%3A%2F%2Fsearch.naver.com%2Fsearch.naver%3Fwhere%3Dblog%26sm%3Dtab_viw.blog%26query%3D%25EC%2597%25B0%25EC%2584%25B8%25EB%258C%2580%25ED%2595%2599%25EA%25B5%2590%26nso%3D&directAccess=false'\n",
        "        res  = req.get(new_url)\n",
        "        soup = bs(res.text,'html.parser')\n",
        "        time.sleep(1) # 파이썬 일시정지 함수\n",
        "        return [x.text for x in soup.select('div.se-main-container')]\n",
        "    except:\n",
        "        return \"\""
      ],
      "execution_count": null,
      "outputs": []
    },
    {
      "cell_type": "code",
      "metadata": {
        "id": "DXlYGImr0-M2",
        "colab": {
          "base_uri": "https://localhost:8080/"
        },
        "outputId": "a4ec5e72-ef3b-41ac-e5fc-9acedbc110f0"
      },
      "source": [
        "id_extract(url)"
      ],
      "execution_count": null,
      "outputs": [
        {
          "output_type": "execute_result",
          "data": {
            "text/plain": [
              "('yonseiblog', '222360079663')"
            ]
          },
          "metadata": {
            "tags": []
          },
          "execution_count": 116
        }
      ]
    },
    {
      "cell_type": "code",
      "metadata": {
        "id": "h7siWlmL0-M2",
        "colab": {
          "base_uri": "https://localhost:8080/"
        },
        "outputId": "d5e0e23a-e222-420f-acee-8ccd43c5368a"
      },
      "source": [
        "blog_crawler(url)"
      ],
      "execution_count": null,
      "outputs": [
        {
          "output_type": "execute_result",
          "data": {
            "text/plain": [
              "['\\n\\n\\n\\n\\n\\n\\n\\n\\n\\n\\n\\n\\n\\n\\n\\n김우중 회장의 모교 사랑을 기억하고 후배들에게 그 뜻을 전하기 위해 흉상을 건립상경대학, 故 김우중(前 대우그룹 회장) 흉상 제막식 개최\\n\\n\\n\\n \\n\\n\\n\\n\\n\\n\\n\\n \\n\\n\\n\\n\\n\\n\\n\\n(왼쪽부터) 이서영 상경·경영대학학생회장, 정갑영 前 총장, 응우엔 부 뚱(NGUYEN VU TUNG) 주한베트남 대사, 정창영 前 총장, 유경선 총동문회장, 고병헌 금비/삼화왕관(주) 회장, 서승환 총장, 정희자 여사, 김선협 대우재단 이사장, 윤영석 前 대우중공업 회장, 홍성부 前 대우건설 회장, 김용원 前 대우전자 회장, 김선용 대우학원 상임이사, 이두원 상경대학장\\n\\n\\n\\n\\n\\n\\n\\n\\u200b연\\u200b세대학교는 5월 7일 오전 11시 신촌캠퍼스 대우관에서 前 대우그룹 회장인 故 김우중 회장(1936~2019)의 흉상 제막식을 개최했다.\\u200b김우중 회장은 상경대학 경제학과에 1956년 입학해 1960년 졸업했다. 졸업 후 1967년 대우를 창업해, 한때 재계 순위 2위의 대기업으로 육성했다. 1985년 연세대학교 명예경제학박사를 받았으며, 상경대학 동창회장(1989~1997), 총동문회장(1997~2000)을 역임했다. 또한 미래캠퍼스(舊 원주캠퍼스) 부지 50만 평을 기증했으며, 이 외에도 대우관, 노천극장, 동문회관, 공학관, 백주년기념관 등 수많은 캠퍼스 건축기금과 장학·발전기금을 기부한 바 있다.\\u200b연세대학교는 김우중 회장의 모교 사랑을 기억하고 후배들에게 그 뜻을 전하기 위해 흉상을 건립했다. 지난해 12월 작고 1주기를 맞아 거행할 예정이었으나, 코로나19 사태로 인해 연기돼 올해 5월 7일에 개최하게 됐다. 상경대와 경영대, 그리고 동문 후원금을 모아 제작한 故 김우중 회장 흉상은 가로 70㎝, 세로 60㎝, 높이 185㎝(기단 95.5㎝ 포함) 규모로 제작됐으며, 대우관 1층 출입구 좌측에 위치한 초대 상경대학장 효정 이순탁 교수 흉상 맞은편에 세워졌다.\\u200b상경대학(학장 이두원)의 주도로 진행된 본 행사에는 미망인 정희자 회장, 장남 김선협, 차남 김선용 등 유가족과 서승환 총장, 유경선 총동문회장 등을 비롯한 학교 및 동창회, 대우그룹의 주요 인사, 그리고 특별히 응우엔 부 뚱(NGUYEN VU TUNG) 주한베트남 대사, 이서영 상경·경영대학 학생회장이 참석했다.\\u200b\\n\\n\\n\\n \\n\\n\\n\\n\\n\\n\\n\\n(왼쪽부터) 고병헌 금비/삼화왕관(주) 회장, 유경선 총동문회장, 서승환 총장, 정희자 여사, 김선협 대우재단 이사장, 김선용 대우학원 상임이사\\n\\n\\n\\n\\n\\n\\n\\n서승환 총장은 인사말을 통해 \"김우중 회장님께서는 미래를 선도하는 기업인으로 우리나라 젊은이에게 원대한 꿈과 도전을 심어주셨다.\"며 \"연세대학교는 제2, 제3의 김우중을 배출해 회장님께서 꿈꾸었던 넓은 세상을 이끌어갈 리더를 배출하겠다.\"고 밝혔다.\\u200b이어 유경선 총동문회장은 \"연세 교정에 세워진 건물 하나하나에는 모든 동문들의 정성이 배어 있지 않은 곳이 없지만, 회장님께서 쏟으신 정성은 이곳 대우관을 비롯해 교정 곳곳에 스며들어 있으며, 언제나 연세는 기억할 것\"이라고 말했다.\\u200b\\n\\n\\n\\n \\n\\n\\n\\n\\n\\n\\n\\n\\n\\n\\n\\n\\n\\n\\n\\u200b\\n\\n\\n\\n ']"
            ]
          },
          "metadata": {
            "tags": []
          },
          "execution_count": 117
        }
      ]
    },
    {
      "cell_type": "markdown",
      "metadata": {
        "id": "aNqxbZtE0-M2"
      },
      "source": [
        "- 여러 개의 블로그에서 한번에 내용을 추출"
      ]
    },
    {
      "cell_type": "code",
      "metadata": {
        "id": "0yfhayr80-M2"
      },
      "source": [
        "# 형식에 맞는 블로그 주소만 추출\n",
        "urls = [x for x in urls if x[:23] == 'https://blog.naver.com/']"
      ],
      "execution_count": null,
      "outputs": []
    },
    {
      "cell_type": "code",
      "metadata": {
        "id": "8oMfZsnc0-M3"
      },
      "source": [
        "blog = [blog_crawler(url) for url in urls]\n",
        "blog = [x for x in blog if len(x)>0]"
      ],
      "execution_count": null,
      "outputs": []
    },
    {
      "cell_type": "code",
      "metadata": {
        "id": "RhjTRxXC0-M3",
        "colab": {
          "base_uri": "https://localhost:8080/"
        },
        "outputId": "f550136f-7c89-49d9-f2e4-dc29ad82045c"
      },
      "source": [
        "blog"
      ],
      "execution_count": null,
      "outputs": [
        {
          "output_type": "execute_result",
          "data": {
            "text/plain": [
              "[['\\n\\n\\n\\n\\n\\u200b\\u200b[입시] 2022학년도 연세대학교 수시 모집요강\\u200b\\u200b\\u200b\\n\\n\\n\\n \\n\\n\\n\\n\\n\\n\\n\\n\\n\\n\\n\\n\\n\\n\\n\\u200b\\u200b2022학년도 연세대학교 신촌캠퍼스 수시모집 요강입니다.\\u200b간략히 살펴봤습니다.\\u200b신설된 학과가 있네요 \\u200b약학과도 있습니다. 6년제로 뽑네요.\\u200b\\u200bhttps://tv.naver.com/v/20193739\\n\\n\\n\\n \\n\\n\\n\\n\\n\\n\\n\\n\\n\\n\\n\\n2022학년도 연세대학교 신촌캠퍼스 수시모집 요강 네이버티비 영상입니다.\\u200b\\u200b\\n\\n\\n\\n \\n\\n\\n\\n\\n\\n\\n\\n\\n\\n\\n\\n\\n\\n\\n\\u200b\\u200b\\n\\n\\n\\n \\n\\n\\n\\n2022학년도 수시모집 전년대비 변경 사항\\r\\n\\n\\n\\n\\n\\n\\n\\n\\n* 학생부교과전형 추천형(523명) 신설\\r2021학년도 ‘학생부종합전형 면접형’을 2022학년도 ‘학생부교과전형 추천형’으로 개편 * 전형 요소: 1단계: 학생부교과(100) / 2단계: 1단계 평가(60)+면접평가(40)\\r * 학생부종합전형 기회균형 모집인원 확대 및 개편\\r모집인원 확대: 80명 → 110명(전년 대비 30명, 37.5% 증가)\\r\\u200b*기회균형Ⅰ(80명)과 기회균형Ⅱ(30명)으로 분리 모집\\r\\u200b* 지원자격\\r - 기회균형Ⅰ: 국가보훈대상자, 기초생활수급자, 차상위계층, 한부모가족, 농어촌학생(중·고교 전 과정/초·중·고교 전 과정)\\r - 기회균형Ⅱ: 다문화가정 자녀, 장애인부모 자녀, 민주화운동관련자, 국내·외의 벽·오지 근무경력이 있는 선교사·교역자 자녀, \\r농어촌학생(고교 전 과정) \\r\\u200b* 약학대학 약학과(6년제) 신입생 선발\\r약학대학 6년제 전환에 따라 2022학년도부터 통합 6년제로 신입생 선발\\u200b수시모집 인원: 18명[정원 내(학생부교과전형 추천형 6명, 학생부종합전형 활동우수형 6명, 기회균형Ⅰ 1명, 논술전형 5명)]\\r정시모집 인원: 17명[정원 내(일반전형 12명), 정원 외(연세한마음학생 3명, 농어촌학생 2명)]\\r\\u200b*인공지능융합대학 인공지능학과[정원 20명] 신설: 수시-학생부종합전형[활동우수형] 15명, 정시-일반전형 5명 선발함 \\r인공지능융합대학 신설에 따라 기존 공과대학 컴퓨터과학과가 인공지능융합대학 소속으로 변경\\r\\u200b*수시모집 학생부종합전형 일부 전형에서 대학수학능력시험 최저학력기준 적용\\r학생부종합전형 활동우수형과 국제형(국내고)에 수능최저학력기준을 적용\\r이전 대비 완화된 기준을 적용하여 수험생의 부담을 최소화하고자 함 ※ 학생부교과전형[추천형], 학생부종합전형[기회균형Ⅰ·Ⅱ, 국제형(해외고/검정고시)], 고른기회전형, 논술전형, 특기자전형[국제인재], 고른기회전형은 수능최저학력기준을 적용하지 않음 * 고른기회전형 수시/정시 분할 모집\\r수시모집(학생부위주(종합)전형): 연세한마음학생(43명), 농어촌학생(40명), 북한이탈주민(약간명)\\r정시모집(수능위주전형): 연세한마음학생(40명), 농어촌학생(42명), 특성화고교졸업자(24명), 특수교육대상자(15명)\\r\\u200b*정시모집 모집 군 변경 및 모집인원 확대  2021학년도 정시모집 ‘나’군에서 2022학년도 정시모집 ‘가’군으로 이동\\r정시 모집인원: 정원 내 기준 1,220명 → 1,509명(전년 대비 289명, 23.7% 증가)\\u200b\\u200b\\n\\n\\n\\n \\n\\n\\n\\n\\n\\n\\n\\n\\n\\n\\n\\n\\n\\n\\n\\u200b\\u200b전형별 지원 자격 요약 입니다. 일반고 자율고 특목고 등 각고등학교에 따라 지원 할 수 있는지 확인하고 전형을 준비해야 합니다. \\u200b\\u200b\\n\\n\\n\\n \\n\\n\\n\\n\\n\\n\\n\\n\\n\\n\\n\\n\\n\\n\\n\\n\\n\\n\\n\\n\\n\\n\\n\\n\\n\\n\\u200b\\u200b전형별 모집 단위 모집인원 입니다.\\u200b\\u200b\\n\\n\\n\\n \\n\\n\\n\\n안내사항\\r\\n\\n\\n\\n\\n\\n\\n\\n\\n\\u200b1) 입학정원은 2020학년도 미선발인원(총 6명)이 이월되어 더해진 숫자임\\r2) ‘†’는 교직과정이 설치되어 있는 모집단위를 의미함 (컴퓨터과학과는 2022학년도부터 교직과정을 운영하지 않음)\\r3) ‘○’는 지원 가능 모집단위를, ‘-’는 미선발 모집단위를 의미함\\r4) 특기자전형은 지원자격 및 모집단위에 따라 국제인재, 체육인재로 구분함\\r5) 지원자의 학력이 적정 기준에 미달할 경우 모집인원에 상관없이 선발하지 않음\\r6) 교육인증 현황\\r∙ 경영대학 경영학과는 ‘한국경영교육인증원’, ‘AACSB(미국)’, ‘EQUIS(유럽)‘으로부터 교육인증을 받음 \\r∙ 의과대학 의학과는 ‘한국의학교육평가원’으로부터 교육인증을 받음\\r∙ 치과대학 치의학과는 ‘한국치의학교육평가원’으로부터 교육인증을 받음\\r∙ 간호대학 간호학과는 ‘한국간호교육평가원’으로부터 교육인증을 받음\\r7) 건축공학과는 세부전공[건축학(5년제), 건축공학(4년제)]으로 구분되며, 2학년 진급 시 정해진 기준에 따라 선택/배정됨\\r8) 언더우드국제대학은 입학 시 세부전공을 정하지 않고, 향후 전공 배정 시 소속한 학부 내에서 세부전공을 선택할 수 있음. 단, 언더우드학부(생명과학공학), 아시아학전공 지원자는 입학 후 전공 배정 시(2학년 진급 시) 각각 생명과학공학전공과 아시아학전공으로 자동 배정됨\\r9) 학과(전공)별 교육과정 및 학사운영에 관한 사항은 「연세대학교 홈페이지-입학·교육」에서 확인할 수 있음\\r10) 수시모집 선발결과에 따라 정시모집 선발인원이 변경될 수 있음\\u200b\\u200b\\n\\n\\n\\n \\n\\n\\n\\n\\n\\n\\n\\n\\n\\n\\n\\n\\n\\n\\n\\u200b캠퍼스별 교육과정이수 안내입니다. 나와있는 것을 제외하면 보통 1학년때 송도에 있는 국제 캠퍼스에서 1학년을 보내고 2학년 부터 서울캠인 신촌에서 이수를 합니다. 약학과는 전 교육과정을 국제 캠퍼스에서 하는 군요. 음악대학은 전 교육과정을 신촌에서 하구요.\\u200b\\u200b\\n\\n\\n\\n \\n\\n\\n\\n\\n\\n\\n\\n\\n\\n\\n\\n\\n\\n\\n\\u200b1학년 국제 캠퍼스 기숙사비입니다. \\n\\n\\n\\n \\n\\n\\n\\n\\n\\n\\n\\n\\n\\n\\n\\n\\n\\n\\n\\n\\n \\n\\n\\n\\n\\u200b\\u200b원서 접수 및 서류 제출 사항입니다. 자세히 나와 있으니 참고하시면 될 것 같습니다.\\u200b\\u200b\\n\\n\\n\\n \\n\\n\\n\\n\\n\\n\\n\\n\\n\\n\\n\\n\\n\\n\\n\\n\\n\\n\\n\\n\\n\\n \\n\\n\\n\\n\\u200b서류 제출 주요 사항입니다. 유의사항 참고 하시고요.\\u200b\\n\\n\\n\\n \\n\\n\\n\\n\\n\\n\\n\\n\\n\\n\\n\\n\\n\\n\\n\\u200b전형일정입니다.* 학생부종합전형 활동우수형, 기회균형 Ⅰ·Ⅱ의 인문·사회·자연·통합은 면접평가 응시 계열을 의미함\\r* 고른기회전형의 예능계열 및 체능계열은 북한이탈주민의 음악대학 모집단위와 체육교육학과, 스포츠응용산업학과 지원자를 의미함\\r* 서류 미제출 또는 자격 미달자의 경우 전형 대상에서 제외될 수 있음\\r* 모든 지원자는 각 시험일 당일 사진이 인쇄된 수험표(원서접수 사이트에서 출력)와 신분증을 지참하여야 함\\r - 신분증 인정 범위: 주민등록증(주민등록증 발급을 신청한 경우 ‘주민등록증 발급신청확인서’도 가능), 운전면허증, 여권(유효기간 이내), \\r 청소년증(유효기간 이내, 청소년증 발급을 신청한 경우 ‘청소년증 발급신청확인서’도 가능) 등\\r* 시험(논술시험·실기시험·면접평가)을 시간별로 나누어 실시할 경우 공지된 응시 시각에만 응시할 수 있음\\r* 본 요강에 안내된 논술시험, 실기시험, 2단계시험(면접평가) 일정 등 모든 전형일정 및 장소는 코로나-19 확산 등의 사정으로 인하여 변경 될 수 있음\\u200b\\u200b\\n\\n\\n\\n \\n\\n\\n\\n\\n\\n\\n\\n\\n\\n\\n\\n\\n\\n\\n* 복수의 전형에 중복으로 합격한 자는 1개의 전형에만 등록하여야 하며, 등록 이후에는 등록된 전형을 변경할 수 없으므로 신중을 기하여 등록하시기 바랍니다. 또한 2개 이상의 대학에 등록(문서등록 또는 등록확인예치금 납부)할 경우에는 합격 또는 입학이 취소되오니 유의하시기 바랍니다. * 인터넷 발표 충원의 경우 합격자 발표 기간에 인터넷으로만 발표하고 개별 통지하지 않으므로 합격자 발표 기간에 반드시 입학처 홈페이지를 통해 확인하시기 바랍니다. * 전화충원의 경우 대학의 전화충원 노력(최대 3회 통화 시도)에도 불구하고 연락이 되지 않는 수험생은 추가합격 등록의사가 없는 것으로 간주하므로 추가합격 전화충원 기간 중에는 전화통화가 원활하게 이루어질 수 있도록 유의하시기 바랍니다.  ∙ 전화로 추가합격 사실을 통보받고 등록의사를 밝힌 경우 입학처 홈페이지를 통해 합격사실을 확인한 후 안내받은 문서등록 시스템으로 문서등록을 해야함(전화 통화로는 최종 등록처리 되지 않음)\\r ∙ 안내된 기간 및 방법 외에는 전화충원을 실시하지 않으니, 보이스피싱에 주의 필요 * 수시모집의 최초합격자 및 추가합격자는 등록의사 및 등록여부와 상관없이 합격으로 처리되며, 「정시모집」 및 「추가모집」에 지원할 수 없습니다. 또한 수시모집의 추가합격자로 선발된 경우 임의로 취소할 수 없습니다.\\r* 다음의 경우 합격 또는 입학을 취소합니다.\\r ∙ 복수지원 및 이중등록금지 위반자\\r ① 수시모집에 최초합격 혹은 추가합격한 자가 정시모집 및 추가모집에 지원한 경우\\r ② 입학 학기가 같은 2개 이상의 대학에 이중 등록한 경우\\r ③ 수시모집 등록확인예치금을 2개 이상의 대학에 납부(또는 문서등록)한 경우\\r ④ 본교의 2개 이상의 수시모집 전형에 문서등록한 경우\\r ∙ 제출서류의 허위 기재, 위조, 변조, 기타 부정한 방법으로 지원한 경우(입학 부정 사실이 밝혀지면 입학 후에도 입학을 취소함) * 다음의 경우 지원자격 미달(불합격) 처리하거나, 선발하지 않습니다.\\r ∙ 필수 서류를 기한 내 제출하지 않은 경우\\r ∙ 논술시험·실기시험·면접평가 등에 응시하지 않은 경우 또는 부정행위를 한 경우\\r ∙ 학력수준 혹은 실기수준(예체능)이 연세대학교에서 수학하기 어렵다고 판단되는 경우\\r\\u200b* 입학전형 평가내용은 공개하지 않습니다.* 공정하고 투명한 전형 시행을 위해 본 대학교 「입학전형 운영에 관한 규정」 제3장(이의신청 처리 절차)를 준수하며, 이에 근거하여 정해진 절차를 통하여 지원자는 이의를 제기할 수 있습니다.\\r* 이 요강에 명시되지 않은 사항은 연세대학교 입학전형관리위원회의 결정에 따릅니다.\\u200b\\u200b\\n\\n\\n\\n \\n\\n\\n\\n\\n\\n\\n\\n\\n\\n\\n\\n\\n\\n\\n\\u200b\\u200b등록 포기 안내와 전형료 안내입니다.\\u200b\\u200b\\n\\n\\n\\n \\n\\n\\n\\n\\n\\n\\n\\n\\n\\n\\n\\n\\n\\n\\n\\n\\n\\n\\n\\n\\n\\n\\n\\n\\n\\n\\u200b지원자 유의사항 요약 입니다. \\u200b뒷부분부터는 세부사항이니 파일 첨부해 둘게요\\u200b\\u200b\\n\\n\\n\\n \\n\\n\\n\\n첨부파일\\n\\n연세대학교2022_susi_plan_210430.pdf\\n\\n\\n파일 다운로드\\n\\n\\n\\n\\n\\n \\n\\n\\n\\n\\u200b\\u200b\\u200b\\u200b\\u200b\\u200b\\u200b\\n\\n\\n\\n '],\n",
              " ['\\n\\n\\n\\n\\n\\n\\n\\n\\n\\n\\n\\n\\n\\n\\n\\n김우중 회장의 모교 사랑을 기억하고 후배들에게 그 뜻을 전하기 위해 흉상을 건립상경대학, 故 김우중(前 대우그룹 회장) 흉상 제막식 개최\\n\\n\\n\\n \\n\\n\\n\\n\\n\\n\\n\\n \\n\\n\\n\\n\\n\\n\\n\\n(왼쪽부터) 이서영 상경·경영대학학생회장, 정갑영 前 총장, 응우엔 부 뚱(NGUYEN VU TUNG) 주한베트남 대사, 정창영 前 총장, 유경선 총동문회장, 고병헌 금비/삼화왕관(주) 회장, 서승환 총장, 정희자 여사, 김선협 대우재단 이사장, 윤영석 前 대우중공업 회장, 홍성부 前 대우건설 회장, 김용원 前 대우전자 회장, 김선용 대우학원 상임이사, 이두원 상경대학장\\n\\n\\n\\n\\n\\n\\n\\n\\u200b연\\u200b세대학교는 5월 7일 오전 11시 신촌캠퍼스 대우관에서 前 대우그룹 회장인 故 김우중 회장(1936~2019)의 흉상 제막식을 개최했다.\\u200b김우중 회장은 상경대학 경제학과에 1956년 입학해 1960년 졸업했다. 졸업 후 1967년 대우를 창업해, 한때 재계 순위 2위의 대기업으로 육성했다. 1985년 연세대학교 명예경제학박사를 받았으며, 상경대학 동창회장(1989~1997), 총동문회장(1997~2000)을 역임했다. 또한 미래캠퍼스(舊 원주캠퍼스) 부지 50만 평을 기증했으며, 이 외에도 대우관, 노천극장, 동문회관, 공학관, 백주년기념관 등 수많은 캠퍼스 건축기금과 장학·발전기금을 기부한 바 있다.\\u200b연세대학교는 김우중 회장의 모교 사랑을 기억하고 후배들에게 그 뜻을 전하기 위해 흉상을 건립했다. 지난해 12월 작고 1주기를 맞아 거행할 예정이었으나, 코로나19 사태로 인해 연기돼 올해 5월 7일에 개최하게 됐다. 상경대와 경영대, 그리고 동문 후원금을 모아 제작한 故 김우중 회장 흉상은 가로 70㎝, 세로 60㎝, 높이 185㎝(기단 95.5㎝ 포함) 규모로 제작됐으며, 대우관 1층 출입구 좌측에 위치한 초대 상경대학장 효정 이순탁 교수 흉상 맞은편에 세워졌다.\\u200b상경대학(학장 이두원)의 주도로 진행된 본 행사에는 미망인 정희자 회장, 장남 김선협, 차남 김선용 등 유가족과 서승환 총장, 유경선 총동문회장 등을 비롯한 학교 및 동창회, 대우그룹의 주요 인사, 그리고 특별히 응우엔 부 뚱(NGUYEN VU TUNG) 주한베트남 대사, 이서영 상경·경영대학 학생회장이 참석했다.\\u200b\\n\\n\\n\\n \\n\\n\\n\\n\\n\\n\\n\\n(왼쪽부터) 고병헌 금비/삼화왕관(주) 회장, 유경선 총동문회장, 서승환 총장, 정희자 여사, 김선협 대우재단 이사장, 김선용 대우학원 상임이사\\n\\n\\n\\n\\n\\n\\n\\n서승환 총장은 인사말을 통해 \"김우중 회장님께서는 미래를 선도하는 기업인으로 우리나라 젊은이에게 원대한 꿈과 도전을 심어주셨다.\"며 \"연세대학교는 제2, 제3의 김우중을 배출해 회장님께서 꿈꾸었던 넓은 세상을 이끌어갈 리더를 배출하겠다.\"고 밝혔다.\\u200b이어 유경선 총동문회장은 \"연세 교정에 세워진 건물 하나하나에는 모든 동문들의 정성이 배어 있지 않은 곳이 없지만, 회장님께서 쏟으신 정성은 이곳 대우관을 비롯해 교정 곳곳에 스며들어 있으며, 언제나 연세는 기억할 것\"이라고 말했다.\\u200b\\n\\n\\n\\n \\n\\n\\n\\n\\n\\n\\n\\n\\n\\n\\n\\n\\n\\n\\n\\u200b\\n\\n\\n\\n '],\n",
              " ['\\n\\n\\n\\n\\n\\n\\n\\n\\n\\n\\n\\n\\n\\n\\n\\n안녕하세요! 유웨이입니다 :)첫번째 2022학년도 대학별 전형방법을 가지고 왔습니다!!2022학년도 연세대학교 서울캠퍼스 전형방법을함께 수시전형 중심으로 살펴볼까요?!\\u200b\\n\\n\\n\\n \\n\\n\\n\\n\\n\\n\\n\\n\\n\\n \\n\\n\\n\\n2022학년도 연세대 주요 사항\\n\\n\\n\\n\\n\\n\\n\\n\\n2022학년도에는 연세대 정시모집 군이 변경되고 모집인원이 확대됩니다\\u200b2021학년도 정시모집 ‘나’군에서 2022학년도 정시모집 ‘가’군으로 이동정시모집 인원 확대: 정원 내 기준 1,220명 → 1,504명(전년 대비 284명 증가)\\u200b\\n\\n\\n\\n \\n\\n\\n\\n\\n\\n\\n\\n\\n\\n\\n\\n\\n\\n\\n또한 학생부종합전형 면접형을 학생부교과전형 추천형으로 개편합니다.\\u200b\\u200b\\n\\n\\n\\n \\n\\n\\n\\n\\n\\n\\n\\n\\n\\n\\n\\n\\n\\n\\n\\u200b학생부종합전형 기회균형 모집인원이 기존 80명에서 110명으로 확대됩니다.\\u200b\\u200b\\n\\n\\n\\n \\n\\n\\n\\n\\n\\n\\n\\n\\n\\n\\n\\n\\n\\n\\n2022학년도 핫한 주제인약학과 6년제 신입생을 선발합니다\\n\\n\\n\\n \\n\\n\\n\\n\\n\\n\\n\\n\\n\\n \\n\\n\\n\\n약대가 목표였던 수험생들에게 희소식이네요~!\\u200b\\u200b\\u200b\\n\\n\\n\\n \\n\\n\\n\\n대학수학능력시험 최저학력기준\\n\\n\\n\\n\\n\\n\\n\\n\\n\\n\\n\\n\\n\\n\\n\\n\\n\\n\\n\\n수시모집 학생부위주전형 개편에 따라 학생부종합전형 일부에 대학수학능력시험 최저학력기준 적용됩니다.\\u200b- 학생부종합전형 활동우수형과 국제형(국내고)에 수능최저학력기준을 적용하되, 이전 대비 완화된 기준을 적용하여 수험생의 부담을 최소화하고자 함- 학생부위주전형[추천형, 기회균형Ⅰ‧Ⅱ, 국제형(해외고/검정고시), 고른기회전형], 논술전형, 특기자전형은 수능최저학력기준을 적용하지 않음\\u200b\\u200b\\u200b\\u200b\\n\\n\\n\\n \\n\\n\\n\\n모집단위별 모집인원\\n\\n\\n\\n\\n\\n\\n\\n\\n\\n\\n\\n\\n\\n\\n\\n\\n\\n\\n\\n\\n\\n\\n\\n\\n\\n\\n\\n\\n\\n\\n\\n\\n\\n\\n\\n\\n\\n\\n\\n\\n\\n1) 수시모집에서 선발하지 못한 인원은 정시모집으로 이월하여 선발함2) †기호 표시된 모집단위에는 교직과정이 설치되어 있음(컴퓨터과학과는 2022학년도부터 교직과정을 운영하지 않음)3) 계열은 모집단위의 특성을 고려한 분류이며, 인문, 사회, 자연계열은 논술 응시계열과 동일함4) 수시모집에서 지원자격을 만족할 경우 학생부위주전형(교과 또는 종합), 논술전형, 특기자전형, 고른기회전형, 시스템반도체특별전형 간의중복지원이 가능함. 단, 학생부위주전형(추천형, 활동우수형, 국제형, 기회균형Ⅰ‧Ⅱ) 내 중복지원은 불가함5) 공과대학 시스템반도체공학과는 삼성전자와의 협약에 의해 설치되는 채용조건형 계약학과이며 정원 외로 선발함6) 국제계열의 모집시기별, 모집단위별 모집인원은 다음과 같음\\u200b\\n\\n\\n\\n \\n\\n\\n\\n\\n\\n\\n\\n\\n\\n\\n\\n\\n\\n\\n\\u200b2022학년도 연세대 모집단위별 모집인원입니다.원하는 학과의 모집인원을 확인해보세요\\u200b\\u200b\\n\\n\\n\\n \\n\\n\\n\\n전형방법\\n\\n\\n\\n\\n\\n\\n\\n\\n1. 학생부교과전형[추천형]\\n\\n\\n\\n \\n\\n\\n\\n\\n\\n\\n\\n\\n\\n\\n\\n\\n\\n\\n\\u200b2. 학생부종합전형 [활동우수형, 국제형]\\n\\n\\n\\n \\n\\n\\n\\n\\n\\n\\n\\n\\n\\n\\n\\n\\n\\n\\n\\u200b\\u200b[기회균형Ⅰ‧Ⅱ]\\n\\n\\n\\n \\n\\n\\n\\n\\n\\n\\n\\n\\n\\n\\n\\n\\n\\n\\n\\u200b\\u200b3. 논술[논술전형]\\u200b\\n\\n\\n\\n \\n\\n\\n\\n\\n\\n\\n\\n\\n\\n\\n\\n\\n\\n\\n\\u200b\\u200b4. 실기/실적[특기자전형(국제인재)]\\n\\n\\n\\n \\n\\n\\n\\n\\n\\n\\n\\n\\n\\n\\n\\n\\n\\n\\n\\u200b\\u200b\\u200b5. 실기/실적[특기자전형(체육인재)]\\n\\n\\n\\n \\n\\n\\n\\n\\n\\n\\n\\n\\n\\n\\n\\n\\n\\n\\n\\u200b\\u200b\\u200b6. 학생부종합[시스템반도체특별전형](정원 외)\\n\\n\\n\\n \\n\\n\\n\\n\\n\\n\\n\\n\\n\\n\\n\\n\\n\\n\\n\\u200b\\u200b\\u200b7. 학생부종합[고른기회전형](정원 외)\\n\\n\\n\\n \\n\\n\\n\\n\\n\\n\\n\\n\\n\\n\\n\\n\\n\\n\\n\\u200b\\u200b연세대 수시 전형방법입니다.지원하고자 하는 전형의 전형방법을 꼼꼼히 살펴보세요!\\u200b\\n\\n\\n\\n \\n\\n\\n\\n\\n\\n\\n\\n \\n\\n\\n\\n▼▼수시 3개년 경쟁률 보러 가기▼▼\\n\\n\\n\\n \\n\\n\\n\\n\\n\\n\\n\\n\\n\\n\\n\\n\\n\\n\\n\\u200b\\u200b\\u200b밖에서도 쉽고 빠르게 입시정보를 얻는 방법유웨이 앱 바로 다운로드 하세요!!\\u200b\\n\\n\\n\\n \\n\\n\\n\\n\\n\\n\\n\\n\\n\\n\\n\\n\\n\\n\\n\\u200b\\u200b#연세대#연세대학교#연세대전형방법#연세대수시전형방법#연세대학교수시전형방법#연세대수능최저학력기준#연세대경쟁률#유웨이연세대#유웨이앱#연세대삼성#연세대학생부#연세대논술#연세대실기#연세대실적#연세대삼성전자#연세대시스템반도체공학과#연세대최저#연세대특기자#연세대2022#연세대2022수시\\n\\n\\n\\n '],\n",
              " ['\\n\\n\\n\\n\\n연세대학교 미래캠퍼스RC융합대학에 대해 알아보자!\\n\\n\\n\\n \\n\\n\\n\\n\\n\\n\\n\\n \\n\\n\\n\\n2021학년도를 맞이하면서 학사구조 개편 등 다양한 혁신의 바람이 불어온 연세대학교 미래캠퍼스. 오늘은 2021년도에 새로 출범한 RC융합대학에 대해 알아보겠습니다. 먼저 RC융합대학에서 RC란 무엇일까요?\\u200b\\u200b｜RC (Residential College) 프로그램\\u200b단순한 거주공간인 생활관을 생활체험 교육의 공간으로 전환하여 주간의 학습활동과 방과 후 공동체 활동을 융합한 통합형 교육체제로서, 미래사회가 요구하는 창의적 역량을 갖춘 섬김의 리더를 양육하는 세계 명문대학형 교육시스템입니다.\\u200b\\u200b\\n\\n\\n\\n \\n\\n\\n\\n\\n\\n\\n\\n\\n\\n\\n\\n\\n\\n\\n\\u200b\\u200b이제 본격적으로 RC융합대학에 대해 알아볼까요?RC융합대학은 4차 산업혁명과 사회 변화에 부응할 수 있는창의·융합형 인재를 양성하기 위해 설립된 혁신적 학사제도를 운영하는 융합교육기관입니다.\\u200b\\u200b연세대학교 미래캠퍼스 신입생들(의학계열은 제외)은 입학과 동시에 RC융합대학에 소속되어1년 동안 RC융합대학에서 개설하는 기초교양 및 전공탐색 교과목을 수강하게 되는데요.\\u200b\\u200b\\n\\n\\n\\n \\n\\n\\n\\n\\n\\n\\n\\n\\n\\n\\n\\n\\n\\n\\n\\u200b\\u200b\\u200bRC융합대학은 학부·학과계열과 자율융합계열로 나뉘게됩니다.RC융합대학 자율융합계열은 문∙이과 구분 없이 통합 선발되며소속 학생들은 전공 및 진로설계를 위한 다양한 교과∙비교과 활동을 경험하게 됩니다.각 계열별 학과들을 알아볼까요?\\u200b\\n\\n\\n\\n \\n\\n\\n\\n2021학년도 자율융합계열\\n\\n\\n\\n\\n\\n\\n\\n\\n\\n\\n\\n\\n\\n\\n\\n\\n\\n\\n\\n\\u200b\\n\\n\\n\\n \\n\\n\\n\\n\\n\\n학부\\n\\n학과(전공)명\\n\\n인문콘텐츠학부\\n\\n국어국문학, 영어영문학, 역사문화학, 철학\\n\\n경영학부\\n\\n경영학\\n\\n사회과학부\\n\\n경제학, 국제관계학, 글로벌행정학\\n\\n환경에너지공학부\\n\\n환경공학, 친환경에너지공학\\n\\n물리및공학물리학\\n\\n화학및의화학\\n\\n생명과학기술학부\\n\\n생명가학기술학\\n\\n패키징및물류학\\n\\n의공학부\\n\\n의공학, 바이오공학\\n\\n보건행정학부\\n\\n보건행정학, 보건의료정보관리학\\n\\n\\n\\n\\n\\n\\n \\n\\n\\n\\n\\u200b\\n\\n\\n\\n \\n\\n\\n\\n2021학년도 자율융합계열\\n\\n\\n\\n\\n\\n\\n\\n\\n\\n\\n\\n\\n\\n\\n\\n\\n\\n\\n\\n\\u200b\\n\\n\\n\\n \\n\\n\\n\\n\\n\\n학부\\n\\n학과(전공)명\\n\\n동아시아국제학부\\n\\n국어국문학, 영어영문학, 역사문화학, 철학\\n\\n글로벌엘리트학부\\n\\n경영학\\n\\n디자인예술학부\\n\\n경제학, 국제관계학, 글로벌행정학\\n\\n소프트웨어학부\\n\\n환경공학, 친환경에너지공학\\n\\n데이터사이언스학부\\n\\n생명가학기술학\\n\\n의공학부\\n\\n의공학, 바이오공학\\n\\n보건행정학부\\n\\n보건행정학, 보건의료정보관리학\\n\\n\\n\\n\\n\\n\\n \\n\\n\\n\\n\\u200b\\n\\n\\n\\n \\n\\n\\n\\n\\n\\n\\n\\n\\n\\n\\n\\n\\n\\n\\n\\u200b\\u200bRC융합대학의 교육과정에 대해서도 알아볼까요?\\n\\n\\n\\n \\n\\n\\n\\n\\n\\n\\n\\n \\n\\n\\n\\n■ RC융합대학에서는 2021학년도 1학년 학생들에게 2개 전공 선택을 위한 다양한 전공 탐색 기회를 제공합니다.\\u200b■무전공 입학 신입생들을 대상으로 한 맞춤형 교과과정을 시행합니다.\\u200b■1학년 학생들은 학사지도교수 및 전공학사지도교수와의 주기적 상담과 전공탐색 교과목 수강 등을 통하여 1학년 2학기 말에 ‘1전공’을 선택합니다.\\u200b■주요 교과인 1학기 대학학문의세계, 2학기 전공진로상담을 통해 전공을 탐색하고 진로를 설계합니다.\\u200b\\u200b\\u200b\\u200b연세대학교 미래캠퍼스의 RC융합대학에 대해 더 알고싶다면홈페이지를 확인해주세요. ▼\\n\\n\\n\\n \\n\\n\\n\\n\\n\\n\\n\\n\\nRC융합대학 _ 연세대학교\\n대학소개 학사지도 전공탐색 교양교육 RC교육 예비대학 Click!Yonsei! RC 융합대학이란? 인사말 구성원 오시는 길 공지사항 학사지도란? 학사지도교수 교과목 소개 전공안내 전공 관련 제도 및 규정 2개 전공 제도 및 규정 교양교육의 목표 교양교육 편성체계 교양교육 교과과정 Residential College? RC 교육과정 구성원 소개 RC 웹진 1학년 RC 예비대학 안내 예비대학 프로그램 자료실 연세인으로서의 출발 연세포탈서비스 및 LearnUS S-Campus 서비스 학습지원 기타안내 RC융합대학 공지 자료실 더 보기 [...\\nrc.yonsei.ac.kr\\n\\n\\n\\n\\n\\n\\n \\n\\n\\n\\n\\u200b\\n\\n\\n\\n \\n\\n\\n\\n\\n\\n\\n\\n \\n\\n\\n\\n\\n\\n\\n\\n\\n\\n\\n\\n\\n\\n\\n\\u200b\\n\\n\\n\\n '],\n",
              " ['\\n\\n\\n\\n\\n\\n\\n\\n\\n\\n\\n\\n\\n\\n\\n\\n안녕하세요! 올댓스터디학원입니다.▼지난 포스팅▼에서는 한양대학교 입시 정보를 다루었었죠.\\n\\n\\n\\n \\n\\n\\n\\n\\n\\n\\n\\n\\n[2022학년도] 대입핵심전략 4탄(한양대학교)\\n안녕하세요! 올댓스터디학원입니다~ 오늘은 대입핵심전략 4탄으로 돌아왔습니다:) 대입핵심전략에서는 서울...\\nblog.naver.com\\n\\n\\n\\n\\n\\n\\n \\n\\n\\n\\n오늘은 연세대학교의 2022학년도 입시 요강에 대해 안내해드리고자 합니다:)연세대학교에 관심이 있거나, 진학을 희망하는학생/학부모님들께서는 주목 주목!!\\u200b\\n\\n\\n\\n \\n\\n\\n\\n2022학년도 연세대 입시 공식 안내\\n\\n\\n\\n\\n\\n\\n\\n\\n연세대 2022학년도 입시 요강 1부 :[1] 2022학년도 연세대학교 입학전형계획(주요변경사항) - YouTube연세대 2022학년도 입시 요강 2부 :[2] 2022학년도 연세대학교 입학전형계획 - YouTube\\n\\n\\n\\n \\n\\n\\n\\n첨부파일\\n\\n2022학년도 연세대학교 수시 모집요강.pdf\\n\\n\\n파일 다운로드\\n\\n\\n\\n\\n\\n \\n\\n\\n\\n2022학년도 연세대 입시 주요사항\\n\\n\\n\\n\\n\\n\\n\\n\\n\\n\\n\\n\\n▲2022학년도 연세대 수시 모집 인원 안내\\n\\n\\n\\n\\n\\n\\n\\n-2022학년도 수시 모집 인원 변경-학생부종합전형 기회균형 모집인원 확대 및 개편-인공지능융합대학 인공지능학과[정원 20명] 신설-고른기회전형 수시/정시 분할 모집-수시모집 학생부종합전형 일부 전형에서 대학수학능력시험 최저학력기준 적용-정시모집 모집 군 변경 및 모집인원 확대-약학대학 약학과(6년제) 신입생 선발\\n\\n\\n\\n \\n\\n\\n\\n수시 모집단위 및 모집인원\\n\\n\\n\\n\\n\\n\\n\\n\\n\\n\\n\\n\\n\\n\\n\\n\\n\\n\\n\\n\\n\\n\\n\\n\\n\\n\\nPrevious image\\nNext image\\n\\n\\n▲연세대학교 2022학년도 모집단위 및 모집인원\\n\\n\\n\\n \\n\\n\\n\\n수시 전형별 안내\\n\\n\\n\\n\\n\\n\\n\\n\\n합격에 가장 근접할 수 있는 전형을 택하는 것은참 고민이 많이 되는 일일텐데요ㅠㅠ\\n\\n\\n\\n \\n\\n\\n\\n\\n\\n\\n\\n▲전형별 모집단위 및 모집인원\\n\\n\\n\\n\\n\\n\\n\\n\\n\\n\\n\\n▲전형별 지원자격요건\\n\\n\\n\\n\\n\\n\\n\\n\\n\\n\\n\\n▲전형별 전형 요소\\n\\n\\n\\n\\n\\n\\n\\n\\n\\n\\n\\n▲전형별 평가 반영비율\\n\\n\\n\\n\\n\\n\\n\\n위의 자료에서 보실 수 있듯, 각 전형에서 평가에 주안점을두는 부분도 다르고 제출서류도 상이합니다.\\u200b몇 가지 전형들 중 고민된다면,전형별 특징과 요강을 살펴보는 일이 매우 중요합니다!아래에서 각 전형을 함께 알아봅시다. (*^*)\\n\\n\\n\\n \\n\\n\\n\\n\\n\\n\\n\\n \\n\\n\\n\\n■ 학생부교과(추천형) ■\\n\\n\\n\\n \\n\\n\\n\\n\\n\\n\\n\\n▲학생부교과(추천형) 전형 방법\\n\\n\\n\\n\\n\\n\\n\\n\\n\\n\\n\\n▲학생부교과(추천형) 제출 서류\\n\\n\\n\\n\\n\\n\\n\\n*연세대 학생부교과(추천형)전형은 수능 최저학력기준이 미적용됩니다.*\\n\\n\\n\\n \\n\\n\\n\\n\\n\\n\\n\\n \\n\\n\\n\\n■ 학생부종합(활동우수형) ■\\n\\n\\n\\n \\n\\n\\n\\n\\n\\n\\n\\n▲학생부종합(활동우수형) 전형 방법\\n\\n\\n\\n\\n\\n\\n\\n\\n\\n\\n\\n▲학생부종합(활동우수형) 제출 서류\\n\\n\\n\\n\\n\\n\\n\\n\\n\\n\\n\\n▲학생부종합(활동우수형) 최저학력기준\\n\\n\\n\\n\\n\\n\\n\\n학생부종합(활동우수형)에는 수능최저학력기준이 있는데요,최저 충족이 만만치 않은 수준이니 수능 관리도 잘 할 수 있는학생이 지원하시기 바랍니다.\\n\\n\\n\\n \\n\\n\\n\\n\\n\\n\\n\\n \\n\\n\\n\\n■ 학생부종합(국제형) ■\\n\\n\\n\\n \\n\\n\\n\\n\\n\\n\\n\\n▲학생부종합(국제형) 전형 방법\\n\\n\\n\\n\\n\\n\\n\\n\\n\\n\\n\\n▲학생부종합(국제형) 제출 서류\\n\\n\\n\\n\\n\\n\\n\\n\\n\\n\\n\\n▲학생부종합(국제형) 최저학력기준\\n\\n\\n\\n\\n\\n\\n\\n\\n\\n\\n\\n \\n\\n\\n\\n■ 학생부종합(기회균형) ■\\n\\n\\n\\n \\n\\n\\n\\n\\n\\n\\n\\n▲학생부종합(기회균형) 전형 방법\\n\\n\\n\\n\\n\\n\\n\\n\\n\\n\\n\\n▲학생부종합(기회균형) 제출 서류\\n\\n\\n\\n\\n\\n\\n\\n*연세대 학생부종합(기회균형)전형은 수능 최저학력기준이미적용됩니다.*\\u200b연세대 기회균형 전형으로 지원하실 학생은본인이 기회균형 지원자격요건에 부합하는지를 꼭 확인하고지원하시기 바랍니다!\\n\\n\\n\\n \\n\\n\\n\\n\\n\\n\\n\\n \\n\\n\\n\\n■ 논술전형 ■\\n\\n\\n\\n \\n\\n\\n\\n\\n\\n\\n\\n▲논술 전형방법\\n\\n\\n\\n\\n\\n\\n\\n\\n\\n\\n\\n▲논술 유형 및 시험시간\\n\\n\\n\\n\\n\\n\\n\\n\\n\\n\\n\\n▲논술 제출서류\\n\\n\\n\\n\\n\\n\\n\\n*연세대 논술전형은 수능 최저학력기준이 미적용됩니다.*\\n\\n\\n\\n \\n\\n\\n\\n\\n\\n\\n\\n \\n\\n\\n\\n■ 특기자전형(국제인재) ■\\n\\n\\n\\n \\n\\n\\n\\n\\n\\n\\n\\n▲특기자전형(국제인재) 전형 방법\\n\\n\\n\\n\\n\\n\\n\\n\\n\\n\\n\\n▲특기자전형(국제인재) 제출 서류\\n\\n\\n\\n\\n\\n\\n\\n*연세대 특기자전형(국제인재)은 수능 최저학력기준이 미적용됩니다.*\\n\\n\\n\\n \\n\\n\\n\\n\\n\\n\\n\\n \\n\\n\\n\\n■ 특기자전형(체육인재) ■\\n\\n\\n\\n \\n\\n\\n\\n\\n\\n\\n\\n▲특기자전형(체육인재) 전형 방법\\n\\n\\n\\n\\n\\n\\n\\n\\n\\n\\n\\n▲특기자전형(체육인재) 제출 서류\\n\\n\\n\\n\\n\\n\\n\\n*연세대 특기자전형(체육인재)은 수능 최저학력기준이 적용됩니다.각 고교 출신자의 경우마다 최저학력기준 충족요건이 다르니상세한 정보는 연세대학교 홈페이지에서 확인해보시기 바랍니다.*\\n\\n\\n\\n \\n\\n\\n\\n\\n\\n\\n\\n \\n\\n\\n\\n■ 시스템반도체특별전형 ■\\n\\n\\n\\n \\n\\n\\n\\n\\n\\n\\n\\n▲시스템반도체특별전형 전형 방법\\n\\n\\n\\n\\n\\n\\n\\n\\n\\n\\n\\n▲시스템반도체특별전형 제출 서류\\n\\n\\n\\n\\n\\n\\n\\n*연세대 시스템반도체특별전형은 수능 최저학력기준이 미적용됩니다.*\\n\\n\\n\\n \\n\\n\\n\\n\\n\\n\\n\\n \\n\\n\\n\\n■ 고른기회전형 ■\\n\\n\\n\\n \\n\\n\\n\\n\\n\\n\\n\\n▲고른기회전형 전형 방법(인문/사회/자연)\\n\\n\\n\\n\\n\\n\\n\\n\\n\\n\\n\\n▲고른기회전형 전형 방법(예체능계열)\\n\\n\\n\\n\\n\\n\\n\\n\\n\\n\\n\\n▲고른기회전형 제출서류\\n\\n\\n\\n\\n\\n\\n\\n*연세대 고른기회전형은 수능 최저학력기준이 미적용됩니다.*\\n\\n\\n\\n \\n\\n\\n\\n2022학년도 연세대 입시 일정\\n\\n\\n\\n\\n\\n\\n\\n\\n\\n\\n\\n\\n▲원서접수 일정\\n\\n\\n\\n\\n\\n\\n\\n\\n\\n\\n\\n\\n\\n\\n\\n\\n\\n\\n\\n\\n\\n\\n\\n\\n\\nPrevious image\\nNext image\\n\\n\\n▲전형별 전체 일정\\n\\n\\n\\n \\n\\n\\n\\n지금까지 연세대 2022학년도 주요 입시 사항에 대해알아보았습니다:)자신의 생활기록부와 내신 성적에 강점이 있다고 판단되면전략을 잘 세워 연세대 입시에 도전해보시기 바랍니다:)\\u200b아직 3학년 1학기가 끝나지 않았습니다.이제까지 여러분의 성적이 어떠했든,전체 3년 중 3학년 성적이 40%의 비율을 차지합니다.\\u200b마지막까지 최선을 다해 노력하기, 명심합시다!!ATS가 여러분을 응원합니다♥♡\\n\\n\\n\\n \\n\\n\\n\\n\\n\\n\\n\\n \\n\\n\\n\\n\\n\\n\\n\\n올댓스터디학원\\n서울특별시 강동구 동남로71길 20-9 파라빌딩 7층\\n\\n\\n\\n\\n\\n \\n\\n\\n\\n강동구 명일동학원 올댓스터디\\u200b다음 세대를 위해 고민합니다.\\u200b한 두과목 단과반으로 성적을 올려 입시를 준비하는게 아니라, 입시 전문가의 토탈 케어가 필요한 시기가 바로 지금 입니다.명일동수학학원 올댓스터디는 학생 개개인에맞춘 상담과 학습방법을 제시 운영합니다.\\n\\n\\n\\n '],\n",
              " ['\\n\\n\\n\\n\\n 안녕하세요.1등의 책임감, 메가엠디입니다. 오늘은 연세대학교 편입학 이공계열 모집요강을함께 살펴보고, 전공 필기시험과 서류는어떻게 준비해야 할지 그 해답을 드리겠습니다. \\n\\n\\n\\n \\n\\n\\n\\n\\n\\n\\n\\n\\n\\n\\n\\n\\n\\n\\n [연세대학교 편입학 전형방법]먼저 2021학년도 연세대학교 편입학모집요강의 변경사항이 있습니다. 1단계 필기시험 100점, 2단계 면접평가 50점이었던 것이코로나-19 확산에 따라 1단계 필기시험 100점,2단계 서류평가 50점으로 변경되었습니다. \\n\\n\\n\\n \\n\\n\\n\\n\\n\\n\\n\\n\\n\\n\\n\\n\\n\\n\\n [연세대학교 편입학 이공계열 필수 학점, 공인영어]공과대학의 필수 이수학점은 70점,생명시스템과학대학에서 생명공학과는 70점,시스템생물학과는 68점을 이수하셔야 합니다.생활과학대학은 63점, 이과대학은 68학점을이수하셔야 합니다. 공인영어 지원자격은 위의 표를 참고하여주시길 바랍니다. \\n\\n\\n\\n \\n\\n\\n\\n\\n\\n\\n\\n\\n\\n\\n\\n\\n\\n\\n [연세대학교 편입학 입시일정]\\u200b원서접수: 2020.12.9(수)~11(금)필기시험: 2020.12.26(토) ※기타 사항은 추후(11월말~12월 초) 발표되는2021학년도 편입학전형 모집요강을 반드시확인하시길 바랍니다. \\n\\n\\n\\n \\n\\n\\n\\n\\n\\n\\n\\n\\n\\n\\n\\n\\n\\n\\n [연세대학교 편입학 2019 경쟁률-일반]\\u200b공과대학의 경우 컴퓨터과학과가 33.5:1로가장 높은 경쟁률을 기록했으며,생명시스템대학의 경우 시스템생물학과가20:1로 가장 높은 경쟁률을 기록했습니다.이과대학의 경우 물리학과가 24:1로 가장 높은경쟁률을 기록했습니다. \\n\\n\\n\\n \\n\\n\\n\\n\\n\\n\\n\\n\\n\\n\\n\\n\\n\\n\\n 연세대 편입학 이공계열 필기시험 과목은수학, 화학, 생물, 물리로 객관식+주관식의시험으로 진행됩니다. 그래서 메가엠디에서 준비했습니다.객관식과 주관식의 시험은 이렇게 준비하세요~ \\n\\n\\n\\n \\n\\n\\n\\n\\n\\n\\n\\n\\n\\n\\n\\n\\n\\n\\n [객관식 생물 추천 학습법]생물은 어떤 유형이라도 명확한 이론 과정 학습이매우 중요한 과목입니다. 개념의 양이 방대하기 때문에직접 노트를 만드는 것보다는, 교안에 살을 붙여나가는 것이 좋습니다. 또한 백지복습이 효과적인 과목인데요.처음엔 내용을 읽으면서 머릿속에 넣으세요! 그 다음배운 내용을 펼쳐놓고 백지에 안 보고 쓰려고 노력하세요!이를 통해 단순 지식형 객관식 문제를 정복하실 수 있습니다. [주관식 물리 추천 학습법]시험의 유형은 고등학교 내신, 대학교의 중간/기말고사형태로 나오는 지식형 문제가 대부분입니다. 이는 신속하고정확한 풀이가 필요합니다. 때문에 기본적인 공식과 정확한개념이 정리가 되어 있어야 합니다. 또한, 편입 관련 수업을 수강하며문제를 푸는 것이 가장 좋으며, 꼭 필요한 문제를 반복해서풀어보는 학습에 주의를 기울이세요! \\n\\n\\n\\n \\n\\n\\n\\n\\n\\n\\n\\n\\n\\n\\n\\n\\n\\n\\n ‘나’의 상황에 맞추어 효율적인 학습법을탐색해보세요! STEP1 [이론학습]을 통해 개념 강좌를 빠르게정리하시고, STEP2 [기출 문제풀이]를 통해편입학 기출 문항을 연습하여 편입학적 문제풀이 감각을 익혀보시길 바랍니다.마지막으로 실전을 미리 경험해볼 수 있는 모의고사STEP3 [FINAL 모의고사]로 나의 실력을 최종점검해보시길 바랍니다! \\n\\n\\n\\n \\n\\n\\n\\n\\n\\n\\n\\n\\n\\n\\n\\n\\n\\n\\n 서류면접 또한 메가엠디에서 준비해보세요! 채점자는 자연계에서 박사학위를 취득한  교수님입니다.때문에 그들의 이과적 관점에서 접근해야 하죠!그렇기에 박윤 교수님과 서류, 면접을 준비해야 합니다. 서류/면접 1위 박윤 교수님이 말하는 채점자의관점에서 쓰고 대답하는 방법을 전수받아 보세요! \\n\\n\\n\\n \\n\\n\\n\\n\\n\\n\\n\\n\\n\\n\\n\\n\\n\\n\\n [자기소개서+학업계획서 작성 특강]\\u200b채점자의 관점을 만족시키는 만점 자기소개서,학업계획서 내용과 형식을 소개해드립니다. 자기소개서, 계획서 작성 시 실제 면접과의연동까지 고려한 작성법 및 노하우를 제시해드립니다. \\n\\n\\n\\n \\n\\n\\n\\n\\n\\n\\n\\n\\n\\n\\n\\n\\n\\n\\n 자세한 사항은 메가엠디 홈페이지를확인해주시길 바랍니다! http://www.megamd.co.kr/prof/event/prof_ypark_elite_promo_2020.asp  \\n\\n\\n\\n \\n\\n\\n\\n\\n\\n\\n\\n\\n\\n\\n\\n\\n\\n\\n\\u200b\\n\\n\\n\\n '],\n",
              " ['\\n\\n\\n\\n\\n우리는 대부분 \"일\" 을 하면서 살아가는데요내가 흥미있는 일, 내 적성에 맞는 일이 다른경우도굉장히 많습니다. 내가 좋아하는 일을 하면서 직업으로삼을 수 있다면 얼마나 좋을까요?\\u200b전국적으로 위클래스, 상담교실, 진로상담 등등상담과 심리에 관련된 일들이 최근들어 많이 늘어났죠정권의 영향도 있을거지만 점차 삶의 질이 올라가면서중요해지는 키워드 아닐까 싶습니다.\\u200b그래서 상담교사가 되려면 어떻게해야돼요?물으시는 분들이 꽤 많은편인데요 오늘은 그래서연세대학교 교육대학원에 진학하신 분의 이야기를들어보도록 하겠습니다. 그 전에 간단하게 상담심리교육대학원에 대해서 설명하고 넘어가도록 하겠습니다.\\n\\n\\n\\n \\n\\n\\n\\n\\n\\n\\n\\n\\n\\n\\n\\n\\n\\n\\n상담교사가 되고 싶어요? 어떻게 해야되죠?\\n\\n\\n\\n\\n\\n\\n\\n\\n전문상담교사를 취득하시는 방향은 어떨까 싶어요\\u200b상담분야는 주제 자체가 깊은 분야이며, 어린아이,청소년, 어른 할 것 없이 내담자에게 있어 깊은 역할을하게 됩니다. 저는 특히 어린아이들의 심리가 성인이되면서 영향을 더더욱 많이 끼친다고 생각하는데요\\u200b그래서인지 다른 직업과다르게 학력이 꽤나 우선시되는 분야이기도 하고 검증된 자격증을 요구합니다.\\u200b인터넷에 돌아다니는 심리상담사와 같은 민간자격은사실상 효력을 볼 수 없지만 효력이 있는거처럼 보이게만들어진것들이 많습니다.\\u200b내가 내담자라면 누굴 선택할까? 고민해보신다면상담능력을 정확하게 판단할 수 없는 경우 입증할무언가를 원할껍니다. 그래서 연세대학교 교육대학원과 같이 상담심리와 관련된 전문성을 입증할 곳을찾는게 수월합니다.\\u200b내가 아무리 상담을 잘하더라도 상대방이 나한테믿음이 있어하는 분야이기 때문이죠\\n\\n\\n\\n \\n\\n\\n\\n\\n\\n\\n\\n\\n\\n\\n\\n\\n\\n\\n꼭 교육대학원을 가야하나?\\n\\n\\n\\n\\n\\n\\n\\n\\n그렇지 않습니다. 심리와 관련된 길은 많습니다.청소년상담사, 직업상담사, 임상심리사, 상담심리사등등 꼭 교육대학원 - 양성과정 루트를 거치지 않아도심리 전문가로 일할 수는 있습니다.\\u200b하지만 그 중 학벌, 학력, 정교사자격 등 모두 갖출 수있는 가장 밸런스 있는 선택이 대학원입니다.\\u200b대학교의 경우 심리학과로 진학하더라도 교직이수를해내지 못한다면 교직이수의 길은 없어지게 됩니다.그래서 심리전공을 하더라도 대학원을 선택하는 분들이적지않은 이유기도 합니다.\\u200b그만큼 상담교사(정교사) 자격의 역할이 쎄며,임용을 볼 수 있는 기회가 되기도, 학교쪽이나 관련직장에서 일할 때 가장 먼저 보이는 증명수단이되기도 합니다.\\n\\n\\n\\n \\n\\n\\n\\n\\n\\n\\n\\n\\n\\n\\n\\n\\n\\n\\n조건\\n\\n\\n\\n\\n\\n\\n\\n\\n연세대학교 교육대학원과 같이 양성과정을 운영하는곳들은 비슷한 점이 있습니다. 바로 \"심리 전공관련학사학위\"를 요구한다는것인데요 이 외에도 학교별로전공 학점을 26~38학점 가량 요구하곤 합니다.\\u200b이 두 조건이 모두 충족되어야 지원이 가능하기에내가 만일 비전공자라면 전공학위를 가지고 지원해야가능하다는 얘기가 됩니다.\\u200b요구하는 전공학점은 학교마다 차이가 있지만 결국심리학 학위가 필요한것은 매한가지기 때문에 이를맞추기 위해 대학을 다시 진학하기보다 비교적 간편한학점 제도를 이용하는 편입니다.\\u200b널리 알려진 학점은행이라는것이죠 대신 단순히 지원자격만 갖추는게 목적이 아닌, 상담심리교육대학원진학이 목표이기 때문에 상담공부는 꾸준하게 해주어야진학이 가능합니다.\\n\\n\\n\\n \\n\\n\\n\\n\\n\\n\\n\\n\\n\\n\\n\\n\\n\\n\\n4년제, 비전공자\\n\\n\\n\\n\\n\\n\\n\\n\\n오늘은 4년제졸업자이면서 비전공자인 학습자분의이야기를 끝으로 글을 마치려고 합니다. 임용을 목표로준비하시는 분들이 많지만 그래도 이름있는 학교를원하시기도 했고, 집과도 가까우셔서 연세대를 1순위목표로 준비하셨었는데 좋은 결과를 보셔서 경험을공유해주시기로 했습니다.\\n\\n\\n\\n \\n\\n\\n\\n\\n\\n\\n\\n\\n\\n\\n\\n\\n\\n\\n상담교사가 되기위해\\n\\n\\n\\n\\n\\n\\n\\n\\n안녕하세요연대 상담심리교육대학원에 재학중인 학생입니다.\\u200b화장품쪽 관련돼서 일하다가 이번에 기회가 되어학부 시절 관심있었던 심리 공부를 하기 시작했습니다\\u200b대학원을 꼭 갈까? 싶었지만 전 직장을 다니면서스트레스도 많이 겪고해서 다시 공부를 진중하게하는게 낫겠다 싶어서 결심을 하게됐어요\\u200b주변에서도 대학원을 간 사례가 있지만 그렇게좋은 얘기는 못들은거같아서 고민을 했었거든요\\u200b20대 때는 몰랐는데 30대가 되고나니까 결심했던꿈에 대한 미련이 있었고, 더 늦기전에 시작해보는게후회하더라도 낫겠다 싶었어요\\n\\n\\n\\n \\n\\n\\n\\n\\n\\n\\n\\n\\n\\n\\n\\n\\n\\n\\n8개월의 여정\\n\\n\\n\\n\\n\\n\\n\\n\\n시작 당시 아는게 없어 무작정 상담을 받았어요서너분정도 상담을 받다가 선생님과 함께 시작을하기로 마음먹고 시작했어요 다들 비슷한 얘기만돌려서 해주시는데 가장 설명을 잘해주시더라구요\\u200b또, 제가 준비하는 대학원에도 관심이 많으셔서이것저것 자료를 많이 주셨었어요 단순히 심리학수업만 채워주시는게 아니라 진학하는거에 초점을맞춰 도와주시니, 제가 찾아보려던것도 시간을 많이아낄 수 있어 편하더라구요\\u200b준비는 8개월 정도 한거같아요 2월~3월 시작해전기지원을 목표해서 준비했었는데, 중간에 일이있어중단을 3주정도 했었거든요 그래도 이어서 그래도할 수 있다는얘기에 다행히 학위는 나왔구요\\u200b수업에 대해 조금 얘기하자면 학부때보다 쉬워요더 직관적이고 선생님이 다 짜주시니까 그냥 필요한과목들만 들으면 되구요 과제, 시험도 따로 참고할자료를 주셔서 대학을 졸업하신 분들은 대부분 큰어려움없이 가능하실거라 믿어요\\u200b대신, 전공면접을 학교별로 보다보니 준비를학교에 맞게 해줘야하는데, 알려주신 책으로준비를 한다고 시작했지만 마땅히 아는게없으니점점 뒤로 미뤄서 끝내게 되더라구요 지원하기 3개월전부터 시작해서 이론들 빠삭하게 정리를 하고외워나가고, 말할 수 있게 연습했었어요\\u200b서강대와 동시에 붙었는데 더 가고싶던 연대를 왔고,아직 임용도 남았고 갈길이 멀지만 시작은 잘 했구나싶고 하길 잘했다는 생각이 들어요 비전공자여도할 수 있구나 싶기도 하고 들어와보니 생각보다저처럼 시작한 분들이 많더라구요\\n\\n\\n\\n \\n\\n\\n\\n\\n\\n\\n\\n\\n\\n\\n\\n\\n\\n\\n\\n\\n\\n\\n\\n\\n\\n\\n\\n\\n\\n\\n\\n\\n\\n\\n\\n\\n\\n\\n\\n\\n\\n\\n\\n\\n\\n\\n\\n\\n\\n\\n\\n\\n\\n\\n\\n\\n\\n\\n\\n\\n\\n\\n\\n\\nPrevious image\\nNext image\\n\\n\\n\\n\\n\\n \\n\\n\\n\\n\\u200b\\n\\n\\n\\n '],\n",
              " ['\\n\\n\\n\\n\\n\\n\\n\\n\\n\\n\\n\\n\\n\\n\\n\\n\\n\\n\\n\\n \\n\\n\\n\\n개요(경쟁률, 전형결과, 전형설명)\\n\\n\\n\\n\\n\\n\\n\\n\\n연세대학교(미래캠퍼스)는 2021학년도 수시 모집에서 일반논술전형으로 2020학년도보다 52명 감소한 총 262명을 선발하며, 그 중 인문계열 학생의 선발인원은 101명으로 전체의 약 38%를 인문계열에서 선발합니다. 2020학년도 인문계열 논술은 314명 모집에 6,353명이 지원해 평균 20.23:1의 경쟁률을 보였습니다. 간호학과(인문)이 5명 모집에 224명이 지원해 44.80:1로 가장 높은 경쟁률을 기록했고 국어국문학과가 9명 모집에 59명이 지원해 6.56:1로 가장 낮은 경쟁률을 기록했습니다. 일반논술전형 전체적으로 살펴볼 때 지원자 대비 합격률은 4.9%였고 합격자 대비 등록률은 74.2% 정도였습니다.\\n\\n\\n\\n \\n\\n\\n\\n\\n\\n\\n\\n \\n\\n\\n\\n전형 비교(2020학년도 vs 2021학년도)\\n\\n\\n\\n\\n\\n\\n\\n\\n\\n\\n\\n\\n\\n\\n\\n\\n\\n\\n\\n\\n\\n\\n\\n \\n\\n\\n\\n최근 3개년 간 핵심 개념 및 출제 영역 비교(2020~2018)\\n\\n\\n\\n\\n\\n\\n\\n\\n\\n\\n\\n\\n\\n\\n\\n\\n\\n\\n\\n\\n\\n\\n\\n \\n\\n\\n\\n시험 대비 방안\\n\\n\\n\\n\\n\\n\\n\\n\\n연세대학교(미래캠퍼스) 일반논술전형 인문계열 논술은 인문 및 사회과목을 통합하여 출제합니다. 제시문은 인문 및 사회 교과 관련 내용 외에도 통계자료 또는 과학 관련 제시문은 포함할 수 있다는 점을 수험생들은 양지하고 있어야겠습니다. 교육과정 범위 내에서 학생들의 논리적이고 창의적인 사고력을 측정하는데 적합한 난이도로 출제하고 있으며, 문제1은 인문과목, 문제2 사회과학 과목과 많은 연계성을 가지는 문제를 제시하고 있습니다. \\u200b채점 기준에 맞춤법과 띄어쓰기 등의 어문규범을 정확히 지킬 것을 요구하고 있으므로 답안 작성 시 이 부분에 관한 주의가 필요합니다. 채점은 최상, 상, 중상, 중하, 하의 다섯 척도로 하고 있습니다. 문제가 요구하는 모든 기준에 부합한 답안을 작성하는 연습을 기출문제와 모의평가 문제 풀이 등을 통해 대비를 할 수 있으므로 수험생들은 여기서 도움을 받을 수 있습니다. 올해는 2020학년도 입시와 다르게 논술점수만을 가지고 평가하므로 논술 답안을 완성도 있게 작성할 수 있는 능력을 갖추는 게 가장 필요하고, 수능최저학력 기준을 충족할 수 있도록 수능 공부도 같이 해나가야 합니다.\\n\\n\\n\\n \\n\\n\\n\\n\\n\\n\\n\\n \\n\\n\\n\\n이상 2021학년도 연세대학교 미래캠퍼스 논술 시험, 논술 전형에 대해 알아보았습니다.\\n\\n\\n\\n '],\n",
              " ['\\n\\n\\n\\n\\n안녕하세요, 해냄학원 입니다.2021학년도 연세대학교 정시 입시결과 입니다.자연계열 학과 들 입시결과 인점 참고해주세요! ^^ \\n\\n\\n\\n \\n\\n\\n\\n\\n\\n\\n\\n\\n\\n\\n\\n\\n\\n\\n\\u200b기준은 누적 백분위 입니다.누적 백분위 (누백) 이란?특정 대학에서 본인의 위치를 확인 할 수 있는 방법 중 하나 입니다.\\u200b\\u200b\\u200b\\n\\n\\n\\n \\n\\n\\n\\n2021 학녀도 연세대학교 정시 입결 \\n\\n\\n\\n\\n\\n\\n\\n\\n의예과를 제외한 정리표 입니다 .연세대학교 의예과는 누적백분위 - 0.0~ 0.05연세대학교 치의예과는 누적백분위 -  0.4~0.5 입니다.\\u200b두 학과를 제외 하고는 산업공학과의 누적백분위가 가장 높았습니다.\\n\\n\\n\\n \\n\\n\\n\\n\\n\\n2021학년도 연세대학교 정시 입시결과\\n\\n누적백분위\\n\\n학과\\n\\n2.4~2.5\\n\\n산업공학\\n\\n2.5~.2.6\\n\\n신소재공학과, 전기전자공학과\\n\\n2.6~2.7\\n\\n기계공학과\\n\\n2.7~2.8\\n\\n\\u200b\\n\\n2.8~2.9\\n\\n글로벌융합공학과\\n\\n2.9~3.0\\n\\n생화확과, 수학과\\n\\n3.0~3.1\\n\\n\\u200b\\n\\n3.1~3.2\\n\\n건축공학, 도시공학\\n\\n3.2~3.3\\n\\n물리학과, 화학생명공학부\\n\\n3.3~3.4\\n\\n식품영양학과[자]\\n\\n3.4~3.5\\n\\n대기과학과 , 사회환경시스템공학부 , 지구시스템학과\\n\\n3.5~3.6\\n\\n간호학과[자], 의류환경학과[자]\\n\\n3.6~3.7\\n\\n\\u200b\\n\\n3.7~3.8\\n\\n천문우주학과 , 컴퓨터과학과\\n\\n3.8~3.9\\n\\n\\u200b\\n\\n3.9~4.0\\n\\n실내건축과[자]\\n\\n4.0~4.1\\n\\n반도체공\\n\\n4.1~4.2\\n\\n시스템생물학과\\n\\n4.2~4.3\\n\\n\\u200b\\n\\n4.3~4.4\\n\\n\\u200b\\n\\n4.4~4.5\\n\\n\\u200b\\n\\n4.5~4.6\\n\\n\\u200b\\n\\n4.6~4.7\\n\\n\\u200b\\n\\n4.7~4.8\\n\\n\\u200b\\n\\n4.8~4.9\\n\\n생명공학과\\n\\n평촌 해냄 학원\\n\\n\\n\\n\\n\\n\\n \\n\\n\\n\\n\\n\\n\\n\\n \\n\\n\\n\\n출처 - orbi.kr\\u200b2021학년도 연세대학교 정시 입시결과 자연계열편 이였습니다.2020학년도 정시 등급컷 및 경쟁률 포스팅은 아래 링크를 참고해 주세요!\\u200b[ 2020 학년도 연세대학교 입시결과 보러가기 ▼ ]\\n\\n\\n\\n \\n\\n\\n\\n\\n\\n\\n\\n\\n[해냄학원]2020 연세대 정시 입결 등급컷/경쟁률/충원인원/백분위컷\\n안녕하세요, 해냄학원입니다.연세대학교 2020 정시 일반전형 환산점수 입결, 경쟁률, 충원인원, 백분위컷입...\\nblog.naver.com\\n\\n\\n\\n\\n\\n\\n \\n\\n\\n\\n\\u200b\\u200b\\u200b평촌 학원가에서 10년 이상 쌓인 정보와 데이터를 기반으로 입시를 전문으로 하고 있는 학원입니다. 1등급을 목표로 고1 , 고2 학생들은 내신대비, 고3 학생들의 수능 대비까지 책임지고 있습니다 :) \\u200b#대학입시 #대입 #입시전문학원 #평촌학원가 #수학학원 #과학학원방문 상담 시 전화 예약해 주세요~ ☎ 031 - 476 -8878 \\u200b\\n\\n\\n\\n \\n\\n\\n\\n\\n\\n\\n\\n\\n\\n\\n\\n\\n\\n\\n\\u200b#평촌학원가수학학원 #평촌학원가과학학원 #평촌학원가 #평촌학원가과탐학원 #연세대학교정시 #연세대정시 #연세대학교입결 #연세대입시결과 #연세대학교입결 #연세대학교입시결과 #연세대경쟁률 #연세대정시결과 #2021연세대입결 #연세대정시점수 #연대입시결과 #2021연대정시 #2021학년도연세대학교정시입시결과 연대정시 #연세대학교 #2021학년도연세대정시\\n\\n\\n\\n '],\n",
              " ['\\n\\n\\n\\n\\n\\u200b\\n\\n\\n\\n \\n\\n\\n\\n\\n\\n\\n\\n\\n\\n\\n\\n\\n\\n\\n안녕하세요. 여러분 :)오늘은 연세대학교 20학번 선배가 수능 전에 미리 준비해볼 만한 것들에 대해서 이야기해 준다고 합니다.\\u200b연세대 선배만의 꿀팁 잘 보고 활용해보시면 좋을 것 같아요!그럼 바로 소개할게요~ :)\\n\\n\\n\\n \\n\\n\\n\\n\\n\\n\\n\\n\\n\\n \\n\\n\\n\\n\\u200b\\n\\n\\n\\n \\n\\n\\n\\n\\n\\n\\n\\n \\n\\n\\n\\n안녕하세요 여러분. 목표 달성 장학생 윤찬입니다!오늘 제가 여러분들께 하고 싶은 이야기는 9평 전, 그리고 수능 전에 미리 해볼 만한 것들에 대해서 이야기하고자 합니다! 수능 전에 미리 준비해볼 만한 것들1. 헷갈렸던 개념, 문제들 모음.오답 정리라고 말하기는 조금 식상하지만, 수능이 다가오면 다가올수록 틀린 문제들보다 맞춘 문제들이 많아지고, 많은 모의고사와 N제들을 풀다 보면 왜 틀렸는지에 대한 피드백할 기회들이 점차 줄어들게 됩니다. 특히 수능 전 일주일 전에 복습할 만한 거리들을 생각해보면, 그동안 풀었던 N제들과 문제집, 모의고사들을 다 다시 뒤져보기에는 무리가 있습니다. 그래서 저 같은 경우에는 각 문제들에 대해서 핸드폰을 이용해 각 과목별로 스캔을 해두었고 이를 PDF 파일로 만들어서 복습했던 기억이 납니다.요즘은 핸드폰 스캐너의 성능이 정말 좋으니 한번 이용해보시는 걸 추천합니다! 수능 전에 미리 준비해볼 만한 것들2. 수면 관리 애플리케이션혹 6평 전날에 잠을 설치 시는 등, 수면에 대해서 걱정하고 계신 분들 그리고 시험 전날에 몇 시 정도에 자야 할지를 고민하시는 분들에게 추천드립니다! 수면 관리 애플리케이션을 사용하면 정확히 어느 정도 잘 때 내가 가장 개운하게 일어나는지 등등을 체크할 수 있고 이를 이용하면서 수험생활을 하면, 심리적으로 신체적으로 안정된 생활을 하실 수 있으리라 생각합니다!저는 10월부터 수면패턴에 대해서 알아보기 시작했고, 수능 전날에도 개운하게 일어날 수 있었습니다! P.S. 참고로  체력이 많이 떨어진 하반기에 어떻게 컨디션을 회복하고 끌어올릴 수 있을지에 대해서 많이들 걱정하고 고민하고 계실 것 같습니다. 저의 경우엔, 쉬는 타임에 유튜브, 노래 듣기 같은 것도 좋지만, 스스로의 감각기관을 사용하지 않는 것이 가장 좋다고 생각해서 정말 많이 잤던 것 같아요. 공부시간 중간중간에 20분 정도의 잠은 오히려 난잡한 생각들이나, 공부하기 싫을 때의 마음들은 자고 일어났을 때 해결되더라고요! 이 방식이 맞는 분도, 맞지 않는 분도 있으실 테니 한 번 정도 해보시길 권유 드립니다 :) 짧은 일정처럼 느껴지지만 하루에 한 가지의 약점을 메꾸겠다고 생각하면 몇 십 개의 약점들을 고칠 수 있는 시간이기도 합니다 부디 남은 시간 동안 몸 관리 철저하게 하시면서, 끝까지 완주하실 수 있기를 바랍니다 :)\\n\\n\\n\\n \\n\\n\\n\\n\\n\\n\\n\\n\\n\\n \\n\\n\\n\\n\\n\\n\\n\\n \\n\\n\\n\\n연세대 선배의 수능 전 준비해볼 만한 것들, 잘 보셨나요~?수면 관리 애플리케이션은 생각지 못했던 꿀팁인 것 같아요! 여러분들도 참고하셔서 수능 끝날 때까지 컨디션 잘 관리하시면 좋을 것 같습니다.\\u200b더 많은 명문대 선배의 바른 공부 칼럼은 메가스터디 홈페이지에서 확인 GO!\\n\\n\\n\\n \\n\\n\\n\\n\\n\\n\\n\\n\\n\\n\\n\\n\\n\\n\\n\\u200b\\u200b\\u200b\\u200b\\n\\n\\n\\n '],\n",
              " [\"\\n\\n\\n\\n\\n\\n\\n\\n\\n\\n\\n\\n\\n\\n\\n\\n연세대학교 글로벌사회공헌원,특별세미나 'GEEF for ALL' 개최\\n\\n\\n\\n \\n\\n\\n\\n\\n\\n\\n\\n \\n\\n\\n\\n\\n\\n\\n\\n 5월 10일 개최된 제1회 GEEF for ALL 행사에서 반기문 글로벌사회공헌원 명예원장이 연설하고 있다.\\n\\n\\n\\n\\n\\n\\n\\n연\\u200b세대학교 글로벌사회공헌원(원장 박영렬)은 5월 10일(월) 오후 3시 ‘제1회 지속가능발전포럼 특별세미나(GEEF for ALL)’를 온라인으로 개최했다.\\u200b‘GEEF for ALL’은 ‘지속가능발전’을 주제로 하여 시리즈로 진행되고 있으며, 5월 10일 진행된 첫 번째 세미나에서는 ‘미얀마의 인권과 평화’라는 주제 아래 지난 2월 미얀마 군부의 쿠데타로 야기된 미얀마의 위기 상황에 대해 진단했다. \\u200b이날 행사는 반기문 글로벌사회공헌원 명예원장(제8대 UN 사무총장)의 미얀마 사태 관련 특별연설과 이양희 성균관대 교수(전 UN인권이사회 미얀마 특별보고관)의 기조연설로 시작했다. 이어 진행된 본 세미나는 이상국 문화인류학과 교수를 좌장으로 FORSEA(Forces of Renewal Southeast Asia, 새 동남아시아의 힘) 공동설립자인 마웅 자니(Maung Zarni) 박사, 미얀마 교육지원단체인 ‘따비에’의 대표이자 인권운동가인 마웅 조(Maung Zaw) 대표, 김영미 분쟁지역 전문 프리랜서 PD 등 미얀마 현지 전문가 및 분쟁, 인권 등 각계 분야 전문가들의 발표와 토론이 이어졌다.\\u200b특별연설에서 반기문 글로벌사회공헌원 명예원장은 “미얀마의 현재 상황을 단순한 국내문제나 내부의 문제로 바라봐서는 안 되며 국제사회의 문제로 인식해 UN과 아세안의 지도자들이 적극적이며 즉각적인 조치를 취해야 한다.”고 강조했다. 또한 기조연설에 나선 이양희 성균관대 교수는 “미얀마 특별자문위원회(Special Advisory Council for Myanmar, SAC-M)가 제안하고 있는 ‘3 Cuts’의 방식을 통해 국제사회와 UN이 쿠데타를 일으킨 미얀마 군부세력에 대해 다양한 방식으로 압박을 가해 현재 미얀마 사태에 대한 적극적인 해결 노력을 기울여야 한다.”고 주장했다.\\u200b\\n\\n\\n\\n \\n\\n\\n\\n\\n\\n\\n\\n 5월 10일 개최된 제1회 GEEF for ALL 행사에서 참가자들이 토론하고 있다. 왼쪽부터 이상국 문화인류학과 교수, 이양희 성균관대 교수, 김영미 PD.\\n\\n\\n\\n\\n\\n\\n\\n패널토론에서는 현재 미얀마 군부를 통해 현지에서 자행되고 있는 폭력적인 시위 진압과 인권유린의 상황 등 다양한 문제에 대한 논의가 계속됐다. 특히 FORSEA 공동설립자인 마웅 자니(Maung Zarni) 박사는 미얀마 국민들이 지난 2008년 제정된 헌법을 통해 유지되고 있던 ‘제한적 민주주의 체제’가 아닌 ‘완전한 민주주의 체제’를 이룩하기 위한 투쟁을 계속할 것이라고 주장했다.\\u200b미얀마 교육지원단체인 ‘따비에’의 대표이자 인권운동가인 마웅 조(Maung Zaw) 대표는 “군부 쿠데타에 저항하기 위해 미래세대의 주역인 많은 미얀마의 젋은이들이 앞장서고 있다.”며 “미얀마 국민들은 시간이 걸리더라도 미얀마의 민주주의 회복을 위해 끝까지 협력해 투쟁을 이어나갈 것”이라고 전했다.\\u200b김영미 분쟁지역 전문 프리랜서 PD 역시 군부 쿠데타 반대시위의 주역인 청년 지도자 3인을 소개하며 평범한 청년들이 민주주의를 이룩하기 위한 투사로서 변화할 수밖에 없는 미얀마의 현실과 참담한 인권유린의 현장을 이야기했다. 또한 지금이 미얀마의 인권과 평화를 위한 ‘골든타임’임을 강조했다. 이러한 측면에서 참여한 모든 연사들은 미얀마의 현재 상황을 해결하기 위해 아세안 국가들을 포함한 국제사회와 UN이 모두 힘을 합해 공조해야 한다는 데 공통된 의견을 나눴다.\\u200b연세대학교는 공존과 헌신(Engagement), 창의와 혁신(Innovation), 도전과 선도(Excellence)의 핵심 가치 아래 ‘공동체 정신을 지닌 혁신적 리더’ 양성을 통한 대학의 사회적 책임 강화를 위해 전교적인 노력을 기울이고 있다. 특히 2017년 출범한 글로벌사회공헌원은 지속가능발전의 중요성에 대한 전 세계적 인식을 높이고자 매년 2월 국제적인 규모의 글로벌지속가능발전포럼(Global Engagement & Empowerment Forum on Sustainable Development, 이하 GEEF)을 개최하고 있다. \\u200b‘GEEF for ALL’은 GEEF의 플랫폼을 통해 더욱 혁신적인 메시지를 전달해 국제사회의 지속적인 참여와 관심을 이끌어내기 위해 기획됐으며 이번 제1회 ‘GEEF for ALL’을 시작으로 국제사회의 다양한 문제와 그에 따른 해결방안을 모색하기 위해 지속적으로 진행될 예정이다.\\u200b● '3 Cuts' 방식1. Cut Arms Supply : 포괄적인 무기금수조치를 통한 제재2. Cut Cash Flow : 경제제재조치를 통한 미얀마 군부에 대한 경제적 압박3. Cut Impunity : 미얀마사태를 국제형사재판소에 회부\\n\\n\\n\\n \\n\\n\\n\\n\\n\\n\\n\\n\\n\\n\\n\\n\\n\\n\\n\\u200b\\u200b\\n\\n\\n\\n \"],\n",
              " ['\\n\\n\\n\\n\\n\\n\\n\\n\\n\\n\\n\\n\\n\\n\\n\\n오늘은  국산 곡물이 16가지나 들어간 두유를 마셔보았는데요,평소에 곡물을 16가지나 섞어서 먹기는 힘들죠, 이렇게 두유로 나오니까 간편하게 마실수 있다는 장점이 있는것 같아요!\\u200b연세대학교 연세우유에서 만든  두유네요, 그럼 원재료를 살펴볼께요!\\n\\n\\n\\n \\n\\n\\n\\n\\n\\n\\n\\n\\n\\n\\n\\n\\n\\n\\n정제수, 원액두유25%(대구고형분7%,대두는 미국,캐나다,호주에서 왔군요),,오곡분말2%(오곡은 국산으로 현미,보리,찹쌀현미,수수,조),블랙선식 미숫가루(국산으로 보리,보리쌀,찰흑미,옥수수,검정콩,현미,멥쌀,현미찹쌀,백태,수수,검정깨가 들어갔구요), 사양벌꿀,현미시럽,설탕으로 단맛을 낸거같아요.\\u200b그 다음에 하루한끼선식(국산으로 현미,찹쌀,보리,흑미,옥수수,백태,기장,서리태,감자,고구마,단호박,브로콜리,양배추,사과,당근이 들어간 선식이 또 들어갔으며), 검은깨페이스트,레시틴,정제소금,잣믹스페이스트,향료는 아쉽게도 합성향료이지만, 곡물이 아주 많이 들어가서 그런지 합성향료의 맛은 별로 느껴지지는 않았어요.\\n\\n\\n\\n \\n\\n\\n\\n\\n\\n\\n\\n\\n\\n\\n\\n\\n\\n\\n칼로리는 110,  나트륨5%,탄수화물6%,당류13%,지방4%, 단백질이 4%들어있네요.(사양벌꿀,현미시럽,설탕이 들어갔기 때문에 당류는13%입니다, 이 두유는 당충전이 필요할때드시면 좋을것같아요,)그리고 여러가지 곡물이 많이 들어가서 단백질보다 탄수화물이 2% 더 높습니다.\\u200b\\n\\n\\n\\n \\n\\n\\n\\n\\n\\n\\n\\n\\n\\n\\n\\n\\n\\n\\n개인적으로 이 연세대학교 16곡 꿀선식두유는  디저트로 마시기보다는배가 고프거나 허기지는데 막상 식사를 할 여건이 안될때, 요기를 채우기 위해서 마시는것이좋을것 같아요. (마시면 꽤 포만감이 있습니다.그것에 비해서 칼로리는 110이니까 꽤 낮은 수치죠)\\n\\n\\n\\n \\n\\n\\n\\n\\n\\n\\n\\n\\n\\n\\n\\n\\n\\n\\n이렇게 빨대를 꽂아서 간편하게 마실수 있구요, 하지만 블로그 리뷰를 위해서팩을 잘라서  종이컵에 한번 담아봤습니다.\\n\\n\\n\\n \\n\\n\\n\\n\\n\\n\\n\\n\\n\\n\\n\\n\\n\\n\\n일반 자판기용 사이즈의 종이컵인데, 한 가득  다 붓기에는 양이 굉장히 많아서종이컵에는 다 못담았어요(한팩속에 두유가 가득들어있더라구요^^)\\n\\n\\n\\n \\n\\n\\n\\n\\n\\n\\n\\n\\n\\n\\n\\n\\n\\n\\n선식두유 마셔보니까  뭐랄까, 음료라기보다는   여러가지 곡물로 만든 선식또는 미숫가루를마시는 그런 기분이 들더라구요(마실때  곡물가루같은것도 목에서 느껴지는것 같고굉장히 든든하더군요, 그리고 달콤한 맛도 설탕만 들어간것이 아니라  사양벌꿀의 맛이많이 느껴져서 더욱 맛있게 느껴졌습니다^^)\\n\\n\\n\\n '],\n",
              " ['\\n\\n\\n\\n\\n\\u200b\\u200b\\u200b안녕하세요 신뢰할 수 있는 평생주치의! 연세고운미소치과의원강북구점 입니다.강북구에서 2005년 부터 시작해서 16년이 넘도록 많은 고객분들의 주치의가 되었습니다오늘은 저희 치과에 대해 소개해드리려고 합니다^^\\u200b\\u200b\\u200b\\u200b\\u200b\\u200b\\u200b\\n\\n\\n\\n \\n\\n\\n\\n\\n\\n\\n\\n\\n\\n\\n\\n\\n\\n\\n연세고운미소치과에서는 세분의 각 과별 전문의 대표원장이 1:1 주치의가 되어 치주치료, 공단검진, 금연치료를 진행해 드리고 있습니다.\\u200b\\u200b∨전 의료진 보건복지부 인증 전문의 자격∨연세대 출신 의료진의 협진 시스템∨1:1 전담 주치의 system ∨페이 닥터가 아닌 임상 20년 이상 경력 공동 대표원장의 항시 진료\\u200b\\u200b\\u200b\\u200b\\n\\n\\n\\n \\n\\n\\n\\n\\n\\n\\n\\n \\n\\n\\n\\n임플란트만 20년 경력, 누구도 따라올 수 없습니다\\n\\u200b연세고운미소치과는 전문 의료진의 다양한 경험과 풍부한 노하우로 개인별 1:1  진단 및 분석을 통해 치료를 진행하여 최상의 결과를 만들어 냅니다.\\u200b\\n\\n\\n\\n\\n\\n\\n\\n\\n\\n\\n\\n\\n\\n\\n\\n\\n\\n\\n\\n이석기 대표원장님(보철과 전문의)\\u200b●연세대학교 치과대학 졸업●연세대학교 치과대학병원 보철과 인턴,레지던트 수료●보건복지부 인증 치과 보철과 전문의●대한 치과 보철학회 인정의●순천향대학교 의과대학 외래교수●대한 치과 보철학회 정회원●연세대학교 임플란트 연구회 정회원●오스템임플란트 임상 연구 자문 위원● Dio 우수 임플란트 시술병원 지정\\u200b\\u200b\\u200b\\u200b\\n\\n\\n\\n \\n\\n\\n\\n환자를 위하고 이해하는 병원, 소중한 내 치아에 마지막 희망이 되겠습니다\\n보존과 전문의\\n\\n\\n\\n\\n\\n\\n\\n\\n\\n\\n\\n\\n\\n\\n\\n\\n\\n\\n\\n권중구 대표원장님(보존과 전문의)\\u200b●연세대학교 치과대학 졸업●연세대학교 치과 대학 병원 보존과 인턴, 레지던트 수료●보건복지부 인증 치과 보존과 전문의●(현) 연세대학교 치과 대학 보존과 외래교수●(2007~현재) 연세대학교 치과 보존 학교실 보존학 강의●(전) 서울 치과의사협회 강북구 이사●대한 치과 보존 학회 정회원●대한 치과 근관치료 학회 정회원●대한 치과 심미치과 학회 정회원●대한 심미접착치의학회 정회원\\u200b\\u200b\\u200b\\u200b\\u200b\\u200b\\u200b\\n\\n\\n\\n \\n\\n\\n\\n여러분의 자신감 있고 환한 미소를 되찾아 드리겠습니다\\n교정과 전문의\\n\\n\\n\\n\\n\\n\\n\\n\\n\\n\\n\\n\\n\\n\\n\\n\\n\\n\\n\\n김중권 대표원장님(교정과 인정의/전문의)\\u200b●연세대학교 치과대학 및 대학원●연세대학교 치과대학 병원 교정과 인턴, 레지던트 수료●보건복지부 인증 치과 교정과 전문의●대한 치과교정학회 교정과 인정의●(사)한국치과교정연구회 advance course 수료● invisalign 교육 이수 의사●(전) 강북구 치과의사협회 학술이사●(전) 연세대학교 치과대학 세정회 공보이사●(전) 고운미소네트워크 교정연구회 회장\\u200b\\u200b\\u200b\\u200b\\u200b\\n\\n\\n\\n \\n\\n\\n\\n병원의 다섯 가지 약속\\n\\n\\n\\n\\n\\n\\n\\n\\n∨환자를 저희 가족이라는 생각으로 최선을 다해 진료하겠습니다.∨전 직원이 항상 고운미소로 사랑과 정성을 다하겠습니다.∨신뢰할 수 있는 평생 주치의가 되어드리겠습니다.∨정기검진을 통해 질환의 예방 및 조기 발견에 노력하겠습니다.∨한차원 높은 기술과 장비로  높은 수준의 진료 서비스를  제공해 드리겠습니다.\\u200b\\n\\n\\n\\n \\n\\n\\n\\n고운 미소치과만의 특별함\\n\\n\\n\\n\\n\\n\\n\\n\\n∨1:1  주치의 + 협진 의료팀 system\\u200b담당 주치의가 진단부터 치료까지 모두 함께 합니다. 필요한 경우, 보철과 / 심미, 보존과/ 교정과의 협진 의료 system으로 각 전문진료별 적합한 치료를 진행합니다\\u200b∨세분의 전문의 대표원장에게 받는 수준 높은 진료보건복지부에서 인증받은 보철과, 교정과, 보존과 전문의 공동 대표원장에게 대학병원급의 퀄리티로 치료를 받을 수 있습니다.\\u200b∨과잉진료 없는 치과항상 환자를 생각하며 환자 한 분 한 분의 말에 귀를 기울이고 충분한 설명이 있는 진료, 환자와 의사 사이에 두터운 신뢰를 기반으로 한 과잉진료 없는 치과입니다.\\u200b∨진료실 내 전원 치과위생사로 구성교정, 보철, 보존팀으로 체계화되어 정기적인 세미나 및 교육을 통해 보다 수준 높고 전문화된 환자 케어가 가능합니다.\\u200b∨철저한 감염방지 시스템\\u200b1인 1기구 사용을 원칙으로 하고 있으며, 모든 기구는 멸균 소독을 통해 철저한 위생관리 시스템으로 운영되고 있습니다.\\u200b\\u200b\\u200b★후기 좋다고 소문난 리얼 환자분들 영수증 리뷰 보러가기★\\u200b↓↓https://map.naver.com/v5/entry/place/11663301?c=14140366.6781093,4528395.0066668,13,0,0,0,dh&placePath=%2Fhome%3Fentry=plt\\n\\n\\n\\n \\n\\n\\n\\n\\n\\n\\n\\n\\n네이버 지도\\n강북구 수유동\\nmap.naver.com\\n\\n\\n\\n\\n\\n\\n \\n\\n\\n\\n\\u200b\\n\\n\\n\\n \\n\\n\\n\\n\\n\\n\\n\\n연세고운미소치과의원 강북점\\n서울특별시 강북구 도봉로 333 7층 연세고운미소치과\\n\\n\\n\\n\\n\\n \\n\\n\\n\\n\\u200b\\u200b\\u200b치과 내부 소개\\n\\n\\n\\n \\n\\n\\n\\n\\n\\n\\n\\n\\n\\n\\n\\n\\n\\n\\n\\n\\n\\n\\n\\n\\n\\n\\n\\n\\n\\n\\u200b\\n\\n\\n\\n \\n\\n\\n\\n\\n궁금할 땐 네이버 톡톡하세요!\\n\\n\\n\\n\\n \\n\\n\\n\\n\\n\\n\\n\\n\\n\\n\\n\\n\\n\\n\\n\\n\\n\\n\\n\\n\\n\\n\\n\\n\\n\\n\\u200b\\n\\n\\n\\n '],\n",
              " ['\\n\\n\\n\\n\\n[대입] 2022학년도 연세대학교 입학전형 시행계획\\u200b\\u200b\\u200b\\n\\n\\n\\n \\n\\n\\n\\n\\n\\n\\n\\n\\n\\n\\n\\n\\n\\n\\n\\u200b\\u200b2022학년도 연세대학교 입학전형 시행계획 입니다.이것도 2020년 4월에 나왔습니다.추후에 수시 정시 모집요강이 나오면 올리겠습니다.\\u200b\\n\\n\\n\\n \\n\\n\\n\\n\\n\\n\\n\\n\\n\\n\\n\\n\\u200b\\n\\n\\n\\n \\n\\n\\n\\n\\n\\n\\n\\n\\n\\n\\n\\n\\n\\n\\n\\u200b주요사항을 살펴보면\\u200b정시 가군 모집인원 확대\\u200b수시모집 ‘학생부종합전형 면접형’을 ‘학생부교과전형 추천형’으로 개편\\u200b수시모집 학생부종합전형 기회균형 모집인원 확대\\u200b약학대학 약학과 6년제 신입생 선발\\u200b\\u200b\\u200b\\n\\n\\n\\n \\n\\n\\n\\n\\n\\n\\n\\n\\n\\n\\n\\n\\n\\n\\n\\u200b\\u200b수시모집 학생부위주전형 개편에 따라 학생부종합전형 일부에 대학수학능력시험 최저학력기준 적용\\u200b정시모집 의과대학 의예과, 국제계열 전형방법 개편\\u200b수시모집 고른기회전형 일부 정시전형 선발\\u200b입니다. \\u200b\\u200b\\n\\n\\n\\n \\n\\n\\n\\n\\n\\n\\n\\n\\n\\n\\n\\n\\n\\n\\n\\u200b수시 모집에 대한 안내입니다일단 기본적인 방향이고 수시모집요강을 참고 하시면 됩니다.근데 작년과 마찬가지로 코로나로 인해 변경가능성이 있으므로 본인이 지원할 대학을 수시로 들어가면서 확인하는 것이 좋습니다.\\u200b\\u200b\\n\\n\\n\\n \\n\\n\\n\\n\\n\\n\\n\\n\\n\\n\\n\\n\\n\\n\\n\\u200b정시모집 안내입니다. \\u200b\\u200b\\u200b\\u200b\\u200b\\n\\n\\n\\n \\n\\n\\n\\n\\n\\n\\n\\n\\n\\n\\n\\n\\n\\n\\n\\u200b\\u200b수능에서 시스템반도체 특별전형 (정원 외)설명입니다.\\u200b\\u200b\\u200b\\n\\n\\n\\n \\n\\n\\n\\n첨부파일\\n\\n2022＿plan연세대.pdf\\n\\n\\n파일 다운로드\\n\\n\\n\\n\\n\\n '],\n",
              " [\"\\n\\n\\n\\n\\n연세대학교 미래캠퍼스디지털헬스케어학부 출범식 및 기념강연 개최-국내 최초 학부과정에 인공지능, 빅데이터 등소프트웨어 기술과 헬스케어를 융합한 '디지털헬스케어학부' 신설\\n\\n\\n\\n \\n\\n\\n\\n\\n\\n\\n\\n \\n\\n\\n\\n\\n\\n\\n\\n\\n\\n\\n\\n\\n\\n\\n\\u200bo 연세대학교 미래캠퍼스(미래캠퍼스부총장 권명중)가 강원도 원주 의료기기 산업을 통해 대한민국 의료산업을 일취월장 시킨 경험을 바탕으로 기존의 보건과학대학을 소프트웨어디지털헬스케어융합대학으로 개편하고 국내 최초로 학부과정에 인공지능, 빅데이터, 사물인터넷 등의 소프트웨어 기술과 헬스케어를 융합한 50명 정원의 디지털헬스케어학부를 신설하여 3월 10일(수) 오후 1시 30분에 디지털헬스케어학부 출범식과 기념강연(이하 ‘출범식’)을 개최했다. 출범식은 출입자 자가문진표 작성 및 발열체크 등 코로나 방역 지침을 철저히 준수하여 진행됐으며, 동영상 축사, 온라인을 활용한 실시간 행사 참여 등 온·오프라인 방식을 통해 참석인원을 최소화 하였다.\\u200b o 출범식에는 연세대학교 서승환 총장, 권명중 미래캠퍼스부총장, 이경중 소프트웨어디지털헬스케어융합대학 초대 학장 등 연세대학교 관계자를 비롯해 김민석 의원(국회보건복지위원장), 이광재 의원, 송기헌 의원, 최문순 강원도지사, 원창묵 원주시장, 산업통상자원부 박재영 제조산업정책관 국장, 보건복지부 이강호 보건산업정책국장, 국민건강보험공단 김용익 이사장, 건강보험심사평가원 김선민 원장, 한국의료기기공업협동조합 이재화 이사장, 한국디지털헬스산업협회 송승재 회장, 한국의료기기산업협회 유철욱 회장이 동영상 축사 혹은 온·오프라인 등을 통해 행사에 참여했다.\\u200b o 연세대학교 미래캠퍼스가 국내 최초로 신설한 소프트웨어 기술과 헬스케어가 융합된 ‘디지털헬스케어학부’는 건강관리패러다임이 질병과 치료, 진단의 사후 관리에서 빅데이터를 활용한 예방관리 중심으로 전환되고, 이에 따라 세계 디지털헬스케어 산업이 날로 성장·발전하고 있는 상황에서 특성화전공으로서 해당 분야를 선도적으로 개척해 나갈 것으로 기대된다. 또한, 코로나로 인해 세계 각국이 디지털헬스케어 도구를 정책에 활용하며 빅데이터와 인공지능, ICT 기술이 중요시 되는 4차 산업혁명을 더욱 가속화 하고 있는 시대에 적합한 교육을 제공할 예정이다.\\u200b\\u200b\\n\\n\\n\\n \\n\\n\\n\\n\\n\\n\\n\\n \\n\\n\\n\\n\\n\\n\\n\\n\\n\\n\\n\\n\\n\\n\\n\\u200b\\n\\n\\n\\n \"],\n",
              " ['\\n\\n\\n\\n\\n연세대학교 온라인 멘토링 실시 안내 코로나19 사태의 장기화로 인해 캠퍼스 견학을 정상 운영하기 어려운 상황입니다. 연세대학교는 이에 아래와 같이 ‘온라인 멘토링’ 프로그램을 운영하고자 합니다.  1. 일시: 2021. 2. 1.(월)부터, 매주 월·수·금 10:00, 16:00 2. 대상: 중·고등학생 3. 멘토: 연세대학교 학생홍보대사 ‘인연’ 4. 플랫폼: 줌(Zoom) 화상회의 5. 내용: 연세대학교(신촌 및 국제캠퍼스) 소개 및 학습 멘토링 6. 시간: 약 60분 7. 신청 방법가. 멘토링 2주 전 토요일마다 인연 SNS에 멘토링 스케줄 및 진행 멘토, 신청서(구글 폼) 주소(URL)가 공지됩니다.- 인연 페이스북: https://www.facebook.com/yonsei.inyon/- 인연 인스타그램: https://www.instagram.com/inyon_yonsei/나. 중·고등학생 개인별로 신청- 학급 및 동아리에서 참여하시는 경우에도 학생 개인별로 신청서를 작성하셔야 합니다.- 각 멘토링 시간마다 최대 20명까지 선착순 접수하며, 마감 기준 신청자가 5명 이하일 경우 취소될 수 있습니다.다. 멘토링 3일 전까지 신청하실 수 있으며 그 이후에는 신청이 불가합니다.라. 신청하신 분에 한해 멘토링 진행 여부를 멘토링 1일 전까지 개별 연락드립니다. 8. 유의사항가. 멘토를 지정하실 수 있으며, 상황에 따라 반영하지 못할 수 있습니다.나. 온라인 멘토링에서 제공하는 자료를 동의 없이 저장하거나 외부에 유출하는 행위는 저작권법에 위배됩니다.다. 이상의 세부내용은 추후 코로나19 상황에 따라 재개될 캠퍼스 견학 일정에 따라서 변동 가능합니다.  9. 기타 자세한 문의사항은 연세대학교 홍보팀(02-2123-2076)으로 연락 바랍니다.\\n\\n\\n\\n '],\n",
              " ['\\n\\n\\n\\n\\n\\u200b 안녕하세요!1등의 책임감 메가엠디입니다. \\n\\n\\n\\n \\n\\n\\n\\n\\n\\n\\n\\n\\n\\n \\n\\n\\n\\n\\u200b오늘은 연세대학교 편입을 준비 중인 분들을 위해 기출 문제와 모의고사를 활용해 남은 기간을 알차게 보낼 수 있는 방법을 알려 드리겠습니다! \\n\\n\\n\\n \\n\\n\\n\\n\\n\\n\\n\\n\\n\\n\\n\\n\\n\\n\\n 먼저 연세대학교 편입 필수 자격 조건입니다.일정 점수 이상의 전적대 이수 학점과공인영어성적이 필요합니다. 이과대학의 경우는학점 68점 이상을 수료해야 하며토플 IBT 79점 이상 / 토익 700점 이상 / 텝스 555점 이상중 하나의 공인영어성적이 있어야지원 가능합니다. 영어성적은 서류 평가에도 들어가는 항목이기 때문에고고익선! 높으면 높을수록 좋습니다.아직 자신의 점수에 만족하지 못한다면메가엠디와 해커스가 콜라보한 프리패스 강의로고득점 강좌를 1년 무한 수강하며공인영어점수를 완성해보시기 바랍니다.http://www.megamd.co.kr/cust/cust_hackers_v2.asp \\n\\n\\n\\n \\n\\n\\n\\n\\n\\n\\n\\n\\n\\n\\n\\n\\n\\n\\n 다음은 전형요소 및 배점입니다.일반편입학 전형을 기준으로 살펴보면1단계에서 전공필기 100점,2단계에서는 서류 50점으로총 150점으로 평가가 진행됩니다. 전공필기의 비중이 가장 높을뿐더러1단계를 통과하지 못하면2단계 전형을 치를 수가 없으니보다 확실하게 준비해야합격 가능성을 더 높일 수 있겠죠? \\n\\n\\n\\n \\n\\n\\n\\n\\n\\n\\n\\n\\n\\n\\n\\n\\n\\n\\n 연세대학교 편입 이공계열 시험 과목은각 학과와 관련된 2~3과목 정도를지필고사로 보게 됩니다. 그렇다면 불필요한 학습 시간을 최대한 줄이고핵심만 공부하는 것이 중요합니다. \\n\\n\\n\\n \\n\\n\\n\\n\\n\\n\\n\\n\\n\\n\\n\\n\\n\\n\\n 연세대학교 편입의 가장 핵심인 전공지필고사!대학별 기출 문제와 각종 문제 풀이로실전 실력을 끌어올릴 수 있는메가엠디 상위권 이과편입의Step2 강의로 대비해보세요! \\n\\n\\n\\n \\n\\n\\n\\n\\n\\n\\n\\n\\n\\n\\n\\n\\n\\n\\n 객관식과 주관식을 포함하는연세대학교 편입 기출문제부터,비슷한 수준의 상위권 대학들의출제 경향과 난이도까지 완벽 반영하였습니다! 편입학 초보자는 물론이고PEET 경험자나 과목 전공자들이더욱 효율적으로 준비할 수 있는 커리큘럼과문제 풀이 파트로 실력을 키워보세요! \\n\\n\\n\\n \\n\\n\\n\\n\\n\\n\\n\\n\\n\\n\\n\\n\\n\\n\\n 화학교육 출신의 진짜 전문가가 알려주는정확한 이론과 빈틈없는 문제 풀이! 김홍영 교수님의 Step2 일반화학심화이론+기출 문제 풀이 강의입니다. 효율적인 이론학습과 심화이론 대비 구성과어떤 유형이라도 철저한 대비가 가능한문제 풀이의 조화로 합격을 위한최적의 전략을 만날 수 있습니다! \\n\\n\\n\\n \\n\\n\\n\\n\\n\\n\\n\\n\\n\\n\\n\\n\\n\\n\\n 메가엠디 최고의 생물 전문가와 투트랙 커리큘럼으로 함께하는 탄탄한 편입 준비! 노용관 교수님의 Step2와 2.5 강의로단원별+기출 문제 풀이부터연고대, 이화여대 집중 모의고사까지풀어볼 수 있습니다! Step2로는 최대한 다양한 문제와 유형을 경험하면서대학별 기출 및 예상문제를 완벽 대비하고,Step2.5에서는 최상위권 대학을 지망하는 분들을 위한고난이도 모의고사를 통해 더욱 심화된 학습이 가능합니다! \\n\\n\\n\\n \\n\\n\\n\\n\\n\\n\\n\\n\\n\\n\\n\\n\\n\\n\\n 서울 의대 생물학 박사가 선보이는편입학 생물학 문제 풀이의 모든 것! 통합 기출 + 단원별 문제와 함께출제 빈도가 높은 파트의주관식 답안 작성 솔루션 제시도 제시합니다! Step2는 파트별 실전 문제 연습을 통해모든 유형을 대비할 수 있고 Step2.5에서는 세포학, 유전학, 분자생물학의주관식 문제를 다루면서박윤 교수님이 직접 제작한 핵심 써머리 서브노트로자기 주도적으로 정리할 수 있습니다. \\n\\n\\n\\n \\n\\n\\n\\n\\n\\n\\n\\n\\n\\n\\n\\n\\n\\n\\n 기본부터 심화까지 편입학 물리만을 위한19년 경력 물리 전문가의 문제 풀이 준비 완료! 김동훈 교수님의 Step2 강의로물리학 기본과 심화 문제 풀이가 가능합니다! 전략적으로 접근하는 난이도별 문제 풀이로,편입 물리에 맞는 문항만 다루면서지필고사의 모든 내용을효율적으로 준비할 수 있습니다. \\n\\n\\n\\n \\n\\n\\n\\n\\n\\n\\n\\n\\n\\n\\n\\n\\n\\n\\n 그리고 연세대학교 편입을 준비한다면전용 모의고사를 통해 자신의 실력을점검해볼 수 있는 기회도 마련되어 있습니다. 오직 상위권 이과 편입학지필고사만을 위한,100℃ 모의고사! 지필고사에, 실전에, 최신 출제 경향에 딱 맞춘,상위권 이과 수험생들에게 꼭 필요한모든 필수 요소를 빠짐없이 담았습니다! \\n\\n\\n\\n \\n\\n\\n\\n\\n\\n\\n\\n\\n\\n\\n\\n\\n\\n\\n 화학, 생물학, 물리학 각 과목별로총 3회차씩 제공되는 실전 모의고사이며각 대학과 난이도별 문제를 모두 풀어볼 수 있습니다.또한 출제 의도를 파악할 수 있는해설 강의를 수강하면현재 나의 상황을 확인하고보완할 수 있도록 구성되어 있습니다. 정확한 실력 점검과 철저한 기출 대비로가장 중요한 지필고사를 확실하게 대비해 보세요! \\n\\n\\n\\n \\n\\n\\n\\n\\n\\n\\n\\n\\n\\n\\n\\n\\n\\n\\n 마지막으로, 놓칠 수 없는 혜택!100도씨 봉투 모의고사를 풀어본 뒤후기를 남기면 선물을 드립니다. 모의고사의 퀄리티는 어땠는지,구성과 유형은 어땠는지정성 가득 후기를 작성해 주시면최우수 3명과 우수 10명을 선발해선물을 드립니다!본 이벤트는 10월 12일까지만 진행되며,자세한 사항은 메가엠디 홈페이지를 꼭 참고해주세요. http://www.megamd.co.kr/event/evt_top_transfer_envexam.asp 본고사까지 이제 얼마 남지 않았습니다.여러분의 소중한 시간을가장 효율적으로 활용하실 수 있도록메가엠디의 상위권 이과편입 강좌가전문성과 진정성으로 늘 돕겠습니다!감사합니다. http://www.megamd.co.kr/event/mdp_transfer_step2_pkg.asp\\u200b\\n\\n\\n\\n \\n\\n\\n\\n\\n\\n\\n\\n\\n\\n\\n\\n\\n\\n\\n\\u200b\\n\\n\\n\\n '],\n",
              " ['\\n\\n\\n\\n\\n우리나라뿐만 아니라전 세계적으로 반려동물을 키우는인구가 증가하면서우리는 어느 때보다 반려동물을많이 접하는 시대를 살고 있어요.\\u200b반려동물의 이야기를 다루는 TV프로그램의인기가 꾸준한 것만 보아도 알 수 있는데요.\\u200bTV에 동물 행동 전문가나 수의사들이 출연하여지금껏 잘 알려지지 않았던 반려동물의 이야기가점차 일반인들에게 친숙하게 다가오면서이런 매체에 영향을 받은 청소년들에게반려동물 관련 직업은 선망의 대상으로 자리 잡게 되었어요.\\u200b반려동물 관련 직업이 큰 인기를 얻으면서사람들과 어우러져 살아가는 반려동물이더욱 행복해질 수 있도록 열심히 일하는반려동물 관련 직업의 수요가 증가하고전문적인 교육의 필요성이 커짐에 따라연세대학교 미래교육원에서는반려동물 학위 과정을 개설했답니다!\\n\\n\\n\\n \\n\\n\\n\\n\\n\\n\\n\\n\\n\\n\\n\\n\\n\\n\\n연세대학교 미래교육원은2년의 과정을 마치면애완동물관리전공 생명산업전문학사 학위를 취득할 수 있는데요.\\u200b정규반과 직장인반으로 구분되어 있기 때문에본인의 여건에 맞게 과정을 선택할 수 있어요.\\u200b정규반은 주중에 학습하는 과정으로학위취득과정과 자격증취득을 목적으로 한실무 반려동물 관련 심화과정을 함께 진행하기 때문에애완동물관리전공 전문학사학위취득과 함께원하는 분야로의 취업을 위한실무 자격증취득을 함께 학습할 수 있는 과정이에요.\\u200b직장인반은 주에 1일을 투자하여학위취득과정을 이수하는데요.애완동물관리전공 전문학사 학위취득이 목적인 과정으로직장에 다니는 분들도 시간에 지장이 없다는 장점이 있어요.\\n\\n\\n\\n \\n\\n\\n\\n\\n\\n\\n\\n\\n\\n\\n\\n\\n\\n\\n연세대학교 미래교육원은동물 사육과 관리에 필요한 일반적인 기초 지식을 바탕으로반려동물 사육관리와 반려동물 산업에서 요구하는전문 기술을 숙달함으로써 반려동물의 생산, 사육, 관리, 훈련,애견미용, 동물 간호 및 반려동물 용품 생산 판매 등에종사할 수 있는 전문 기술 인력을 양성하기 위해\\u200b반려동물간호 / 반려동물스타일러 / 반려동물훈련도그쇼와 핸들링 / 펫케어&창업 으로 구성되어 있으며반려동물 통합자격증 과정 특강도 진행하고 있어요.\\u200b지금부터 연세대학교 미래교육원 반려동물 학위 과정!과정별로 낱낱이 파헤쳐 볼게요!\\n\\n\\n\\n \\n\\n\\n\\n\\n\\n\\n\\n\\n\\n\\n\\n\\n\\n\\n반려동물이라는 동물을 가족으로여기는 개념이 일반화되기 시작하면서사람들의 인식이 변화되어 왔는데요.가족 구성원인 동물의 진료를 담당하는 진료기관들도단순히 질병이 있을 때 찾아가는 공간이 아닌질병의 예방을 위해 관리받는 공간으로 변모되면서이러한 흐름에 발맞춰 반려동물간호 과정에서는동물병원에서 수의사를 보조하며간호, 응급처치, 임상병리, X-ray촬영, 각종 검사,차트관리 등을 수행하는 데에 필요한전문 교육을 진행하고 있어요.\\n\\n\\n\\n \\n\\n\\n\\n\\n\\n\\n\\n\\n\\n\\n\\n\\n\\n\\n반려동물스타일러 과정은우리와 더불어 사는 반려견의 위생과 아름다움을 위해고객의 요구와 개체별 특성에 맞는 미용 방법으로일상적인 관리, 스타일 작업을 하고,고객 및 가자재 관리업무를 수행하는 것은 물론,다양한 견종에 대한 능숙한 미용능력과 미용교육을 할 수 있는전문가적인 소양 등을 학습할 수 있는 과정이에요.\\u200b이 과정은 미용에 대한 관심이 많고 트렌트를 읽을 줄 아는눈썰미와 미적 감각을 함양하고 있는 사람에게 적합한데요.손재주가 있는 사람이라면 전문적인 교육과정이 더해져반려동물이 각각 갖추고 있는 골격이나다양한 특색에 맞게 미용할 수 있는 전문미용인으로 성장할 수 있어요.\\n\\n\\n\\n \\n\\n\\n\\n\\n\\n\\n\\n\\n\\n\\n\\n\\n\\n\\n반려동물과 사람이 같이 공존하고행복하게 생활하기 위해서는 기본적으로기준에 대한 공감이 필요해요.우리와 함께 생활하는 곳에서 반려동물은사람과 같이 행복하게 생활할 수 있는 기준을 익혀야 하는 것이죠.이러한 기준에서부터 반려동물에 대한훈련이 시작된다고 볼 수 있는데요.\\u200b반려동물훈련과정은 훈련, 특수목적견훈련, 독스포츠,스타견 훈련까지 한 가족의 일원으로기본적인 예절교육부터 체계적인 훈련과정까지교육시설과 이에 걸맞은 체계적인 프로그램을 통해실전 위주의 교육을 진행하고 있어요.\\u200b간단히 말해, 반려동물들의 생활의 질을 높여줄 훈련과반려동물의 재능까지 극대화할 수 있는반려동물 훈련사를 양성하는 과정이라고 할 수 있죠.\\n\\n\\n\\n \\n\\n\\n\\n\\n\\n\\n\\n\\n\\n\\n\\n\\n\\n\\n도그쇼와 핸들링 과정은해당 견종이 견종의 특성을 잘 갖춘,가장 견종 표준에 가까운 애견을 선발하여종족보존 및 혈통유지발전을 유지시키고각 견종그룹에 대하여 이해하며견종표준에 가까운 개를 심사하는기준에 대해 학습하는 과정이에요.\\u200b핸들러교육에 필요한 견종그룹과 스탠다드를 배우고 익히면서핸들링의 방법, 핸들러가 갖추어야 할 쇼매너,핸들러의 자격조건 등을 학습하는 것뿐만 아니라전람회 출전을 위한 반려동물의 관리와매너교육을 통합적으로 학습할 수 있어요.\\n\\n\\n\\n \\n\\n\\n\\n\\n\\n\\n\\n\\n\\n\\n\\n\\n\\n\\n마지막으로 팻케어&창업 과정이에요.반려동물의 토탈케어와 서비스 산업 분야의체계적이고 전문적인 이론과 실습프로그램을 통해국내외 반려동물 전문 서비스산업에 종사할반려동물 토탈케어 전문가를 양성하는 과정인데요.\\u200b창업을 위한 아이디어 상품개발, 온오프라인 판매,사업자등록, 지자체 인허가 절차 등이 같은 과정을 체계적으로 배워나갈 수 있어요.\\u200b이 외에도  반려동물산업의전문적 진로를 준비할 수 있는최고의 단기 명문과정으로자격증특강 과정도 마련되어 있으니\\u200b연세대학교 미래교육원 반려동물 학위 과정을 통해사람과 반려동물이 함께 행복한 삶을 영위할 수 있는!반려동물 문화를 이끌어갈!맞춤형 인재로 성장해보시기 바랄게요~\\n\\n\\n\\n \\n\\n\\n\\n\\n\\n\\n\\n\\n\\n\\n\\n\\n\\n\\n\\n\\n\\n\\n\\n\\n\\n\\n\\n\\n\\n미래교육원은 신축 건물 미우관이 완공됨에 따라2021학년도 2학기부터 모든 강좌를신축 미우관에서 진행하게 되었어요!\\u200b앞으로 보다 다양한 분야의 교육과정을개선된 환경에서 학습할 수 있답니다!\\n\\n\\n\\n \\n\\n\\n\\n\\n\\n\\n\\n\\n\\n\\n\\n\\n\\n\\n진리와 자유를 향한 연세대학교에서도전과 선도, 창의와 혁신, 공존과 헌신이라는세 가지 핵심 가치를 바탕으로더 멀리, 더 높이 꿈을 펴쳐보시기 바랄게요~\\n\\n\\n\\n \\n\\n\\n\\n\\n\\n\\n\\n\\n\\n\\n\\n\\n\\n\\n\\n\\n\\n\\n\\n\\n\\n\\n\\n\\n\\n\\u200b\\n\\n\\n\\n '],\n",
              " [\"\\n\\n\\n\\n\\n\\n\\n\\n\\n\\n\\n\\n\\n\\n\\n\\n▼ 2022학년도 연세대학교 체대입시 알아보기! ▼\\n\\n\\n\\n \\n\\n\\n\\n\\n\\n체대입시 바로알기 | 2022학년도 연세대학교 교육과학대학(체육교육학과(체교과), 스포츠응용산업학과) 정시/수시/실기 모집요강 요약 정리\\n안녕하세요! (●'◡'●) 체대 예체능 재수 숨마투스학원 선릉 예체능 전문관입니다! 오늘 체대입...\\nblog.naver.com\\n\\n\\n\\n\\n\\n\\n \\n\\n\\n\\n안녕하세요!숨마투스학원 선릉 예체능전문관입니다 =)\\u200b날씨가 많이 더워지고 있습니다.여름은 수험생들이 특히나 힘들어하는체력 부담이 많이 되는 시기입니다.\\u200b 수험생 여러분들 모두 건강 관리에 신경써서11월까지 쭉! 힘차게 달리시길응원하겠습니다( •̀ .̫ •́ )✧\\u200b그럼 오늘 정시등급을 알아볼 학교는 어디일까요?연세대학교입니다!\\u200b2022학년도 연세대학교 수능 전형 내용을 살펴보면,올 해 연세대학교 예체능 계열은정시 모집군이 가군이라고 하네요!\\u200b아래 자료와 함께 잘 참고하셔서성공적인 입시 결과를 받아보시길 바랍니다😉\\n\\n\\n\\n \\n\\n\\n\\n\\n\\n\\n\\n \\n\\n\\n\\n2021학년도 연세대학교 입시 결과 공개\\n출처: 대입정보포털 어디가(http://www.adiga.kr/EgovPageLink.do?link=EipMain)\\n\\n\\n\\n\\n\\n\\n\\n\\n\\n\\n구분\\n\\n모집단위\\n\\n모집인원\\n\\n경쟁률\\n\\n충원인원\\n\\n최종 등록자 백분위 70% cut\\n\\n국어\\n\\n수학\\n\\n탐구\\n\\n평균\\n\\n나군\\n\\n교회음악과\\n\\n17\\n\\n3.11\\n\\n0\\n\\n46.00\\n\\n\\u3000\\n\\n\\u3000\\n\\n\\u3000\\n\\n성악과\\n\\n24\\n\\n21.11\\n\\n0\\n\\n35.00\\n\\n\\u3000\\n\\n\\u3000\\n\\n\\u3000\\n\\n피아노과\\n\\n20\\n\\n6.65\\n\\n0\\n\\n50.00\\n\\n\\u3000\\n\\n\\u3000\\n\\n\\u3000\\n\\n관현악과\\n\\n40\\n\\n7.14\\n\\n0\\n\\n29.00\\n\\n\\n\\u3000\\n\\n\\u3000\\n\\n작곡과\\n\\n19\\n\\n6.16\\n\\n0\\n\\n60.00\\n\\n\\u3000\\n\\n\\u3000\\n\\n\\u3000\\n\\n체육교육학과\\n\\n23\\n\\n5.35\\n\\n2\\n\\n91.00\\n\\n96.00\\n\\n85.00\\n\\n91.67\\n\\n스포츠응용산업학과\\n\\n22\\n\\n5.36\\n\\n1\\n\\n89.00\\n\\n96.00\\n\\n90.00\\n\\n92.83\\n\\n\\n\\n\\n\\n\\n \\n\\n\\n\\n※주의사항※✓ 해당 입시정보는 참고용입니다.✓ 2022학년도 입시와는 무관합니다.✓ 실기 점수가 반영되지 않은 순수 수능 점수만 해당합니다.✓ 자세한 정보는 학교 홈페이지 또는대학정보포털 어디가(http://www.adiga.kr/)를 참고하시기 바랍니다.✓ '2021학년도 대학별 전형 평가기준 및 결과공개 안내' 부분에서 발췌한 것으로,    해당 자료는 2021학년도 기준 전년도 입시결과임을 밝힙니다.\\n\\n\\n\\n \\n\\n\\n\\n\\n\\n\\n\\n \\n\\n\\n\\n★ 숨마투스학원 선릉 예체능전문관 홈페이지 바로가기!! ★\\n\\n\\n\\n \\n\\n\\n\\n\\n\\n\\n\\n\\n숨마투스학원 선릉 예체능전문관\\n예체능 전문학원, 2022 재수정규반 3월 2일 개강, 2021학년도 예체능 주요대학 137명 합격, 예체능재수, 미대재수, 체대재수, 재수학원추천, 300인이하 재종반\\nartskyedu.conects.com\\n\\n\\n\\n\\n\\n\\n \\n\\n\\n\\n문의 02)6929-2030\\n\\n\\n\\n \"],\n",
              " [\"\\n\\n\\n\\n\\n\\n\\n\\n\\n\\n\\n\\n\\n\\n\\n\\n안녕하세요 박기호논술 연구소입니다.유튜브 '박기호 논술 채널'에서 대학별 2022학년도 논술 전형의 주요내용을 영상으로 업로드하고 있는데요! 오늘은 연세대학교 2022학년도 논술전형 안내를 영상으로 준비해보았습니다.앞으로 다양한 대학들의 영상이 업로드 될 예정이니 많은 관심 부탁드립니다!\\n\\n\\n\\n \\n\\n\\n\\n\\n\\n\\n\\n \\n\\n\\n\\n1. 전형일정 \\n\\n\\n\\n \\n\\n\\n\\n\\n\\n\\n\\n\\n\\n\\n\\n\\n\\n\\n\\u200b9월 10일에 원서 접수를 시작하고 10월 2일 논술시험을 봅니다. 수능 이전에 시험을 보니 미리미리 대비하길 바랍니다.\\n\\n\\n\\n \\n\\n\\n\\n\\n\\n\\n\\n\\n\\n\\n\\n\\n\\n\\n수능 성적 발표(12월 10일) 후에 논술 전형 합격자 발표(12월 16일)가 납니다.\\u200b2. 모집단위 및 모집인원모집인원은 작년과 크게 차이가 나지 않고 경쟁률도 90 대 1에서 130 대 1로 비슷합니다.\\n\\n\\n\\n \\n\\n\\n\\n\\n\\n\\n\\n\\n\\n\\n\\n\\n\\n\\n\\n\\n\\n\\n\\n\\n\\n\\n\\n\\n\\n\\n\\n\\n\\n\\n\\n\\n\\n\\n\\n\\n논술 전형은 일반전형이기 때문에 고등학교 졸업이 인정된다면 누구나 지원이 가능합니다!\\u200b3. 전형방법\\n\\n\\n\\n \\n\\n\\n\\n\\n\\n\\n\\n\\n\\n\\n\\n\\n\\n\\n\\u200b4. 논술 유형 및 시험 시간\\n\\n\\n\\n \\n\\n\\n\\n\\n\\n\\n\\n\\n\\n\\n\\n\\n\\n\\n인문계열, 사회계열 구분없이 하나의 시험을 보게 됩니다.\\n\\n\\n\\n \\n\\n\\n\\n\\n\\n\\n\\n\\n\\n\\n\\n\\n\\n\\n\\u200b5. 논제 예시\\n\\n\\n\\n \\n\\n\\n\\n\\n\\n\\n\\n\\n\\n\\n\\n\\n\\n\\n\\n\\n\\n\\n\\n\\n\\n\\n\\n\\n\\n비교, 비판, 설명, 평가, 자료해석 등 비교적 간단한 유형의 문제가 나옵니다.\\n\\n\\n\\n \\n\\n\\n\\n\\n\\n\\n\\n \\n\\n\\n\\n더욱 자세한 내용은 영상을 통해 확인해 볼 수 있습니다. 학생 여러분에게 많은 도움이 되길 바랍니다:)박기호논술) 02-562-6559 (상담가능시간 : 오후 1시 ~ 오후 10시)https://youtu.be/EV7UX48g6yM\\n\\n\\n\\n \\n\\n\\n\\n\\n\\n\\n\\n\\n\\n\\n\\n\\u200b\\n\\n\\n\\n \"],\n",
              " [\"\\n\\n\\n\\n\\n\\n\\n\\n\\n\\n\\n\\n\\n\\n\\n\\n내면의 나를 마주할 수 있는연세대학교 심리상담센터를 소개합니다!\\n\\n\\n\\n \\n\\n\\n\\n\\n\\n\\n\\n \\n\\n\\n\\n연\\u200b세대학교 학우 여러분 안녕하세요~ SNS 기자단입니다! 중간고사가 끝나가고 벌써 한 학기가 거의  다 지나갔네요ㅎ  오늘은 저희 학교의 심리상담센터를 소개해 보려 합니다! 연세인들이 자기 자신을 잘 알고 이해할 수 있도록 연세대학교에서 제공하는 프로그램들이  다양하게 있답니다! 함께 알아보러 가볼까요~\\n\\n\\n\\n \\n\\n\\n\\n\\n\\n\\n\\n\\n\\n\\n\\n\\n\\n\\n\\n\\n\\n\\n \\n\\n\\n\\n\\u200b\\n\\n\\n\\n \\n\\n\\n\\n01. 연세대학교 심리상담센터\\n\\n\\n\\n\\n\\n\\n\\n\\n\\n\\n\\n\\n연세대학교 심리상담센터 홈페이지 화면\\n\\n\\n\\n\\n\\n\\n\\n\\u200b연세대학교 심리상담센터는 상담 전문가와 심리검사 및 상담을 통해 학생들이 대학생활에서 경험하는 심리적 어려움, 적응 및 진로 선택의 어려움을 잘 해결하도록 돕고, 다양한 프로그램(심리 교육 및 워크샵, 사이코드라마 등)을 시행하여 자기 이해와 자아 개발을 돕는 곳입니다. 학부생과 대학원생 모두 이용이 가능하며 캠퍼스와 학년에 따라 적절한 맞춤형 서비스가 제공됩니다.\\u200b국제 캠퍼스: 기본적인 심리검사와 상담 + 신입생에게 특화된 자기 이해 및 진로 탐색 워크숍 실시, 대학생활과 기숙사 적응을 돕는 심리지원 프로그램이 지원된다고 합니다.\\u200b주소(국제캠퍼스) : (21983) 인천광역시 연수구 송도과학로 85 지혜관A 2층,전화 : 032-749-2070,이메일 : counselyic@yonsei.ac.kr\\u200b신촌 캠퍼스: 기본적인 심리검사와 상담 + 2학년 이상 학부생 및 대학원생에게 필요한 다양한 주제의 정신건강 지원 프로그램(심리교육 및 워크숍, 사이코드라마 등) 학생의 요구에 맞춰 시행된다고 합니다.\\u200b주소(신촌캠퍼스) : (03722) 서울특별시 서대문구 연세로 50 연세대학교 백양관 북측동 408호,전화 : 02-2123-6688,이메일 : counsel@yonsei.ac.kr\\n\\n\\n\\n \\n\\n\\n\\n02.  심리상담센터 서비스 \\n\\n\\n\\n\\n\\n\\n\\n\\n연세대학교 심리상담센터에서 제공하는 서비스는 크게 5가지입니다!\\u200b1) 개인 상담: 상담 전문가와의 면담을 통해 문제점을 파악하고 자신을 이해하며 구체적인 해결책을 함께 찾아보는 과정으로 진로, 대인관계, 적응 및 정서 문제, 가족 관계, 이성 문제 등을 다룰 수 있습니다. 개인 상담 신청 시, 필수적인 심리 진단 (YSQ: Yonsei Screening Questionnarie)을 실시하고 해석하여 문제 해결을 돕는 프로그램입니다.\\u200b2) 집단 상담: 상담 전문가와 여러 명의 사람들이 함께 대화하며 자기 이해, 자기표현, 진로 탐색, 대인관계 기술 향상 등을 주제를 다루는 프로그램입니다. \\u200b3) 심리교육 및 워크샵:정신건강과 관련된 다양한 주제의 심리교육 및 워크샵(자살예방교육, 스트레스 관리, 명상 등)을 통해 자신을 심층적으로 이해하고 성장시키며 숨겨진 잠재 능력 개발을 도모하고 학교생활의 만족도를 높이는 데 도움을 주고자 하는 프로그램입니다.\\u200b4) 사이코 드라마:매년 1회 심리극 전문가를 초빙하여 진행되는 프로그램입니다. 드라마 기법을 활용하여 개인의 심리적 어려움을 직면하고 해소할 수 있도록 도와주는 과정입니다. \\u200b5) 심리검사:여러 심리 검사를 통해 자신을 보다 객관적으로 이해하기 위한 프로그램입니다. 온라인 신청 후 센터를 방문하여 자신에게 적합한 심리검사를 선택하고 실시한 후 해석상담을 받게 됩니다. 약 30분씩 소요되는 검사로 기질 및 성격 검사(TCI), 진로적성검사(LCSI), 진로탐색검사(U&I), 대인관계문제검사(K-IIP) 등을 받고 상담할 수 있습니다. \\n\\n\\n\\n \\n\\n\\n\\n03.  상담 신청 방법\\n\\n\\n\\n\\n\\n\\n\\n\\n※ 상담신청은 학기 등록 중인 재학생에 한하여 가능합니다.\\u200b\\u200b먼저 연세대학교 심리상담센터 홈페이지에 접속합니다!↓https://counsel.yonsei.ac.kr/ysclinic/index.do\\n\\n\\n\\n \\n\\n\\n\\n\\n\\n\\n\\n\\n연세대학교 심리상담센터\\n팝업 코로나19 예방 관련해서 아래에 해당되는 경우 심리상담센터 방문 및 상담이 제한 됨을 알려드립니다. \\xa0 \\xa0-\\xa0 최근 1주일 이내 새로 발생 또는 악화된 발열 (37.4°C 이상) \\xa0 \\xa0-\\xa0\\xa0최근 1주일 이내 새로 발생 또는 악화된 호흡기 증상 \\xa0 \\xa0-\\xa0\\xa0최근 14일 이내 확진자 접촉 \\xa0 \\xa0-\\xa0\\xa0최근 14일 이내 확진자 다수 발생 지역 및 장소 방문력 *\\xa0 국제캠퍼스에서 비대면(온라인)으로 개인상담, 진로 및 자기이해 \\xa0 \\xa0 검사를\\xa0 신청하고자 하는 학생은 국제캠퍼스 심리상담센터로\\xa0 문의 \\xa0 \\xa0 바랍니다. (032-749-207...\\ncounsel.yonsei.ac.kr\\n\\n\\n\\n\\n\\n\\n \\n\\n\\n\\n\\u200b\\n\\n\\n\\n \\n\\n\\n\\n\\n\\n\\n\\n\\n\\n\\n\\n\\n\\n\\n상담 신청을 누른 후\\n\\n\\n\\n \\n\\n\\n\\n\\n\\n\\n\\n\\n\\n\\n\\n\\n\\n\\n\\u200b\\n\\n\\n\\n \\n\\n\\n\\n\\n\\n\\n\\n\\n\\n\\n\\n\\n\\n\\n상담 신청서를 작성하시면 됩니다~\\u200b매월 온라인 상담 신청 안내문이 전 달 마지막 주에 공지되니 아래 공지사항을 확인해보시는 것을 추천합니다!↓https://counsel.yonsei.ac.kr/ysclinic/board/notice.do\\n\\n\\n\\n \\n\\n\\n\\n\\n\\n심리상담센터 공지사항 게시판목록 | 심리상담센터\\n공지사항 자료 및 게시판 공지사항 게시글 검색 검색분류선택 전체 검색어 검색 번호 제목 첨부 작성자 등록일 83 5월 온라인 상담 신청 안내 신규게시글 심리상담센터 관리자 21.04.26 82 2021-1学期 中国留学生咨询活动 첨부파일 심리상담센터 관리자 21.03.29 81 4월 온라인 상담 신청 안내 심리상담센터 관리자 21.03.24 80 연세 '마음 쉼' 프로그램 [4~6차] 첨부파일 심리상담센터 관리자 21.03.19 79 국제캠퍼스 2021-1학기 명상 집단 프로그램 안내 첨부파일 심리상담센터 관리자 21.03.08 78...\\ncounsel.yonsei.ac.kr\\n\\n\\n\\n\\n\\n\\n \\n\\n\\n\\n공지사항을 통해 각종 정신건강 정보, 프로그램 공지, 월별 온라인 상담 신청 안내를 확인할 수 있으니관심 있으신 분들은 참고 바랍니다!\\n\\n\\n\\n \\n\\n\\n\\n04. 그 외 - 장애학생지원센터, 성평등센터\\n\\n\\n\\n\\n\\n\\n\\n\\n연세대학교에는 보다 전문적인 서비스를 제공하는 센터도 있으니 참고 바랍니다!\\u200b장애학생지원센터: 장애 학생의 적응 및 심리적 어려움 발생 시 심리 상담 서비스 연계 지원해 주는 센터입니다.https://ablecenter.yonsei.ac.kr/ablecenter1/index.do\\n\\n\\n\\n \\n\\n\\n\\n\\n\\n연세대학교 장애학생지원센터\\n장애학생지원센터 장애학생과 더불어 살아가는 연세공동체 장애학생지원센터 장애학생과 더불어 살아가는 연세공동체 장애학생지원센터 장애학생과 더불어 살아가는 연세공동체 장애학생지원센터 장애학생과 더불어 살아가는 연세공동체 장애학생지원센터 장애학생과 더불어 살아가는 연세공동체 장애학생지원센터 장애학생과 더불어 살아가는 연세공동체 장애학생지원센터 장애학생과 더불어 살아가는 연세공동체 prev next 공지사항 21/04/28 [홍보] 2021 직장 내 장애인 인식개선 교육 도우미 자원봉사자 모집 안내 21/04/26 [장애학생안내] 누리미디어...\\nablecenter.yonsei.ac.kr\\n\\n\\n\\n\\n\\n\\n \\n\\n\\n\\n성평등센터: 성인지 감수성 향상 및 교내 성고충 사건과 관련하여 필요시 심리 상담 서비스를 연계 지원해 주는 센터입니다.\\u200bhttps://equity.yonsei.ac.kr/center/index.do\\n\\n\\n\\n \\n\\n\\n\\n\\n\\n성평등센터\\n연세대학교 윤리인권위원회 성평등센터 Center For Gender Equity 연세대학교 윤리인권위원회 성평등센터 Center For Gender Equity 연세대학교 윤리인권위원회 성평등센터 Center For Gender Equity 연세대학교 윤리인권위원회 성평등센터 Center For Gender Equity 연세대학교 윤리인권위원회 성평등센터 Center For Gender Equity 연세대학교 윤리인권위원회 성평등센터 Center For Gender Equity 연세대학교 윤리인권위원회 성평등센터 Center For...\\nequity.yonsei.ac.kr\\n\\n\\n\\n\\n\\n\\n \\n\\n\\n\\n\\u200b\\n\\n\\n\\n \\n\\n\\n\\n\\n\\n\\n\\n\\n\\n\\n\\n\\n\\n\\n\\n\\n\\n\\n \\n\\n\\n\\n연세대학교 심리 상담 센터에 관한 글 잘 읽으셨나요~?개인적인 이유로 힘들거나자기 자신을 조금 더 알아가고자 하는 모든 연세인에게 도움이 되었으면 좋겠습니다ㅎ남은 학기 잘 마무리하길 응원하며저희 SNS 기자단은 다음에 좋은 소식으로 찾아오겠습니다!\\u200b\\n\\n\\n\\n \\n\\n\\n\\n\\n\\n\\n\\n\\n\\n\\n\\n\\n\\n\\n\\n\\n\\n\\n\\n\\n\\n\\n\\n\\n\\n\\u200b\\n\\n\\n\\n \"],\n",
              " ['\\n\\n\\n\\n\\n보다 건강한 몸을 위해 두유를 주문해보았습니다 \\u200b연세대학교 순수두유\\u200b오늘 올거라 생각도 못했는데 주말에 도착했네요 \\u200b주말에도 열일해주시는 택배아저씨들 너무 감사드립니다 \\u200b우리나라 택배아저씨들 정말이지 상드려야함 \\u200b\\n\\n\\n\\n \\n\\n\\n\\n\\n\\n\\n\\n\\n\\n \\n\\n\\n\\n\\n\\n\\n\\n\\n\\n\\n\\n\\n\\n\\n개수도 많고 \\n\\n\\n\\n \\n\\n\\n\\n\\n\\n\\n\\n\\n\\n\\n\\n\\n\\n\\n포장도 깔끔하네요 \\n\\n\\n\\n \\n\\n\\n\\n\\n\\n\\n\\n\\n\\n\\n\\n\\n\\n\\n용기가 연두색이라 자연스러워보이고 \\n\\n\\n\\n \\n\\n\\n\\n\\n\\n\\n\\n\\n\\n\\n\\n\\n\\n\\n참 순수해 보이네요\\n\\n\\n\\n \\n\\n\\n\\n\\n\\n\\n\\n\\n\\n\\n\\n\\n\\n\\n온가족이 함께 즐기는 연세대학교 순수두유\\n\\n\\n\\n \\n\\n\\n\\n\\n\\n\\n\\n\\n\\n\\n\\n\\n\\n\\n멸균두유라 그런지 유통기한도 기네요 \\u200b유통기한 걱정할 필요 없을 듯\\n\\n\\n\\n \\n\\n\\n\\n\\n\\n\\n\\n\\n\\n\\n\\n\\n\\n\\n콕 빨대를 꼽아 마셔봅니다\\n\\n\\n\\n \\n\\n\\n\\n\\n\\n\\n\\n\\n\\n\\n\\n\\n\\n\\n그래서 맛은? 저는 깔끔해서 좋네요\\u200b설탕이 많이 들어가 너무 달거나 진하면 몸에서 조금 받지 않는데부담없이 마실 수 있는 깔끔한 맛이어서 좋았습니다\\u200b좋네요 :) 너무 많지 않아서 마시기 부담되지도 않구요 \\u200b오늘부터 챙겨먹어야겠습니다 ^^\\u200b오늘의 감사한 일\\u200b이제까지 번 돈들로 소소하지만 맛있는 것을 사먹게 하여주셔서 감사했습니다 발달된 기술로 손가락 하나만 까딱해도 맛있는 것들이 오는 시대에 살고 있음에 감사했습니다영양가 있는 건강한 두유를 만들어 주시는 분들께 감사하며 콩을 가꿔주시는 분들 깨끗한 물을 제공해 주시는 보이지 않는 분들께도 진심으로 감사합니다 굶지 않게 맛있는걸 배달해주시는 택배 아저씨들께도 감사드리며 오늘 하루도 부지런히 입에 먹을걸 잘 갖다주는 제 손에도 감사합니다 적당히 살찌지 않게 절제할 수 있어 감사하고 주말이어서 쉴 수 있어 감사합니다 제 소소하고 작은 블로그에 방문해주시는 분들께도 감사드립니다 ^^\\u200b\\u200b#순수두유 #순수 #연세우유 \\u200b\\u200b\\u200b\\u200b\\u200b\\n\\n\\n\\n '],\n",
              " [\"\\n\\n\\n\\n\\n\\u200b\\n\\n\\n\\n \\n\\n\\n\\n\\n\\n\\n\\n\\n\\n\\n\\n\\n\\n\\n\\u200b\\u200b\\n\\n\\n\\n \\n\\n\\n\\n\\n\\n\\n\\n\\n\\n\\n\\n\\n\\n\\n\\u200b\\u200b5월로 접어들면서 낮 기온이 제법 높아져서인지 반팔 차림으로 활동하는 분들이 자주 눈에 띄고 있습니다.부지런히 걸으면 이마에 맺히는 땀방울을 식히기엔 팥빙수만큼 좋은 간식이 없는 것 같습니다.\\u200b\\u200b\\n\\n\\n\\n \\n\\n\\n\\n\\n\\n\\n\\n\\n\\n\\n\\n\\n\\n\\n\\u200b\\u200b\\n\\n\\n\\n \\n\\n\\n\\n\\n\\n\\n\\n\\n\\n\\n\\n\\n\\n\\n\\u200b\\u200b이번 서울 나들이에서는 예전에 가보았던 가마솥 전통 팥빙수집이 생각나서 땀도 식힐 겸해서 방문해 보았습니다.연세대학교 신촌캠퍼스와 인접하여 있어서 찾기에 좋았습니다.\\u200b\\u200b\\n\\n\\n\\n \\n\\n\\n\\n\\n\\n\\n\\n\\n\\n\\n\\n\\n\\n\\n\\u200b\\u200b가마솥 전통 팥빙수를 주문하고 대기표를 받고 기다리니 20여분 후에 벨이 울리더군요. 주문과 동시에 팥빙수를 만들기에 시간이 걸린다는 매니저의 설명이 있었습니다.\\u200b\\u200b\\n\\n\\n\\n \\n\\n\\n\\n\\n\\n\\n\\n\\n\\n\\n\\n\\n\\n\\n\\u200b\\u200b국산팥이 많이 들어가서인지 달짝지근하게 맛이 좋았고, 고명처럼 빙수위에 얹어진 찰떡도 쫄깃하니 맛있었습니다. 초여름의 초입이어서 아직은 팥빙수가 제철은 아니었지만본격적인 여름 무더위가 기승을 부리면 인기를 독차지 할 듯 합니다.\\u200b\\u200b\\n\\n\\n\\n \\n\\n\\n\\n\\n\\n\\n\\n\\n\\n\\n\\n\\n\\n\\n\\u200b\\u200b\\n\\n\\n\\n \\n\\n\\n\\n\\n\\n\\n\\n\\n\\n\\n\\n\\n\\n\\n\\u200b\\n\\n\\n\\n \\n\\n\\n\\n\\n\\n\\n\\n\\n\\n\\n\\n\\n\\n\\n\\u200b\\n\\n\\n\\n \\n\\n\\n\\n\\n\\n\\n\\n\\n\\n\\n\\n\\n\\n\\n\\u200b\\u200b\\n\\n\\n\\n \\n\\n\\n\\n\\n\\n\\n\\n\\n\\n\\n\\n\\n\\n\\n\\u200b\\u200b서울시 서대문구 대신동에 자리한 가마솥 전통 팥빙수 전문점인'옥루몽 신촌본점' 방문후기를 광주광역시 전지역 부동산의부동산종합전문가인 복(福) 공인중개사사무소에서 소개해 드렸습니다.\\u200b\\u200b\\n\\n\\n\\n \\n\\n\\n\\n\\n\\n\\n\\n\\n\\n\\n\\n\\n\\n\\n\\u200b\\u200b\\n\\n\\n\\n \\n\\n\\n\\n\\n\\n\\n\\n\\n\\n\\n\\n\\n\\n\\n\\u200b\\u200b\\n\\n\\n\\n \\n\\n\\n\\n\\n\\n\\n\\n\\n\\n\\n\\n\\n\\n\\n\\u200b\\u200b\\n\\n\\n\\n \\n\\n\\n\\n\\n\\n\\n\\n\\n\\n\\n\\n\\n\\n\\n\\u200b\\n\\n\\n\\n \"],\n",
              " ['\\n\\n\\n\\n\\n연세대학교 글로벌사회공헌원에서 글로벌지속가능발전포럼 (GEEF) 특별 세미나를 개최합니다.\\u200b\\u200b\\u200b행사명: GEEF for ALL: 미얀마의 인권과 평화\\u200b일    자: 2021년 5월 10일(월)\\u200b일    시: 오후 15:00 – 16:30 (한국표준시, GMT +9)\\u200b주    최: 연세대학교 (글로벌사회공헌원, 청년문화원, 동서문제연구원)\\u200b\\u200b특별세미나를 통해 미얀마 사태의 세부 사항 및 개황에 대한 공유, 논의를 진행하여 국제사회의 다자간 협의 및 관련 대응 조치를 이끌어낼 수 있는 방안을 모색하고 궁극적으로 인권 실천을 위한 실질적인 행동을 촉구하는 장을 마련해 나갈 것입니다.\\u200b=> \"GEEF for ALL 등록하러 가기\"\\u200b\\n\\n\\n\\n \\n\\n\\n\\n\\n\\n\\n\\n\\n\\n\\n\\n\\n\\n\\n연세대 글로벌사회공헌원이 \\'제1회 지속가능발전포럼 특별세미나(GEEF for ALL)\\'를 5월 10일 오후 3시 온라인으로 개최한다고 6일 밝혔다.\\u200b\\'미얀마의 인권과 평화\\'란 주제로 열리는 이번 세미나에서는 미얀마 군부의 쿠데타로 야기된 미얀마의 위기 상황에 대해 진단하고, 미얀마 현지 주민의 안전과 인권을 위한 국제적인 파트너십 증진 방향성을 논의할 예정이다.\\u200b이날 행사에서는 반기문 연세대 글로벌사회공헌원 명예원장의 미얀마 사태 관련 영상연설과 UN인권이사회 미얀마 특별보고관을 역임한 이양희 성균관대 교수의 기조연설로 시작될 계획이다. 아울러 인권단체 FORSEA(새 동남아시아의 힘) 공동설립자인 마웅 자니 박사와 미얀마 교육지원단체 따비에 대표 겸 인권운동가 마웅 조, 김영미 분쟁지역 전문 프리랜서 PD 등 각 분야의 전문가들이 연사 및 토론자로 참석한다.\\u200b연세대 글로벌사회공헌원은 특별세미나를 통해 미얀마 사태의 세부 사항 및 개황에 대한 공유, 논의를 진행하여 국제사회의 다자간 협의 및 관련 대응 조치를 이끌어낼 수 있는 방안을 모색하고 궁극적으로 인권 실천을 위한 실질적인 행동을 촉구하는 장을 마련해 나갈 것이라고 밝혔다.\\u200b연대 글로벌사회공헌원·청년문화원·동서문제연구원이 공동 주최하는 이번 특별세미나는 연세대 글로벌사회공헌원 공식 유튜브 채널(www.youtube.com/c/IGEEyonsei)에서 실시간으로 시청할 수 있다.\\u200b\\n\\n\\n\\n \\n\\n\\n\\n\\n\\n\\n\\n\\n소식 및 행사 > 행사 및 등록 게시판읽기 ( GEEF for ALL : 「 미얀마의 인권과 평화 특별세미나 」 개최 안내 ( 2021년 5월 10일 ) ) | 글로벌사회공헌원 - new\\n자원봉사자 모집 China-Japan-Korea SERVE Initiative 2019 프로그램 자세히 보기 Solution Lab 연구자팀 모집 활동기간:2019년 7월 1일-2020년 1월 31일 자세히 보기 자원봉사자 모집 China-Japan-Korea SERVE Initiative 2019 프로그램 자세히 보기 Solution Lab 연구자팀 모집 활동기간:2019년 7월 1일-2020년 1월 31일 자세히 보기 자원봉사자 모집 China-Japan-Korea SERVE Initiative 2019 프로그램 자세히 보기 S...\\nigee.yonsei.ac.kr\\n\\n\\n\\n\\n\\n\\n \\n\\n\\n\\n\\u200b\\n\\n\\n\\n '],\n",
              " ['\\n\\n\\n\\n\\n연세대학교 미래캠퍼스BK21사업에 10개 교육연구단(팀) 최종 선정\\n\\n\\n\\n \\n\\n\\n\\n\\n\\n\\n\\n \\n\\n\\n\\n\\n\\n\\n\\n\\n\\n\\n\\n\\n\\n\\n\\u200bo 연세대학교 미래캠퍼스(미래캠퍼스부총장 권명중)는 교육부와 한국연구재단이 주관하는 ‘4단계 두뇌한국21(BK21) 사업’에 10개 교육연구단(팀)이 최종 선정되어 향후 7년간(2020.9. - 2027.8.) 사업을 추진하게 된다. 이는 기존의 3단계 BK21사업(2013.9. - 2020.8.)에서 6개 사업단(팀)이 선정된 것에 비해 2배 가까이 상승한 수치로 연세대학교 미래캠퍼스의 연구 경쟁력 강화 및 혁신 인재양성에 크게 기여할 것으로 전망된다. o 비수도권 사립대학 중 최다 수준인 10개 교육연구단(팀)이 선정된 연세대학교 미래캠퍼스는 신청한 4개의 교육연구단이 모두 선정되는 쾌거를 이루었다. 특히, 미래캠퍼스의 특성화 분야인 ‘디지털 헬스케어’와 관련하여 신청한 6개의 교육연구단(팀)이 모두 선정되는 100%의 승률을 기록하여 연세대학교 미래캠퍼스 대학원 교육과 연구역량이 상당한 경쟁력을 갖추고 있음을 증명하였다.\\u200b <미래캠퍼스 선정 교육연구단(팀) 현황(가나다 순)>\\n\\n\\n\\n \\n\\n\\n\\n\\n\\n학과\\n\\n교육연구단(팀) 명칭\\n\\n구분\\n\\n생명과학기술학과\\n\\n바이오재난 해결형 전문인재 교육연구단\\n\\n단\\n\\n의공학과\\n\\n맞춤형 NBIT 융복합 의료기기 교육연구단\\n\\n단\\n\\n환경공학과\\n\\n환경-에너지 융합 교육연구단\\n\\n단\\n\\n행정학과\\n\\n글로벌 위기 시대의 지역사회 혁신과 새로운 공공 거버넌스 교육연구단 \\n\\n단\\n\\n국어국문학과\\n\\n근대 한국어문학 미래인재 교육연구팀\\n\\n팀\\n\\n물리치료학과\\n\\n지역사회 노인 맞춤형 디지털 웰니스 케어를 위한 창의 혁신 인재 교육연구팀\\n\\n팀\\n\\n방사선융합공학과\\n\\n미래의료방사선 융합교육연구팀 \\n\\n팀\\n\\n보건행정학과\\n\\n글로컬 보건의료 정책 및 관리 전문 인력 양성팀\\n\\n팀\\n\\n작업치료학과\\n\\n빅데이터를 기반으로 한 지역사회 노인의 인지건강과 사회통합을 위한 교육연구팀\\n\\n팀\\n\\n패키징학과\\n\\n포장재 저감·자원화를 위한 지속가능 패키징 교육연구팀 \\n\\n팀\\n\\n\\n\\n\\n\\n\\n \\n\\n\\n\\n\\u200bo 연세대학교 미래캠퍼스는 최근 대학의 특성화 분야로 ‘디지털 헬스케어’를 선정하여 2021년에 「소프트웨어 디지털헬스케어 융합대학」을 설립하는 등 기존의 단과대학을 재편하는 대대적인 혁신을 준비하고 있다. 이번 사업에 선정된 교육연구단(팀) 중 이러한 특성화 분야 관련 교육연구단(팀)은 「맞춤형 NBIT 융복합 의료기기 연구단」을 비롯하여 총 6개이다. 연세대학교 미래캠퍼스는 4단계 BK21사업을 통해 전문인재를 양성하여 디지털 헬스케어 특성화 대학으로서 입지를 다지고, 지역 중점 산업인 의료기기 산업 발전을 선도할 것으로 예상한다고 밝혔다. o 미래캠퍼스는 「세계를 선도하는 자생적 혁신인재 양성」을 비전으로 대학원 교육과 연구지원 체제를 전면적으로 개편할 계획이다. 이를 위해 「대학원 미래캠퍼스 부원장」 직제를 신설하여 대학원의 위상을 높였으며, 대학원 교육과 연구의 성과를 종합적으로 관리하는 「대학원IR센터」를 설치하였다. 기존의 BK21사업이 개별 학과 주도로 운영되었다면, 4단계 BK21사업은 대학본부 차원에서 계획과 실행, 평가와 환류가 이루어진다. o 또한, 미래캠퍼스는 BK21사업 예산과 별도로 대학 자체 예산을 전폭적으로 지원할 계획이다. 7년의 사업기간 동안 교육연구단(팀)에 BK21사업비 대비 10%의 예산과 대학원 혁신을 위한 사업에 약 50억 원의 교비를 투입할 계획이다. 그리고 BK21사업에 참여하는 모든 대학원생과 신진연구인력에게 기숙사비 전액을 지원하여 교육과 연구에만 몰입할 수 있는 환경을 제공할 예정이다. o 연세대학교 권명중 미래캠퍼스부총장은 “4단계 BK21사업을 통해 미래캠퍼스가 세계적 수준의 연구 경쟁력을 확보하고, 대학원에 진학하는 학생들이 최고의 교육과 연구 기회를 제공받을 수 있도록 전폭적으로 지원할 것”이라고 밝혔다. o 또한, 연세대학교 정용현 미래캠퍼스 대학원 부원장은 “4단계 BK21사업 선정 결과는 미래캠퍼스의 높은 연구역량을 증명한 것”이라며, “대학원 교육과 연구지원 체제를 고도화하고 학생중심의 대학원 운영을 통해 세계적인 수준의 연구중심대학으로 거듭날 것”이라고 말했다.\\u200b\\u200b\\u200b\\n\\n\\n\\n \\n\\n\\n\\n\\n\\n\\n\\n \\n\\n\\n\\n\\u200b\\n\\n\\n\\n \\n\\n\\n\\n\\n\\n\\n\\n\\n\\n\\n\\n\\n\\n\\n\\u200b\\n\\n\\n\\n '],\n",
              " [\"\\n\\n\\n\\n\\n\\n\\n\\n\\n\\n\\n\\n\\n\\n\\n\\n연세대학교의 작은 숲청송대 알아보기!\\n\\n\\n\\n \\n\\n\\n\\n\\n\\n\\n\\n \\n\\n\\n\\n연\\u200b세인 여러분 안녕하세요 SNS 기자단입니다! 어느덧 가을이 지나가고 겨울이 찾아왔는데요! 비대면 수업으로 보낸 일 년이 정말 빠르게 지나가는 것 같습니다. 백양로에 줄지어 서 있는 나무들도 알록달록한 나뭇잎을 떨구고 본관 앞 크리스마스트리가 준비되는 등 연세대학교 신촌 캠퍼스도 겨울맞이를 하고 있습니다.  특히 캠퍼스가 예쁘기로 유명한 연세대학교들의 산책 코스들도 계절이 바뀌며  한 번쯤 찾아가 볼 만한 공간이 되었는데요, 연세대학교의 아름다운 산책 코스들 중 청송대라는 공간을 소개하고자 합니다!\\n\\n\\n\\n \\n\\n\\n\\n\\n\\n\\n\\n\\n\\n\\n\\n\\n\\n\\n\\n\\n\\n\\n \\n\\n\\n\\n\\n\\n\\n\\n청송대 (사진 출처: 연세대학교 홈페이지)\\n\\n\\n\\n\\n\\n\\n\\n청송대 \\n\\n\\n\\n\\n\\n\\n\\n\\n연세대학교 정문에서 걸어와 본관에서 오른쪽으로 가다 보면   울창한 소나무가 가득한 숲길 청송대가 있습니다. 입구에 원곡 김기승이 쓴 청송대 표지석이 있는데요, 청송대의 이름은 1964년 당시 명예총장 백낙준이 지었다고 합니다. 계절을 불문하고 아름다운 청송대는 많은 졸업생, 재학생들의 마음속에 남아있는 공간이기도 합니다! \\u200b자, 그러면 11월의 청송대를 한번 보러 가볼까요~?\\u200b\\n\\n\\n\\n \\n\\n\\n\\n\\n\\n\\n\\n\\n\\n\\n\\n\\n\\n\\n청송대 가는 길\\n\\n\\n\\n\\n\\n\\n\\n\\n학교 정문에서 쭉 걷다 보면 본관이 보입니다. 본관에서 오른쪽으로 언덕길을 조금만 올라가다가 오른쪽으로 한 번 더 꺾으면 바로 울창한 소나무 숲인 청송대가 나옵니다!\\n\\n\\n\\n \\n\\n\\n\\n\\n\\n\\n\\n\\n\\n\\n\\n\\n\\n\\n학교 정문 -> 본관 -> 오른쪽 길\\n\\n\\n \\n\\n\\n\\n\\u200b\\n\\n\\n\\n \\n\\n\\n\\n\\n\\n\\n\\n청송대 입구\\n\\n\\n\\n\\n\\n\\n\\n\\u200b청송대에 들어서면 갈림길이 보이는데요, 오른쪽과 왼쪽 길 모두 같은 공간으로 이어집니다. 그럼 오른쪽 길을 따라 한번 걸어가 볼까요?\\u200b\\n\\n\\n\\n \\n\\n\\n\\n\\n\\n\\n\\n\\n\\n\\n\\n\\n\\n\\n청송대 표지석을 중심으로 왼쪽과 오른쪽 길\\n\\n\\n \\n\\n\\n\\n\\u200b단풍잎들이 조금 남아있는 모습이 보이네요! 아름다운 청송대의 길을 따라 걷다 보면\\u200b\\n\\n\\n\\n \\n\\n\\n\\n\\n\\n\\n\\n청송대의 산책로\\n\\n\\n\\n\\n\\n\\n\\n\\u200b캠퍼스 속 큰 공원 같은 공간이 나옵니다!\\u200b\\n\\n\\n\\n \\n\\n\\n\\n\\n\\n\\n\\n청송대 안의 공간\\n\\n\\n\\n\\n\\n\\n\\n\\u200b가까이 가보면 여기저기 나무로 된 피크닉 벤치들이 배치된 모습이 보입니다.친구들과 이야기 나누고, 공부도 하고, 사진 찍는 등 추억을 쌓기에 좋은 공간 같습니다~\\n\\n\\n\\n \\n\\n\\n\\n\\n\\n\\n\\n\\n\\n\\n\\n\\n\\n\\n청송대에 있는 피크닉 벤치들\\n\\n\\n \\n\\n\\n\\n\\u200b청송대에는 다양한 출구들이 있는데요 노천극장으로 가는 길, 연세대학교 유진 어린이집과 법인 본부로 이어지는 길, 그리고 총장 공관과 새천년관쪽으로 향하는 길이 있습니다.\\u200b\\n\\n\\n\\n \\n\\n\\n\\n\\n\\n\\n\\n\\n\\n\\n\\n\\n\\n\\n\\n\\n\\n\\n\\n청송대의 다양한 길\\n\\n\\n \\n\\n\\n\\n이렇게 아름다운 청송대에서 뜻깊은 추억들이 생겨날 것 같습니다.연세대학교에서 청송대와 얽힌 여러 추억들을 모아보고자 '청송대 스토리 공모전'을 개최하고 있으니 많이 참여해 주세요! 더 많은 정보는 아래 링크를 통해 확인해 주세요!\\u200bhttps://blog.naver.com/yonseiblog?Redirect=Log&logNo=222050160929&from=postView\\n\\n\\n\\n \\n\\n\\n\\n\\n\\n\\n\\n\\n청송대를 사랑하는 사람이라면 누구나 참여 가능! <청송대 스토리 공모전>\\n청송대를 사랑하는 사람이라면 누구나 참여 가능!청송대 스토리 공모전“우리의 마음은 비록 가난하여바라...\\nblog.naver.com\\n\\n\\n\\n\\n\\n\\n \\n\\n\\n\\n\\n\\n\\n\\n \\n\\n\\n\\n\\n\\n\\n\\n\\n\\n\\n\\n\\n\\n\\n\\u200bSNS 기자단이 직접 취재한 연세대학교의 작은 숲 청송대, 어떠셨나요? 도심 속에서 자연의 모습을 찾아볼 수 있다니 연세대학교 캠퍼스가 정말 아름다운 것 같습니다   :) 반복되는 일상 속 연세인들이 청송대를 산책하며 재충전의 시간을 가질 수 있기를 바라겠습니다!  그럼 저희 SNS 기자단은 다음에 또 좋은 소식으로 돌아오겠습니다!\\u200b\\u200b\\n\\n\\n\\n \\n\\n\\n\\n\\n\\n\\n\\n\\n\\n\\n\\n\\n\\n\\n\\n\\n\\n\\n\\n\\n\\n\\n\\n\\n\\n\\u200b\\n\\n\\n\\n \"]]"
            ]
          },
          "metadata": {
            "tags": []
          },
          "execution_count": 120
        }
      ]
    }
  ]
}